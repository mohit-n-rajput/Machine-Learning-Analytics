{
 "cells": [
  {
   "cell_type": "markdown",
   "metadata": {
    "cell_id": "00000-0078e369-088e-4355-9664-3d7842bcbad4",
    "deepnote_cell_type": "markdown",
    "tags": []
   },
   "source": [
    "Using an API service to analyze NBA data.\n",
    "\n",
    "In this one, we're going to use the [balldontlie.io](https://www.balldontlie.io/) API. It's a free API that's pretty well documented."
   ]
  },
  {
   "cell_type": "code",
   "execution_count": null,
   "metadata": {
    "cell_id": "00000-ee7b3f96-f91c-4895-ab68-bb254dcda915",
    "deepnote_cell_type": "code",
    "deepnote_to_be_reexecuted": false,
    "execution_millis": 1,
    "execution_start": 1634702620567,
    "source_hash": "17870f60",
    "tags": []
   },
   "outputs": [],
   "source": [
    "import requests\n",
    "import datetime\n",
    "import pathlib\n",
    "import pandas as pd\n",
    "import utils\n",
    "\n",
    "BASE_DIR = pathlib.Path().resolve().parent\n",
    "COURSE_DIR = BASE_DIR / \"course\"\n",
    "DATASET_DIR = COURSE_DIR / \"datasets\"\n",
    "SAMPLES_DIR = COURSE_DIR / \"samples\"\n",
    "INPUT_PATH = SAMPLES_DIR / '4-player-salaries-cleaned.csv'"
   ]
  },
  {
   "cell_type": "markdown",
   "metadata": {
    "cell_id": "00002-a9482cb5-cd83-4f61-baa8-79468050fa57",
    "deepnote_cell_type": "markdown",
    "tags": []
   },
   "source": [
    "In the [balldontlie.io](https://www.balldontlie.io/) docs, we see a few different urls such as `https://www.balldontlie.io/api/v1/players`. This URL should return NBA players as a paginated list of dictionaries. \n",
    "\n",
    "Let's look at a basic example by using [Python Requests](https://docs.python-requests.org/en/latest/) to perform a quick lookup:"
   ]
  },
  {
   "cell_type": "code",
   "execution_count": null,
   "metadata": {
    "cell_id": "00002-55a27fc0-cc9a-4093-a5a9-60ccd4b7214d",
    "deepnote_cell_type": "code",
    "deepnote_to_be_reexecuted": false,
    "execution_millis": 60,
    "execution_start": 1634701879829,
    "source_hash": "6e702209",
    "tags": []
   },
   "outputs": [],
   "source": [
    "url = \"https://www.balldontlie.io/api/v1/players\"\n",
    "r = requests.get(url)\n",
    "json_data = r.json()\n",
    "data = json_data['data']\n",
    "meta_data = json_data['meta']\n",
    "total_pages = meta_data.get('total_pages')"
   ]
  },
  {
   "cell_type": "markdown",
   "metadata": {
    "cell_id": "00004-71c87332-7dd3-4059-af99-fe999788d565",
    "deepnote_cell_type": "markdown",
    "tags": []
   },
   "source": [
    "Based on the information above, we can run a loop until we reach the `total_pages` so we can extract each page's response `data`."
   ]
  },
  {
   "cell_type": "code",
   "execution_count": null,
   "metadata": {
    "cell_id": "00004-c4437f7e-9769-46a0-8edd-c32e61b62411",
    "deepnote_cell_type": "code",
    "deepnote_to_be_reexecuted": false,
    "execution_millis": 3,
    "execution_start": 1634701884293,
    "source_hash": "4768e475",
    "tags": []
   },
   "outputs": [],
   "source": [
    "print(total_pages, len(data))"
   ]
  },
  {
   "cell_type": "markdown",
   "metadata": {
    "cell_id": "00006-28c5a443-7e62-4dcf-baac-3536b983e236",
    "deepnote_cell_type": "markdown",
    "tags": []
   },
   "source": [
    "As we see here, we have the ability to scrape `150` pages that have about `25` data points each. This will net us about: `3,750` players.\n",
    "\n",
    "Let's create a simple function that will loop through all pages and extract all data:"
   ]
  },
  {
   "cell_type": "code",
   "execution_count": null,
   "metadata": {
    "cell_id": "00001-0068c5ac-7a9a-431f-a2b7-7770321ddb76",
    "deepnote_cell_type": "code",
    "deepnote_to_be_reexecuted": false,
    "execution_millis": 2,
    "execution_start": 1634702114851,
    "source_hash": "f70d93d7",
    "tags": []
   },
   "outputs": [],
   "source": [
    "def get_players_dataset(per_page=100):\n",
    "    # set the base url and initial url lookup\n",
    "    base_url = \"https://www.balldontlie.io/api/v1/players\"\n",
    "    url = f\"{base_url}?page=0&per_page={per_page}\"\n",
    "    # perform first lookup with the goal to find `total_pages`\n",
    "    r = requests.get(url)\n",
    "    json_data = r.json()\n",
    "    meta_data = json_data['meta']\n",
    "    total_pages = meta_data.get('total_pages')\n",
    "    print(total_pages)\n",
    "    # initialize an emtpy list for our entire dataset\n",
    "    dataset = []\n",
    "    for x in range(0, total_pages+1):\n",
    "        # on each iteration, lookup a unique page\n",
    "        endpoint = f\"{base_url}?page={x}&per_page={per_page}\"\n",
    "        print(endpoint)\n",
    "        r2 = requests.get(endpoint)\n",
    "        if not r2.status_code in range(200, 299):\n",
    "            # if the page is not successful, skip the loop\n",
    "            print(\"skipping\")\n",
    "            continue\n",
    "        # grap the response json\n",
    "        json_data = r2.json()\n",
    "        # grab all of the data items on this iteration\n",
    "        data = json_data.get('data')\n",
    "        # add all data items to our dataset list\n",
    "        dataset += data\n",
    "    return dataset"
   ]
  },
  {
   "cell_type": "code",
   "execution_count": null,
   "metadata": {
    "cell_id": "00001-61dc7508-5530-44f0-808e-35f2fdf1bdfd",
    "deepnote_cell_type": "code",
    "deepnote_to_be_reexecuted": false,
    "execution_millis": 2913,
    "execution_start": 1634700704917,
    "source_hash": "4c78cc9e",
    "tags": []
   },
   "outputs": [],
   "source": [
    "players_dataset = get_players_dataset(per_page=100)"
   ]
  },
  {
   "cell_type": "code",
   "execution_count": null,
   "metadata": {},
   "outputs": [],
   "source": [
    "len(players_dataset)"
   ]
  },
  {
   "cell_type": "code",
   "execution_count": null,
   "metadata": {
    "cell_id": "00001-1afba04c-d959-4510-aac9-779339dea798",
    "deepnote_cell_type": "code",
    "deepnote_to_be_reexecuted": false,
    "execution_millis": 51,
    "execution_start": 1634700766956,
    "source_hash": "2ce0440e",
    "tags": []
   },
   "outputs": [],
   "source": [
    "players_df = pd.DataFrame(players_dataset)[['id', 'first_name', 'last_name']]\n",
    "players_df.drop_duplicates(subset='id', inplace=True)\n",
    "players_df['full_name'] = players_df['first_name'] + \" \" + players_df['last_name']\n",
    "players_df.head()"
   ]
  },
  {
   "cell_type": "code",
   "execution_count": null,
   "metadata": {},
   "outputs": [],
   "source": [
    "players_df.shape"
   ]
  },
  {
   "cell_type": "code",
   "execution_count": null,
   "metadata": {
    "cell_id": "00002-f396fd61-fddf-46f7-8279-f53e98ba89ab",
    "deepnote_cell_type": "code",
    "deepnote_to_be_reexecuted": false,
    "execution_millis": 3,
    "execution_start": 1634702679902,
    "source_hash": "a506837a",
    "tags": []
   },
   "outputs": [],
   "source": [
    "name = 'Michael Jordan'\n",
    "player = players_df[players_df['full_name'] == name]\n",
    "\n",
    "player_id = 0\n",
    "if not player.empty:\n",
    "    player_id = player['id'].item()"
   ]
  },
  {
   "cell_type": "code",
   "execution_count": null,
   "metadata": {
    "cell_id": "00005-607b3e92-00d4-4cc7-a4c1-d18d904937b0",
    "deepnote_cell_type": "code",
    "deepnote_to_be_reexecuted": false,
    "execution_millis": 8,
    "execution_start": 1634700799035,
    "source_hash": "faf2441d",
    "tags": []
   },
   "outputs": [],
   "source": [
    "player_id"
   ]
  },
  {
   "cell_type": "code",
   "execution_count": null,
   "metadata": {
    "cell_id": "00006-9f7c3a95-6653-4326-a392-6083f70fb1bf",
    "deepnote_cell_type": "code",
    "deepnote_to_be_reexecuted": false,
    "execution_millis": 3,
    "execution_start": 1634697408666,
    "source_hash": "faf2441d",
    "tags": []
   },
   "outputs": [],
   "source": []
  },
  {
   "cell_type": "code",
   "execution_count": null,
   "metadata": {
    "cell_id": "00007-28d6c65c-4a0e-4d05-8808-33beb56666f3",
    "deepnote_cell_type": "code",
    "deepnote_to_be_reexecuted": false,
    "execution_millis": 0,
    "execution_start": 1634702216852,
    "source_hash": "cc875a8f",
    "tags": []
   },
   "outputs": [],
   "source": [
    "def get_stats(player_id, postseason=False):\n",
    "    # this is very close to the above function\n",
    "    # it serves to extract a single player's stats\n",
    "    # based on postseason or regular season (if postseason=False)\n",
    "    base_url = f'https://www.balldontlie.io/api/v1/stats'\n",
    "    stats_dataset = []\n",
    "    postseason_str = \"true\" if postseason else \"false\"\n",
    "    init_url = f\"{base_url}?player_ids[]={player_id}&page=0&per_page=100&postseason={postseason_str}\"\n",
    "    r = requests.get(init_url)\n",
    "    json_data = r.json()\n",
    "    meta_data = json_data['meta']\n",
    "    total_pages = meta_data.get('total_pages')\n",
    "    for x in range(0, total_pages+1):\n",
    "        endpoint = f\"{base_url}?player_ids[]={player_id}&page={x}&per_page=100&postseason={postseason_str}\"\n",
    "        r2 = requests.get(endpoint)\n",
    "        if not r2.status_code in range(200, 299):\n",
    "            print(\"skipping\")\n",
    "            continue\n",
    "        json_data = r2.json()\n",
    "        data = json_data.get('data')\n",
    "        stats_dataset += data\n",
    "    return stats_dataset"
   ]
  },
  {
   "cell_type": "code",
   "execution_count": null,
   "metadata": {
    "cell_id": "00008-b3de7d85-66df-4fbd-8340-399080ac21f9",
    "deepnote_cell_type": "code",
    "deepnote_to_be_reexecuted": false,
    "execution_millis": 4021,
    "execution_start": 1634702230836,
    "source_hash": "8376936c",
    "tags": []
   },
   "outputs": [],
   "source": [
    "post_season_stats = get_stats(player_id, postseason=True)\n",
    "reg_season_stats = get_stats(player_id, postseason=False)"
   ]
  },
  {
   "cell_type": "code",
   "execution_count": null,
   "metadata": {
    "cell_id": "00008-95afd0f1-ce38-4c07-b1d2-dddc6c544efc",
    "deepnote_cell_type": "code",
    "deepnote_to_be_reexecuted": false,
    "execution_millis": 2,
    "execution_start": 1634702405360,
    "source_hash": "cd3421a2",
    "tags": []
   },
   "outputs": [],
   "source": [
    "def unpack_nested_dicts(row):\n",
    "    \"\"\"\n",
    "    Flatten key columns in our DataFrame\n",
    "    \"\"\"\n",
    "    game = row['game']\n",
    "    if isinstance(game, dict):\n",
    "        for key, val in game.items():\n",
    "            row[f'game_{key}'] = val\n",
    "    team = row['team']\n",
    "    if isinstance(team, dict):\n",
    "        for key, val in team.items():\n",
    "            row[f'team_{key}'] = val\n",
    "    player = row['player']\n",
    "    if isinstance(player, dict):\n",
    "        for key, val in player.items():\n",
    "            row[f'player_{key}'] = val\n",
    "    return row\n",
    "\n",
    "def get_seconds_played(val):\n",
    "    \"\"\"\n",
    "    Convert the time `min` string into\n",
    "    total seconds played\n",
    "    Such as:\n",
    "    \"32:04\" is 32 minutes, 4 seconds or\n",
    "    1924 total seconds\n",
    "    \"\"\"\n",
    "    h, m, s = 0,0,0\n",
    "    if val:\n",
    "        time_string = val.split(\":\")\n",
    "        if len(time_string) == 3:\n",
    "            h, m, s = time_string\n",
    "        if len(time_string) == 2:\n",
    "            m, s = time_string\n",
    "            h = 0\n",
    "        if len(time_string) == 1:\n",
    "            m = time_string[0]\n",
    "            s = 0\n",
    "            h = 0\n",
    "        if f\"{h}\".isdigit():\n",
    "            h = int(h)\n",
    "        if f\"{m}\".isdigit():\n",
    "            m = int(m)\n",
    "        if f\"{s}\".isdigit():\n",
    "            s = int(s)\n",
    "    return datetime.timedelta(hours=h, minutes=m, seconds=s).total_seconds()\n",
    "\n",
    "\n",
    "def get_stats_df(stats_dataset):\n",
    "    \"\"\"\n",
    "    Convert our stats_dataset into a \n",
    "    cleaned Pandas DataFrame\n",
    "    \"\"\"\n",
    "    df = pd.DataFrame(stats_dataset)\n",
    "    df = df.apply(unpack_nested_dicts, axis=1)\n",
    "    if 'min' in df.columns:\n",
    "        df['seconds'] = df['min'].apply(get_seconds_played)\n",
    "        df['did_play'] = df['seconds'].apply(lambda x: x != 0)\n",
    "    if 'game_date' in df.columns:\n",
    "        # use the built-in `pd.to_datetime` to parse\n",
    "        # our df['game_time']\n",
    "        df['date'] = pd.to_datetime(df['game_date'])\n",
    "        # add the year from the above date\n",
    "        df['year'] = df['date'].apply(lambda x: x.year)\n",
    "    df.drop(columns=['game', 'team', 'player'], inplace=True)\n",
    "    df.drop_duplicates(subset=['id', 'game_id'], inplace=True)\n",
    "    return df"
   ]
  },
  {
   "cell_type": "code",
   "execution_count": null,
   "metadata": {
    "cell_id": "00010-df152bcd-5fa5-456d-99e7-7a4d4bc9c530",
    "deepnote_cell_type": "code",
    "deepnote_to_be_reexecuted": false,
    "execution_millis": 38378,
    "execution_start": 1634702416026,
    "source_hash": "29b69bf2",
    "tags": []
   },
   "outputs": [],
   "source": [
    "post_season_df = get_stats_df(post_season_stats)\n",
    "reg_season_df = get_stats_df(reg_season_stats)"
   ]
  },
  {
   "cell_type": "code",
   "execution_count": null,
   "metadata": {
    "cell_id": "00000-2d312518-46e5-451d-b055-fd0509e847b0",
    "deepnote_cell_type": "code",
    "deepnote_to_be_reexecuted": false,
    "execution_millis": 4,
    "execution_start": 1634702454413,
    "source_hash": "e50179e3",
    "tags": []
   },
   "outputs": [],
   "source": [
    "reg_season_df.shape"
   ]
  },
  {
   "cell_type": "code",
   "execution_count": null,
   "metadata": {
    "cell_id": "00012-4da7922b-c39c-4266-a098-21efed23fa66",
    "deepnote_cell_type": "code",
    "deepnote_to_be_reexecuted": false,
    "execution_millis": 1,
    "execution_start": 1634702454423,
    "source_hash": "c5f00695",
    "tags": []
   },
   "outputs": [],
   "source": [
    "post_season_df.shape"
   ]
  },
  {
   "cell_type": "code",
   "execution_count": null,
   "metadata": {
    "cell_id": "00013-5b390966-274b-41f7-837b-97c12bb9311c",
    "deepnote_cell_type": "code",
    "deepnote_to_be_reexecuted": false,
    "execution_millis": 163,
    "execution_start": 1634702454432,
    "source_hash": "4c028ab8",
    "tags": []
   },
   "outputs": [],
   "source": [
    "reg_season_df.head()"
   ]
  },
  {
   "cell_type": "code",
   "execution_count": null,
   "metadata": {
    "cell_id": "00020-efe1ab37-9cfb-443a-b3d5-6e6bca51fe3c",
    "deepnote_cell_type": "code",
    "deepnote_to_be_reexecuted": false,
    "execution_millis": 25,
    "execution_start": 1634702980318,
    "source_hash": "d37d831e",
    "tags": []
   },
   "outputs": [],
   "source": [
    "average_pts_per_year = post_season_df.groupby('year')['pts'].mean()\n",
    "average_pts_per_year"
   ]
  },
  {
   "cell_type": "code",
   "execution_count": null,
   "metadata": {
    "cell_id": "00013-f04caa4b-b684-4b19-bc16-f3638f12fbd2",
    "deepnote_cell_type": "code",
    "deepnote_to_be_reexecuted": false,
    "execution_millis": 36,
    "execution_start": 1634702506127,
    "source_hash": "2efa78b3",
    "tags": []
   },
   "outputs": [],
   "source": [
    "mean_df = pd.DataFrame(average_pts_per_year)\n",
    "mean_df.reset_index(drop=False, inplace=True)\n",
    "mean_df.head()"
   ]
  },
  {
   "cell_type": "code",
   "execution_count": null,
   "metadata": {
    "cell_id": "00016-e236c230-ee34-4ef0-b272-215b24815e11",
    "deepnote_cell_type": "code",
    "deepnote_to_be_reexecuted": false,
    "execution_millis": 42,
    "execution_start": 1634702652093,
    "source_hash": "9e7e95ea",
    "tags": []
   },
   "outputs": [],
   "source": [
    "salary_df = pd.read_csv(INPUT_PATH)\n",
    "salary_df.head()"
   ]
  },
  {
   "cell_type": "code",
   "execution_count": null,
   "metadata": {
    "cell_id": "00016-d83b3237-17dc-42f6-84d3-28fe7aed2a00",
    "deepnote_cell_type": "code",
    "deepnote_to_be_reexecuted": false,
    "execution_millis": 29,
    "execution_start": 1634703106938,
    "source_hash": "a5a49c3b",
    "tags": []
   },
   "outputs": [],
   "source": [
    "player_salary_df = salary_df.copy()[salary_df['player'] == name][['adj_salary', 'year_start']]\n",
    "player_salary_df.head()"
   ]
  },
  {
   "cell_type": "code",
   "execution_count": null,
   "metadata": {
    "cell_id": "00024-b576d0aa-8a54-4c8c-9c67-5acccd824f60",
    "deepnote_cell_type": "code",
    "deepnote_to_be_reexecuted": false,
    "execution_millis": 0,
    "execution_start": 1634703106983,
    "source_hash": "502ac657",
    "tags": []
   },
   "outputs": [],
   "source": [
    "merged_df = mean_df.merge(player_salary_df, left_on='year', right_on='year_start')\n",
    "merged_df.drop(columns='year_start', inplace=True)"
   ]
  },
  {
   "cell_type": "code",
   "execution_count": null,
   "metadata": {
    "cell_id": "00025-dfe2927c-43d1-494d-a523-9959246c788c",
    "deepnote_cell_type": "code",
    "deepnote_to_be_reexecuted": false,
    "execution_millis": 4,
    "execution_start": 1634703108432,
    "source_hash": "12be00f0",
    "tags": []
   },
   "outputs": [],
   "source": [
    "merged_df['adj_salary_$'] = merged_df['adj_salary'].apply(utils.float_to_dollars)\n",
    "merged_df.sort_values(by=['year'])"
   ]
  },
  {
   "cell_type": "code",
   "execution_count": null,
   "metadata": {
    "cell_id": "00026-b161c5ee-0740-4f5b-9b3f-8d0c0a19d184",
    "deepnote_cell_type": "code",
    "deepnote_to_be_reexecuted": false,
    "execution_millis": 1,
    "execution_start": 1634703110529,
    "source_hash": "b623e53d",
    "tags": []
   },
   "outputs": [],
   "source": []
  },
  {
   "cell_type": "code",
   "execution_count": null,
   "metadata": {},
   "outputs": [],
   "source": []
  }
 ],
 "metadata": {
  "deepnote": {
   "is_reactive": false
  },
  "deepnote_execution_queue": [],
  "deepnote_notebook_id": "1b92ec3b-6254-40a2-9a10-c447115724bd",
  "kernelspec": {
   "display_name": "Python 3 (ipykernel)",
   "language": "python",
   "name": "python3"
  },
  "language_info": {
   "codemirror_mode": {
    "name": "ipython",
    "version": 3
   },
   "file_extension": ".py",
   "mimetype": "text/x-python",
   "name": "python",
   "nbconvert_exporter": "python",
   "pygments_lexer": "ipython3",
   "version": "3.9.7"
  }
 },
 "nbformat": 4,
 "nbformat_minor": 2
}
