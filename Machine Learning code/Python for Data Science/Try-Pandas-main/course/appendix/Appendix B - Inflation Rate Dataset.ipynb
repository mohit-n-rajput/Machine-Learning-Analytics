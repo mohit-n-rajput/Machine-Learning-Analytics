{
 "cells": [
  {
   "cell_type": "markdown",
   "id": "485f6aad",
   "metadata": {},
   "source": [
    "# Appendix B - Inflation Rate Dataset\n",
    "\n",
    "This dataset comes from [macrotrends.net](https://www.macrotrends.net/countries/USA/united-states/inflation-rate-cpi) for the [United States Inflation Rate](https://www.macrotrends.net/countries/USA/united-states/inflation-rate-cpi) since 1960. The dataset below will calculate a multiplier for us per year until today."
   ]
  },
  {
   "cell_type": "markdown",
   "id": "552e8804",
   "metadata": {},
   "source": [
    "Install `openpyxl` if you need to use `.xlsx` files with Pandas. This is 100% optional but I've found a number of inflation rate datasets that are based in `xlsx` (Excel)."
   ]
  },
  {
   "cell_type": "code",
   "execution_count": 1,
   "id": "0ca2b75d",
   "metadata": {},
   "outputs": [],
   "source": [
    "# %pip install openpyxl"
   ]
  },
  {
   "cell_type": "markdown",
   "id": "5c383df7",
   "metadata": {},
   "source": [
    "Install `matplotlib` so we can plot the graphs below."
   ]
  },
  {
   "cell_type": "code",
   "execution_count": 2,
   "id": "c4c637be",
   "metadata": {},
   "outputs": [],
   "source": [
    "# %pip install matplotlib"
   ]
  },
  {
   "cell_type": "code",
   "execution_count": 3,
   "id": "1bde7b18",
   "metadata": {},
   "outputs": [],
   "source": [
    "import datetime\n",
    "from functools import reduce\n",
    "import pandas as pd\n",
    "import pathlib"
   ]
  },
  {
   "cell_type": "code",
   "execution_count": 4,
   "id": "644bc1da",
   "metadata": {},
   "outputs": [],
   "source": [
    "BASE_DIR = pathlib.Path().resolve().parent.parent\n",
    "COURSES_DIR = BASE_DIR / 'course'\n",
    "APPENDIX_DIR = COURSES_DIR / 'appendix'\n",
    "DATASET_PATH = COURSES_DIR / 'datasets'\n",
    "SOURCE_FILE = APPENDIX_DIR / 'appendix-b-united-states-inflation-rate.csv'\n",
    "OUTPUT_PATH = DATASET_PATH / 'inflation-rate.csv'"
   ]
  },
  {
   "cell_type": "markdown",
   "id": "9b5d111f",
   "metadata": {},
   "source": [
    "The `SOURCE_FILE` has 2 columns: `date` and `Inflation Rate (%)`. Pandas can turn a valid date column into our index (instead of using incrementing integers). "
   ]
  },
  {
   "cell_type": "code",
   "execution_count": 5,
   "id": "6d64351e",
   "metadata": {},
   "outputs": [],
   "source": [
    "init_df = pd.read_csv(SOURCE_FILE, \n",
    "                 parse_dates=[\"date\"],\n",
    "                 usecols=[0, 1],\n",
    "                 index_col=0,\n",
    "                 skiprows=16\n",
    "                ).rename(columns={\" Inflation Rate (%)\": \"inflation_rate_percent\"})"
   ]
  },
  {
   "cell_type": "code",
   "execution_count": 6,
   "id": "7c0e6699",
   "metadata": {},
   "outputs": [
    {
     "data": {
      "text/plain": [
       "<AxesSubplot:xlabel='date'>"
      ]
     },
     "execution_count": 6,
     "metadata": {},
     "output_type": "execute_result"
    },
    {
     "data": {
      "image/png": "[encoded data removed]",
      "text/plain": [
       "<Figure size 432x288 with 1 Axes>"
      ]
     },
     "metadata": {
      "needs_background": "light"
     },
     "output_type": "display_data"
    }
   ],
   "source": [
    "init_df.plot()"
   ]
  },
  {
   "cell_type": "code",
   "execution_count": 7,
   "id": "35f749ae",
   "metadata": {},
   "outputs": [
    {
     "data": {
      "text/html": [
       "<div>\n",
       "<style scoped>\n",
       "    .dataframe tbody tr th:only-of-type {\n",
       "        vertical-align: middle;\n",
       "    }\n",
       "\n",
       "    .dataframe tbody tr th {\n",
       "        vertical-align: top;\n",
       "    }\n",
       "\n",
       "    .dataframe thead th {\n",
       "        text-align: right;\n",
       "    }\n",
       "</style>\n",
       "<table border=\"1\" class=\"dataframe\">\n",
       "  <thead>\n",
       "    <tr style=\"text-align: right;\">\n",
       "      <th></th>\n",
       "      <th>inflation_rate_percent</th>\n",
       "    </tr>\n",
       "    <tr>\n",
       "      <th>date</th>\n",
       "      <th></th>\n",
       "    </tr>\n",
       "  </thead>\n",
       "  <tbody>\n",
       "    <tr>\n",
       "      <th>1990-12-31</th>\n",
       "      <td>1.053980</td>\n",
       "    </tr>\n",
       "    <tr>\n",
       "      <th>1991-12-31</th>\n",
       "      <td>1.042350</td>\n",
       "    </tr>\n",
       "    <tr>\n",
       "      <th>1992-12-31</th>\n",
       "      <td>1.030288</td>\n",
       "    </tr>\n",
       "    <tr>\n",
       "      <th>1993-12-31</th>\n",
       "      <td>1.029517</td>\n",
       "    </tr>\n",
       "    <tr>\n",
       "      <th>1994-12-31</th>\n",
       "      <td>1.026074</td>\n",
       "    </tr>\n",
       "    <tr>\n",
       "      <th>1995-12-31</th>\n",
       "      <td>1.028054</td>\n",
       "    </tr>\n",
       "    <tr>\n",
       "      <th>1996-12-31</th>\n",
       "      <td>1.029312</td>\n",
       "    </tr>\n",
       "    <tr>\n",
       "      <th>1997-12-31</th>\n",
       "      <td>1.023377</td>\n",
       "    </tr>\n",
       "    <tr>\n",
       "      <th>1998-12-31</th>\n",
       "      <td>1.015523</td>\n",
       "    </tr>\n",
       "    <tr>\n",
       "      <th>1999-12-31</th>\n",
       "      <td>1.021880</td>\n",
       "    </tr>\n",
       "    <tr>\n",
       "      <th>2000-12-31</th>\n",
       "      <td>1.033769</td>\n",
       "    </tr>\n",
       "    <tr>\n",
       "      <th>2001-12-31</th>\n",
       "      <td>1.028262</td>\n",
       "    </tr>\n",
       "    <tr>\n",
       "      <th>2002-12-31</th>\n",
       "      <td>1.015860</td>\n",
       "    </tr>\n",
       "    <tr>\n",
       "      <th>2003-12-31</th>\n",
       "      <td>1.022701</td>\n",
       "    </tr>\n",
       "    <tr>\n",
       "      <th>2004-12-31</th>\n",
       "      <td>1.026772</td>\n",
       "    </tr>\n",
       "    <tr>\n",
       "      <th>2005-12-31</th>\n",
       "      <td>1.033927</td>\n",
       "    </tr>\n",
       "    <tr>\n",
       "      <th>2006-12-31</th>\n",
       "      <td>1.032259</td>\n",
       "    </tr>\n",
       "    <tr>\n",
       "      <th>2007-12-31</th>\n",
       "      <td>1.028527</td>\n",
       "    </tr>\n",
       "    <tr>\n",
       "      <th>2008-12-31</th>\n",
       "      <td>1.038391</td>\n",
       "    </tr>\n",
       "    <tr>\n",
       "      <th>2009-12-31</th>\n",
       "      <td>0.996445</td>\n",
       "    </tr>\n",
       "    <tr>\n",
       "      <th>2010-12-31</th>\n",
       "      <td>1.016400</td>\n",
       "    </tr>\n",
       "    <tr>\n",
       "      <th>2011-12-31</th>\n",
       "      <td>1.031568</td>\n",
       "    </tr>\n",
       "    <tr>\n",
       "      <th>2012-12-31</th>\n",
       "      <td>1.020693</td>\n",
       "    </tr>\n",
       "    <tr>\n",
       "      <th>2013-12-31</th>\n",
       "      <td>1.014648</td>\n",
       "    </tr>\n",
       "    <tr>\n",
       "      <th>2014-12-31</th>\n",
       "      <td>1.016222</td>\n",
       "    </tr>\n",
       "    <tr>\n",
       "      <th>2015-12-31</th>\n",
       "      <td>1.001186</td>\n",
       "    </tr>\n",
       "    <tr>\n",
       "      <th>2016-12-31</th>\n",
       "      <td>1.012616</td>\n",
       "    </tr>\n",
       "    <tr>\n",
       "      <th>2017-12-31</th>\n",
       "      <td>1.021301</td>\n",
       "    </tr>\n",
       "    <tr>\n",
       "      <th>2018-12-31</th>\n",
       "      <td>1.024426</td>\n",
       "    </tr>\n",
       "    <tr>\n",
       "      <th>2019-12-31</th>\n",
       "      <td>1.018122</td>\n",
       "    </tr>\n",
       "    <tr>\n",
       "      <th>2020-12-31</th>\n",
       "      <td>1.012336</td>\n",
       "    </tr>\n",
       "  </tbody>\n",
       "</table>\n",
       "</div>"
      ],
      "text/plain": [
       "            inflation_rate_percent\n",
       "date                              \n",
       "1990-12-31                1.053980\n",
       "1991-12-31                1.042350\n",
       "1992-12-31                1.030288\n",
       "1993-12-31                1.029517\n",
       "1994-12-31                1.026074\n",
       "1995-12-31                1.028054\n",
       "1996-12-31                1.029312\n",
       "1997-12-31                1.023377\n",
       "1998-12-31                1.015523\n",
       "1999-12-31                1.021880\n",
       "2000-12-31                1.033769\n",
       "2001-12-31                1.028262\n",
       "2002-12-31                1.015860\n",
       "2003-12-31                1.022701\n",
       "2004-12-31                1.026772\n",
       "2005-12-31                1.033927\n",
       "2006-12-31                1.032259\n",
       "2007-12-31                1.028527\n",
       "2008-12-31                1.038391\n",
       "2009-12-31                0.996445\n",
       "2010-12-31                1.016400\n",
       "2011-12-31                1.031568\n",
       "2012-12-31                1.020693\n",
       "2013-12-31                1.014648\n",
       "2014-12-31                1.016222\n",
       "2015-12-31                1.001186\n",
       "2016-12-31                1.012616\n",
       "2017-12-31                1.021301\n",
       "2018-12-31                1.024426\n",
       "2019-12-31                1.018122\n",
       "2020-12-31                1.012336"
      ]
     },
     "execution_count": 7,
     "metadata": {},
     "output_type": "execute_result"
    }
   ],
   "source": [
    "df = init_df.div(100).add(1)\n",
    "df.loc['1990':'2020']"
   ]
  },
  {
   "cell_type": "code",
   "execution_count": 8,
   "id": "943a9619",
   "metadata": {},
   "outputs": [
    {
     "data": {
      "text/plain": [
       "<AxesSubplot:xlabel='date'>"
      ]
     },
     "execution_count": 8,
     "metadata": {},
     "output_type": "execute_result"
    },
    {
     "data": {
      "image/png": "[encoded data removed]",
      "text/plain": [
       "<Figure size 432x288 with 1 Axes>"
      ]
     },
     "metadata": {
      "needs_background": "light"
     },
     "output_type": "display_data"
    }
   ],
   "source": [
    "df.plot()"
   ]
  },
  {
   "cell_type": "markdown",
   "id": "7a7c80ca",
   "metadata": {},
   "source": [
    "Multiplier example. To do this, we get product of inflation rate values for a given date range such as:\n",
    "\n",
    "1.02 x 1.03 x 1.04\n",
    "\n",
    "First, get inflation values based on a range:"
   ]
  },
  {
   "cell_type": "code",
   "execution_count": 9,
   "id": "dfbcda72",
   "metadata": {},
   "outputs": [
    {
     "data": {
      "text/plain": [
       "array([1.05398 , 1.04235 , 1.030288, 1.029517, 1.026074, 1.028054,\n",
       "       1.029312, 1.023377, 1.015523, 1.02188 , 1.033769, 1.028262,\n",
       "       1.01586 , 1.022701, 1.026772, 1.033927, 1.032259, 1.028527,\n",
       "       1.038391, 0.996445, 1.0164  , 1.031568, 1.020693, 1.014648,\n",
       "       1.016222, 1.001186, 1.012616, 1.021301, 1.024426, 1.018122,\n",
       "       1.012336])"
      ]
     },
     "execution_count": 9,
     "metadata": {},
     "output_type": "execute_result"
    }
   ],
   "source": [
    "values = df.loc[\"1990\":\"2020\"]['inflation_rate_percent'].values \n",
    "values"
   ]
  },
  {
   "cell_type": "markdown",
   "id": "c59f01b6",
   "metadata": {},
   "source": [
    "Turn`values` into a product using `reduce`:"
   ]
  },
  {
   "cell_type": "code",
   "execution_count": 10,
   "id": "ba243952",
   "metadata": {},
   "outputs": [
    {
     "data": {
      "text/plain": [
       "2.08774508880239"
      ]
     },
     "execution_count": 10,
     "metadata": {},
     "output_type": "execute_result"
    }
   ],
   "source": [
    "reduce((lambda x, y: x * y), values)"
   ]
  },
  {
   "cell_type": "markdown",
   "id": "d8929539",
   "metadata": {},
   "source": [
    "You can easily use `numpy` instead of `reduce`:\n",
    "\n",
    "```python\n",
    "import numpy as np\n",
    "\n",
    "np.prod(values)\n",
    "```\n",
    "\n",
    "Calculate the multiplier per row until reaching the final row."
   ]
  },
  {
   "cell_type": "code",
   "execution_count": 11,
   "id": "6633c624",
   "metadata": {},
   "outputs": [],
   "source": [
    "def calculate_multiplier(row):\n",
    "    current_year = row.name.year + 1\n",
    "    final_year = df.iloc[-1].name.year\n",
    "    values = df.loc[f\"{current_year}\" : f\"{final_year}\"]['inflation_rate_percent'].values\n",
    "    if len(values) == 0:\n",
    "        row['multiplier'] = 1\n",
    "        return row\n",
    "    row['multiplier']= reduce((lambda x, y: x * y), values)\n",
    "    return row\n",
    "\n",
    "df = df.apply(calculate_multiplier, axis=1)"
   ]
  },
  {
   "cell_type": "markdown",
   "id": "cbddfeee",
   "metadata": {},
   "source": [
    "Review values between 1990 and 2020"
   ]
  },
  {
   "cell_type": "code",
   "execution_count": 12,
   "id": "415b2ff4",
   "metadata": {},
   "outputs": [
    {
     "data": {
      "text/html": [
       "<div>\n",
       "<style scoped>\n",
       "    .dataframe tbody tr th:only-of-type {\n",
       "        vertical-align: middle;\n",
       "    }\n",
       "\n",
       "    .dataframe tbody tr th {\n",
       "        vertical-align: top;\n",
       "    }\n",
       "\n",
       "    .dataframe thead th {\n",
       "        text-align: right;\n",
       "    }\n",
       "</style>\n",
       "<table border=\"1\" class=\"dataframe\">\n",
       "  <thead>\n",
       "    <tr style=\"text-align: right;\">\n",
       "      <th></th>\n",
       "      <th>inflation_rate_percent</th>\n",
       "      <th>multiplier</th>\n",
       "    </tr>\n",
       "    <tr>\n",
       "      <th>date</th>\n",
       "      <th></th>\n",
       "      <th></th>\n",
       "    </tr>\n",
       "  </thead>\n",
       "  <tbody>\n",
       "    <tr>\n",
       "      <th>1990-12-31</th>\n",
       "      <td>1.053980</td>\n",
       "      <td>1.980820</td>\n",
       "    </tr>\n",
       "    <tr>\n",
       "      <th>1991-12-31</th>\n",
       "      <td>1.042350</td>\n",
       "      <td>1.900341</td>\n",
       "    </tr>\n",
       "    <tr>\n",
       "      <th>1992-12-31</th>\n",
       "      <td>1.030288</td>\n",
       "      <td>1.844475</td>\n",
       "    </tr>\n",
       "    <tr>\n",
       "      <th>1993-12-31</th>\n",
       "      <td>1.029517</td>\n",
       "      <td>1.791593</td>\n",
       "    </tr>\n",
       "    <tr>\n",
       "      <th>1994-12-31</th>\n",
       "      <td>1.026074</td>\n",
       "      <td>1.746066</td>\n",
       "    </tr>\n",
       "    <tr>\n",
       "      <th>1995-12-31</th>\n",
       "      <td>1.028054</td>\n",
       "      <td>1.698419</td>\n",
       "    </tr>\n",
       "    <tr>\n",
       "      <th>1996-12-31</th>\n",
       "      <td>1.029312</td>\n",
       "      <td>1.650052</td>\n",
       "    </tr>\n",
       "    <tr>\n",
       "      <th>1997-12-31</th>\n",
       "      <td>1.023377</td>\n",
       "      <td>1.612360</td>\n",
       "    </tr>\n",
       "    <tr>\n",
       "      <th>1998-12-31</th>\n",
       "      <td>1.015523</td>\n",
       "      <td>1.587714</td>\n",
       "    </tr>\n",
       "    <tr>\n",
       "      <th>1999-12-31</th>\n",
       "      <td>1.021880</td>\n",
       "      <td>1.553719</td>\n",
       "    </tr>\n",
       "    <tr>\n",
       "      <th>2000-12-31</th>\n",
       "      <td>1.033769</td>\n",
       "      <td>1.502965</td>\n",
       "    </tr>\n",
       "    <tr>\n",
       "      <th>2001-12-31</th>\n",
       "      <td>1.028262</td>\n",
       "      <td>1.461656</td>\n",
       "    </tr>\n",
       "    <tr>\n",
       "      <th>2002-12-31</th>\n",
       "      <td>1.015860</td>\n",
       "      <td>1.438836</td>\n",
       "    </tr>\n",
       "    <tr>\n",
       "      <th>2003-12-31</th>\n",
       "      <td>1.022701</td>\n",
       "      <td>1.406898</td>\n",
       "    </tr>\n",
       "    <tr>\n",
       "      <th>2004-12-31</th>\n",
       "      <td>1.026772</td>\n",
       "      <td>1.370214</td>\n",
       "    </tr>\n",
       "    <tr>\n",
       "      <th>2005-12-31</th>\n",
       "      <td>1.033927</td>\n",
       "      <td>1.325253</td>\n",
       "    </tr>\n",
       "    <tr>\n",
       "      <th>2006-12-31</th>\n",
       "      <td>1.032259</td>\n",
       "      <td>1.283837</td>\n",
       "    </tr>\n",
       "    <tr>\n",
       "      <th>2007-12-31</th>\n",
       "      <td>1.028527</td>\n",
       "      <td>1.248229</td>\n",
       "    </tr>\n",
       "    <tr>\n",
       "      <th>2008-12-31</th>\n",
       "      <td>1.038391</td>\n",
       "      <td>1.202080</td>\n",
       "    </tr>\n",
       "    <tr>\n",
       "      <th>2009-12-31</th>\n",
       "      <td>0.996445</td>\n",
       "      <td>1.206369</td>\n",
       "    </tr>\n",
       "    <tr>\n",
       "      <th>2010-12-31</th>\n",
       "      <td>1.016400</td>\n",
       "      <td>1.186903</td>\n",
       "    </tr>\n",
       "    <tr>\n",
       "      <th>2011-12-31</th>\n",
       "      <td>1.031568</td>\n",
       "      <td>1.150582</td>\n",
       "    </tr>\n",
       "    <tr>\n",
       "      <th>2012-12-31</th>\n",
       "      <td>1.020693</td>\n",
       "      <td>1.127256</td>\n",
       "    </tr>\n",
       "    <tr>\n",
       "      <th>2013-12-31</th>\n",
       "      <td>1.014648</td>\n",
       "      <td>1.110982</td>\n",
       "    </tr>\n",
       "    <tr>\n",
       "      <th>2014-12-31</th>\n",
       "      <td>1.016222</td>\n",
       "      <td>1.093247</td>\n",
       "    </tr>\n",
       "    <tr>\n",
       "      <th>2015-12-31</th>\n",
       "      <td>1.001186</td>\n",
       "      <td>1.091952</td>\n",
       "    </tr>\n",
       "    <tr>\n",
       "      <th>2016-12-31</th>\n",
       "      <td>1.012616</td>\n",
       "      <td>1.078348</td>\n",
       "    </tr>\n",
       "    <tr>\n",
       "      <th>2017-12-31</th>\n",
       "      <td>1.021301</td>\n",
       "      <td>1.055857</td>\n",
       "    </tr>\n",
       "    <tr>\n",
       "      <th>2018-12-31</th>\n",
       "      <td>1.024426</td>\n",
       "      <td>1.030682</td>\n",
       "    </tr>\n",
       "    <tr>\n",
       "      <th>2019-12-31</th>\n",
       "      <td>1.018122</td>\n",
       "      <td>1.012336</td>\n",
       "    </tr>\n",
       "    <tr>\n",
       "      <th>2020-12-31</th>\n",
       "      <td>1.012336</td>\n",
       "      <td>1.000000</td>\n",
       "    </tr>\n",
       "  </tbody>\n",
       "</table>\n",
       "</div>"
      ],
      "text/plain": [
       "            inflation_rate_percent  multiplier\n",
       "date                                          \n",
       "1990-12-31                1.053980    1.980820\n",
       "1991-12-31                1.042350    1.900341\n",
       "1992-12-31                1.030288    1.844475\n",
       "1993-12-31                1.029517    1.791593\n",
       "1994-12-31                1.026074    1.746066\n",
       "1995-12-31                1.028054    1.698419\n",
       "1996-12-31                1.029312    1.650052\n",
       "1997-12-31                1.023377    1.612360\n",
       "1998-12-31                1.015523    1.587714\n",
       "1999-12-31                1.021880    1.553719\n",
       "2000-12-31                1.033769    1.502965\n",
       "2001-12-31                1.028262    1.461656\n",
       "2002-12-31                1.015860    1.438836\n",
       "2003-12-31                1.022701    1.406898\n",
       "2004-12-31                1.026772    1.370214\n",
       "2005-12-31                1.033927    1.325253\n",
       "2006-12-31                1.032259    1.283837\n",
       "2007-12-31                1.028527    1.248229\n",
       "2008-12-31                1.038391    1.202080\n",
       "2009-12-31                0.996445    1.206369\n",
       "2010-12-31                1.016400    1.186903\n",
       "2011-12-31                1.031568    1.150582\n",
       "2012-12-31                1.020693    1.127256\n",
       "2013-12-31                1.014648    1.110982\n",
       "2014-12-31                1.016222    1.093247\n",
       "2015-12-31                1.001186    1.091952\n",
       "2016-12-31                1.012616    1.078348\n",
       "2017-12-31                1.021301    1.055857\n",
       "2018-12-31                1.024426    1.030682\n",
       "2019-12-31                1.018122    1.012336\n",
       "2020-12-31                1.012336    1.000000"
      ]
     },
     "execution_count": 12,
     "metadata": {},
     "output_type": "execute_result"
    }
   ],
   "source": [
    "df.loc['1990':'2020']"
   ]
  },
  {
   "cell_type": "code",
   "execution_count": 13,
   "id": "a497051f",
   "metadata": {},
   "outputs": [],
   "source": [
    "df.to_csv(OUTPUT_PATH)"
   ]
  },
  {
   "cell_type": "code",
   "execution_count": null,
   "id": "3e56e916",
   "metadata": {},
   "outputs": [],
   "source": []
  }
 ],
 "metadata": {
  "kernelspec": {
   "display_name": "Python 3 (ipykernel)",
   "language": "python",
   "name": "python3"
  },
  "language_info": {
   "codemirror_mode": {
    "name": "ipython",
    "version": 3
   },
   "file_extension": ".py",
   "mimetype": "text/x-python",
   "name": "python",
   "nbconvert_exporter": "python",
   "pygments_lexer": "ipython3",
   "version": "3.9.7"
  }
 },
 "nbformat": 4,
 "nbformat_minor": 5
}
