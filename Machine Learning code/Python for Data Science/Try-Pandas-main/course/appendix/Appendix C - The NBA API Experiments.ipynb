{
 "cells": [
  {
   "cell_type": "code",
   "execution_count": null,
   "id": "0214eb00",
   "metadata": {},
   "outputs": [],
   "source": [
    "# %pip install nba_api"
   ]
  },
  {
   "cell_type": "markdown",
   "id": "eef82f84",
   "metadata": {},
   "source": [
    "## NBA API Experiments\n",
    "While I was experimenting the `nba_api` I created this notebook. It's a bit of a mixed bag of tests but certainly a worthy inclusion of things you might try yourself.\n",
    "\n",
    "There is no real order in this notebook -- feel free to submit a [pull request](https://github.com/codingforentrepreneurs/Try-Pandas/pulls) if you find ways to improve it.\n",
    "\n",
    "\n",
    "#### _NBA Shot Chart explainer_\n",
    "Interesting project (perhas a future video)?\n",
    "- https://www.youtube.com/watch?v=a3u-3gEYvxM\n",
    "- https://github.com/hkair/nba-shotcharts"
   ]
  },
  {
   "cell_type": "code",
   "execution_count": null,
   "id": "e40478dd",
   "metadata": {},
   "outputs": [],
   "source": [
    "import pandas as pd\n",
    "import pathlib"
   ]
  },
  {
   "cell_type": "code",
   "execution_count": null,
   "id": "39fe9277",
   "metadata": {},
   "outputs": [],
   "source": [
    "from nba_api.stats.endpoints import commonplayerinfo, playercareerstats\n",
    "from nba_api.stats.static import players"
   ]
  },
  {
   "cell_type": "code",
   "execution_count": null,
   "id": "9da954c0",
   "metadata": {},
   "outputs": [],
   "source": [
    "BASE_DIR = pathlib.Path().resolve().parent\n",
    "SAMPLES_DIR = BASE_DIR / \"samples\"\n",
    "salary_df = pd.read_csv(SAMPLES_DIR / '5-player-adj-salaries-audit.csv')"
   ]
  },
  {
   "cell_type": "code",
   "execution_count": null,
   "id": "7b5f24e0",
   "metadata": {},
   "outputs": [],
   "source": [
    "def split_player_name(row):\n",
    "    name = row['player']\n",
    "    name_list = name.split()\n",
    "    row['first_name'] = None\n",
    "    row['last_name'] = None\n",
    "    if len(name_list) == 2:\n",
    "        row['first_name'] = name_list[0]\n",
    "        row['last_name'] = name_list[1]\n",
    "    if len(name_list) > 2 :\n",
    "        row['first_name'] = \" \".join(name_list[:-1])\n",
    "        row['last_name'] = name_list[-1]\n",
    "    return row\n",
    "\n",
    "salary_df = salary_df.apply(split_player_name, axis=1)\n",
    "# salary_df.sort_values(\"player\", inplace=True)\n",
    "salary_df.head()"
   ]
  },
  {
   "cell_type": "code",
   "execution_count": null,
   "id": "ad2c98dc",
   "metadata": {},
   "outputs": [],
   "source": [
    "career = playercareerstats.PlayerCareerStats(player_id=3)\n",
    "career"
   ]
  },
  {
   "cell_type": "code",
   "execution_count": null,
   "id": "3eb2925f",
   "metadata": {},
   "outputs": [],
   "source": [
    "def season_id_to_season_end(val):\n",
    "    season_start, season_end = val.split(\"-\")\n",
    "    if f\"{season_start}\".startswith(\"1\"):\n",
    "        season_end = f\"19{season_end}\"\n",
    "    else:\n",
    "        season_end = f\"20{season_end}\"\n",
    "    return season_end\n",
    "\n",
    "# Charles Barkle player_id = 3\n",
    "def get_season_data(player_id=1):\n",
    "    career = playercareerstats.PlayerCareerStats(player_id=player_id)\n",
    "    player_df = career.get_data_frames()[0]\n",
    "    player_df['season_start'] = player_df['SEASON_ID'].apply(lambda x: x.split(\"-\")[0])\n",
    "    player_df['season_end'] = player_df['SEASON_ID'].apply(season_id_to_season_end)\n",
    "    # player_df_final = player_df.copy()[['PLAYER_ID', 'TEAM_ABBREVIATION', 'season_start', 'season_end']]\n",
    "    return player_df"
   ]
  },
  {
   "cell_type": "code",
   "execution_count": null,
   "id": "360d220f",
   "metadata": {},
   "outputs": [],
   "source": [
    "player_ = get_season_data(player_id=3)\n",
    "player_.head()"
   ]
  },
  {
   "cell_type": "code",
   "execution_count": null,
   "id": "4ed52b9f",
   "metadata": {},
   "outputs": [],
   "source": [
    "nba_players = players.get_players()\n",
    "\n",
    "nba_players_df = pd.DataFrame(nba_players)\n",
    "nba_players_df.head()"
   ]
  },
  {
   "cell_type": "code",
   "execution_count": null,
   "id": "6fedf048",
   "metadata": {},
   "outputs": [],
   "source": []
  },
  {
   "cell_type": "code",
   "execution_count": null,
   "id": "95d97685",
   "metadata": {},
   "outputs": [],
   "source": [
    "# this is not efficient, perhaps another method to enrich all the data.\n",
    "\n",
    "# all_player_teams = []\n",
    "# for p_id in nba_players_df['id'].values[:10]:\n",
    "#     all_player_teams.append(get_season_data(player_id=p_id))\n",
    "\n",
    "# all_player_teams_df = pd.concat(all_player_teams)"
   ]
  },
  {
   "cell_type": "code",
   "execution_count": null,
   "id": "541a07cb",
   "metadata": {},
   "outputs": [],
   "source": []
  },
  {
   "cell_type": "code",
   "execution_count": null,
   "id": "42f075f6",
   "metadata": {},
   "outputs": [],
   "source": [
    "salary_df.merge(nba_players_df, left_on=\"player\", right_on=\"full_name\")"
   ]
  },
  {
   "cell_type": "code",
   "execution_count": null,
   "id": "e404bfc0",
   "metadata": {},
   "outputs": [],
   "source": [
    "from nba_api.stats.static import teams\n",
    "\n",
    "nba_teams = teams.get_teams()\n",
    "# Select the dictionary for the Celtics, which contains their team ID\n",
    "celtics = [team for team in nba_teams if team['abbreviation'] == 'BOS'][0]\n",
    "celtics_id = celtics['id']"
   ]
  },
  {
   "cell_type": "code",
   "execution_count": null,
   "id": "4aed8df9",
   "metadata": {},
   "outputs": [],
   "source": [
    "from nba_api.stats.endpoints import leaguegamefinder\n",
    "\n",
    "# Query for games where the Celtics were playing\n",
    "gamefinder = leaguegamefinder.LeagueGameFinder(team_id_nullable=celtics_id)\n",
    "# The first DataFrame of those returned is what we want.\n",
    "games = gamefinder.get_data_frames()[0]\n",
    "games.head()"
   ]
  },
  {
   "cell_type": "code",
   "execution_count": null,
   "id": "7770f675",
   "metadata": {},
   "outputs": [],
   "source": []
  },
  {
   "cell_type": "code",
   "execution_count": null,
   "id": "250ec48a",
   "metadata": {},
   "outputs": [],
   "source": [
    "player_info = commonplayerinfo.CommonPlayerInfo(player_id=51)\n",
    "player_info_df = pd.concat(player_info.get_data_frames()[:1])\n",
    "player_info_df.head()"
   ]
  },
  {
   "cell_type": "code",
   "execution_count": null,
   "id": "b8476bc2",
   "metadata": {},
   "outputs": [],
   "source": [
    "from nba_api.stats.endpoints import playercareerstats\n",
    "# Anthony Davis\n",
    "career = playercareerstats.PlayerCareerStats(player_id=51)\n",
    "player_df = career.get_data_frames()[0]\n",
    "player_df['season_start'] = player_df['SEASON_ID'].apply(lambda x: x.split(\"-\")[0])\n",
    "\n",
    "def season_end(val):\n",
    "    season_start, season_end = val.split(\"-\")\n",
    "    if f\"{season_end}\".startswith(\"9\"):\n",
    "        season_end = f\"19{season_end}\"\n",
    "    else:\n",
    "        season_end = f\"20{season_end}\"\n",
    "    return season_end\n",
    "\n",
    "player_df['season_end'] = player_df['SEASON_ID'].apply(season_end)\n",
    "player_df_final = player_df.copy()[['PLAYER_ID', 'TEAM_ABBREVIATION', 'season_start', 'season_end']]\n",
    "player_df_final.tail(n=100)"
   ]
  },
  {
   "cell_type": "code",
   "execution_count": null,
   "id": "13b8a211",
   "metadata": {},
   "outputs": [],
   "source": [
    "player_df.columns"
   ]
  },
  {
   "cell_type": "code",
   "execution_count": null,
   "id": "c14ebaac",
   "metadata": {},
   "outputs": [],
   "source": [
    "player_games = player_df.copy()[['SEASON_ID', 'GAME_ID', \"TEAM_ID\", 'TEAM_NAME', \"WL\", \"MIN\", \"PTS\"]]\n",
    "player_games.head()"
   ]
  },
  {
   "cell_type": "code",
   "execution_count": null,
   "id": "c7e5b1e6",
   "metadata": {},
   "outputs": [],
   "source": [
    "players = players.get_players()"
   ]
  },
  {
   "cell_type": "code",
   "execution_count": null,
   "id": "07a4cd9c",
   "metadata": {},
   "outputs": [],
   "source": [
    "players_df = pd.DataFrame(players)"
   ]
  },
  {
   "cell_type": "code",
   "execution_count": null,
   "id": "04dc2b72",
   "metadata": {},
   "outputs": [],
   "source": [
    "players_df.head()"
   ]
  },
  {
   "cell_type": "code",
   "execution_count": null,
   "id": "57cd0d44",
   "metadata": {},
   "outputs": [],
   "source": [
    "\n",
    "\n",
    "player_info.common_player_info.get_data_frame()"
   ]
  },
  {
   "cell_type": "code",
   "execution_count": null,
   "id": "8fcf9929",
   "metadata": {},
   "outputs": [],
   "source": [
    "# def add_common_info(row):\n",
    "#     player_id = row['id']\n",
    "#     player_info = commonplayerinfo.CommonPlayerInfo(player_id=player_id)\n",
    "#     print(player_info)\n",
    "#     return row\n",
    "\n",
    "# players_df.apply(add_common_info , axis=1)\n",
    "# players_df.head()"
   ]
  },
  {
   "cell_type": "code",
   "execution_count": null,
   "id": "79aff263",
   "metadata": {},
   "outputs": [],
   "source": [
    "from nba_api.stats.static import teams\n",
    "\n",
    "\n",
    "teams = teams.get_teams()"
   ]
  },
  {
   "cell_type": "code",
   "execution_count": null,
   "id": "d0cdec29",
   "metadata": {},
   "outputs": [],
   "source": [
    "teams_df = pd.DataFrame(teams)\n",
    "teams_df.head()"
   ]
  },
  {
   "cell_type": "code",
   "execution_count": null,
   "id": "730be027",
   "metadata": {},
   "outputs": [],
   "source": []
  }
 ],
 "metadata": {
  "kernelspec": {
   "display_name": "Python 3 (ipykernel)",
   "language": "python",
   "name": "python3"
  },
  "language_info": {
   "codemirror_mode": {
    "name": "ipython",
    "version": 3
   },
   "file_extension": ".py",
   "mimetype": "text/x-python",
   "name": "python",
   "nbconvert_exporter": "python",
   "pygments_lexer": "ipython3",
   "version": "3.9.7"
  }
 },
 "nbformat": 4,
 "nbformat_minor": 5
}
