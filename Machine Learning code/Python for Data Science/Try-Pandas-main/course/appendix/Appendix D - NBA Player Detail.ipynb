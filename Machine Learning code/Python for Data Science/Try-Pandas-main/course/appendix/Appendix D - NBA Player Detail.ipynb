{
 "cells": [
  {
   "cell_type": "markdown",
   "id": "62e34320",
   "metadata": {},
   "source": [
    "# 6 - NBA Player Detail\n",
    "\n",
    "Now we're going to heavily use the [nba_api](https://github.com/swar/nba_api) data library as it's proven to be a great API for extracting data from https://stats.nba.com."
   ]
  },
  {
   "cell_type": "code",
   "execution_count": null,
   "id": "c4ac00b3",
   "metadata": {},
   "outputs": [],
   "source": [
    "# %pip install nba_api"
   ]
  },
  {
   "cell_type": "code",
   "execution_count": null,
   "id": "f79bb047",
   "metadata": {},
   "outputs": [],
   "source": [
    "import utils"
   ]
  },
  {
   "cell_type": "code",
   "execution_count": null,
   "id": "a6e59df0",
   "metadata": {},
   "outputs": [],
   "source": [
    "import pandas as pd\n",
    "import pathlib"
   ]
  },
  {
   "cell_type": "code",
   "execution_count": null,
   "id": "e4f6c115",
   "metadata": {},
   "outputs": [],
   "source": [
    "from nba_api.stats.endpoints import commonplayerinfo, playercareerstats\n",
    "from nba_api.stats.static import players"
   ]
  },
  {
   "cell_type": "code",
   "execution_count": null,
   "id": "a462b5bd",
   "metadata": {},
   "outputs": [],
   "source": [
    "BASE_DIR = pathlib.Path().resolve()\n",
    "SAMPLES_DIR = BASE_DIR / 'samples'\n",
    "SAMPLE_PLAYERS_DIR = SAMPLES_DIR / 'players'\n",
    "SAMPLE_PLAYERS_DIR.mkdir(exist_ok=True, parents=True)"
   ]
  },
  {
   "cell_type": "code",
   "execution_count": null,
   "id": "c54afdfd",
   "metadata": {},
   "outputs": [],
   "source": [
    "salary_df = pd.read_csv('samples/5-player-adj-salaries-audit.csv')\n",
    "salary_df.columns = [f\"{x}\".upper() for x in salary_df.columns]"
   ]
  },
  {
   "cell_type": "markdown",
   "id": "bf3a739f",
   "metadata": {},
   "source": [
    "I converted our columns to match the column names in the `nba_api` library."
   ]
  },
  {
   "cell_type": "code",
   "execution_count": null,
   "id": "33ec3ad5",
   "metadata": {},
   "outputs": [],
   "source": [
    "random_row = salary_df.sample(n=1)\n",
    "name = random_row['PLAYER'].item() # .item() will get the value\n",
    "random_row"
   ]
  },
  {
   "cell_type": "markdown",
   "id": "47bb9f3d",
   "metadata": {},
   "source": [
    "Using `.sample(n=1)` will return a random sample of our data. This sample can be as large as you'd like but I chose to return `1` row (`n=1`) to ultimately get `1` player's name for use in the API."
   ]
  },
  {
   "cell_type": "code",
   "execution_count": null,
   "id": "90c49f0d",
   "metadata": {},
   "outputs": [],
   "source": [
    "# name = 'Michael Jordan'\n",
    "name"
   ]
  },
  {
   "cell_type": "code",
   "execution_count": null,
   "id": "d88d5d14",
   "metadata": {},
   "outputs": [],
   "source": [
    "player_results = players.find_players_by_full_name(name) \n",
    "player_df = pd.DataFrame(player_results)\n",
    "player_df.head()"
   ]
  },
  {
   "cell_type": "code",
   "execution_count": null,
   "id": "2afa3bb1",
   "metadata": {},
   "outputs": [],
   "source": [
    "player_df"
   ]
  },
  {
   "cell_type": "code",
   "execution_count": null,
   "id": "c532bdbc",
   "metadata": {},
   "outputs": [],
   "source": [
    "player_id = player_df.iloc[0]['id'].item()\n",
    "# player_id = player_df.loc[0]['id'].item()"
   ]
  },
  {
   "cell_type": "markdown",
   "id": "07f6e6ac",
   "metadata": {},
   "source": [
    "`.iloc` is much like using an index value in a standard python list. `iloc[23]` will yield the 24th element in the DataFrame. `iloc[0]` will return the 1st element at the 0th position. `loc[0]` *may* yield the same result if the index column is not shuffled. "
   ]
  },
  {
   "cell_type": "code",
   "execution_count": null,
   "id": "887546a2",
   "metadata": {},
   "outputs": [],
   "source": [
    "career = playercareerstats.PlayerCareerStats(player_id=player_id)\n",
    "career_df = career.get_data_frames()[0]\n",
    "career_df.head()"
   ]
  },
  {
   "cell_type": "code",
   "execution_count": null,
   "id": "49841b9c",
   "metadata": {},
   "outputs": [],
   "source": [
    "def season_id_to_season_end(val):\n",
    "    season_start, season_end = val.split(\"-\")\n",
    "    if f\"{season_start}\".startswith(\"1\"):\n",
    "        season_end = f\"19{season_end}\"\n",
    "    else:\n",
    "        season_end = f\"20{season_end}\"\n",
    "    return season_end"
   ]
  },
  {
   "cell_type": "code",
   "execution_count": null,
   "id": "1342c025",
   "metadata": {},
   "outputs": [],
   "source": [
    "career_df['YEAR_START'] = career_df['SEASON_ID'].apply(lambda x: x.split(\"-\")[0])\n",
    "career_df['YEAR_END'] = career_df['SEASON_ID'].apply(season_id_to_season_end)"
   ]
  },
  {
   "cell_type": "code",
   "execution_count": null,
   "id": "8c0a6c4b",
   "metadata": {},
   "outputs": [],
   "source": [
    "career_df.head()"
   ]
  },
  {
   "cell_type": "code",
   "execution_count": null,
   "id": "e3e8a5a9",
   "metadata": {},
   "outputs": [],
   "source": [
    "year_start = career_df['YEAR_START'].min()\n",
    "year_end = career_df['YEAR_END'].max()\n",
    "year_start, year_end"
   ]
  },
  {
   "cell_type": "code",
   "execution_count": null,
   "id": "10884871",
   "metadata": {},
   "outputs": [],
   "source": [
    "key_stats = ['GP',\n",
    " 'GS',\n",
    " 'MIN',\n",
    " 'FGM',\n",
    " 'FGA',\n",
    " 'FG_PCT',\n",
    " 'FG3M',\n",
    " 'FG3A',\n",
    " 'FG3_PCT',\n",
    " 'FTM',\n",
    " 'FTA',\n",
    " 'FT_PCT',\n",
    " 'OREB',\n",
    " 'DREB',\n",
    " 'REB',\n",
    " 'AST',\n",
    " 'STL',\n",
    " 'BLK',\n",
    " 'TOV',\n",
    " 'PF',\n",
    " 'PTS']\n",
    "    \n",
    "key_stats_labels = [\n",
    "    \"Games Played\",\n",
    "    \"Games Started\",\n",
    "    \"Minutes\",\n",
    "    \"Field Goals Made\",\n",
    "    \"Field Goals Attempted\",\n",
    "    \"Field Goal Percentage\",\n",
    "    \"3-point Field Goals Made\",\n",
    "    \"3-point Field Goals Made Attempted\",\n",
    "    \"3-point Field Goal Percentage\",\n",
    "    'Free Throws Made',\n",
    "    'Free Throws Attempted',\n",
    "    'Free Throw Percentage',\n",
    "    'Offensive Rebouns',\n",
    "    'Defensive Rebouns',\n",
    "    'Rebouns',\n",
    "    'Assists',\n",
    "    'Steals',\n",
    "    'Blocks',\n",
    "    'Turnovers',\n",
    "    'Personal Fouls',\n",
    "    'Points'\n",
    "]\n",
    "   \n",
    "key_stats_mapping = dict(zip(key_stats, key_stats_labels))\n",
    "stats_without_perc = [x for x in key_stats if not \"pct\" in x.lower()]\n",
    "stats_with_perc = [x for x in key_stats if \"pct\" in x.lower()]"
   ]
  },
  {
   "cell_type": "code",
   "execution_count": null,
   "id": "cbd694ec",
   "metadata": {},
   "outputs": [],
   "source": [
    "career_df"
   ]
  },
  {
   "cell_type": "code",
   "execution_count": null,
   "id": "bb1e311c",
   "metadata": {},
   "outputs": [],
   "source": [
    "career_stats_columns = stats_without_perc + [\"SEASON_ID\"]\n",
    "career_stats = career_df.copy()[career_stats_columns]\n",
    "career_stats.head()"
   ]
  },
  {
   "cell_type": "code",
   "execution_count": null,
   "id": "69e70a1b",
   "metadata": {},
   "outputs": [],
   "source": [
    "# career_stats = career_stats.astype(int)\n",
    "career_stats.set_index(\"SEASON_ID\", inplace=True, drop=True)\n",
    "totals_df = career_stats.rename(columns=key_stats_mapping)\n",
    "totals = totals_df.sum()"
   ]
  },
  {
   "cell_type": "code",
   "execution_count": null,
   "id": "0c8cf184",
   "metadata": {},
   "outputs": [],
   "source": [
    "totals_df"
   ]
  },
  {
   "cell_type": "code",
   "execution_count": null,
   "id": "849b1797",
   "metadata": {},
   "outputs": [],
   "source": [
    "career_stats_perc = career_df.copy()[stats_with_perc]\n",
    "averages_df = career_stats_perc.rename(columns=key_stats_mapping)\n",
    "averages = averages_df.mean()"
   ]
  },
  {
   "cell_type": "code",
   "execution_count": null,
   "id": "550cfc04",
   "metadata": {},
   "outputs": [],
   "source": [
    "totals"
   ]
  },
  {
   "cell_type": "code",
   "execution_count": null,
   "id": "3111002f",
   "metadata": {},
   "outputs": [],
   "source": [
    "averages"
   ]
  },
  {
   "cell_type": "code",
   "execution_count": null,
   "id": "16bf9466",
   "metadata": {},
   "outputs": [],
   "source": []
  },
  {
   "cell_type": "code",
   "execution_count": null,
   "id": "794a21fb",
   "metadata": {},
   "outputs": [],
   "source": [
    "earnings = salary_df.copy()[salary_df['PLAYER'] == name][['SALARY', 'ADJ_SALARY', 'YEAR_START']]\n",
    "earnings.set_index(\"YEAR_START\", inplace=True, drop=True)\n",
    "earnings.tail(n=15)"
   ]
  },
  {
   "cell_type": "code",
   "execution_count": null,
   "id": "4ec4bdfd",
   "metadata": {},
   "outputs": [],
   "source": [
    "total_earnings = earnings.sum().apply(utils.float_to_dollars)\n",
    "total_earnings"
   ]
  },
  {
   "cell_type": "code",
   "execution_count": null,
   "id": "8ad188d4",
   "metadata": {},
   "outputs": [],
   "source": [
    "name"
   ]
  },
  {
   "cell_type": "code",
   "execution_count": null,
   "id": "d74c9382",
   "metadata": {},
   "outputs": [],
   "source": [
    "total_games = career_stats.GP.sum()\n",
    "total_games"
   ]
  },
  {
   "cell_type": "code",
   "execution_count": null,
   "id": "9f255d71",
   "metadata": {},
   "outputs": [],
   "source": [
    "earnings_per_game = earnings['SALARY'].sum() / total_games\n",
    "utils.float_to_dollars(earnings_per_game)"
   ]
  },
  {
   "cell_type": "code",
   "execution_count": null,
   "id": "757bb983",
   "metadata": {},
   "outputs": [],
   "source": [
    "plot = earnings.plot()"
   ]
  },
  {
   "cell_type": "code",
   "execution_count": null,
   "id": "1d8583e6",
   "metadata": {},
   "outputs": [],
   "source": []
  },
  {
   "cell_type": "markdown",
   "id": "7fea57c7",
   "metadata": {},
   "source": [
    "### Export Player Data"
   ]
  },
  {
   "cell_type": "code",
   "execution_count": null,
   "id": "218616fd",
   "metadata": {},
   "outputs": [],
   "source": [
    "PLAYER_DIR = SAMPLE_PLAYERS_DIR / f\"{name}\"\n",
    "PLAYER_DIR.mkdir(exist_ok=True, parents=True)"
   ]
  },
  {
   "cell_type": "code",
   "execution_count": null,
   "id": "3b2d2aea",
   "metadata": {},
   "outputs": [],
   "source": [
    "# Eearnings Plot\n",
    "figure = plot.figure\n",
    "figure.savefig(PLAYER_DIR / f\"salary_over_time.png\")"
   ]
  },
  {
   "cell_type": "code",
   "execution_count": null,
   "id": "42d5c8db",
   "metadata": {},
   "outputs": [],
   "source": [
    "stats_output = PLAYER_DIR / \"stats.xlsx\""
   ]
  },
  {
   "cell_type": "code",
   "execution_count": null,
   "id": "91cde06a",
   "metadata": {},
   "outputs": [],
   "source": [
    "totals_df"
   ]
  },
  {
   "cell_type": "code",
   "execution_count": null,
   "id": "784a63ba",
   "metadata": {},
   "outputs": [],
   "source": [
    "with pd.ExcelWriter(stats_output) as writer:\n",
    "    totals_df.to_excel(writer, sheet_name='Career Stats')\n",
    "    totals.to_excel(writer, sheet_name='Career Totals')\n",
    "    averages.to_excel(writer, sheet_name='Career Averages')\n",
    "    earnings.to_excel(writer, sheet_name='Yearly Earnings')\n",
    "    total_earnings.to_excel(writer, sheet_name='Total Earnings')"
   ]
  },
  {
   "cell_type": "code",
   "execution_count": null,
   "id": "09a59565",
   "metadata": {},
   "outputs": [],
   "source": [
    "name"
   ]
  },
  {
   "cell_type": "code",
   "execution_count": null,
   "id": "aea7e10a",
   "metadata": {},
   "outputs": [],
   "source": [
    "import requests"
   ]
  },
  {
   "cell_type": "code",
   "execution_count": null,
   "id": "c358192a",
   "metadata": {},
   "outputs": [],
   "source": [
    "import requests\n",
    "\n",
    "url = \"https://stats.nba.com/stats/playerindex?College=&Country=&DraftPick=&DraftRound=&DraftYear=&Height=&Historical=1&LeagueID=00&Season=2021-22&SeasonType=Regular%20Season&TeamID=0\"\n",
    "url = \"https://stats.nba.com/stats/playercareerstats?LeagueID=&PerMode=Totals&PlayerID=2544\"\n",
    "\n",
    "r = requests.get(url, stream=True)\n",
    "r.json()"
   ]
  },
  {
   "cell_type": "code",
   "execution_count": null,
   "id": "2c89cf45",
   "metadata": {},
   "outputs": [],
   "source": []
  }
 ],
 "metadata": {
  "kernelspec": {
   "display_name": "Python 3 (ipykernel)",
   "language": "python",
   "name": "python3"
  },
  "language_info": {
   "codemirror_mode": {
    "name": "ipython",
    "version": 3
   },
   "file_extension": ".py",
   "mimetype": "text/x-python",
   "name": "python",
   "nbconvert_exporter": "python",
   "pygments_lexer": "ipython3",
   "version": "3.9.7"
  }
 },
 "nbformat": 4,
 "nbformat_minor": 5
}
