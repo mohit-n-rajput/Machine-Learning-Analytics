{
 "cells": [
  {
   "cell_type": "markdown",
   "metadata": {
    "cell_id": "00000-15d3f3d1-7d9d-48b0-9022-0136024f5fa7",
    "deepnote_cell_type": "code",
    "tags": []
   },
   "source": [
    "# 1 - Pandas & Datasets\n",
    "\n",
    "Pandas helps us manage datasets and very often using flat files (eg. `csv`, `xlsx`, `tsv`, etc). In this one, we're going to create our first dataset with random data."
   ]
  },
  {
   "cell_type": "markdown",
   "metadata": {},
   "source": [
    "### Create Random Data\n",
    "Below is a simple Python function to generate random data with no external dependencies. "
   ]
  },
  {
   "cell_type": "code",
   "execution_count": null,
   "metadata": {},
   "outputs": [],
   "source": [
    "import random"
   ]
  },
  {
   "cell_type": "code",
   "execution_count": null,
   "metadata": {},
   "outputs": [],
   "source": [
    "items = []\n",
    "\n",
    "random_number = random.randint(0, 50_000)\n",
    "\n",
    "def float_to_dollars(value):\n",
    "    # in the future, this will be stored in\n",
    "    # utils.py in the courses/ directory\n",
    "    return  f\"${value:,.2f}\" \n",
    "\n",
    "\n",
    "for x in range(0, random_number):\n",
    "    dollars = random.randint(30_000, 50_000_000)\n",
    "    data = {\n",
    "        \"Player Name\": f\"Player-{x}\",\n",
    "        \"Player Salary\": float_to_dollars(dollars)\n",
    "    }\n",
    "    items.append(data)"
   ]
  },
  {
   "cell_type": "markdown",
   "metadata": {},
   "source": [
    "There's a few questions I want to ask about this data:\n",
    "- How do we save this data? How do we load saved data?\n",
    "- How do we clean this data?\n",
    "- How do we analyze this data?\n",
    "\n",
    "The answer, of course, is Pandas. So let's see why."
   ]
  },
  {
   "cell_type": "markdown",
   "metadata": {},
   "source": [
    "### Initialize a DataFrame\n",
    "A table of data in Pandas is called a DataFrame. At it's core, a Dataframe is just rows and columns. There are many ways to initialize it. Let's use the data from above to start our first one:"
   ]
  },
  {
   "cell_type": "code",
   "execution_count": null,
   "metadata": {},
   "outputs": [],
   "source": [
    "import pandas as pd\n",
    "\n",
    "df = pd.DataFrame(items)"
   ]
  },
  {
   "cell_type": "markdown",
   "metadata": {},
   "source": [
    "Pandas uses a common [numpy](https://numpy.org/) convention when importing:\n",
    "```python\n",
    "import pandas as pd\n",
    "```\n",
    "So in Python projects that use Pandas, you will typically see this import somewhere. You usually won't do `import pandas` or `from pandas import DataFrame`. As with most things in software, there's nothing technically stopping you from doing that; it's just not the common practice.\n",
    "\n",
    "The variable `df` is very often used for instances of `DataFrame`.\n",
    "\n",
    "Since a `DataFrame` is a table with columns and rows, you can easily initialize it with a list of data. \n",
    "\n",
    "Let's take a look at this data:"
   ]
  },
  {
   "cell_type": "code",
   "execution_count": null,
   "metadata": {},
   "outputs": [],
   "source": [
    "df.head()"
   ]
  },
  {
   "cell_type": "markdown",
   "metadata": {},
   "source": [
    "Tables in Pandas can be massive so we use `df.head()` to get a glimpse of the first 5 rows. Use `df.head(n=20)` to change this value. You can also use `df.tail(n=5)` to see the end of this table."
   ]
  },
  {
   "cell_type": "markdown",
   "metadata": {},
   "source": [
    "### Exporting a DataFrame (Writing)\n",
    "There are many ways to save DataFrames. You can save to:\n",
    "\n",
    "- CSV (Comma Separated Values)\n",
    "- TSV (Tab Separated Values)\n",
    "- Excel (`xlsx`)\n",
    "- JSON (JavaScript Object Notion)\n",
    "- HDF (HDF5 files)\n",
    "- HTML (reading/writing HTML tables `<table>`)\n",
    "- Pickle\n",
    "- SQL\n",
    "- And much [more](https://pandas.pydata.org/docs/reference/io.html)\n",
    "\n",
    "Throughout this course we'll use a mixture of storage options but mostly using `csv` files as they are lightweight and easy to use in many situations. \n",
    "\n",
    "So how do we save this?"
   ]
  },
  {
   "cell_type": "code",
   "execution_count": null,
   "metadata": {},
   "outputs": [],
   "source": [
    "df.to_csv(\"example.csv\", index=False)"
   ]
  },
  {
   "cell_type": "markdown",
   "metadata": {},
   "source": [
    "Here are a few other ways to export:\n",
    "\n",
    "\n",
    "```python\n",
    "#TSV\n",
    "df.to_csv('example.tsv', sep='\\t', index=False)\n",
    "\n",
    "#Excel\n",
    "df.to_excel('example.xlsx', sheet_name='example', index=False)\n",
    "\n",
    "#JSON\n",
    "df.to_json('example.json', index=False)\n",
    "\n",
    "#HDF\n",
    "df.to_hdf('example.h5', key='example', index=False)\n",
    "\n",
    "#HTML: \n",
    "\n",
    "df.to_html('example.html', index=False)\n",
    "\n",
    "#Pickle\n",
    "df.to_pickle('example.pkl', index=False)\n",
    "\n",
    "\n",
    "#SQL\n",
    "from sqlalchemy import create_engine\n",
    "engine = create_engine('sqlite://', echo=False)\n",
    "df.to_sql('example_table', con=engine, index=True)\n",
    "```\n",
    "\n",
    "Now that we have saved our `example.csv` file, how do we load it in? That's just as simple, and it's usually a `read_<filetype>` directly in Pandas.\n",
    "\n",
    "> A quick note. There are many reasons these different file types exist. One of them, especially in dealing with `csv` files, has to do with date type. More on storing data types later."
   ]
  },
  {
   "cell_type": "markdown",
   "metadata": {},
   "source": [
    "### Importing Data (Reading)\n",
    "\n",
    "Importing data is just as easy as exporting data but instead of using a DataFrame class, we use built in methods for reading. First, here are examples:\n",
    "\n",
    "```python\n",
    "#CSV\n",
    "df = pd.read_csv('example.csv')\n",
    "\n",
    "#TSV\n",
    "df = pd.read_csv('example.tsv', sep='\\t')\n",
    "\n",
    "#Excel\n",
    "df = pd.read_excel('example.xlsx', sheet_name='example')\n",
    "\n",
    "#JSON\n",
    "df = pd.read_json('example.json')\n",
    "\n",
    "#HDF\n",
    "df = pd.read_hdf('example.h5', key='example')\n",
    "\n",
    "#HTML\n",
    "df = pd.read_html('example.html')\n",
    "\n",
    "#Pickle\n",
    "df = pd.read_pickle('example.pkl')\n",
    "\n",
    "#SQL\n",
    "from sqlalchemy import create_engine\n",
    "engine = create_engine('sqlite://')\n",
    "df = pd.read_sql('SELECT * from example_table', con=engine)\n",
    "```\n"
   ]
  },
  {
   "cell_type": "code",
   "execution_count": null,
   "metadata": {},
   "outputs": [],
   "source": [
    "new_df = pd.read_csv('example.csv')\n",
    "new_df.head()"
   ]
  },
  {
   "cell_type": "markdown",
   "metadata": {},
   "source": [
    "Now that we can export and import data, how do we clean it up? "
   ]
  },
  {
   "cell_type": "code",
   "execution_count": null,
   "metadata": {},
   "outputs": [],
   "source": [
    "# Export to samples dir\n",
    "# df.to_csv(\"samples/1.csv\", index=False)"
   ]
  }
 ],
 "metadata": {
  "deepnote": {
   "is_reactive": false
  },
  "deepnote_execution_queue": [],
  "deepnote_notebook_id": "e609e7b1-ff5b-43c7-8bff-b115fd3b7749",
  "kernelspec": {
   "display_name": "Python 3 (ipykernel)",
   "language": "python",
   "name": "python3"
  },
  "language_info": {
   "codemirror_mode": {
    "name": "ipython",
    "version": 3
   },
   "file_extension": ".py",
   "mimetype": "text/x-python",
   "name": "python",
   "nbconvert_exporter": "python",
   "pygments_lexer": "ipython3",
   "version": "3.9.7"
  }
 },
 "nbformat": 4,
 "nbformat_minor": 2
}
