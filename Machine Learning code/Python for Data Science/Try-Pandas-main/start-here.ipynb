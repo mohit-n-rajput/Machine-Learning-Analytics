{
 "cells": [
  {
   "cell_type": "markdown",
   "metadata": {
    "cell_id": "00001-691e21a4-843f-476d-8cbb-9aa691d1d0d8",
    "deepnote_cell_type": "markdown",
    "tags": []
   },
   "source": [
    "# Welcome\n",
    "\n",
    "This is an interactive notebook. It allows us to write & run code, include Markdown-based instructions, and create visualizations.\n",
    "\n",
    "Assuming you have [launched this code on Deepnote](https://deepnote.com/launch?url=https://github.com/codingforentrepreneurs/Try-Pandas), click `Run Notebook` above.\n",
    "\n",
    "What you'll find in this project is a lot of notebooks. Each notebook should work in isolation so you can learn Pandas.\n",
    "\n",
    "Below is a very basic example of how you can both write code and allow anyone to collaborate with you. "
   ]
  },
  {
   "cell_type": "code",
   "execution_count": null,
   "metadata": {
    "cell_id": "00000-4fa6d049-fec9-4534-a889-f8f1d2535af4",
    "deepnote_cell_type": "code",
    "deepnote_to_be_reexecuted": false,
    "execution_millis": 6838,
    "execution_start": 1633809511037,
    "output_cleared": false,
    "source_hash": "bcce9116",
    "tags": []
   },
   "outputs": [],
   "source": [
    "name = input(\"Type your name then press enter:\")\n",
    "print(f\"Nice to meet you {name}. Are you ready to get started?\")\n",
    "\n",
    "while True:\n",
    "    number = input(\"Type a number then press enter:\")\n",
    "    if not number.isdigit():\n",
    "        print(\"Please enter a number\")\n",
    "        continue\n",
    "    number = int(number)\n",
    "    break\n",
    "\n",
    "print(f\"I enjoy {number} as well.\")\n",
    "\n",
    "import pandas as pd\n",
    "import random\n",
    "import datetime\n",
    "\n",
    "random_number = random.randint(0, number)\n",
    "random_data = [{\"number\": x * random_number, \"time\": datetime.datetime.now(), \"added_by\": name} for x in  range(0, number)]\n",
    "\n",
    "df = pd.DataFrame(random_data)"
   ]
  },
  {
   "cell_type": "markdown",
   "metadata": {
    "cell_id": "00002-ce4b4c81-ddce-49be-9e43-742db288db06",
    "deepnote_cell_type": "markdown",
    "tags": []
   },
   "source": [
    "From your number, we have generated a random Pandas spreadsheet although it's not called a spreasheet, it's called a DataFrame. Let's take a look at the top 10 rows (if your number was > 10) in it:"
   ]
  },
  {
   "cell_type": "code",
   "execution_count": null,
   "metadata": {
    "cell_id": "00004-82f5d27a-b832-4133-b493-2fb4857137da",
    "deepnote_cell_type": "code",
    "deepnote_to_be_reexecuted": false,
    "execution_millis": 23,
    "execution_start": 1633809520831,
    "output_cleared": false,
    "source_hash": "990bc731",
    "tags": []
   },
   "outputs": [],
   "source": [
    "df.head(n=10)"
   ]
  },
  {
   "cell_type": "markdown",
   "metadata": {
    "cell_id": "00004-49f828e9-9888-4d85-b1e0-d85d40201501",
    "deepnote_cell_type": "markdown",
    "tags": []
   },
   "source": [
    "Above is an example of how this course will work. There are videos associated to each lesson but the goal is to allow you to run the code anytime to dive deep into what is going on.\n",
    "\n",
    "Are you ready to begin? Open `Try-Pandas/Courses/1 - Pandas & Datasets.ipynb` to start the course!"
   ]
  }
 ],
 "metadata": {
  "deepnote": {
   "is_reactive": false
  },
  "deepnote_execution_queue": [],
  "deepnote_notebook_id": "c9ce9944-34a5-4f65-b253-4c8d164ece75",
  "kernelspec": {
   "display_name": "Python 3 (ipykernel)",
   "language": "python",
   "name": "python3"
  },
  "language_info": {
   "codemirror_mode": {
    "name": "ipython",
    "version": 3
   },
   "file_extension": ".py",
   "mimetype": "text/x-python",
   "name": "python",
   "nbconvert_exporter": "python",
   "pygments_lexer": "ipython3",
   "version": "3.9.7"
  }
 },
 "nbformat": 4,
 "nbformat_minor": 2
}
