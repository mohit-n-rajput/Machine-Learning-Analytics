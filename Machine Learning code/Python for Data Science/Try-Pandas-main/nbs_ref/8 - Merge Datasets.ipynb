{
 "cells": [
  {
   "cell_type": "code",
   "execution_count": null,
   "metadata": {
    "cell_id": "00000-b6e94cba-c4cd-42da-8208-cfa28665606a",
    "deepnote_cell_type": "code",
    "deepnote_to_be_reexecuted": false,
    "execution_millis": 8,
    "execution_start": 1634678578677,
    "source_hash": "59e619dd",
    "tags": []
   },
   "outputs": [],
   "source": [
    "import datetime\n",
    "import pathlib\n",
    "import pandas as pd\n",
    "import utils\n",
    "\n",
    "BASE_DIR = pathlib.Path().resolve().parent\n",
    "COURSE_DIR = BASE_DIR / \"course\"\n",
    "DATASET_DIR = COURSE_DIR / \"datasets\"\n",
    "SAMPLES_DIR = COURSE_DIR / \"samples\"\n",
    "INPUT_PATH = SAMPLES_DIR / '4-player-salaries-cleaned.csv'\n",
    "INFLATION_DATA_INPUT_PATH = DATASET_DIR  / 'inflation-rate.csv' # appendix b"
   ]
  },
  {
   "cell_type": "code",
   "execution_count": null,
   "metadata": {
    "cell_id": "00001-1c6dfc81-739b-46f9-b4eb-9b196fd0ea2e",
    "deepnote_cell_type": "code",
    "deepnote_to_be_reexecuted": false,
    "execution_millis": 30,
    "execution_start": 1634676577391,
    "source_hash": "1249c42",
    "tags": []
   },
   "outputs": [],
   "source": [
    "df = pd.read_csv(INPUT_PATH)\n",
    "inflation_df = pd.read_csv(INFLATION_DATA_INPUT_PATH)"
   ]
  },
  {
   "cell_type": "code",
   "execution_count": null,
   "metadata": {
    "cell_id": "00002-d5211440-03f4-45a1-9fe1-e51e60032257",
    "deepnote_cell_type": "code",
    "deepnote_to_be_reexecuted": false,
    "execution_millis": 3,
    "execution_start": 1634676577495,
    "source_hash": "1d1d0047",
    "tags": []
   },
   "outputs": [],
   "source": [
    "inflation_df.head()"
   ]
  },
  {
   "cell_type": "code",
   "execution_count": null,
   "metadata": {
    "cell_id": "00003-7be75291-9b75-4f89-8575-395e572cf507",
    "deepnote_cell_type": "code",
    "deepnote_to_be_reexecuted": false,
    "execution_millis": 21,
    "execution_start": 1634676577496,
    "source_hash": "c085b6ba",
    "tags": []
   },
   "outputs": [],
   "source": [
    "df.head()"
   ]
  },
  {
   "cell_type": "code",
   "execution_count": null,
   "metadata": {
    "cell_id": "00003-bfa3f414-9661-4507-9161-8254062d455b",
    "deepnote_cell_type": "code",
    "deepnote_to_be_reexecuted": false,
    "execution_millis": 2,
    "execution_start": 1634676788998,
    "source_hash": "c65297e4",
    "tags": []
   },
   "outputs": [],
   "source": [
    "og_salary = df.iloc[0]['salary'] # \n",
    "adj_salary = df.iloc[0]['adj_salary']\n",
    "year_start =df.iloc[0]['year_start']\n",
    "year_end =df.iloc[0]['year_end']"
   ]
  },
  {
   "cell_type": "code",
   "execution_count": null,
   "metadata": {
    "cell_id": "00004-0b860d70-f703-4c2b-9a76-ffdbb053e963",
    "deepnote_cell_type": "code",
    "deepnote_to_be_reexecuted": false,
    "execution_millis": 1,
    "execution_start": 1634676683383,
    "source_hash": "87e09398",
    "tags": []
   },
   "outputs": [],
   "source": [
    "inflation_df.set_index(\"date\", inplace=True)"
   ]
  },
  {
   "cell_type": "code",
   "execution_count": null,
   "metadata": {
    "cell_id": "00005-94068da7-b63e-47de-bff3-e11e1650af85",
    "deepnote_cell_type": "code",
    "deepnote_to_be_reexecuted": false,
    "execution_millis": 2,
    "execution_start": 1634676921931,
    "source_hash": "88a8f6df",
    "tags": []
   },
   "outputs": [],
   "source": [
    "multiplier = float(inflation_df[f'{year_start-1}': f'{year_end-1}']['multiplier'])"
   ]
  },
  {
   "cell_type": "code",
   "execution_count": null,
   "metadata": {
    "cell_id": "00006-ab40009d-b5fb-4476-87d2-6ef1d80f7033",
    "deepnote_cell_type": "code",
    "deepnote_to_be_reexecuted": false,
    "execution_millis": 4,
    "execution_start": 1634676923367,
    "source_hash": "8be8d4a1",
    "tags": []
   },
   "outputs": [],
   "source": [
    "(multiplier * og_salary) - adj_salary"
   ]
  },
  {
   "cell_type": "code",
   "execution_count": null,
   "metadata": {
    "cell_id": "00011-073931b9-f5de-42db-8816-1b38ab49b020",
    "deepnote_cell_type": "code",
    "deepnote_to_be_reexecuted": false,
    "execution_millis": 0,
    "execution_start": 1634678420331,
    "source_hash": "7e1a403f",
    "tags": []
   },
   "outputs": [],
   "source": [
    "def cal_adj_salary_2(row):\n",
    "    og_salary = row['salary'] # \n",
    "    adj_salary = row['adj_salary']\n",
    "    year_start =row['year_start']\n",
    "    year_end =row['year_end']\n",
    "    multiplier = float(inflation_df[f'{year_start-1}': f'{year_end-1}']['multiplier'])\n",
    "    row['adj_salary_2'] = (multiplier * og_salary)\n",
    "    return row\n",
    "\n",
    "# df.apply(cal_adj_salary_2, axis=1)"
   ]
  },
  {
   "cell_type": "code",
   "execution_count": null,
   "metadata": {
    "cell_id": "00009-27db00c0-6f60-45de-8e91-b5858052beb4",
    "deepnote_cell_type": "code",
    "deepnote_to_be_reexecuted": false,
    "execution_millis": 3,
    "execution_start": 1634678445812,
    "source_hash": "65afa563",
    "tags": []
   },
   "outputs": [],
   "source": [
    "inflation_df.reset_index(inplace=True, drop=False) "
   ]
  },
  {
   "cell_type": "code",
   "execution_count": null,
   "metadata": {
    "cell_id": "00010-ff3f5c94-531f-4293-8ab8-c06ffc0fe23d",
    "deepnote_cell_type": "code",
    "deepnote_to_be_reexecuted": false,
    "execution_millis": 5,
    "execution_start": 1634678455068,
    "source_hash": "1d36096",
    "tags": []
   },
   "outputs": [],
   "source": [
    "inflation_df.columns\n"
   ]
  },
  {
   "cell_type": "code",
   "execution_count": null,
   "metadata": {
    "cell_id": "00011-bf991f67-55b0-4e01-99e5-a97d51e63c13",
    "deepnote_cell_type": "code",
    "deepnote_to_be_reexecuted": false,
    "execution_millis": 3,
    "execution_start": 1634678503692,
    "source_hash": "e7234db2",
    "tags": []
   },
   "outputs": [],
   "source": [
    "df.merge(inflation_df, left_on='year_start', right_on='date')"
   ]
  },
  {
   "cell_type": "code",
   "execution_count": null,
   "metadata": {
    "cell_id": "00012-948e47fa-6cd4-4576-ad0c-305e8261329d",
    "deepnote_cell_type": "code",
    "deepnote_to_be_reexecuted": false,
    "execution_millis": 2,
    "execution_start": 1634678672675,
    "source_hash": "ed6039a1",
    "tags": []
   },
   "outputs": [],
   "source": [
    "df['date'].dtype"
   ]
  },
  {
   "cell_type": "code",
   "execution_count": null,
   "metadata": {
    "cell_id": "00013-6182c67d-299b-4087-bdf1-cd3b826d2841",
    "deepnote_cell_type": "code",
    "deepnote_to_be_reexecuted": false,
    "execution_millis": 6,
    "execution_start": 1634678666293,
    "source_hash": "f473fc50",
    "tags": []
   },
   "outputs": [],
   "source": [
    "inflation_df['date'].dtype"
   ]
  },
  {
   "cell_type": "code",
   "execution_count": null,
   "metadata": {
    "cell_id": "00014-d4d9e9bc-e347-4f98-8a68-e0313dc428da",
    "deepnote_cell_type": "code",
    "deepnote_to_be_reexecuted": false,
    "execution_millis": 253,
    "execution_start": 1634678659184,
    "source_hash": "b1530698",
    "tags": []
   },
   "outputs": [],
   "source": [
    "df['date'] = df['year_start'].apply(lambda x: datetime.datetime.strptime(f\"{x}-12-31\", \"%Y-%m-%d\"))\n",
    "inflation_df['date'] = inflation_df['date'].apply(lambda x: datetime.datetime.strptime(f\"{x}\", \"%Y-%m-%d\"))\n"
   ]
  },
  {
   "cell_type": "code",
   "execution_count": null,
   "metadata": {
    "cell_id": "00015-1d51e6da-d2f4-469e-812b-46d2df48b9c3",
    "deepnote_cell_type": "code",
    "deepnote_to_be_reexecuted": false,
    "execution_millis": 1,
    "execution_start": 1634678723983,
    "source_hash": "24afa461",
    "tags": []
   },
   "outputs": [],
   "source": [
    "merged_df = df.merge(inflation_df, left_on='date', right_on='date')"
   ]
  },
  {
   "cell_type": "code",
   "execution_count": null,
   "metadata": {
    "cell_id": "00016-265717d2-93cb-49a1-92b4-c7a8ea0957e8",
    "deepnote_cell_type": "code",
    "deepnote_to_be_reexecuted": false,
    "execution_millis": 17,
    "execution_start": 1634678732032,
    "source_hash": "89beb45",
    "tags": []
   },
   "outputs": [],
   "source": [
    "merged_df.head()"
   ]
  },
  {
   "cell_type": "code",
   "execution_count": null,
   "metadata": {
    "cell_id": "00017-46d049c9-c2fe-46f6-9080-3307ab2c0c93",
    "deepnote_cell_type": "code",
    "deepnote_to_be_reexecuted": false,
    "execution_millis": 370,
    "execution_start": 1634678798480,
    "source_hash": "2889b9fe",
    "tags": []
   },
   "outputs": [],
   "source": [
    "merged_df['adj_salary_audit'] = merged_df['salary'] * merged_df['multiplier']"
   ]
  },
  {
   "cell_type": "code",
   "execution_count": null,
   "metadata": {
    "cell_id": "00018-6de37f92-4158-4bbe-a84e-2ff627983cc7",
    "deepnote_cell_type": "code",
    "deepnote_to_be_reexecuted": false,
    "execution_millis": 50,
    "execution_start": 1634678804259,
    "source_hash": "89beb45",
    "tags": []
   },
   "outputs": [],
   "source": [
    "merged_df.head()"
   ]
  },
  {
   "cell_type": "code",
   "execution_count": null,
   "metadata": {
    "cell_id": "00019-e18192c1-603c-45ee-99f2-e66dfb71c753",
    "deepnote_cell_type": "code",
    "deepnote_to_be_reexecuted": false,
    "execution_millis": 1,
    "execution_start": 1634678934679,
    "source_hash": "2c2e27e2",
    "tags": []
   },
   "outputs": [],
   "source": [
    "merged_df['delta'] = merged_df['adj_salary'] - merged_df['adj_salary_audit']"
   ]
  },
  {
   "cell_type": "code",
   "execution_count": null,
   "metadata": {
    "cell_id": "00019-6cecd6cc-e8c1-45be-8855-347572f58515",
    "deepnote_cell_type": "code",
    "deepnote_to_be_reexecuted": false,
    "execution_millis": 2,
    "execution_start": 1634678946003,
    "source_hash": "2019aaf6",
    "tags": []
   },
   "outputs": [],
   "source": [
    "merged_df['delta'].sum()"
   ]
  },
  {
   "cell_type": "code",
   "execution_count": null,
   "metadata": {
    "cell_id": "00021-acc29beb-a865-42ae-beaf-bbdc07225e6e",
    "deepnote_cell_type": "code",
    "deepnote_to_be_reexecuted": false,
    "execution_millis": 8,
    "execution_start": 1634678984535,
    "source_hash": "d377b739",
    "tags": []
   },
   "outputs": [],
   "source": [
    "f\"{merged_df['adj_salary'].sum():,.2f}\""
   ]
  },
  {
   "cell_type": "code",
   "execution_count": null,
   "metadata": {
    "cell_id": "00022-b8840192-32e2-43ab-8809-60796273a018",
    "deepnote_cell_type": "code",
    "deepnote_to_be_reexecuted": false,
    "execution_millis": 9,
    "execution_start": 1634679013094,
    "source_hash": "455f7aa7",
    "tags": []
   },
   "outputs": [],
   "source": [
    "merged_df['adj_salary'].sum() - merged_df['delta'].sum()"
   ]
  },
  {
   "cell_type": "code",
   "execution_count": null,
   "metadata": {
    "cell_id": "00023-1ee187d6-0d07-4bb0-a760-9edfc993963c",
    "deepnote_cell_type": "code",
    "tags": []
   },
   "outputs": [],
   "source": []
  },
  {
   "cell_type": "markdown",
   "metadata": {
    "created_in_deepnote_cell": true,
    "deepnote_cell_type": "markdown",
    "tags": []
   },
   "source": [
    "<a style='text-decoration:none;line-height:16px;display:flex;color:#5B5B62;padding:10px;justify-content:end;' href='https://deepnote.com?utm_source=created-in-deepnote-cell&projectId=07445f6e-2e90-46a0-bcba-e6988a45d7c3' target=\"_blank\">\n",
    "<img alt='Created in deepnote.com' style='display:inline;max-height:16px;margin:0px;margin-right:7.5px;' src='data:image/svg+xml;base64,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' > </img>\n",
    "Created in <span style='font-weight:600;margin-left:4px;'>Deepnote</span></a>"
   ]
  }
 ],
 "metadata": {
  "deepnote": {
   "is_reactive": false
  },
  "deepnote_execution_queue": [],
  "deepnote_notebook_id": "7599b9fd-85af-4ebd-a7ee-55058917791d"
 },
 "nbformat": 4,
 "nbformat_minor": 2
}
