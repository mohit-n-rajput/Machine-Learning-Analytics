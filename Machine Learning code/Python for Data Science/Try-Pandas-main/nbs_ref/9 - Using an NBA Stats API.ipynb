{
 "cells": [
  {
   "cell_type": "markdown",
   "metadata": {
    "cell_id": "00000-cb991b88-6ed2-45ac-9f9e-f0a764026d74",
    "deepnote_cell_type": "markdown",
    "tags": []
   },
   "source": [
    "Let's use the free [balldontlie.io](https://www.balldontlie.io/) API for extracting a new dataset!"
   ]
  },
  {
   "cell_type": "code",
   "execution_count": null,
   "metadata": {
    "cell_id": "00000-3b0814d8-1a58-447d-9b49-aa092239ee41",
    "deepnote_cell_type": "code",
    "deepnote_to_be_reexecuted": false,
    "execution_millis": 88,
    "execution_start": 1634749327463,
    "source_hash": "9af06d13",
    "tags": []
   },
   "outputs": [],
   "source": [
    "import requests\n",
    "import datetime\n",
    "import pathlib\n",
    "import pandas as pd\n",
    "import time\n",
    "import utils\n",
    "\n",
    "BASE_DIR = pathlib.Path().resolve().parent\n",
    "COURSE_DIR = BASE_DIR / \"course\"\n",
    "DATASET_DIR = COURSE_DIR / \"datasets\"\n",
    "SAMPLES_DIR = COURSE_DIR / \"samples\"\n",
    "INPUT_PATH = SAMPLES_DIR / '4-player-salaries-cleaned.csv'\n",
    "salary_df = pd.read_csv(INPUT_PATH)"
   ]
  },
  {
   "cell_type": "code",
   "execution_count": null,
   "metadata": {
    "cell_id": "00002-342871ca-eb44-4928-845c-6dd854374ca5",
    "deepnote_cell_type": "code",
    "deepnote_to_be_reexecuted": false,
    "execution_millis": 0,
    "execution_start": 1634749327600,
    "source_hash": "9811f36f",
    "tags": []
   },
   "outputs": [],
   "source": [
    "players_endpoint = \"https://www.balldontlie.io/api/v1/players?per_page=100&page=0\"\n",
    "stats_endpoint = f'https://www.balldontlie.io/api/v1/stats'"
   ]
  },
  {
   "cell_type": "code",
   "execution_count": null,
   "metadata": {
    "cell_id": "00003-f338b11d-5033-419d-91dc-b49a25aec495",
    "deepnote_cell_type": "code",
    "deepnote_to_be_reexecuted": false,
    "execution_millis": 3760665,
    "execution_start": 1634749327600,
    "source_hash": "4b520d41",
    "tags": []
   },
   "outputs": [],
   "source": [
    "# !curl \"https://www.balldontlie.io/api/v1/players?per_page=100\""
   ]
  },
  {
   "cell_type": "code",
   "execution_count": null,
   "metadata": {
    "cell_id": "00009-740edd60-cad4-4a68-9d27-27303ce274ad",
    "deepnote_cell_type": "code",
    "deepnote_to_be_reexecuted": false,
    "execution_millis": 0,
    "execution_start": 1634749327601,
    "source_hash": "59b00187",
    "tags": []
   },
   "outputs": [],
   "source": [
    "def get_players_dataset(per_page=100):\n",
    "    dataset = []\n",
    "    base_url = \"https://www.balldontlie.io/api/v1/players\"\n",
    "    init_url = f\"{base_url}?per_page={per_page}\"\n",
    "    r = requests.get(init_url)\n",
    "    if not r.status_code in range(200, 299):\n",
    "        return []\n",
    "    json_data = r.json()\n",
    "    meta_data = json_data['meta']\n",
    "    total_pages = int(meta_data.get('total_pages'))\n",
    "    for x in range(0, total_pages + 1):\n",
    "        time.sleep(0.25)\n",
    "        url = f\"{base_url}?per_page={per_page}&page={x}\"\n",
    "        r = requests.get(url)\n",
    "        if not r.status_code in range(200, 299):\n",
    "            print('skipping')\n",
    "            continue\n",
    "        json_data = r.json()\n",
    "        data = json_data['data']\n",
    "        # dataset.append(data)\n",
    "        dataset += data\n",
    "    return dataset"
   ]
  },
  {
   "cell_type": "code",
   "execution_count": null,
   "metadata": {
    "cell_id": "00010-1710a7bc-14d4-420b-bf3e-cc9779f71535",
    "deepnote_cell_type": "code",
    "deepnote_to_be_reexecuted": false,
    "execution_millis": 12194,
    "execution_start": 1634749327643,
    "source_hash": "59be25f8",
    "tags": []
   },
   "outputs": [],
   "source": [
    "players_dataset = get_players_dataset()"
   ]
  },
  {
   "cell_type": "code",
   "execution_count": null,
   "metadata": {
    "cell_id": "00011-f7353f2f-db7c-4ec1-962c-644e35454a5c",
    "deepnote_cell_type": "code",
    "deepnote_to_be_reexecuted": false,
    "execution_millis": 87,
    "execution_start": 1634749577130,
    "source_hash": "27076b9b",
    "tags": []
   },
   "outputs": [],
   "source": [
    "player_df = pd.DataFrame(players_dataset)[['id', 'first_name', 'last_name']]\n",
    "player_df['full_name'] = player_df['first_name'] + \" \" + player_df['last_name']\n",
    "player_df.drop_duplicates(subset=['id'], inplace=True)\n",
    "player_df.head()"
   ]
  },
  {
   "cell_type": "code",
   "execution_count": null,
   "metadata": {
    "cell_id": "00015-46e44e13-d060-4e26-8eec-5f724f6f6832",
    "deepnote_cell_type": "code",
    "deepnote_to_be_reexecuted": false,
    "execution_millis": 7,
    "execution_start": 1634749596218,
    "source_hash": "6e624904",
    "tags": []
   },
   "outputs": [],
   "source": [
    "player_df.shape"
   ]
  },
  {
   "cell_type": "code",
   "execution_count": null,
   "metadata": {
    "cell_id": "00016-29a87eff-a101-4ff3-bdec-85fae9f9e4ba",
    "deepnote_cell_type": "code",
    "deepnote_to_be_reexecuted": false,
    "execution_millis": 0,
    "execution_start": 1634749339938,
    "source_hash": "b623e53d",
    "tags": []
   },
   "outputs": [],
   "source": []
  },
  {
   "cell_type": "code",
   "execution_count": null,
   "metadata": {
    "cell_id": "00017-f79da473-1056-44bc-b9d1-eae843bbc5cf",
    "deepnote_cell_type": "code",
    "deepnote_to_be_reexecuted": false,
    "execution_millis": 2530419,
    "execution_start": 1634749339939,
    "source_hash": "b623e53d",
    "tags": []
   },
   "outputs": [],
   "source": []
  },
  {
   "cell_type": "code",
   "execution_count": null,
   "metadata": {
    "cell_id": "00018-90c65eb6-08a0-48a7-883b-12d8ff089708",
    "deepnote_cell_type": "code",
    "deepnote_to_be_reexecuted": false,
    "execution_millis": 2420384,
    "execution_start": 1634749339984,
    "source_hash": "9a5e2c99",
    "tags": []
   },
   "outputs": [],
   "source": [
    "def get_stats(player_id=1, postseason=False, per_page=100):\n",
    "    dataset = []\n",
    "    postseason_param = \"true\" if postseason else \"false\"\n",
    "    base_url = f\"https://www.balldontlie.io/api/v1/stats?player_ids[]={player_id}&postseason={postseason_param}\"\n",
    "    init_url = f\"{base_url}&per_page={per_page}\"\n",
    "    r = requests.get(init_url)\n",
    "    if not r.status_code in range(200, 299):\n",
    "        return []\n",
    "    json_data = r.json()\n",
    "    meta_data = json_data['meta']\n",
    "    total_pages = int(meta_data.get('total_pages'))\n",
    "    for x in range(0, total_pages + 1):\n",
    "        time.sleep(0.25)\n",
    "        url = f\"{base_url}&per_page={per_page}&page={x}\"\n",
    "        r = requests.get(url)\n",
    "        if not r.status_code in range(200, 299):\n",
    "            print('skipping')\n",
    "            continue\n",
    "        json_data = r.json()\n",
    "        data = json_data['data']\n",
    "        # dataset.append(data)\n",
    "        dataset += data\n",
    "    return dataset"
   ]
  },
  {
   "cell_type": "code",
   "execution_count": null,
   "metadata": {
    "cell_id": "00012-30978274-c083-430f-9461-b91981687a58",
    "deepnote_cell_type": "code",
    "deepnote_to_be_reexecuted": false,
    "execution_millis": 1,
    "execution_start": 1634749501803,
    "source_hash": "fe3ddbb4",
    "tags": []
   },
   "outputs": [],
   "source": [
    "NESTED_STATS_COLS = ['game', 'team', 'player']\n",
    "\n",
    "def unpack_nested_dict(row):\n",
    "    for col in NESTED_STATS_COLS:\n",
    "        col_val = row[col] # row['game']\n",
    "        if isinstance(col_val, dict):\n",
    "            for key, val in col_val.items():\n",
    "                new_col_key = f\"{col}_{key}\"\n",
    "                # game_id\n",
    "                # game_period\n",
    "                # game_status\n",
    "                row[new_col_key] = val\n",
    "    return row\n",
    "\n",
    "def get_second_played(val):\n",
    "    h, m, s = 0,0,0\n",
    "    if val:\n",
    "        time_string = val.split(\":\") # always create a list\n",
    "        if len(time_string) == 2:\n",
    "            m, s = time_string\n",
    "        if len(time_string) == 3:\n",
    "            h, m, s = time_string\n",
    "        if len(time_string) == 1:\n",
    "            m = time_string[0]\n",
    "        if f\"{h}\".isdigit():\n",
    "            h = int(h)\n",
    "        if f\"{m}\".isdigit():\n",
    "            m = int(m)\n",
    "        if f\"{s}\".isdigit():\n",
    "            s = int(s)\n",
    "    return datetime.timedelta(hours=h, minutes=m, seconds=s).total_seconds()\n",
    "\n",
    "def get_stats_df(stats_dataset):\n",
    "    if len(stats_dataset) == 0:\n",
    "        return pd.DataFrame()\n",
    "    df = pd.DataFrame(stats_dataset)\n",
    "    df = df.apply(unpack_nested_dict, axis=1)\n",
    "    df.drop(columns=NESTED_STATS_COLS, inplace=True)\n",
    "    if \"game_date\" in df.columns:\n",
    "        df['date'] = pd.to_datetime(df['game_date'])\n",
    "        df['year'] = df['date'].apply(lambda x: x.year)\n",
    "    if \"min\" in df.columns:\n",
    "        df['seconds'] = df['min'].apply(get_second_played)\n",
    "        df['did_play'] = df['seconds'].apply(lambda x: x > 0)\n",
    "    df.drop_duplicates(subset=['id'], inplace=True)\n",
    "    return df"
   ]
  },
  {
   "cell_type": "code",
   "execution_count": null,
   "metadata": {
    "cell_id": "00012-8825c3ec-c1d8-4867-9b96-e8ecd95dbbe9",
    "deepnote_cell_type": "code",
    "deepnote_to_be_reexecuted": false,
    "execution_millis": 7,
    "execution_start": 1634749372390,
    "source_hash": "5256c07f",
    "tags": []
   },
   "outputs": [],
   "source": [
    "# player_id = player_df.sample(n=1)['id'].item()\n",
    "# player_id"
   ]
  },
  {
   "cell_type": "code",
   "execution_count": null,
   "metadata": {
    "cell_id": "00013-f184159c-3491-447d-b854-5ddbba5940a7",
    "deepnote_cell_type": "code",
    "deepnote_to_be_reexecuted": false,
    "execution_millis": 3,
    "execution_start": 1634749714102,
    "source_hash": "b6aefb90",
    "tags": []
   },
   "outputs": [],
   "source": [
    "name = 'Michael Jordan'\n",
    "player = player_df[player_df[\"full_name\"] == name]\n",
    "player_id = 0\n",
    "\n",
    "if not player.empty:\n",
    "    player_id = player['id'].item()\n",
    "\n",
    "player_id"
   ]
  },
  {
   "cell_type": "code",
   "execution_count": null,
   "metadata": {
    "cell_id": "00011-662f1c28-2461-48bb-b976-6b9852b5cb7f",
    "deepnote_cell_type": "code",
    "deepnote_to_be_reexecuted": false,
    "execution_millis": 8181,
    "execution_start": 1634749722803,
    "source_hash": "a573dd94",
    "tags": []
   },
   "outputs": [],
   "source": [
    "reg_season_stats = get_stats(player_id=player_id, postseason=False)\n",
    "post_season_stats = get_stats(player_id=player_id, postseason=True)"
   ]
  },
  {
   "cell_type": "code",
   "execution_count": null,
   "metadata": {
    "cell_id": "00013-37085edb-190d-4349-90e7-c2f9f2b16c18",
    "deepnote_cell_type": "code",
    "deepnote_to_be_reexecuted": false,
    "execution_millis": 36408,
    "execution_start": 1634749731021,
    "source_hash": "1b7daed3",
    "tags": []
   },
   "outputs": [],
   "source": [
    "reg_season_df = get_stats_df(reg_season_stats)\n",
    "post_season_df = get_stats_df(post_season_stats)"
   ]
  },
  {
   "cell_type": "code",
   "execution_count": null,
   "metadata": {
    "cell_id": "00014-cb51df0a-dc70-4e78-a818-ec97e7404a54",
    "deepnote_cell_type": "code",
    "deepnote_to_be_reexecuted": false,
    "execution_millis": 204,
    "execution_start": 1634749767443,
    "source_hash": "4c028ab8",
    "tags": []
   },
   "outputs": [],
   "source": [
    "reg_season_df.head()"
   ]
  },
  {
   "cell_type": "code",
   "execution_count": null,
   "metadata": {
    "cell_id": "00016-718161f6-0116-4be8-8494-4eb4dea76e80",
    "deepnote_cell_type": "code",
    "deepnote_to_be_reexecuted": false,
    "execution_millis": 10,
    "execution_start": 1634749810520,
    "source_hash": "c5f00695",
    "tags": []
   },
   "outputs": [],
   "source": [
    "post_season_df.shape"
   ]
  },
  {
   "cell_type": "code",
   "execution_count": null,
   "metadata": {
    "cell_id": "00018-681c6d19-666d-4e0c-b4ad-e525d27f260a",
    "deepnote_cell_type": "code",
    "deepnote_to_be_reexecuted": false,
    "execution_millis": 9,
    "execution_start": 1634750145075,
    "source_hash": "cb04ba6c",
    "tags": []
   },
   "outputs": [],
   "source": [
    "avg_pts_per_year = reg_season_df.groupby('year')['pts'].mean()\n",
    "# avg_pts_per_year"
   ]
  },
  {
   "cell_type": "code",
   "execution_count": null,
   "metadata": {
    "cell_id": "00019-290df566-fec7-4b24-a063-4d35d0e2240f",
    "deepnote_cell_type": "code",
    "deepnote_to_be_reexecuted": false,
    "execution_millis": 1,
    "execution_start": 1634750084879,
    "source_hash": "c574989f",
    "tags": []
   },
   "outputs": [],
   "source": [
    "avg_pts_per_year_per_postseason = post_season_df.groupby('year')['pts'].mean()\n",
    "# avg_pts_per_year_per_postseason"
   ]
  },
  {
   "cell_type": "code",
   "execution_count": null,
   "metadata": {
    "cell_id": "00020-fd615d8f-285f-46d2-8537-e175c3e50bf5",
    "deepnote_cell_type": "code",
    "deepnote_to_be_reexecuted": false,
    "execution_millis": 3,
    "execution_start": 1634750134937,
    "source_hash": "b623e53d",
    "tags": []
   },
   "outputs": [],
   "source": [
    "player_salary_df = salary_df.copy()[salary_df['player'] == name][['adj_salary', 'year_start']]\n",
    "player_salary_df.head(n=20)"
   ]
  },
  {
   "cell_type": "code",
   "execution_count": null,
   "metadata": {
    "cell_id": "00021-0139f72a-d42f-4cdc-b9aa-3b5b3b10fba9",
    "deepnote_cell_type": "code",
    "deepnote_to_be_reexecuted": false,
    "execution_millis": 3,
    "execution_start": 1634750199585,
    "source_hash": "b26c02e0",
    "tags": []
   },
   "outputs": [],
   "source": [
    "mean_df = pd.DataFrame(avg_pts_per_year)\n",
    "mean_df.reset_index(drop=False, inplace=True)\n",
    "mean_df.head()"
   ]
  },
  {
   "cell_type": "code",
   "execution_count": null,
   "metadata": {
    "cell_id": "00022-b1d8c3af-6667-440d-a216-86ad40d5265f",
    "deepnote_cell_type": "code",
    "deepnote_to_be_reexecuted": false,
    "execution_millis": 48,
    "execution_start": 1634750305065,
    "source_hash": "b1c02bae",
    "tags": []
   },
   "outputs": [],
   "source": [
    "merged_df = mean_df.merge(player_salary_df, left_on='year', right_on='year_start')\n",
    "merged_df.drop(columns=['year_start'], inplace=True)\n",
    "merged_df['adj_salary_$'] = merged_df['adj_salary'].apply(utils.float_to_dollars)\n",
    "merged_df.head(n=100)"
   ]
  },
  {
   "cell_type": "code",
   "execution_count": null,
   "metadata": {
    "cell_id": "00023-5ddbc582-c278-4080-a907-52110cadf5ea",
    "deepnote_cell_type": "code",
    "tags": []
   },
   "outputs": [],
   "source": []
  },
  {
   "cell_type": "markdown",
   "metadata": {
    "created_in_deepnote_cell": true,
    "deepnote_cell_type": "markdown",
    "tags": []
   },
   "source": [
    "<a style='text-decoration:none;line-height:16px;display:flex;color:#5B5B62;padding:10px;justify-content:end;' href='https://deepnote.com?utm_source=created-in-deepnote-cell&projectId=07445f6e-2e90-46a0-bcba-e6988a45d7c3' target=\"_blank\">\n",
    "<img alt='Created in deepnote.com' style='display:inline;max-height:16px;margin:0px;margin-right:7.5px;' src='data:image/svg+xml;base64,PD94bWwgdmVyc2lvbj0iMS4wIiBlbmNvZGluZz0iVVRGLTgiPz4KPHN2ZyB3aWR0aD0iODBweCIgaGVpZ2h0PSI4MHB4IiB2aWV3Qm94PSIwIDAgODAgODAiIHZlcnNpb249IjEuMSIgeG1sbnM9Imh0dHA6Ly93d3cudzMub3JnLzIwMDAvc3ZnIiB4bWxuczp4bGluaz0iaHR0cDovL3d3dy53My5vcmcvMTk5OS94bGluayI+CiAgICA8IS0tIEdlbmVyYXRvcjogU2tldGNoIDU0LjEgKDc2NDkwKSAtIGh0dHBzOi8vc2tldGNoYXBwLmNvbSAtLT4KICAgIDx0aXRsZT5Hcm91cCAzPC90aXRsZT4KICAgIDxkZXNjPkNyZWF0ZWQgd2l0aCBTa2V0Y2guPC9kZXNjPgogICAgPGcgaWQ9IkxhbmRpbmciIHN0cm9rZT0ibm9uZSIgc3Ryb2tlLXdpZHRoPSIxIiBmaWxsPSJub25lIiBmaWxsLXJ1bGU9ImV2ZW5vZGQiPgogICAgICAgIDxnIGlkPSJBcnRib2FyZCIgdHJhbnNmb3JtPSJ0cmFuc2xhdGUoLTEyMzUuMDAwMDAwLCAtNzkuMDAwMDAwKSI+CiAgICAgICAgICAgIDxnIGlkPSJHcm91cC0zIiB0cmFuc2Zvcm09InRyYW5zbGF0ZSgxMjM1LjAwMDAwMCwgNzkuMDAwMDAwKSI+CiAgICAgICAgICAgICAgICA8cG9seWdvbiBpZD0iUGF0aC0yMCIgZmlsbD0iIzAyNjVCNCIgcG9pbnRzPSIyLjM3NjIzNzYyIDgwIDM4LjA0NzY2NjcgODAgNTcuODIxNzgyMiA3My44MDU3NTkyIDU3LjgyMTc4MjIgMzIuNzU5MjczOSAzOS4xNDAyMjc4IDMxLjY4MzE2ODMiPjwvcG9seWdvbj4KICAgICAgICAgICAgICAgIDxwYXRoIGQ9Ik0zNS4wMDc3MTgsODAgQzQyLjkwNjIwMDcsNzYuNDU0OTM1OCA0Ny41NjQ5MTY3LDcxLjU0MjI2NzEgNDguOTgzODY2LDY1LjI2MTk5MzkgQzUxLjExMjI4OTksNTUuODQxNTg0MiA0MS42NzcxNzk1LDQ5LjIxMjIyODQgMjUuNjIzOTg0Niw0OS4yMTIyMjg0IEMyNS40ODQ5Mjg5LDQ5LjEyNjg0NDggMjkuODI2MTI5Niw0My4yODM4MjQ4IDM4LjY0NzU4NjksMzEuNjgzMTY4MyBMNzIuODcxMjg3MSwzMi41NTQ0MjUgTDY1LjI4MDk3Myw2Ny42NzYzNDIxIEw1MS4xMTIyODk5LDc3LjM3NjE0NCBMMzUuMDA3NzE4LDgwIFoiIGlkPSJQYXRoLTIyIiBmaWxsPSIjMDAyODY4Ij48L3BhdGg+CiAgICAgICAgICAgICAgICA8cGF0aCBkPSJNMCwzNy43MzA0NDA1IEwyNy4xMTQ1MzcsMC4yNTcxMTE0MzYgQzYyLjM3MTUxMjMsLTEuOTkwNzE3MDEgODAsMTAuNTAwMzkyNyA4MCwzNy43MzA0NDA1IEM4MCw2NC45NjA0ODgyIDY0Ljc3NjUwMzgsNzkuMDUwMzQxNCAzNC4zMjk1MTEzLDgwIEM0Ny4wNTUzNDg5LDc3LjU2NzA4MDggNTMuNDE4MjY3Nyw3MC4zMTM2MTAzIDUzLjQxODI2NzcsNTguMjM5NTg4NSBDNTMuNDE4MjY3Nyw0MC4xMjg1NTU3IDM2LjMwMzk1NDQsMzcuNzMwNDQwNSAyNS4yMjc0MTcsMzcuNzMwNDQwNSBDMTcuODQzMDU4NiwzNy43MzA0NDA1IDkuNDMzOTE5NjYsMzcuNzMwNDQwNSAwLDM3LjczMDQ0MDUgWiIgaWQ9IlBhdGgtMTkiIGZpbGw9IiMzNzkzRUYiPjwvcGF0aD4KICAgICAgICAgICAgPC9nPgogICAgICAgIDwvZz4KICAgIDwvZz4KPC9zdmc+' > </img>\n",
    "Created in <span style='font-weight:600;margin-left:4px;'>Deepnote</span></a>"
   ]
  }
 ],
 "metadata": {
  "deepnote": {
   "is_reactive": false
  },
  "deepnote_execution_queue": [],
  "deepnote_notebook_id": "16cecac8-66ad-4d39-8a6c-73c2d96fd581"
 },
 "nbformat": 4,
 "nbformat_minor": 2
}
