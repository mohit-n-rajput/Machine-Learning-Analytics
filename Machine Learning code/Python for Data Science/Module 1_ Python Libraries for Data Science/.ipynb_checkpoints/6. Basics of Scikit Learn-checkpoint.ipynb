{
 "cells": [
  {
   "cell_type": "markdown",
   "metadata": {
    "colab_type": "text",
    "id": "xoJQII7nyhjI"
   },
   "source": [
    "---\n",
    "\n",
    "<center><h1>📍 📍 Basics of Scikit Learn 📍 📍</h1></center>\n",
    "\n",
    "\n",
    "---\n",
    "\n",
    "- It provides simple and efficient tools for pre-processing and predictive modeling\n",
    "\n",
    "\n",
    "\n",
    "![](images/sklearn.png)\n",
    "\n",
    "---\n",
    "\n",
    "\n",
    "***Steps to build a model in scikit-learn.***\n",
    "\n",
    "---\n",
    "\n",
    "1. Import the model\n",
    "2. Prepare the data set\n",
    "3. Separate the independent and target variables.\n",
    "4. Create an object of the model\n",
    "5. Fit the model with the data\n",
    "6. Use the model to predict target."
   ]
  },
  {
   "cell_type": "code",
   "execution_count": 2,
   "metadata": {
    "ExecuteTime": {
     "end_time": "2021-10-10T14:22:09.744300Z",
     "start_time": "2021-10-10T14:21:56.434798Z"
    }
   },
   "outputs": [
    {
     "name": "stdout",
     "output_type": "stream",
     "text": [
      "Collecting sklearn\n",
      "  Downloading sklearn-0.0.tar.gz (1.1 kB)\n",
      "Collecting scikit-learn\n",
      "  Downloading scikit_learn-1.0-cp38-cp38-win_amd64.whl (7.2 MB)\n",
      "Requirement already satisfied: scipy>=1.1.0 in c:\\users\\mnr41\\appdata\\roaming\\python\\python38\\site-packages (from scikit-learn->sklearn) (1.4.1)\n",
      "Requirement already satisfied: numpy>=1.14.6 in c:\\users\\mnr41\\anaconda3\\lib\\site-packages (from scikit-learn->sklearn) (1.19.2)\n",
      "Collecting threadpoolctl>=2.0.0\n",
      "  Downloading threadpoolctl-3.0.0-py3-none-any.whl (14 kB)\n",
      "Requirement already satisfied: joblib>=0.11 in c:\\users\\mnr41\\anaconda3\\lib\\site-packages (from scikit-learn->sklearn) (1.0.1)\n",
      "Building wheels for collected packages: sklearn\n",
      "  Building wheel for sklearn (setup.py): started\n",
      "  Building wheel for sklearn (setup.py): finished with status 'done'\n",
      "  Created wheel for sklearn: filename=sklearn-0.0-py2.py3-none-any.whl size=1317 sha256=bc4f139e79cc3700e2663baae9f435f53fbd5b9c35d7b11e53797d68dfcd4178\n",
      "  Stored in directory: c:\\users\\mnr41\\appdata\\local\\pip\\cache\\wheels\\22\\0b\\40\\fd3f795caaa1fb4c6cb738bc1f56100be1e57da95849bfc897\n",
      "Successfully built sklearn\n",
      "Installing collected packages: threadpoolctl, scikit-learn, sklearn\n",
      "Successfully installed scikit-learn-1.0 sklearn-0.0 threadpoolctl-3.0.0\n"
     ]
    }
   ],
   "source": [
    "!pip3 install sklearn"
   ]
  },
  {
   "cell_type": "code",
   "execution_count": 3,
   "metadata": {
    "ExecuteTime": {
     "end_time": "2021-10-10T14:22:10.269604Z",
     "start_time": "2021-10-10T14:22:09.746304Z"
    },
    "colab": {},
    "colab_type": "code",
    "id": "uwk5CRntyhjL"
   },
   "outputs": [],
   "source": [
    "# import the scikit-learn library\n",
    "import sklearn"
   ]
  },
  {
   "cell_type": "markdown",
   "metadata": {
    "colab_type": "text",
    "id": "fZvQq6QXyhjR"
   },
   "source": [
    "***If you got an error while running the above cell, import it by using the following command.***\n",
    "\n",
    "If you are using anaconda with python3: ***`!pip install scikit-learn`***\n",
    "\n",
    "If you are using jupyter with python3: ***`!pip3 install scikit-learn`***\n",
    "\n",
    "---"
   ]
  },
  {
   "cell_type": "code",
   "execution_count": 4,
   "metadata": {
    "ExecuteTime": {
     "end_time": "2021-10-10T14:22:41.700841Z",
     "start_time": "2021-10-10T14:22:41.678842Z"
    },
    "colab": {},
    "colab_type": "code",
    "id": "Y87SJsx8yhjT",
    "outputId": "b38c6a3f-c44b-45f3-bc6e-350a3497c8ae"
   },
   "outputs": [
    {
     "data": {
      "text/plain": [
       "'1.0'"
      ]
     },
     "execution_count": 4,
     "metadata": {},
     "output_type": "execute_result"
    }
   ],
   "source": [
    "# check the version \n",
    "sklearn.__version__"
   ]
  },
  {
   "cell_type": "markdown",
   "metadata": {
    "colab_type": "text",
    "id": "ELQTIy0Uyhja"
   },
   "source": [
    "- ***We have seen in the pandas notebook, that we have some missing values in out data.***\n",
    "- ***We will impute those missing values using the scikit-learn Imputer.***\n",
    "\n",
    "---"
   ]
  },
  {
   "cell_type": "code",
   "execution_count": 6,
   "metadata": {
    "ExecuteTime": {
     "end_time": "2021-10-10T14:22:52.994463Z",
     "start_time": "2021-10-10T14:22:52.950308Z"
    },
    "colab": {},
    "colab_type": "code",
    "id": "gdNfOlcXyhjd",
    "outputId": "c9db4d7f-ebd5-492a-87d2-5e2245210f51"
   },
   "outputs": [
    {
     "data": {
      "text/plain": [
       "Item_Identifier                 0\n",
       "Item_Weight                  1463\n",
       "Item_Fat_Content                0\n",
       "Item_Visibility                 0\n",
       "Item_Type                       0\n",
       "Item_MRP                        0\n",
       "Outlet_Identifier               0\n",
       "Outlet_Establishment_Year       0\n",
       "Outlet_Size                  2410\n",
       "Outlet_Location_Type            0\n",
       "Outlet_Type                     0\n",
       "Item_Outlet_Sales               0\n",
       "dtype: int64"
      ]
     },
     "execution_count": 6,
     "metadata": {},
     "output_type": "execute_result"
    }
   ],
   "source": [
    "# read the data set and check for thre null values\n",
    "import pandas as pd\n",
    "data = pd.read_csv('Dataset/big_mart_sales.csv')\n",
    "data.isna().sum()"
   ]
  },
  {
   "cell_type": "code",
   "execution_count": 7,
   "metadata": {
    "ExecuteTime": {
     "end_time": "2021-10-10T14:22:58.015987Z",
     "start_time": "2021-10-10T14:22:57.791986Z"
    },
    "colab": {},
    "colab_type": "code",
    "id": "GzPDG1piyhjk"
   },
   "outputs": [],
   "source": [
    "# import the SimpleImputer\n",
    "from sklearn.impute import SimpleImputer"
   ]
  },
  {
   "cell_type": "markdown",
   "metadata": {
    "colab_type": "text",
    "id": "MEmKt_XPyhjp"
   },
   "source": [
    "---\n",
    "\n",
    "- For imputing the missing values, we will use `SimpleImputer`.\n",
    "- First we will create an object of the Imputer and define the strategy.\n",
    "- We will impute the Item_Weight by `mean` value and Outlet_Size by `most_fequent` value.\n",
    "- Fit the objects with the data.\n",
    "- Transform the data\n",
    "\n",
    "---"
   ]
  },
  {
   "cell_type": "code",
   "execution_count": 8,
   "metadata": {
    "ExecuteTime": {
     "end_time": "2021-10-10T14:23:51.494532Z",
     "start_time": "2021-10-10T14:23:51.482507Z"
    },
    "colab": {},
    "colab_type": "code",
    "id": "Z3A-KoFkyhjr"
   },
   "outputs": [],
   "source": [
    "# create the object of the imputer for Item_Weight and Outlet_Size\n",
    "impute_weight = SimpleImputer(strategy= 'mean')\n",
    "impute_size   = SimpleImputer(strategy= 'most_frequent')"
   ]
  },
  {
   "cell_type": "code",
   "execution_count": 9,
   "metadata": {
    "ExecuteTime": {
     "end_time": "2021-10-10T14:23:53.332893Z",
     "start_time": "2021-10-10T14:23:53.314397Z"
    },
    "colab": {},
    "colab_type": "code",
    "id": "7nGOCwtUyhjz"
   },
   "outputs": [],
   "source": [
    "# fit the Item_Weight imputer with the data and transform\n",
    "impute_weight.fit(data[['Item_Weight']])\n",
    "data.Item_Weight = impute_weight.transform(data[['Item_Weight']])"
   ]
  },
  {
   "cell_type": "code",
   "execution_count": 10,
   "metadata": {
    "ExecuteTime": {
     "end_time": "2021-10-10T14:24:00.214732Z",
     "start_time": "2021-10-10T14:24:00.191139Z"
    },
    "colab": {},
    "colab_type": "code",
    "id": "jNuD2XmVyhj4"
   },
   "outputs": [],
   "source": [
    "# fit the Outlet_Size imputer with the data and transform\n",
    "impute_size.fit(data[['Outlet_Size']])\n",
    "data.Outlet_Size = impute_size.transform(data[['Outlet_Size']])"
   ]
  },
  {
   "cell_type": "code",
   "execution_count": 11,
   "metadata": {
    "ExecuteTime": {
     "end_time": "2021-10-10T14:24:01.743710Z",
     "start_time": "2021-10-10T14:24:01.723708Z"
    },
    "colab": {},
    "colab_type": "code",
    "id": "n4C-1F39yhj9",
    "outputId": "1b5890e1-f3d2-418d-a3b3-0be283b81c15"
   },
   "outputs": [
    {
     "data": {
      "text/plain": [
       "Item_Identifier              0\n",
       "Item_Weight                  0\n",
       "Item_Fat_Content             0\n",
       "Item_Visibility              0\n",
       "Item_Type                    0\n",
       "Item_MRP                     0\n",
       "Outlet_Identifier            0\n",
       "Outlet_Establishment_Year    0\n",
       "Outlet_Size                  0\n",
       "Outlet_Location_Type         0\n",
       "Outlet_Type                  0\n",
       "Item_Outlet_Sales            0\n",
       "dtype: int64"
      ]
     },
     "execution_count": 11,
     "metadata": {},
     "output_type": "execute_result"
    }
   ],
   "source": [
    "# check the null values.\n",
    "data.isna().sum()"
   ]
  },
  {
   "cell_type": "markdown",
   "metadata": {
    "colab_type": "text",
    "id": "6gJYHlgsyhkD"
   },
   "source": [
    "- ***Now, after the preprocessing step, we separate the independent and target variable and pass the data to the model object to train the model.***\n",
    "---\n",
    "\n",
    "- ***If we have a problem in which we have to identify the category of an object based on some features. For example whether the given picture is of a cat or a dog. These are `classification problems`.***\n",
    "- ***Or, if we have to identify a continous attribute like predicting sales based on some features. These are `Regression Problems`***\n",
    "\n",
    "---\n",
    "\n",
    "***`SCIKIT-LEARN` has tools which will help you build Regression, Classification models and many others.***\n",
    "\n",
    "---"
   ]
  },
  {
   "cell_type": "code",
   "execution_count": 12,
   "metadata": {
    "ExecuteTime": {
     "end_time": "2021-10-10T14:25:10.878939Z",
     "start_time": "2021-10-10T14:25:10.760938Z"
    },
    "colab": {},
    "colab_type": "code",
    "id": "g0gcpZ-XyhkG"
   },
   "outputs": [],
   "source": [
    "# some of the very basic models scikit learn has.\n",
    "from sklearn.linear_model import LinearRegression\n",
    "from sklearn.tree import DecisionTreeClassifier"
   ]
  },
  {
   "cell_type": "markdown",
   "metadata": {
    "colab_type": "text",
    "id": "YVl66P1FyhkL"
   },
   "source": [
    "---\n",
    "\n",
    "After we have build the model now whenever new data points are added to the existing data, we need to perform the same preprocessing steps again before we can use the model to make predictions. This becomes a tedious and time consuming process!\n",
    "\n",
    "So, scikit-learn provides tools to create a pipeline of all those steps that will make your work a lot more easier.\n",
    "\n",
    "---"
   ]
  },
  {
   "cell_type": "code",
   "execution_count": 13,
   "metadata": {
    "ExecuteTime": {
     "end_time": "2021-10-10T14:25:14.007669Z",
     "start_time": "2021-10-10T14:25:13.997670Z"
    },
    "colab": {},
    "colab_type": "code",
    "id": "0xV7B1O-yhkM"
   },
   "outputs": [],
   "source": [
    "from sklearn.pipeline import Pipeline"
   ]
  },
  {
   "cell_type": "markdown",
   "metadata": {},
   "source": [
    "### Creating pipeline essentially helps you from the minute data comes in, preprocessing the data, building machine learning models and making prediction on them. It saves a lot of time."
   ]
  },
  {
   "cell_type": "markdown",
   "metadata": {
    "colab_type": "text",
    "id": "11Lf-v3XyhkS"
   },
   "source": [
    "___\n",
    "\n",
    "***We will study each of the step in detail in the upcoming modules.***\n",
    "\n",
    "---"
   ]
  },
  {
   "cell_type": "markdown",
   "metadata": {
    "colab_type": "text",
    "id": "uXaNTerxyhkT"
   },
   "source": [
    "---\n",
    "\n",
    "***Learn more about the scikit-learn here: https://scikit-learn.org/stable/index.html***\n",
    "\n",
    "---"
   ]
  },
  {
   "cell_type": "code",
   "execution_count": null,
   "metadata": {},
   "outputs": [],
   "source": []
  }
 ],
 "metadata": {
  "colab": {
   "name": "6. Scikit Learn.ipynb",
   "provenance": []
  },
  "kernelspec": {
   "display_name": "Python 3 (ipykernel)",
   "language": "python",
   "name": "python3"
  },
  "language_info": {
   "codemirror_mode": {
    "name": "ipython",
    "version": 3
   },
   "file_extension": ".py",
   "mimetype": "text/x-python",
   "name": "python",
   "nbconvert_exporter": "python",
   "pygments_lexer": "ipython3",
   "version": "3.8.11"
  },
  "toc": {
   "base_numbering": 1,
   "nav_menu": {},
   "number_sections": true,
   "sideBar": true,
   "skip_h1_title": false,
   "title_cell": "Table of Contents",
   "title_sidebar": "Contents",
   "toc_cell": false,
   "toc_position": {},
   "toc_section_display": true,
   "toc_window_display": false
  }
 },
 "nbformat": 4,
 "nbformat_minor": 1
}
