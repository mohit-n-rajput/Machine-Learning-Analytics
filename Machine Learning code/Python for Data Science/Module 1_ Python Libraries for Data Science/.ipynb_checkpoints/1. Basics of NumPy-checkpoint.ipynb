{
 "cells": [
  {
   "cell_type": "markdown",
   "metadata": {
    "colab_type": "text",
    "id": "xPcOd9Hvfdyz"
   },
   "source": [
    "---\n",
    "---\n",
    "\n",
    "<center><h1> 📍 📍 Basics of NumPy 📍 📍 </h1></center>\n",
    "\n",
    "\n",
    "NumPy is the fundamental package for scientific computing with Python. It contains among other things:\n",
    " \n",
    " - A powerful N-dimensional array object\n",
    " - Sophisticated (broadcasting) functions\n",
    " - Tools for integrating C/C++ and Fortran code\n",
    " - Useful linear algebra, Fourier transform, and random number capabilities\n",
    "\n",
    "***Source:*** https://numpy.org/\n",
    "\n",
    "---"
   ]
  },
  {
   "cell_type": "code",
   "execution_count": 1,
   "metadata": {
    "ExecuteTime": {
     "end_time": "2021-10-04T15:15:31.693005Z",
     "start_time": "2021-10-04T15:15:31.321138Z"
    }
   },
   "outputs": [],
   "source": [
    "# importing the numpy library, np is the alias name of Numpy.\n",
    "import numpy as np"
   ]
  },
  {
   "cell_type": "markdown",
   "metadata": {},
   "source": [
    "***If you got an error while running the above cell, import it by using the following command***\n",
    "\n",
    "\n",
    "***`!pip3 install numpy`***\n",
    "\n",
    "---"
   ]
  },
  {
   "cell_type": "code",
   "execution_count": 2,
   "metadata": {
    "ExecuteTime": {
     "end_time": "2021-10-04T15:15:37.085178Z",
     "start_time": "2021-10-04T15:15:37.062197Z"
    },
    "colab": {
     "base_uri": "https://localhost:8080/",
     "height": 34
    },
    "colab_type": "code",
    "id": "kJQUFjqcfG5E",
    "outputId": "e82c5ff9-f365-41be-9ab5-ffe8b5642026"
   },
   "outputs": [
    {
     "data": {
      "text/plain": [
       "'1.19.2'"
      ]
     },
     "execution_count": 2,
     "metadata": {},
     "output_type": "execute_result"
    }
   ],
   "source": [
    "# check verison of the numpy library\n",
    "np.__version__"
   ]
  },
  {
   "cell_type": "markdown",
   "metadata": {},
   "source": [
    "###### create a numpy array in Numpy."
   ]
  },
  {
   "cell_type": "code",
   "execution_count": 13,
   "metadata": {
    "ExecuteTime": {
     "end_time": "2021-10-04T15:18:33.998231Z",
     "start_time": "2021-10-04T15:18:33.986231Z"
    },
    "colab": {
     "base_uri": "https://localhost:8080/",
     "height": 34
    },
    "colab_type": "code",
    "id": "hCA-nkm9ggyq",
    "outputId": "0de0ca1f-62a8-48e6-8680-57c654549acb"
   },
   "outputs": [
    {
     "data": {
      "text/plain": [
       "array([1, 4, 2, 5, 3])"
      ]
     },
     "execution_count": 13,
     "metadata": {},
     "output_type": "execute_result"
    }
   ],
   "source": [
    "# create a numpy array\n",
    "np.array([1, 4, 2, 5, 3])\n"
   ]
  },
  {
   "cell_type": "code",
   "execution_count": 14,
   "metadata": {
    "ExecuteTime": {
     "end_time": "2021-10-04T15:18:34.394661Z",
     "start_time": "2021-10-04T15:18:34.380657Z"
    }
   },
   "outputs": [
    {
     "data": {
      "text/plain": [
       "array([1, 4, 2, 5, 3])"
      ]
     },
     "execution_count": 14,
     "metadata": {},
     "output_type": "execute_result"
    }
   ],
   "source": [
    "a = np.array([1, 4, 2, 5, 3])\n",
    "a"
   ]
  },
  {
   "cell_type": "code",
   "execution_count": 15,
   "metadata": {
    "ExecuteTime": {
     "end_time": "2021-10-04T15:18:34.786198Z",
     "start_time": "2021-10-04T15:18:34.775195Z"
    }
   },
   "outputs": [
    {
     "data": {
      "text/plain": [
       "[1, 4, '2', 5, False]"
      ]
     },
     "execution_count": 15,
     "metadata": {},
     "output_type": "execute_result"
    }
   ],
   "source": [
    "[1,4,'2',5,False]\n"
   ]
  },
  {
   "cell_type": "code",
   "execution_count": 17,
   "metadata": {
    "ExecuteTime": {
     "end_time": "2021-10-04T15:20:11.594116Z",
     "start_time": "2021-10-04T15:20:11.589987Z"
    }
   },
   "outputs": [
    {
     "data": {
      "text/plain": [
       "array(['1', '4', '2', '5', 'False'], dtype='<U11')"
      ]
     },
     "execution_count": 17,
     "metadata": {},
     "output_type": "execute_result"
    }
   ],
   "source": [
    "np.array([1,4,'2',5,False])"
   ]
  },
  {
   "cell_type": "markdown",
   "metadata": {},
   "source": [
    "###### <span class=\"mark\">One of the major differences between array and list are that, An array has the limit that you can only have elements of same data type. If you have elements of different data type , python will just try to convert them to the same data type.</span>"
   ]
  },
  {
   "cell_type": "markdown",
   "metadata": {},
   "source": [
    "***Difference between numpy array and list***\n",
    "\n",
    "- Data type should be same of all the elements in a numpy array whereas it can be different in case of lists.\n",
    "- **Broadcasting:** https://docs.scipy.org/doc/numpy/user/basics.broadcasting.html\n",
    "\n",
    "---"
   ]
  },
  {
   "cell_type": "code",
   "execution_count": 18,
   "metadata": {
    "ExecuteTime": {
     "end_time": "2021-10-04T15:23:51.362536Z",
     "start_time": "2021-10-04T15:23:51.354651Z"
    }
   },
   "outputs": [
    {
     "data": {
      "text/plain": [
       "array(['1', '4', '2', '5', '3', 'False'], dtype='<U11')"
      ]
     },
     "execution_count": 18,
     "metadata": {},
     "output_type": "execute_result"
    }
   ],
   "source": [
    "# if we add an element of string data type in a numpy array\n",
    "# then it will upcast the data type to string of all the elements.\n",
    "np.array([1, 4, 2, '5', 3, False])"
   ]
  },
  {
   "cell_type": "markdown",
   "metadata": {},
   "source": [
    "***Now, we will create one sample list and numpy array and apply a very basic function of multiplication by 2. We will see that in case of list the elements are duplicated and appended to the list whereas in case of numpy array we got an array where all elements are multiplied by 2.***\n",
    "\n",
    "----"
   ]
  },
  {
   "cell_type": "code",
   "execution_count": 19,
   "metadata": {
    "ExecuteTime": {
     "end_time": "2021-10-04T15:24:00.519814Z",
     "start_time": "2021-10-04T15:24:00.514838Z"
    }
   },
   "outputs": [],
   "source": [
    "# create a sample list\n",
    "sample_list = [1, 2, 3, 4, 5, 6]"
   ]
  },
  {
   "cell_type": "code",
   "execution_count": 20,
   "metadata": {
    "ExecuteTime": {
     "end_time": "2021-10-04T15:24:01.326756Z",
     "start_time": "2021-10-04T15:24:01.317756Z"
    }
   },
   "outputs": [
    {
     "data": {
      "text/plain": [
       "[1, 2, 3, 4, 5, 6, 1, 2, 3, 4, 5, 6]"
      ]
     },
     "execution_count": 20,
     "metadata": {},
     "output_type": "execute_result"
    }
   ],
   "source": [
    "sample_list*2 "
   ]
  },
  {
   "cell_type": "code",
   "execution_count": 21,
   "metadata": {
    "ExecuteTime": {
     "end_time": "2021-10-04T15:24:06.718567Z",
     "start_time": "2021-10-04T15:24:06.708567Z"
    }
   },
   "outputs": [
    {
     "ename": "TypeError",
     "evalue": "can only concatenate list (not \"int\") to list",
     "output_type": "error",
     "traceback": [
      "\u001b[1;31m---------------------------------------------------------------------------\u001b[0m",
      "\u001b[1;31mTypeError\u001b[0m                                 Traceback (most recent call last)",
      "\u001b[1;32m~\\AppData\\Local\\Temp/ipykernel_21616/3538394444.py\u001b[0m in \u001b[0;36m<module>\u001b[1;34m\u001b[0m\n\u001b[1;32m----> 1\u001b[1;33m \u001b[0msample_list\u001b[0m \u001b[1;33m+\u001b[0m \u001b[1;36m2\u001b[0m\u001b[1;33m\u001b[0m\u001b[1;33m\u001b[0m\u001b[0m\n\u001b[0m",
      "\u001b[1;31mTypeError\u001b[0m: can only concatenate list (not \"int\") to list"
     ]
    }
   ],
   "source": [
    "sample_list + 2"
   ]
  },
  {
   "cell_type": "code",
   "execution_count": 25,
   "metadata": {
    "ExecuteTime": {
     "end_time": "2021-10-04T15:24:55.779915Z",
     "start_time": "2021-10-04T15:24:55.765760Z"
    }
   },
   "outputs": [
    {
     "data": {
      "text/plain": [
       "array([1, 2, 3, 4, 5, 6])"
      ]
     },
     "execution_count": 25,
     "metadata": {},
     "output_type": "execute_result"
    }
   ],
   "source": [
    "# create a sample numpy array\n",
    "sample_numpy_array = np.array([1, 2, 3, 4, 5, 6])\n",
    "sample_numpy_array"
   ]
  },
  {
   "cell_type": "code",
   "execution_count": 26,
   "metadata": {
    "ExecuteTime": {
     "end_time": "2021-10-04T15:24:56.579445Z",
     "start_time": "2021-10-04T15:24:56.568444Z"
    }
   },
   "outputs": [
    {
     "data": {
      "text/plain": [
       "array([ 2,  4,  6,  8, 10, 12])"
      ]
     },
     "execution_count": 26,
     "metadata": {},
     "output_type": "execute_result"
    }
   ],
   "source": [
    "sample_numpy_array * 2 # Multiply each element with 2."
   ]
  },
  {
   "cell_type": "code",
   "execution_count": 28,
   "metadata": {
    "ExecuteTime": {
     "end_time": "2021-10-04T15:25:12.533155Z",
     "start_time": "2021-10-04T15:25:12.512974Z"
    },
    "scrolled": true
   },
   "outputs": [
    {
     "data": {
      "text/plain": [
       "array([3, 4, 5, 6, 7, 8])"
      ]
     },
     "execution_count": 28,
     "metadata": {},
     "output_type": "execute_result"
    }
   ],
   "source": [
    "sample_numpy_array+2 # add each element with 2."
   ]
  },
  {
   "cell_type": "code",
   "execution_count": 33,
   "metadata": {
    "ExecuteTime": {
     "end_time": "2021-10-04T15:29:07.154448Z",
     "start_time": "2021-10-04T15:29:07.131456Z"
    }
   },
   "outputs": [
    {
     "data": {
      "text/plain": [
       "array([0.33333333, 0.66666667, 1.        , 1.33333333, 1.66666667,\n",
       "       2.        ])"
      ]
     },
     "execution_count": 33,
     "metadata": {},
     "output_type": "execute_result"
    }
   ],
   "source": [
    "sample_numpy_array / 3"
   ]
  },
  {
   "cell_type": "code",
   "execution_count": 30,
   "metadata": {
    "ExecuteTime": {
     "end_time": "2021-10-04T15:26:02.765916Z",
     "start_time": "2021-10-04T15:26:02.755919Z"
    }
   },
   "outputs": [
    {
     "data": {
      "text/plain": [
       "array(['1', '4', '2', '5', '3', 'False'], dtype='<U11')"
      ]
     },
     "execution_count": 30,
     "metadata": {},
     "output_type": "execute_result"
    }
   ],
   "source": [
    "c = np.array(np.array([1, 4, 2, '5', 3, False]))\n",
    "c"
   ]
  },
  {
   "cell_type": "code",
   "execution_count": 31,
   "metadata": {
    "ExecuteTime": {
     "end_time": "2021-10-04T15:26:11.993228Z",
     "start_time": "2021-10-04T15:26:11.979985Z"
    }
   },
   "outputs": [
    {
     "ename": "UFuncTypeError",
     "evalue": "ufunc 'multiply' did not contain a loop with signature matching types (dtype('<U11'), dtype('<U11')) -> dtype('<U11')",
     "output_type": "error",
     "traceback": [
      "\u001b[1;31m---------------------------------------------------------------------------\u001b[0m",
      "\u001b[1;31mUFuncTypeError\u001b[0m                            Traceback (most recent call last)",
      "\u001b[1;32m~\\AppData\\Local\\Temp/ipykernel_21616/1754307714.py\u001b[0m in \u001b[0;36m<module>\u001b[1;34m\u001b[0m\n\u001b[1;32m----> 1\u001b[1;33m \u001b[0mc\u001b[0m \u001b[1;33m*\u001b[0m \u001b[1;36m2\u001b[0m\u001b[1;33m\u001b[0m\u001b[1;33m\u001b[0m\u001b[0m\n\u001b[0m",
      "\u001b[1;31mUFuncTypeError\u001b[0m: ufunc 'multiply' did not contain a loop with signature matching types (dtype('<U11'), dtype('<U11')) -> dtype('<U11')"
     ]
    }
   ],
   "source": [
    "c * 2"
   ]
  },
  {
   "cell_type": "code",
   "execution_count": 32,
   "metadata": {
    "ExecuteTime": {
     "end_time": "2021-10-04T15:26:25.180060Z",
     "start_time": "2021-10-04T15:26:25.165455Z"
    }
   },
   "outputs": [
    {
     "ename": "UFuncTypeError",
     "evalue": "ufunc 'add' did not contain a loop with signature matching types (dtype('<U11'), dtype('<U11')) -> dtype('<U11')",
     "output_type": "error",
     "traceback": [
      "\u001b[1;31m---------------------------------------------------------------------------\u001b[0m",
      "\u001b[1;31mUFuncTypeError\u001b[0m                            Traceback (most recent call last)",
      "\u001b[1;32m~\\AppData\\Local\\Temp/ipykernel_21616/3358776283.py\u001b[0m in \u001b[0;36m<module>\u001b[1;34m\u001b[0m\n\u001b[1;32m----> 1\u001b[1;33m \u001b[0mc\u001b[0m \u001b[1;33m+\u001b[0m \u001b[1;36m2\u001b[0m\u001b[1;33m\u001b[0m\u001b[1;33m\u001b[0m\u001b[0m\n\u001b[0m",
      "\u001b[1;31mUFuncTypeError\u001b[0m: ufunc 'add' did not contain a loop with signature matching types (dtype('<U11'), dtype('<U11')) -> dtype('<U11')"
     ]
    }
   ],
   "source": [
    "c + 2"
   ]
  },
  {
   "cell_type": "markdown",
   "metadata": {},
   "source": [
    "###### <span class=\"mark\">Broadcasting means if you implement  operation on one element of array, operationcan apply on all elements. List does not have a broadcasting feature, array have.</span>"
   ]
  },
  {
   "cell_type": "markdown",
   "metadata": {},
   "source": [
    "---\n",
    "\n",
    "***Create a matrix using numpy***\n",
    "\n",
    "---"
   ]
  },
  {
   "cell_type": "code",
   "execution_count": 34,
   "metadata": {
    "ExecuteTime": {
     "end_time": "2021-10-04T15:29:20.812576Z",
     "start_time": "2021-10-04T15:29:20.792950Z"
    }
   },
   "outputs": [],
   "source": [
    "a = [[1,2,3],\n",
    "    [4,5,6],\n",
    "    [7,8,9]]"
   ]
  },
  {
   "cell_type": "code",
   "execution_count": 35,
   "metadata": {
    "ExecuteTime": {
     "end_time": "2021-10-04T15:29:27.632319Z",
     "start_time": "2021-10-04T15:29:27.622345Z"
    }
   },
   "outputs": [
    {
     "data": {
      "text/plain": [
       "[[1, 2, 3], [4, 5, 6], [7, 8, 9]]"
      ]
     },
     "execution_count": 35,
     "metadata": {},
     "output_type": "execute_result"
    }
   ],
   "source": [
    "a"
   ]
  },
  {
   "cell_type": "code",
   "execution_count": 37,
   "metadata": {
    "ExecuteTime": {
     "end_time": "2021-10-04T15:29:48.664593Z",
     "start_time": "2021-10-04T15:29:48.656590Z"
    },
    "colab": {
     "base_uri": "https://localhost:8080/",
     "height": 67
    },
    "colab_type": "code",
    "id": "TuIRhVnIinJS",
    "outputId": "22617d93-5bad-4dea-aa51-33241511f496"
   },
   "outputs": [],
   "source": [
    "# MATRIX, convert multi-menstional list into n-array\n",
    "a = np.array(a)"
   ]
  },
  {
   "cell_type": "code",
   "execution_count": 38,
   "metadata": {
    "ExecuteTime": {
     "end_time": "2021-10-04T15:29:50.736172Z",
     "start_time": "2021-10-04T15:29:50.716974Z"
    }
   },
   "outputs": [
    {
     "data": {
      "text/plain": [
       "array([[1, 2, 3],\n",
       "       [4, 5, 6],\n",
       "       [7, 8, 9]])"
      ]
     },
     "execution_count": 38,
     "metadata": {},
     "output_type": "execute_result"
    }
   ],
   "source": [
    "a"
   ]
  },
  {
   "cell_type": "code",
   "execution_count": 41,
   "metadata": {
    "ExecuteTime": {
     "end_time": "2021-10-04T15:30:18.425095Z",
     "start_time": "2021-10-04T15:30:18.418098Z"
    }
   },
   "outputs": [
    {
     "data": {
      "text/plain": [
       "2"
      ]
     },
     "execution_count": 41,
     "metadata": {},
     "output_type": "execute_result"
    }
   ],
   "source": [
    "# a [row] [column]\n",
    "a[0][1]"
   ]
  },
  {
   "cell_type": "code",
   "execution_count": 42,
   "metadata": {
    "ExecuteTime": {
     "end_time": "2021-10-04T15:30:19.531155Z",
     "start_time": "2021-10-04T15:30:19.514860Z"
    }
   },
   "outputs": [
    {
     "data": {
      "text/plain": [
       "array([[1, 2, 3],\n",
       "       [4, 5, 6],\n",
       "       [7, 8, 9]])"
      ]
     },
     "execution_count": 42,
     "metadata": {},
     "output_type": "execute_result"
    }
   ],
   "source": [
    "b = np.array([[1,2,3],\n",
    "             [4,5,6],\n",
    "             [7,8,9]])\n",
    "b"
   ]
  },
  {
   "cell_type": "code",
   "execution_count": null,
   "metadata": {},
   "outputs": [],
   "source": []
  },
  {
   "cell_type": "code",
   "execution_count": 47,
   "metadata": {
    "ExecuteTime": {
     "end_time": "2021-10-04T15:36:50.541382Z",
     "start_time": "2021-10-04T15:36:50.519128Z"
    },
    "scrolled": true
   },
   "outputs": [
    {
     "ename": "TypeError",
     "evalue": "randint() missing 1 required positional argument: 'b'",
     "output_type": "error",
     "traceback": [
      "\u001b[1;31m---------------------------------------------------------------------------\u001b[0m",
      "\u001b[1;31mTypeError\u001b[0m                                 Traceback (most recent call last)",
      "\u001b[1;32m~\\AppData\\Local\\Temp/ipykernel_21616/2770994166.py\u001b[0m in \u001b[0;36m<module>\u001b[1;34m\u001b[0m\n\u001b[0;32m      1\u001b[0m \u001b[1;32mimport\u001b[0m \u001b[0mrandom\u001b[0m\u001b[1;33m\u001b[0m\u001b[1;33m\u001b[0m\u001b[0m\n\u001b[1;32m----> 2\u001b[1;33m \u001b[0mrandom\u001b[0m\u001b[1;33m.\u001b[0m\u001b[0mrandint\u001b[0m\u001b[1;33m(\u001b[0m\u001b[1;36m10\u001b[0m\u001b[1;33m)\u001b[0m\u001b[1;33m\u001b[0m\u001b[1;33m\u001b[0m\u001b[0m\n\u001b[0m",
      "\u001b[1;31mTypeError\u001b[0m: randint() missing 1 required positional argument: 'b'"
     ]
    }
   ],
   "source": [
    "import random\n",
    "random.randint(10)"
   ]
  },
  {
   "cell_type": "code",
   "execution_count": 48,
   "metadata": {
    "ExecuteTime": {
     "end_time": "2021-10-04T15:37:06.778200Z",
     "start_time": "2021-10-04T15:37:06.762201Z"
    }
   },
   "outputs": [
    {
     "data": {
      "text/plain": [
       "8"
      ]
     },
     "execution_count": 48,
     "metadata": {},
     "output_type": "execute_result"
    }
   ],
   "source": [
    "random.randint(0,10)"
   ]
  },
  {
   "cell_type": "raw",
   "metadata": {},
   "source": [
    "Signature: random.randint(a, b)\n",
    "\n",
    "Docstring:\n",
    "Return random integer in range [a, b], including both end points."
   ]
  },
  {
   "cell_type": "markdown",
   "metadata": {},
   "source": [
    "###### generate matrix with random number."
   ]
  },
  {
   "cell_type": "code",
   "execution_count": 49,
   "metadata": {
    "ExecuteTime": {
     "end_time": "2021-10-04T15:37:12.998716Z",
     "start_time": "2021-10-04T15:37:12.981717Z"
    }
   },
   "outputs": [
    {
     "data": {
      "text/plain": [
       "<function RandomState.randint>"
      ]
     },
     "execution_count": 49,
     "metadata": {},
     "output_type": "execute_result"
    }
   ],
   "source": [
    "np.random.randint"
   ]
  },
  {
   "cell_type": "raw",
   "metadata": {},
   "source": [
    "Docstring:\n",
    "randint(low, high=None, size=None, dtype=int)\n",
    "\n",
    "Return random integers from `low` (inclusive) to `high` (exclusive).\n",
    "\n",
    "Return random integers from the \"discrete uniform\" distribution of\n",
    "the specified dtype in the \"half-open\" interval [`low`, `high`). If\n",
    "`high` is None (the default), then results are from [0, `low`).\n",
    "\n",
    ".. note::\n",
    "    New code should use the ``integers`` method of a ``default_rng()``\n",
    "    instance instead; please see the :ref:`random-quick-start`.\n",
    "\n",
    "Parameters\n",
    "----------\n",
    "low : int or array-like of ints\n",
    "    Lowest (signed) integers to be drawn from the distribution (unless\n",
    "    ``high=None``, in which case this parameter is one above the\n",
    "    *highest* such integer).\n",
    "high : int or array-like of ints, optional\n",
    "    If provided, one above the largest (signed) integer to be drawn\n",
    "    from the distribution (see above for behavior if ``high=None``).\n",
    "    If array-like, must contain integer values\n",
    "size : int or tuple of ints, optional\n",
    "    Output shape.  If the given shape is, e.g., ``(m, n, k)``, then\n",
    "    ``m * n * k`` samples are drawn.  Default is None, in which case a\n",
    "    single value is returned.\n",
    "dtype : dtype, optional\n",
    "    Desired dtype of the result. Byteorder must be native.\n",
    "    The default value is int.\n",
    "\n",
    "    .. versionadded:: 1.11.0\n",
    "\n",
    "Returns\n",
    "-------\n",
    "out : int or ndarray of ints\n",
    "    `size`-shaped array of random integers from the appropriate\n",
    "    distribution, or a single such random int if `size` not provided.\n",
    "\n",
    "See Also\n",
    "--------\n",
    "random_integers : similar to `randint`, only for the closed\n",
    "    interval [`low`, `high`], and 1 is the lowest value if `high` is\n",
    "    omitted.\n",
    "Generator.integers: which should be used for new code.\n",
    "\n",
    "Examples\n",
    "--------\n",
    ">>> np.random.randint(2, size=10)\n",
    "array([1, 0, 0, 0, 1, 1, 0, 0, 1, 0]) # random\n",
    "\n",
    ">>> np.random.randint(1, size=10)\n",
    "array([0, 0, 0, 0, 0, 0, 0, 0, 0, 0])\n",
    "\n",
    "Generate a 2 x 4 array of ints between 0 and 4, inclusive:\n",
    "\n",
    ">>> np.random.randint(5, size=(2, 4))\n",
    "array([[4, 0, 2, 1], # random\n",
    "       [3, 2, 2, 0]])\n",
    "\n",
    "Generate a 1 x 3 array with 3 different upper bounds\n",
    "\n",
    ">>> np.random.randint(1, [3, 5, 10])\n",
    "array([2, 2, 9]) # random\n",
    "\n",
    "Generate a 1 by 3 array with 3 different lower bounds\n",
    "\n",
    ">>> np.random.randint([1, 5, 7], 10)\n",
    "array([9, 8, 7]) # random\n",
    "\n",
    "Generate a 2 by 4 array using broadcasting with dtype of uint8\n",
    "\n",
    ">>> np.random.randint([1, 3, 5, 7], [[10], [20]], dtype=np.uint8)\n",
    "\n",
    "array([[ 8,  6,  9,  7], # random\n",
    "       [ 1, 16,  9, 12]], dtype=uint8)\n",
    "\n",
    "Type:      builtin_function_or_method"
   ]
  },
  {
   "cell_type": "code",
   "execution_count": 50,
   "metadata": {
    "ExecuteTime": {
     "end_time": "2021-10-04T15:37:23.050254Z",
     "start_time": "2021-10-04T15:37:23.034625Z"
    },
    "colab": {
     "base_uri": "https://localhost:8080/",
     "height": 67
    },
    "colab_type": "code",
    "id": "3-oLfXOvo8wG",
    "outputId": "93cebc71-e935-4562-c2a8-11799099d05b",
    "scrolled": true
   },
   "outputs": [
    {
     "data": {
      "text/plain": [
       "array([[3, 5, 0],\n",
       "       [2, 8, 0],\n",
       "       [0, 0, 8]])"
      ]
     },
     "execution_count": 50,
     "metadata": {},
     "output_type": "execute_result"
    }
   ],
   "source": [
    "# Create a 3x3 array of random integers in the interval [0, 10)\n",
    "# np.random.randint(low, upper-1, shape)\n",
    "\n",
    "np.random.randint(0, 10, (3, 3))"
   ]
  },
  {
   "cell_type": "code",
   "execution_count": 51,
   "metadata": {
    "ExecuteTime": {
     "end_time": "2021-10-04T15:37:23.419296Z",
     "start_time": "2021-10-04T15:37:23.413298Z"
    }
   },
   "outputs": [
    {
     "data": {
      "text/plain": [
       "array([[7, 2, 8],\n",
       "       [0, 3, 9],\n",
       "       [1, 8, 2]])"
      ]
     },
     "execution_count": 51,
     "metadata": {},
     "output_type": "execute_result"
    }
   ],
   "source": [
    "# create another matrix\n",
    "np.random.randint(0, 10, (3, 3))"
   ]
  },
  {
   "cell_type": "markdown",
   "metadata": {},
   "source": [
    "***We got a different matrix when we generated another random matrix: We can get the same matrix again by fixing the seed. Let's see how?***\n",
    "\n",
    "\n",
    "---"
   ]
  },
  {
   "cell_type": "markdown",
   "metadata": {},
   "source": [
    "###### Seed let you to fix the random generator behavior."
   ]
  },
  {
   "cell_type": "code",
   "execution_count": 66,
   "metadata": {
    "ExecuteTime": {
     "end_time": "2021-10-04T15:42:34.936260Z",
     "start_time": "2021-10-04T15:42:34.929022Z"
    }
   },
   "outputs": [
    {
     "data": {
      "text/plain": [
       "array([[5, 0, 3],\n",
       "       [3, 7, 9],\n",
       "       [3, 5, 2]])"
      ]
     },
     "execution_count": 66,
     "metadata": {},
     "output_type": "execute_result"
    }
   ],
   "source": [
    "# fixing the random seed\n",
    "np.random.seed(0)\n",
    "np.random.randint(0, 10, (3, 3))"
   ]
  },
  {
   "cell_type": "code",
   "execution_count": 67,
   "metadata": {
    "ExecuteTime": {
     "end_time": "2021-10-04T15:42:35.170901Z",
     "start_time": "2021-10-04T15:42:35.160792Z"
    }
   },
   "outputs": [
    {
     "data": {
      "text/plain": [
       "array([[5, 0, 3],\n",
       "       [3, 7, 9],\n",
       "       [3, 5, 2]])"
      ]
     },
     "execution_count": 67,
     "metadata": {},
     "output_type": "execute_result"
    }
   ],
   "source": [
    "# fixing the random seed\n",
    "np.random.seed(0)\n",
    "np.random.randint(0, 10, (3, 3))"
   ]
  },
  {
   "cell_type": "markdown",
   "metadata": {},
   "source": [
    "###### when we remove or change the seed generator become random."
   ]
  },
  {
   "cell_type": "code",
   "execution_count": 68,
   "metadata": {
    "ExecuteTime": {
     "end_time": "2021-10-04T15:42:35.906537Z",
     "start_time": "2021-10-04T15:42:35.891594Z"
    }
   },
   "outputs": [
    {
     "data": {
      "text/plain": [
       "array([[8, 8, 6],\n",
       "       [2, 8, 7],\n",
       "       [2, 1, 5]])"
      ]
     },
     "execution_count": 68,
     "metadata": {},
     "output_type": "execute_result"
    }
   ],
   "source": [
    "# change the random seed\n",
    "np.random.seed(2)\n",
    "np.random.randint(0, 10, (3, 3))"
   ]
  },
  {
   "cell_type": "code",
   "execution_count": 69,
   "metadata": {
    "ExecuteTime": {
     "end_time": "2021-10-04T15:42:36.325833Z",
     "start_time": "2021-10-04T15:42:36.307066Z"
    }
   },
   "outputs": [
    {
     "data": {
      "text/plain": [
       "array([[8, 8, 6],\n",
       "       [2, 8, 7],\n",
       "       [2, 1, 5]])"
      ]
     },
     "execution_count": 69,
     "metadata": {},
     "output_type": "execute_result"
    }
   ],
   "source": [
    "# change the random seed with same values.\n",
    "np.random.seed(2)\n",
    "np.random.randint(0, 10, (3, 3))"
   ]
  },
  {
   "cell_type": "code",
   "execution_count": 70,
   "metadata": {
    "ExecuteTime": {
     "end_time": "2021-10-04T15:42:38.278601Z",
     "start_time": "2021-10-04T15:42:38.268278Z"
    }
   },
   "outputs": [
    {
     "data": {
      "text/plain": [
       "array([[8, 1, 1],\n",
       "       [1, 5, 3],\n",
       "       [4, 2, 1]])"
      ]
     },
     "execution_count": 70,
     "metadata": {},
     "output_type": "execute_result"
    }
   ],
   "source": [
    "# change the random seed\n",
    "np.random.seed()\n",
    "np.random.randint(0, 10, (3, 3))"
   ]
  },
  {
   "cell_type": "code",
   "execution_count": 71,
   "metadata": {
    "ExecuteTime": {
     "end_time": "2021-10-04T15:42:42.924542Z",
     "start_time": "2021-10-04T15:42:42.909543Z"
    }
   },
   "outputs": [
    {
     "data": {
      "text/plain": [
       "array([[0, 6, 1],\n",
       "       [3, 5, 6],\n",
       "       [4, 9, 3]])"
      ]
     },
     "execution_count": 71,
     "metadata": {},
     "output_type": "execute_result"
    }
   ],
   "source": [
    "# change the random seed\n",
    "np.random.seed()\n",
    "np.random.randint(0, 10, (3, 3))"
   ]
  },
  {
   "cell_type": "raw",
   "metadata": {},
   "source": [
    "np.random.seed()\n",
    "\n",
    "Docstring:\n",
    "\n",
    "seed(self, seed=None)\n",
    "\n",
    "Reseed a legacy MT19937 BitGenerator\n",
    "\n",
    "Notes\n",
    "-----\n",
    "This is a convenience, legacy function.\n",
    "\n",
    "The best practice is to **not** reseed a BitGenerator, rather to\n",
    "recreate a new one. This method is here for legacy reasons.\n",
    "This example demonstrates best practice.\n",
    "\n",
    ">>> from numpy.random import MT19937\n",
    "\n",
    ">>> from numpy.random import RandomState, SeedSequence\n",
    "\n",
    ">>> rs = RandomState(MT19937(SeedSequence(123456789)))\n",
    "\n",
    "# Later, you want to restart the stream\n",
    "\n",
    ">>> rs = RandomState(MT19937(SeedSequence(987654321)))\n",
    "\n",
    "\n",
    "Type:      builtin_function_or_method"
   ]
  },
  {
   "cell_type": "markdown",
   "metadata": {},
   "source": [
    "#### ***Create a matrix of `Zeros` of specific dimension.***\n",
    "\n",
    "\n",
    "---"
   ]
  },
  {
   "cell_type": "code",
   "execution_count": 78,
   "metadata": {
    "ExecuteTime": {
     "end_time": "2021-10-04T15:45:27.337767Z",
     "start_time": "2021-10-04T15:45:27.326768Z"
    }
   },
   "outputs": [
    {
     "data": {
      "text/plain": [
       "array([[0, 0, 0, 0],\n",
       "       [0, 0, 0, 0],\n",
       "       [0, 0, 0, 0]])"
      ]
     },
     "execution_count": 78,
     "metadata": {},
     "output_type": "execute_result"
    }
   ],
   "source": [
    "# Create a 2 X 10 integer array filled with zeros\n",
    "np.zeros((3,4), dtype=int)"
   ]
  },
  {
   "cell_type": "code",
   "execution_count": 79,
   "metadata": {
    "ExecuteTime": {
     "end_time": "2021-10-04T15:45:27.545765Z",
     "start_time": "2021-10-04T15:45:27.528777Z"
    }
   },
   "outputs": [
    {
     "data": {
      "text/plain": [
       "array([[0, 0, 0, 0, 0],\n",
       "       [0, 0, 0, 0, 0],\n",
       "       [0, 0, 0, 0, 0],\n",
       "       [0, 0, 0, 0, 0]])"
      ]
     },
     "execution_count": 79,
     "metadata": {},
     "output_type": "execute_result"
    }
   ],
   "source": [
    "# Create a 4 X 5 integer array filled with zeros\n",
    "np.zeros((4,5), dtype=int)"
   ]
  },
  {
   "cell_type": "markdown",
   "metadata": {},
   "source": [
    "#### ***Create a matrix of `Ones` of specific dimension.***\n",
    "\n",
    "---"
   ]
  },
  {
   "cell_type": "code",
   "execution_count": 80,
   "metadata": {
    "ExecuteTime": {
     "end_time": "2021-10-04T15:45:28.170972Z",
     "start_time": "2021-10-04T15:45:28.154969Z"
    }
   },
   "outputs": [
    {
     "data": {
      "text/plain": [
       "array([[1, 1, 1, 1, 1, 1, 1, 1, 1, 1],\n",
       "       [1, 1, 1, 1, 1, 1, 1, 1, 1, 1]])"
      ]
     },
     "execution_count": 80,
     "metadata": {},
     "output_type": "execute_result"
    }
   ],
   "source": [
    "# Create a 2 X 10 integer array filled with ones\n",
    "np.ones((2,10), dtype=int)"
   ]
  },
  {
   "cell_type": "code",
   "execution_count": 81,
   "metadata": {
    "ExecuteTime": {
     "end_time": "2021-10-04T15:45:28.502336Z",
     "start_time": "2021-10-04T15:45:28.495336Z"
    }
   },
   "outputs": [
    {
     "data": {
      "text/plain": [
       "array([[1, 1, 1, 1, 1],\n",
       "       [1, 1, 1, 1, 1],\n",
       "       [1, 1, 1, 1, 1],\n",
       "       [1, 1, 1, 1, 1]])"
      ]
     },
     "execution_count": 81,
     "metadata": {},
     "output_type": "execute_result"
    }
   ],
   "source": [
    "# Create a 4 X 5 integer array filled with ones\n",
    "np.ones((4,5), dtype=int)"
   ]
  },
  {
   "cell_type": "raw",
   "metadata": {
    "format": "column"
   },
   "source": [
    "np.ones()\n",
    "Signature: np.ones(shape, dtype=None, order='C')\n",
    "Docstring:\n",
    "Return a new array of given shape and type, filled with ones.\n",
    "\n",
    "Parameters\n",
    "----------\n",
    "shape : int or sequence of ints\n",
    "    Shape of the new array, e.g., ``(2, 3)`` or ``2``.\n",
    "dtype : data-type, optional\n",
    "    The desired data-type for the array, e.g., `numpy.int8`.  Default is\n",
    "    `numpy.float64`.\n",
    "order : {'C', 'F'}, optional, default: C\n",
    "    Whether to store multi-dimensional data in row-major\n",
    "    (C-style) or column-major (Fortran-style) order in\n",
    "    memory.\n",
    "\n",
    "Returns\n",
    "-------\n",
    "out : ndarray\n",
    "    Array of ones with the given shape, dtype, and order.\n",
    "\n",
    "See Also\n",
    "--------\n",
    "ones_like : Return an array of ones with shape and type of input.\n",
    "empty : Return a new uninitialized array.\n",
    "zeros : Return a new array setting values to zero.\n",
    "full : Return a new array of given shape filled with value.\n",
    "\n",
    "\n",
    "Examples\n",
    "--------\n",
    ">>> np.ones(5)\n",
    "array([1., 1., 1., 1., 1.])\n",
    "\n",
    ">>> np.ones((5,), dtype=int)\n",
    "array([1, 1, 1, 1, 1])\n",
    "\n",
    ">>> np.ones((2, 1))\n",
    "array([[1.],\n",
    "       [1.]])\n",
    "\n",
    ">>> s = (2,2)\n",
    ">>> np.ones(s)\n",
    "array([[1.,  1.],\n",
    "       [1.,  1.]])\n",
    "File:      c:\\users\\mnr41\\anaconda3\\lib\\site-packages\\numpy\\core\\numeric.py\n",
    "Type:      function"
   ]
  },
  {
   "cell_type": "markdown",
   "metadata": {},
   "source": [
    "#### Create identity matrix"
   ]
  },
  {
   "cell_type": "code",
   "execution_count": 85,
   "metadata": {
    "ExecuteTime": {
     "end_time": "2021-10-04T15:49:18.770945Z",
     "start_time": "2021-10-04T15:49:18.756943Z"
    }
   },
   "outputs": [
    {
     "data": {
      "text/plain": [
       "array([[1., 0., 0.],\n",
       "       [0., 1., 0.],\n",
       "       [0., 0., 1.]])"
      ]
     },
     "execution_count": 85,
     "metadata": {},
     "output_type": "execute_result"
    }
   ],
   "source": [
    "np.identity(3)"
   ]
  },
  {
   "cell_type": "code",
   "execution_count": 86,
   "metadata": {
    "ExecuteTime": {
     "end_time": "2021-10-04T15:49:19.711257Z",
     "start_time": "2021-10-04T15:49:19.691254Z"
    },
    "scrolled": true
   },
   "outputs": [
    {
     "data": {
      "text/plain": [
       "array([[1, 0, 0, 0, 0],\n",
       "       [0, 1, 0, 0, 0],\n",
       "       [0, 0, 1, 0, 0],\n",
       "       [0, 0, 0, 1, 0],\n",
       "       [0, 0, 0, 0, 1]])"
      ]
     },
     "execution_count": 86,
     "metadata": {},
     "output_type": "execute_result"
    }
   ],
   "source": [
    "np.identity(5, dtype=int)"
   ]
  },
  {
   "cell_type": "raw",
   "metadata": {},
   "source": [
    "np.identity()\n",
    "\n",
    "Signature: np.identity(n, dtype=None)\n",
    "\n",
    "Docstring:\n",
    "Return the identity array.\n",
    "\n",
    "The identity array is a square array with ones on\n",
    "the main diagonal.\n",
    "\n",
    "Parameters\n",
    "----------\n",
    "n : int\n",
    "    Number of rows (and columns) in `n` x `n` output.\n",
    "dtype : data-type, optional\n",
    "    Data-type of the output.  Defaults to ``float``.\n",
    "\n",
    "Returns\n",
    "-------\n",
    "out : ndarray\n",
    "    `n` x `n` array with its main diagonal set to one,\n",
    "    and all other elements 0.\n",
    "\n",
    "Examples\n",
    "--------\n",
    ">>> np.identity(3)\n",
    "array([[1.,  0.,  0.],\n",
    "       [0.,  1.,  0.],\n",
    "       [0.,  0.,  1.]])\n",
    "File:      c:\\users\\mnr41\\anaconda3\\lib\\site-packages\\numpy\\core\\numeric.py\n",
    "Type:      function"
   ]
  },
  {
   "cell_type": "markdown",
   "metadata": {},
   "source": [
    "#### ***Create a matrix of filled with any specific number of specific dimension.***\n",
    "\n",
    "---"
   ]
  },
  {
   "cell_type": "code",
   "execution_count": 87,
   "metadata": {
    "ExecuteTime": {
     "end_time": "2021-10-04T15:49:24.828221Z",
     "start_time": "2021-10-04T15:49:24.816224Z"
    }
   },
   "outputs": [
    {
     "data": {
      "text/plain": [
       "array([[3.14, 3.14, 3.14, 3.14, 3.14],\n",
       "       [3.14, 3.14, 3.14, 3.14, 3.14],\n",
       "       [3.14, 3.14, 3.14, 3.14, 3.14]])"
      ]
     },
     "execution_count": 87,
     "metadata": {},
     "output_type": "execute_result"
    }
   ],
   "source": [
    "# Create a 3x5 array filled with 3.14\n",
    "np.full((3, 5), 3.14)"
   ]
  },
  {
   "cell_type": "code",
   "execution_count": 88,
   "metadata": {
    "ExecuteTime": {
     "end_time": "2021-10-04T15:49:25.314179Z",
     "start_time": "2021-10-04T15:49:25.299180Z"
    }
   },
   "outputs": [
    {
     "data": {
      "text/plain": [
       "array([[7, 7, 7, 7],\n",
       "       [7, 7, 7, 7]])"
      ]
     },
     "execution_count": 88,
     "metadata": {},
     "output_type": "execute_result"
    }
   ],
   "source": [
    "# Create a 2x4 array filled with 7\n",
    "np.full((2, 4), 7)"
   ]
  },
  {
   "cell_type": "raw",
   "metadata": {},
   "source": [
    "np.full()\n",
    "\n",
    "Signature: np.full(shape, fill_value, dtype=None, order='C')\n",
    "    \n",
    "Docstring:\n",
    "Return a new array of given shape and type, filled with `fill_value`.\n",
    "\n",
    "Parameters\n",
    "----------\n",
    "shape : int or sequence of ints\n",
    "    Shape of the new array, e.g., ``(2, 3)`` or ``2``.\n",
    "fill_value : scalar or array_like\n",
    "    Fill value.\n",
    "dtype : data-type, optional\n",
    "    The desired data-type for the array  The default, None, means\n",
    "     `np.array(fill_value).dtype`.\n",
    "order : {'C', 'F'}, optional\n",
    "    Whether to store multidimensional data in C- or Fortran-contiguous\n",
    "    (row- or column-wise) order in memory.\n",
    "\n",
    "Returns\n",
    "-------\n",
    "out : ndarray\n",
    "    Array of `fill_value` with the given shape, dtype, and order.\n",
    "\n",
    "See Also\n",
    "--------\n",
    "full_like : Return a new array with shape of input filled with value.\n",
    "empty : Return a new uninitialized array.\n",
    "ones : Return a new array setting values to one.\n",
    "zeros : Return a new array setting values to zero.\n",
    "\n",
    "Examples\n",
    "--------\n",
    ">>> np.full((2, 2), np.inf)\n",
    "array([[inf, inf],\n",
    "       [inf, inf]])\n",
    "\n",
    ">>> np.full((2, 2), 10)\n",
    "array([[10, 10],\n",
    "       [10, 10]])\n",
    "\n",
    ">>> np.full((2, 2), [1, 2])\n",
    "array([[1, 2],\n",
    "       [1, 2]])\n",
    "\n",
    "File:      c:\\users\\mnr41\\anaconda3\\lib\\site-packages\\numpy\\core\\numeric.py\n",
    "Type:      function"
   ]
  },
  {
   "cell_type": "markdown",
   "metadata": {
    "colab_type": "text",
    "id": "-mZ_tS1OMlCE"
   },
   "source": [
    "\n",
    "\n",
    "---\n",
    "***Array Concatenation :***\n",
    "\n",
    "\n",
    "---\n",
    "\n"
   ]
  },
  {
   "cell_type": "code",
   "execution_count": 89,
   "metadata": {
    "ExecuteTime": {
     "end_time": "2021-10-04T15:51:22.477997Z",
     "start_time": "2021-10-04T15:51:22.469262Z"
    },
    "colab": {
     "base_uri": "https://localhost:8080/",
     "height": 319
    },
    "colab_type": "code",
    "id": "J0UX6q7uNF49",
    "outputId": "e6e3b3d9-6e65-4371-c9d2-f78869bcbf35"
   },
   "outputs": [
    {
     "name": "stdout",
     "output_type": "stream",
     "text": [
      "matrix 1\n"
     ]
    },
    {
     "data": {
      "text/plain": [
       "array([[1, 2, 3],\n",
       "       [4, 5, 6]])"
      ]
     },
     "execution_count": 89,
     "metadata": {},
     "output_type": "execute_result"
    }
   ],
   "source": [
    "# concatenating 2-D arrays\n",
    "matrix1 = np.array([[1, 2, 3], \n",
    "                    [4, 5, 6]])\n",
    "print(\"matrix 1\")\n",
    "matrix1"
   ]
  },
  {
   "cell_type": "code",
   "execution_count": 92,
   "metadata": {
    "ExecuteTime": {
     "end_time": "2021-10-04T15:53:31.653517Z",
     "start_time": "2021-10-04T15:53:31.637873Z"
    }
   },
   "outputs": [
    {
     "name": "stdout",
     "output_type": "stream",
     "text": [
      "matrix 2\n"
     ]
    },
    {
     "data": {
      "text/plain": [
       "array([[ 7,  8,  9],\n",
       "       [10, 11, 12]])"
      ]
     },
     "execution_count": 92,
     "metadata": {},
     "output_type": "execute_result"
    }
   ],
   "source": [
    "matrix2 = np.array([[7, 8, 9], \n",
    "                    [10, 11, 12]])\n",
    "print(\"matrix 2\",)\n",
    "matrix2"
   ]
  },
  {
   "cell_type": "markdown",
   "metadata": {},
   "source": [
    "***Concatenate Row wise***\n",
    "\n",
    "---"
   ]
  },
  {
   "cell_type": "code",
   "execution_count": 93,
   "metadata": {
    "ExecuteTime": {
     "end_time": "2021-10-04T15:53:32.861670Z",
     "start_time": "2021-10-04T15:53:32.842672Z"
    }
   },
   "outputs": [
    {
     "name": "stdout",
     "output_type": "stream",
     "text": [
      "Combined on Row (axis=0)\n"
     ]
    },
    {
     "data": {
      "text/plain": [
       "array([[ 1,  2,  3],\n",
       "       [ 4,  5,  6],\n",
       "       [ 7,  8,  9],\n",
       "       [10, 11, 12]])"
      ]
     },
     "execution_count": 93,
     "metadata": {},
     "output_type": "execute_result"
    }
   ],
   "source": [
    "# concatenate along the first axis\n",
    "matrix_1_2_combineRowwise = np.concatenate([matrix1, matrix2],axis=0)\n",
    "\n",
    "print(\"Combined on Row (axis=0)\")\n",
    "matrix_1_2_combineRowwise"
   ]
  },
  {
   "cell_type": "markdown",
   "metadata": {},
   "source": [
    "***Concatenate Column wise***\n",
    "\n",
    "\n",
    "---"
   ]
  },
  {
   "cell_type": "code",
   "execution_count": 94,
   "metadata": {
    "ExecuteTime": {
     "end_time": "2021-10-04T15:53:49.603693Z",
     "start_time": "2021-10-04T15:53:49.586694Z"
    }
   },
   "outputs": [
    {
     "name": "stdout",
     "output_type": "stream",
     "text": [
      "Combined on Col (axis=1)\n"
     ]
    },
    {
     "data": {
      "text/plain": [
       "array([[ 1,  2,  3,  7,  8,  9],\n",
       "       [ 4,  5,  6, 10, 11, 12]])"
      ]
     },
     "execution_count": 94,
     "metadata": {},
     "output_type": "execute_result"
    }
   ],
   "source": [
    "# concatenate along the second axis (zero-indexed)\n",
    "\n",
    "matrix_1_2_combineColwise = np.concatenate([matrix1, matrix2], axis=1)\n",
    "\n",
    "print(\"Combined on Col (axis=1)\")\n",
    "\n",
    "matrix_1_2_combineColwise"
   ]
  },
  {
   "cell_type": "markdown",
   "metadata": {},
   "source": [
    "***Learn more about the numpy here: https://numpy.org/doc/1.17/user/index.html***\n",
    "\n",
    "---"
   ]
  }
 ],
 "metadata": {
  "colab": {
   "name": "Introduction_to_NumPy.ipynb",
   "provenance": []
  },
  "kernelspec": {
   "display_name": "Python 3 (ipykernel)",
   "language": "python",
   "name": "python3"
  },
  "language_info": {
   "codemirror_mode": {
    "name": "ipython",
    "version": 3
   },
   "file_extension": ".py",
   "mimetype": "text/x-python",
   "name": "python",
   "nbconvert_exporter": "python",
   "pygments_lexer": "ipython3",
   "version": "3.8.11"
  },
  "toc": {
   "base_numbering": 1,
   "nav_menu": {},
   "number_sections": true,
   "sideBar": true,
   "skip_h1_title": false,
   "title_cell": "Table of Contents",
   "title_sidebar": "Contents",
   "toc_cell": false,
   "toc_position": {},
   "toc_section_display": true,
   "toc_window_display": false
  }
 },
 "nbformat": 4,
 "nbformat_minor": 1
}
