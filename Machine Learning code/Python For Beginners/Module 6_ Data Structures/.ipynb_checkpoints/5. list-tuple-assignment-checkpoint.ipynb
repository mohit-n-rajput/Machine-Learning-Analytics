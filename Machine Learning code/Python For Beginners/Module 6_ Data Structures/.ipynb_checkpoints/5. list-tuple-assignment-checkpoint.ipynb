{
 "cells": [
  {
   "cell_type": "markdown",
   "id": "97a10e4e",
   "metadata": {
    "toc": true
   },
   "source": [
    "<h1>Table of Contents<span class=\"tocSkip\"></span></h1>\n",
    "<div class=\"toc\"><ul class=\"toc-item\"><li><span><a href=\"#Assignment:-📝📝\" data-toc-modified-id=\"Assignment:-📝📝-1\"><span class=\"toc-item-num\">1&nbsp;&nbsp;</span>Assignment: 📝📝</a></span><ul class=\"toc-item\"><li><ul class=\"toc-item\"><li><span><a href=\"#🙇-Who-scored-the-highest-marks-in-the-subject-B?\" data-toc-modified-id=\"🙇-Who-scored-the-highest-marks-in-the-subject-B?-1.0.1\"><span class=\"toc-item-num\">1.0.1&nbsp;&nbsp;</span>🙇 Who scored the highest marks in the subject B?</a></span></li><li><span><a href=\"#🙇-What-is-the-average-marks-scored-in-the-subject-C?\" data-toc-modified-id=\"🙇-What-is-the-average-marks-scored-in-the-subject-C?-1.0.2\"><span class=\"toc-item-num\">1.0.2&nbsp;&nbsp;</span>🙇 What is the average marks scored in the subject C?</a></span></li><li><span><a href=\"#🙇-Who-scored-the-highest-percentage-of-marks?\" data-toc-modified-id=\"🙇-Who-scored-the-highest-percentage-of-marks?-1.0.3\"><span class=\"toc-item-num\">1.0.3&nbsp;&nbsp;</span>🙇 Who scored the highest percentage of marks?</a></span></li><li><span><a href=\"#🙇-If-considered-only-top-4-subjects-of-a-candidate,-then-who-scored-the-highestpercentage-of-marks?\" data-toc-modified-id=\"🙇-If-considered-only-top-4-subjects-of-a-candidate,-then-who-scored-the-highestpercentage-of-marks?-1.0.4\"><span class=\"toc-item-num\">1.0.4&nbsp;&nbsp;</span>🙇 If considered only top-4 subjects of a candidate, then who scored the highestpercentage of marks?</a></span></li></ul></li></ul></li><li><span><a href=\"#Questions-and-Answers.\" data-toc-modified-id=\"Questions-and-Answers.-2\"><span class=\"toc-item-num\">2&nbsp;&nbsp;</span>Questions and Answers.</a></span><ul class=\"toc-item\"><li><span><a href=\"#🙇-Who-scored-the-highest-marks-in-the-subject-B?\" data-toc-modified-id=\"🙇-Who-scored-the-highest-marks-in-the-subject-B?-2.1\"><span class=\"toc-item-num\">2.1&nbsp;&nbsp;</span>🙇 Who scored the highest marks in the subject B?</a></span></li><li><span><a href=\"#🙇-What-is-the-average-marks-scored-in-the-subject-C?\" data-toc-modified-id=\"🙇-What-is-the-average-marks-scored-in-the-subject-C?-2.2\"><span class=\"toc-item-num\">2.2&nbsp;&nbsp;</span>🙇 What is the average marks scored in the subject C?</a></span></li><li><span><a href=\"#🙇-Who-scored-the-highest-percentage-of-marks?\" data-toc-modified-id=\"🙇-Who-scored-the-highest-percentage-of-marks?-2.3\"><span class=\"toc-item-num\">2.3&nbsp;&nbsp;</span>🙇 Who scored the highest percentage of marks?</a></span></li><li><span><a href=\"#🙇-If-considered-only-top-4-subjects-of-a-candidate,-then-who-scored-the-highest-percentage-of-marks?\" data-toc-modified-id=\"🙇-If-considered-only-top-4-subjects-of-a-candidate,-then-who-scored-the-highest-percentage-of-marks?-2.4\"><span class=\"toc-item-num\">2.4&nbsp;&nbsp;</span>🙇 If considered only top-4 subjects of a candidate, then who scored the highest percentage of marks?</a></span></li></ul></li></ul></div>"
   ]
  },
  {
   "cell_type": "markdown",
   "id": "ba7892f2",
   "metadata": {},
   "source": [
    "# Assignment: 📝📝"
   ]
  },
  {
   "cell_type": "markdown",
   "id": "81047c55",
   "metadata": {},
   "source": [
    "🎓🎓 Analytics Vidhya conducted an assessment test to hire a Data Scientist. The candidates were evaluated on 5 different subject A, B, C, D, and E. 🎓🎓 The marks of 5 different subjects out of 100 are given below. Help Analytics Vidhya to find out the answers of the following question.\n",
    "📍📍"
   ]
  },
  {
   "cell_type": "markdown",
   "id": "c707df4f",
   "metadata": {},
   "source": [
    "### 🙇 Who scored the highest marks in the subject B?"
   ]
  },
  {
   "cell_type": "markdown",
   "id": "97b8e511",
   "metadata": {},
   "source": [
    "### 🙇 What is the average marks scored in the subject C?"
   ]
  },
  {
   "cell_type": "markdown",
   "id": "06435359",
   "metadata": {},
   "source": [
    "### 🙇 Who scored the highest percentage of marks?"
   ]
  },
  {
   "cell_type": "markdown",
   "id": "3e53da9c",
   "metadata": {},
   "source": [
    "### 🙇 If considered only top-4 subjects of a candidate, then who scored the highestpercentage of marks?"
   ]
  },
  {
   "cell_type": "markdown",
   "id": "9ab4cdc8",
   "metadata": {},
   "source": [
    "---"
   ]
  },
  {
   "cell_type": "code",
   "execution_count": 103,
   "id": "abeeda50",
   "metadata": {
    "ExecuteTime": {
     "end_time": "2021-09-15T19:17:19.126901Z",
     "start_time": "2021-09-15T19:17:19.121898Z"
    }
   },
   "outputs": [],
   "source": [
    "# student marks\n",
    "student_marks = [['Name',  ['A','B','C','D','E']],\n",
    "                 ['Ankit',  [41, 34, 45, 55, 63]],\n",
    "                 ['Aravind',[42, 23, 34, 44, 53]],\n",
    "                 ['Lakshay',[32, 23, 13, 54, 67]],\n",
    "                 ['Gyan',   [23, 82, 23, 63, 34]],\n",
    "                 ['Pranav', [21, 23, 25, 56, 56]]\n",
    "                ]"
   ]
  },
  {
   "cell_type": "markdown",
   "id": "6ed0dd8f",
   "metadata": {},
   "source": [
    "# Questions and Answers."
   ]
  },
  {
   "cell_type": "markdown",
   "id": "90dce08a",
   "metadata": {},
   "source": [
    " ## 🙇 Who scored the highest marks in the subject B?\n",
    "  "
   ]
  },
  {
   "cell_type": "code",
   "execution_count": 114,
   "id": "a4a0698a",
   "metadata": {
    "ExecuteTime": {
     "end_time": "2021-09-15T19:18:49.126323Z",
     "start_time": "2021-09-15T19:18:49.117672Z"
    }
   },
   "outputs": [
    {
     "data": {
      "text/plain": [
       "[['Name', ['A', 'B', 'C', 'D', 'E']],\n",
       " ['Ankit', [41, 34, 45, 55, 63]],\n",
       " ['Aravind', [42, 23, 34, 44, 53]],\n",
       " ['Lakshay', [32, 23, 13, 54, 67]],\n",
       " ['Gyan', [23, 82, 23, 63, 34]],\n",
       " ['Pranav', [21, 23, 25, 56, 56]]]"
      ]
     },
     "execution_count": 114,
     "metadata": {},
     "output_type": "execute_result"
    }
   ],
   "source": [
    "student_marks"
   ]
  },
  {
   "cell_type": "code",
   "execution_count": 115,
   "id": "30f439c5",
   "metadata": {
    "ExecuteTime": {
     "end_time": "2021-09-15T19:18:55.043910Z",
     "start_time": "2021-09-15T19:18:55.030779Z"
    },
    "scrolled": false
   },
   "outputs": [
    {
     "name": "stdout",
     "output_type": "stream",
     "text": [
      "Name     ['A', 'B', 'C', 'D', 'E']\n",
      "-------  ---------------------------\n",
      "Ankit    [41, 34, 45, 55, 63]\n",
      "Aravind  [42, 23, 34, 44, 53]\n",
      "Lakshay  [32, 23, 13, 54, 67]\n",
      "Gyan     [23, 82, 23, 63, 34]\n",
      "Pranav   [21, 23, 25, 56, 56]\n"
     ]
    }
   ],
   "source": [
    "from tabulate import tabulate\n",
    "print(tabulate(student_marks, headers=\"firstrow\"))"
   ]
  },
  {
   "cell_type": "markdown",
   "id": "862a0cd5",
   "metadata": {},
   "source": [
    "Here the first element in the index is similar to headers in the CSV file. So, we will slice the list from the second element."
   ]
  },
  {
   "cell_type": "code",
   "execution_count": 116,
   "id": "5988d84d",
   "metadata": {
    "ExecuteTime": {
     "end_time": "2021-09-15T19:18:55.831643Z",
     "start_time": "2021-09-15T19:18:55.816554Z"
    }
   },
   "outputs": [
    {
     "name": "stdout",
     "output_type": "stream",
     "text": [
      "['Name', ['A', 'B', 'C', 'D', 'E']]\n"
     ]
    }
   ],
   "source": [
    "print(student_marks[0])"
   ]
  },
  {
   "cell_type": "code",
   "execution_count": 117,
   "id": "c06d269b",
   "metadata": {
    "ExecuteTime": {
     "end_time": "2021-09-15T19:18:56.231373Z",
     "start_time": "2021-09-15T19:18:56.217376Z"
    }
   },
   "outputs": [
    {
     "data": {
      "text/plain": [
       "['Ankit', [41, 34, 45, 55, 63]]"
      ]
     },
     "execution_count": 117,
     "metadata": {},
     "output_type": "execute_result"
    }
   ],
   "source": [
    "student_marks[1]"
   ]
  },
  {
   "cell_type": "markdown",
   "id": "f0bd9c2a",
   "metadata": {},
   "source": [
    "Each element in the list from the index 1 contains 2 elements, the first one is the Name and second one is list of marks.\n",
    "\n",
    "---"
   ]
  },
  {
   "cell_type": "code",
   "execution_count": 118,
   "id": "e9fcffd2",
   "metadata": {
    "ExecuteTime": {
     "end_time": "2021-09-15T19:18:57.191865Z",
     "start_time": "2021-09-15T19:18:57.179703Z"
    }
   },
   "outputs": [
    {
     "name": "stdout",
     "output_type": "stream",
     "text": [
      "Ankit\n",
      "[41, 34, 45, 55, 63]\n"
     ]
    }
   ],
   "source": [
    "\"\"\" Marks of Ankit in Subject B. \"\"\"\n",
    "\n",
    "print(student_marks[1][0])  # student name\n",
    "print(student_marks[1][1])  # student marks"
   ]
  },
  {
   "cell_type": "markdown",
   "id": "57b953a3",
   "metadata": {},
   "source": [
    "##### For highest mark in subject B:"
   ]
  },
  {
   "cell_type": "markdown",
   "id": "62248f28",
   "metadata": {},
   "source": [
    "***Step1 📍: Select name of student and marks in subject B***"
   ]
  },
  {
   "cell_type": "code",
   "execution_count": 119,
   "id": "1593a932",
   "metadata": {
    "ExecuteTime": {
     "end_time": "2021-09-15T19:18:58.546681Z",
     "start_time": "2021-09-15T19:18:58.531091Z"
    }
   },
   "outputs": [
    {
     "name": "stdout",
     "output_type": "stream",
     "text": [
      "Ankit 34\n",
      "Aravind 23\n",
      "Lakshay 23\n",
      "Gyan 82\n",
      "Pranav 23\n"
     ]
    }
   ],
   "source": [
    "for student in student_marks[1:]:\n",
    "    name = student[0]\n",
    "    marks_in_b = student[1][1]\n",
    "    \n",
    "    print(name, marks_in_b)\n"
   ]
  },
  {
   "cell_type": "markdown",
   "id": "7463fdea",
   "metadata": {},
   "source": [
    "***Step2 📍: Store the filtered name and marks in another list.***"
   ]
  },
  {
   "cell_type": "code",
   "execution_count": 120,
   "id": "089f02b4",
   "metadata": {
    "ExecuteTime": {
     "end_time": "2021-09-15T19:19:00.441595Z",
     "start_time": "2021-09-15T19:19:00.417475Z"
    }
   },
   "outputs": [],
   "source": [
    "# list to store the marks\n",
    "student_with_marks_in_B = []\n",
    "\n",
    "for student in student_marks[1:]:\n",
    "    name = student[0]\n",
    "    marks_in_B = student[1][1]\n",
    "    \n",
    "    student_with_marks_in_B.append([marks_in_B,name])"
   ]
  },
  {
   "cell_type": "markdown",
   "id": "48687dfd",
   "metadata": {},
   "source": [
    "**Step3 📍: Sort the list. (We Kept the marks as the first index)***"
   ]
  },
  {
   "cell_type": "code",
   "execution_count": 121,
   "id": "4be82136",
   "metadata": {
    "ExecuteTime": {
     "end_time": "2021-09-15T19:19:01.236455Z",
     "start_time": "2021-09-15T19:19:01.226532Z"
    }
   },
   "outputs": [
    {
     "data": {
      "text/plain": [
       "[[23, 'Aravind'], [23, 'Lakshay'], [23, 'Pranav'], [34, 'Ankit'], [82, 'Gyan']]"
      ]
     },
     "execution_count": 121,
     "metadata": {},
     "output_type": "execute_result"
    }
   ],
   "source": [
    "sorted(student_with_marks_in_B)"
   ]
  },
  {
   "cell_type": "markdown",
   "id": "1db595e5",
   "metadata": {},
   "source": [
    "**Step 4 📍: Get the final index of the sorted list which denotes the highest mark.**"
   ]
  },
  {
   "cell_type": "code",
   "execution_count": 122,
   "id": "63f84f7d",
   "metadata": {
    "ExecuteTime": {
     "end_time": "2021-09-15T19:19:15.811604Z",
     "start_time": "2021-09-15T19:19:15.793761Z"
    }
   },
   "outputs": [
    {
     "data": {
      "text/plain": [
       "'Gyan'"
      ]
     },
     "execution_count": 122,
     "metadata": {},
     "output_type": "execute_result"
    }
   ],
   "source": [
    " sorted(student_with_marks_in_B)[-1][-1]"
   ]
  },
  {
   "cell_type": "markdown",
   "id": "0e8ef6bf",
   "metadata": {},
   "source": [
    "***So, we got the answer of the first question. Gyan🥇🥇 has scored the highest marks in subject B.***\n",
    "\n",
    "---\n",
    "\n",
    "---"
   ]
  },
  {
   "cell_type": "markdown",
   "id": "525e09f6",
   "metadata": {},
   "source": [
    " ## 🙇 What is the average marks scored in the subject C?\n",
    "  "
   ]
  },
  {
   "cell_type": "code",
   "execution_count": 123,
   "id": "303e1261",
   "metadata": {
    "ExecuteTime": {
     "end_time": "2021-09-15T19:19:20.568783Z",
     "start_time": "2021-09-15T19:19:20.555265Z"
    }
   },
   "outputs": [
    {
     "data": {
      "text/plain": [
       "[['Name', ['A', 'B', 'C', 'D', 'E']],\n",
       " ['Ankit', [41, 34, 45, 55, 63]],\n",
       " ['Aravind', [42, 23, 34, 44, 53]],\n",
       " ['Lakshay', [32, 23, 13, 54, 67]],\n",
       " ['Gyan', [23, 82, 23, 63, 34]],\n",
       " ['Pranav', [21, 23, 25, 56, 56]]]"
      ]
     },
     "execution_count": 123,
     "metadata": {},
     "output_type": "execute_result"
    }
   ],
   "source": [
    "student_marks"
   ]
  },
  {
   "cell_type": "code",
   "execution_count": 124,
   "id": "af619195",
   "metadata": {
    "ExecuteTime": {
     "end_time": "2021-09-15T19:19:22.406286Z",
     "start_time": "2021-09-15T19:19:22.393018Z"
    }
   },
   "outputs": [
    {
     "name": "stdout",
     "output_type": "stream",
     "text": [
      "Name     ['A', 'B', 'C', 'D', 'E']\n",
      "-------  ---------------------------\n",
      "Ankit    [41, 34, 45, 55, 63]\n",
      "Aravind  [42, 23, 34, 44, 53]\n",
      "Lakshay  [32, 23, 13, 54, 67]\n",
      "Gyan     [23, 82, 23, 63, 34]\n",
      "Pranav   [21, 23, 25, 56, 56]\n"
     ]
    }
   ],
   "source": [
    "from tabulate import tabulate\n",
    "print(tabulate(student_marks, headers=\"firstrow\"))"
   ]
  },
  {
   "cell_type": "code",
   "execution_count": 125,
   "id": "ca1b9e3e",
   "metadata": {
    "ExecuteTime": {
     "end_time": "2021-09-15T19:21:17.362865Z",
     "start_time": "2021-09-15T19:21:17.345161Z"
    }
   },
   "outputs": [],
   "source": [
    "marks_in_subject_C = []"
   ]
  },
  {
   "cell_type": "markdown",
   "id": "a6c4c871",
   "metadata": {},
   "source": [
    "***Step1 📍: Select marks in subject C***"
   ]
  },
  {
   "cell_type": "code",
   "execution_count": 126,
   "id": "f399748d",
   "metadata": {
    "ExecuteTime": {
     "end_time": "2021-09-15T19:21:18.259867Z",
     "start_time": "2021-09-15T19:21:18.251773Z"
    }
   },
   "outputs": [],
   "source": [
    "# getting subject c mark from data\n",
    "for student in student_marks[1:]:\n",
    "    marks_in_c = student[1][2]\n",
    "    \n",
    "    marks_in_subject_C.append(marks_in_c)\n",
    "    "
   ]
  },
  {
   "cell_type": "code",
   "execution_count": 127,
   "id": "13c0ee77",
   "metadata": {
    "ExecuteTime": {
     "end_time": "2021-09-15T19:21:18.807558Z",
     "start_time": "2021-09-15T19:21:18.793558Z"
    }
   },
   "outputs": [
    {
     "data": {
      "text/plain": [
       "[45, 34, 13, 23, 25]"
      ]
     },
     "execution_count": 127,
     "metadata": {},
     "output_type": "execute_result"
    }
   ],
   "source": [
    "marks_in_subject_C"
   ]
  },
  {
   "cell_type": "markdown",
   "id": "0539c947",
   "metadata": {},
   "source": [
    "***Step2 📍: Calculating a average of subject marks.***"
   ]
  },
  {
   "cell_type": "code",
   "execution_count": 128,
   "id": "f8615920",
   "metadata": {
    "ExecuteTime": {
     "end_time": "2021-09-15T19:21:19.744943Z",
     "start_time": "2021-09-15T19:21:19.731831Z"
    }
   },
   "outputs": [
    {
     "name": "stdout",
     "output_type": "stream",
     "text": [
      "28.0\n"
     ]
    }
   ],
   "source": [
    "average_marks_c = sum(marks_in_subject_C)/len(marks_in_subject_C)\n",
    "print(average_marks_c)"
   ]
  },
  {
   "cell_type": "markdown",
   "id": "8ffe2ce8",
   "metadata": {},
   "source": [
    "***So, we got the answer of the second question. 28.0🥇🥇 is the average marks in subject C.***\n",
    "\n",
    "---\n",
    "\n",
    "---"
   ]
  },
  {
   "cell_type": "markdown",
   "id": "2bd71c86",
   "metadata": {},
   "source": [
    " ## 🙇 Who scored the highest percentage of marks?\n",
    "   "
   ]
  },
  {
   "cell_type": "code",
   "execution_count": 129,
   "id": "4c7fabad",
   "metadata": {
    "ExecuteTime": {
     "end_time": "2021-09-15T19:22:13.154417Z",
     "start_time": "2021-09-15T19:22:13.145398Z"
    }
   },
   "outputs": [
    {
     "data": {
      "text/plain": [
       "[['Name', ['A', 'B', 'C', 'D', 'E']],\n",
       " ['Ankit', [41, 34, 45, 55, 63]],\n",
       " ['Aravind', [42, 23, 34, 44, 53]],\n",
       " ['Lakshay', [32, 23, 13, 54, 67]],\n",
       " ['Gyan', [23, 82, 23, 63, 34]],\n",
       " ['Pranav', [21, 23, 25, 56, 56]]]"
      ]
     },
     "execution_count": 129,
     "metadata": {},
     "output_type": "execute_result"
    }
   ],
   "source": [
    "student_marks"
   ]
  },
  {
   "cell_type": "markdown",
   "id": "e4017db6",
   "metadata": {},
   "source": [
    "***Step 1 📍: Select name of student and marks in subjects.***"
   ]
  },
  {
   "cell_type": "code",
   "execution_count": 130,
   "id": "6c9754b9",
   "metadata": {
    "ExecuteTime": {
     "end_time": "2021-09-15T19:22:14.414630Z",
     "start_time": "2021-09-15T19:22:14.406630Z"
    }
   },
   "outputs": [],
   "source": [
    "mark_list_with_name = []"
   ]
  },
  {
   "cell_type": "code",
   "execution_count": 131,
   "id": "a8ccd884",
   "metadata": {
    "ExecuteTime": {
     "end_time": "2021-09-15T19:22:14.829716Z",
     "start_time": "2021-09-15T19:22:14.819573Z"
    }
   },
   "outputs": [],
   "source": [
    "for student in student_marks[1:]:\n",
    "    name = student[0]\n",
    "    marks = student[1]\n",
    "    \n",
    "    mark_list_with_name.append([marks ,name])"
   ]
  },
  {
   "cell_type": "code",
   "execution_count": 132,
   "id": "7c8f8588",
   "metadata": {
    "ExecuteTime": {
     "end_time": "2021-09-15T19:22:15.379801Z",
     "start_time": "2021-09-15T19:22:15.357813Z"
    }
   },
   "outputs": [
    {
     "data": {
      "text/plain": [
       "[[[41, 34, 45, 55, 63], 'Ankit'],\n",
       " [[42, 23, 34, 44, 53], 'Aravind'],\n",
       " [[32, 23, 13, 54, 67], 'Lakshay'],\n",
       " [[23, 82, 23, 63, 34], 'Gyan'],\n",
       " [[21, 23, 25, 56, 56], 'Pranav']]"
      ]
     },
     "execution_count": 132,
     "metadata": {},
     "output_type": "execute_result"
    }
   ],
   "source": [
    "mark_list_with_name"
   ]
  },
  {
   "cell_type": "code",
   "execution_count": 133,
   "id": "47a7ff50",
   "metadata": {
    "ExecuteTime": {
     "end_time": "2021-09-15T19:22:15.979401Z",
     "start_time": "2021-09-15T19:22:15.970398Z"
    }
   },
   "outputs": [
    {
     "name": "stdout",
     "output_type": "stream",
     "text": [
      "--------------------  -------\n",
      "[41, 34, 45, 55, 63]  Ankit\n",
      "[42, 23, 34, 44, 53]  Aravind\n",
      "[32, 23, 13, 54, 67]  Lakshay\n",
      "[23, 82, 23, 63, 34]  Gyan\n",
      "[21, 23, 25, 56, 56]  Pranav\n",
      "--------------------  -------\n"
     ]
    }
   ],
   "source": [
    "print(tabulate(mark_list_with_name))"
   ]
  },
  {
   "cell_type": "markdown",
   "id": "7c42ba68",
   "metadata": {},
   "source": [
    "**Step 2 📍: Calculating percentage and storing it in list**"
   ]
  },
  {
   "cell_type": "code",
   "execution_count": 134,
   "id": "bb4b1edd",
   "metadata": {
    "ExecuteTime": {
     "end_time": "2021-09-15T19:22:31.987754Z",
     "start_time": "2021-09-15T19:22:31.969330Z"
    }
   },
   "outputs": [],
   "source": [
    "percentage_list = []"
   ]
  },
  {
   "cell_type": "code",
   "execution_count": 135,
   "id": "ee598dee",
   "metadata": {
    "ExecuteTime": {
     "end_time": "2021-09-15T19:22:32.821157Z",
     "start_time": "2021-09-15T19:22:32.807032Z"
    }
   },
   "outputs": [],
   "source": [
    "for student in mark_list_with_name:\n",
    "    name = student[-1]  # getting name\n",
    "    \n",
    "    total = len(student[0]) * 100  # getting total of 5 subjects.\n",
    "    indiavidual_per = sum(student[0])  # getting individual marks total\n",
    "    \n",
    "    percentage = (indiavidual_per / total) * 100\n",
    "    \n",
    "    percentage_list.append([round(percentage), name])"
   ]
  },
  {
   "cell_type": "code",
   "execution_count": 136,
   "id": "17ffbf52",
   "metadata": {
    "ExecuteTime": {
     "end_time": "2021-09-15T19:22:41.419454Z",
     "start_time": "2021-09-15T19:22:41.395320Z"
    },
    "scrolled": true
   },
   "outputs": [
    {
     "data": {
      "text/plain": [
       "[[48, 'Ankit'], [39, 'Aravind'], [38, 'Lakshay'], [45, 'Gyan'], [36, 'Pranav']]"
      ]
     },
     "execution_count": 136,
     "metadata": {},
     "output_type": "execute_result"
    }
   ],
   "source": [
    "percentage_list"
   ]
  },
  {
   "cell_type": "markdown",
   "id": "4287c695",
   "metadata": {},
   "source": [
    "**Step 3 📍: Getting student name who got highest percentage.**"
   ]
  },
  {
   "cell_type": "code",
   "execution_count": 137,
   "id": "4c4abd23",
   "metadata": {
    "ExecuteTime": {
     "end_time": "2021-09-15T19:22:44.116257Z",
     "start_time": "2021-09-15T19:22:44.095275Z"
    }
   },
   "outputs": [
    {
     "data": {
      "text/plain": [
       "[48, 'Ankit']"
      ]
     },
     "execution_count": 137,
     "metadata": {},
     "output_type": "execute_result"
    }
   ],
   "source": [
    "sorted(percentage_list)[-1]"
   ]
  },
  {
   "cell_type": "markdown",
   "id": "6f52c803",
   "metadata": {},
   "source": [
    "***So, we got the answer of the third question. Ankit🥇🥇 got the highest 48 percentage.***\n",
    "\n",
    "---\n",
    "\n",
    "---"
   ]
  },
  {
   "cell_type": "markdown",
   "id": "fb4538d4",
   "metadata": {},
   "source": [
    "## 🙇 If considered only top-4 subjects of a candidate, then who scored the highest percentage of marks?\n"
   ]
  },
  {
   "cell_type": "code",
   "execution_count": 138,
   "id": "e4dab6aa",
   "metadata": {
    "ExecuteTime": {
     "end_time": "2021-09-15T19:22:48.235169Z",
     "start_time": "2021-09-15T19:22:48.220016Z"
    }
   },
   "outputs": [
    {
     "data": {
      "text/plain": [
       "[['Name', ['A', 'B', 'C', 'D', 'E']],\n",
       " ['Ankit', [41, 34, 45, 55, 63]],\n",
       " ['Aravind', [42, 23, 34, 44, 53]],\n",
       " ['Lakshay', [32, 23, 13, 54, 67]],\n",
       " ['Gyan', [23, 82, 23, 63, 34]],\n",
       " ['Pranav', [21, 23, 25, 56, 56]]]"
      ]
     },
     "execution_count": 138,
     "metadata": {},
     "output_type": "execute_result"
    }
   ],
   "source": [
    "student_marks"
   ]
  },
  {
   "cell_type": "code",
   "execution_count": 139,
   "id": "43428c50",
   "metadata": {
    "ExecuteTime": {
     "end_time": "2021-09-15T19:22:50.069638Z",
     "start_time": "2021-09-15T19:22:50.057706Z"
    }
   },
   "outputs": [
    {
     "name": "stdout",
     "output_type": "stream",
     "text": [
      "Name     ['A', 'B', 'C', 'D', 'E']\n",
      "-------  ---------------------------\n",
      "Ankit    [41, 34, 45, 55, 63]\n",
      "Aravind  [42, 23, 34, 44, 53]\n",
      "Lakshay  [32, 23, 13, 54, 67]\n",
      "Gyan     [23, 82, 23, 63, 34]\n",
      "Pranav   [21, 23, 25, 56, 56]\n"
     ]
    }
   ],
   "source": [
    "print(tabulate(student_marks, headers=\"firstrow\"))"
   ]
  },
  {
   "cell_type": "markdown",
   "id": "947c92bf",
   "metadata": {},
   "source": [
    "***Step1 📍: Select name of student and marks in subjects.***"
   ]
  },
  {
   "cell_type": "code",
   "execution_count": 140,
   "id": "7553f71a",
   "metadata": {
    "ExecuteTime": {
     "end_time": "2021-09-15T19:22:59.729522Z",
     "start_time": "2021-09-15T19:22:59.718300Z"
    }
   },
   "outputs": [],
   "source": [
    "marks_with_name = []\n"
   ]
  },
  {
   "cell_type": "code",
   "execution_count": 141,
   "id": "1691a15a",
   "metadata": {
    "ExecuteTime": {
     "end_time": "2021-09-15T19:23:00.144426Z",
     "start_time": "2021-09-15T19:23:00.129145Z"
    }
   },
   "outputs": [],
   "source": [
    "for student in student_marks[1:]:\n",
    "    name = student[0]\n",
    "    marks = student[1]\n",
    "    \n",
    "    marks_with_name.append([marks ,name])"
   ]
  },
  {
   "cell_type": "code",
   "execution_count": 142,
   "id": "9d7de03a",
   "metadata": {
    "ExecuteTime": {
     "end_time": "2021-09-15T19:23:00.579089Z",
     "start_time": "2021-09-15T19:23:00.568887Z"
    }
   },
   "outputs": [
    {
     "data": {
      "text/plain": [
       "[[[41, 34, 45, 55, 63], 'Ankit'],\n",
       " [[42, 23, 34, 44, 53], 'Aravind'],\n",
       " [[32, 23, 13, 54, 67], 'Lakshay'],\n",
       " [[23, 82, 23, 63, 34], 'Gyan'],\n",
       " [[21, 23, 25, 56, 56], 'Pranav']]"
      ]
     },
     "execution_count": 142,
     "metadata": {},
     "output_type": "execute_result"
    }
   ],
   "source": [
    "marks_with_name"
   ]
  },
  {
   "cell_type": "markdown",
   "id": "b0061711",
   "metadata": {},
   "source": [
    "**Step 2  📍: filter a data and store only top-4 subjects of a candidate and store it in new list along with candidate name.**"
   ]
  },
  {
   "cell_type": "code",
   "execution_count": 143,
   "id": "e85d0b1e",
   "metadata": {
    "ExecuteTime": {
     "end_time": "2021-09-15T19:23:11.404301Z",
     "start_time": "2021-09-15T19:23:11.385033Z"
    }
   },
   "outputs": [
    {
     "data": {
      "text/plain": [
       "[[[41, 34, 45, 55, 63], 'Ankit'],\n",
       " [[42, 23, 34, 44, 53], 'Aravind'],\n",
       " [[32, 23, 13, 54, 67], 'Lakshay'],\n",
       " [[23, 82, 23, 63, 34], 'Gyan'],\n",
       " [[21, 23, 25, 56, 56], 'Pranav']]"
      ]
     },
     "execution_count": 143,
     "metadata": {},
     "output_type": "execute_result"
    }
   ],
   "source": [
    "marks_with_name"
   ]
  },
  {
   "cell_type": "code",
   "execution_count": 144,
   "id": "11185a3e",
   "metadata": {
    "ExecuteTime": {
     "end_time": "2021-09-15T19:23:11.984025Z",
     "start_time": "2021-09-15T19:23:11.970025Z"
    }
   },
   "outputs": [],
   "source": [
    "top_4_subjects = []"
   ]
  },
  {
   "cell_type": "code",
   "execution_count": 145,
   "id": "5c6238e8",
   "metadata": {
    "ExecuteTime": {
     "end_time": "2021-09-15T19:23:12.500337Z",
     "start_time": "2021-09-15T19:23:12.494200Z"
    }
   },
   "outputs": [],
   "source": [
    "for student in marks_with_name:\n",
    "    \n",
    "    name = student[-1]  # getting name\n",
    "    \n",
    "    \n",
    "    top_4 = sorted(student[0])[1:]   # getting top 4 subject from sorted marks by excluding min mark.\n",
    "    \n",
    "    \n",
    "    top_4_subjects.append([top_4, name])"
   ]
  },
  {
   "cell_type": "code",
   "execution_count": 146,
   "id": "731b311e",
   "metadata": {
    "ExecuteTime": {
     "end_time": "2021-09-15T19:23:13.189153Z",
     "start_time": "2021-09-15T19:23:13.183081Z"
    }
   },
   "outputs": [
    {
     "data": {
      "text/plain": [
       "[[[41, 45, 55, 63], 'Ankit'],\n",
       " [[34, 42, 44, 53], 'Aravind'],\n",
       " [[23, 32, 54, 67], 'Lakshay'],\n",
       " [[23, 34, 63, 82], 'Gyan'],\n",
       " [[23, 25, 56, 56], 'Pranav']]"
      ]
     },
     "execution_count": 146,
     "metadata": {},
     "output_type": "execute_result"
    }
   ],
   "source": [
    "top_4_subjects"
   ]
  },
  {
   "cell_type": "markdown",
   "id": "39d226dd",
   "metadata": {},
   "source": [
    "**Step 3 📍: Calculating percentage of top 4 subjects of candidate and storing it in list.**"
   ]
  },
  {
   "cell_type": "code",
   "execution_count": 147,
   "id": "fe03d75d",
   "metadata": {
    "ExecuteTime": {
     "end_time": "2021-09-15T19:23:16.046664Z",
     "start_time": "2021-09-15T19:23:16.032983Z"
    }
   },
   "outputs": [
    {
     "data": {
      "text/plain": [
       "[[[41, 45, 55, 63], 'Ankit'],\n",
       " [[34, 42, 44, 53], 'Aravind'],\n",
       " [[23, 32, 54, 67], 'Lakshay'],\n",
       " [[23, 34, 63, 82], 'Gyan'],\n",
       " [[23, 25, 56, 56], 'Pranav']]"
      ]
     },
     "execution_count": 147,
     "metadata": {},
     "output_type": "execute_result"
    }
   ],
   "source": [
    "top_4_subjects"
   ]
  },
  {
   "cell_type": "code",
   "execution_count": 148,
   "id": "519daa38",
   "metadata": {
    "ExecuteTime": {
     "end_time": "2021-09-15T19:23:16.654146Z",
     "start_time": "2021-09-15T19:23:16.632310Z"
    }
   },
   "outputs": [],
   "source": [
    "top_4_subject_percentage = []"
   ]
  },
  {
   "cell_type": "code",
   "execution_count": 149,
   "id": "6d2c5807",
   "metadata": {
    "ExecuteTime": {
     "end_time": "2021-09-15T19:23:17.246807Z",
     "start_time": "2021-09-15T19:23:17.233044Z"
    }
   },
   "outputs": [],
   "source": [
    "for student in top_4_subjects:\n",
    "    \n",
    "    name = student[-1]  # getting name\n",
    "    \n",
    "    total = len(student[0]) * 100  # getting total of subjects.\n",
    "    \n",
    "    indiavidual_per = sum(student[0])  # getting individual marks total\n",
    "    \n",
    "    percentage = (indiavidual_per / total) * 100\n",
    "    \n",
    "    top_4_subject_percentage.append([round(percentage), name])\n",
    "    "
   ]
  },
  {
   "cell_type": "code",
   "execution_count": 150,
   "id": "4fc9d9e0",
   "metadata": {
    "ExecuteTime": {
     "end_time": "2021-09-15T19:23:18.347329Z",
     "start_time": "2021-09-15T19:23:18.333168Z"
    }
   },
   "outputs": [
    {
     "data": {
      "text/plain": [
       "[[51, 'Ankit'], [43, 'Aravind'], [44, 'Lakshay'], [50, 'Gyan'], [40, 'Pranav']]"
      ]
     },
     "execution_count": 150,
     "metadata": {},
     "output_type": "execute_result"
    }
   ],
   "source": [
    "top_4_subject_percentage"
   ]
  },
  {
   "cell_type": "markdown",
   "id": "b531c5f0",
   "metadata": {},
   "source": [
    "**Step 4 📍: Getting student name who got highest percentage.**"
   ]
  },
  {
   "cell_type": "code",
   "execution_count": 151,
   "id": "c83ed7cf",
   "metadata": {
    "ExecuteTime": {
     "end_time": "2021-09-15T19:23:22.654342Z",
     "start_time": "2021-09-15T19:23:22.632889Z"
    }
   },
   "outputs": [
    {
     "data": {
      "text/plain": [
       "[[40, 'Pranav'], [43, 'Aravind'], [44, 'Lakshay'], [50, 'Gyan'], [51, 'Ankit']]"
      ]
     },
     "execution_count": 151,
     "metadata": {},
     "output_type": "execute_result"
    }
   ],
   "source": [
    "sorted(top_4_subject_percentage)"
   ]
  },
  {
   "cell_type": "code",
   "execution_count": 152,
   "id": "bb3f17a6",
   "metadata": {
    "ExecuteTime": {
     "end_time": "2021-09-15T19:23:23.229174Z",
     "start_time": "2021-09-15T19:23:23.207918Z"
    }
   },
   "outputs": [
    {
     "data": {
      "text/plain": [
       "[51, 'Ankit']"
      ]
     },
     "execution_count": 152,
     "metadata": {},
     "output_type": "execute_result"
    }
   ],
   "source": [
    "sorted(top_4_subject_percentage)[-1]  # last index of sorted list."
   ]
  },
  {
   "cell_type": "markdown",
   "id": "4108c80f",
   "metadata": {},
   "source": [
    "***So, we got the answer of the forth question. Ankit🥇🥇 got the highest 51 percentage from top 4 subjects marks.***\n",
    "\n",
    "---\n",
    "\n",
    "---"
   ]
  },
  {
   "cell_type": "code",
   "execution_count": null,
   "id": "06546c56",
   "metadata": {},
   "outputs": [],
   "source": []
  },
  {
   "cell_type": "code",
   "execution_count": null,
   "id": "a6fe89c4",
   "metadata": {},
   "outputs": [],
   "source": []
  },
  {
   "cell_type": "markdown",
   "id": "726675c9",
   "metadata": {},
   "source": [
    "<center><b>Thanks.</b></center>"
   ]
  }
 ],
 "metadata": {
  "kernelspec": {
   "display_name": "Python 3 (ipykernel)",
   "language": "python",
   "name": "python3"
  },
  "language_info": {
   "codemirror_mode": {
    "name": "ipython",
    "version": 3
   },
   "file_extension": ".py",
   "mimetype": "text/x-python",
   "name": "python",
   "nbconvert_exporter": "python",
   "pygments_lexer": "ipython3",
   "version": "3.8.11"
  },
  "toc": {
   "base_numbering": 1,
   "nav_menu": {},
   "number_sections": true,
   "sideBar": true,
   "skip_h1_title": false,
   "title_cell": "Table of Contents",
   "title_sidebar": "Contents",
   "toc_cell": true,
   "toc_position": {},
   "toc_section_display": true,
   "toc_window_display": false
  }
 },
 "nbformat": 4,
 "nbformat_minor": 5
}
