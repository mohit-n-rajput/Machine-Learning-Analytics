{
 "cells": [
  {
   "cell_type": "markdown",
   "metadata": {
    "colab_type": "text",
    "id": "GkuR4xVcdVrb"
   },
   "source": [
    "---\n",
    "---\n",
    "\n",
    "<center><h1> Data Structure - Set 📍📍 </h1></center>\n",
    "\n",
    "---"
   ]
  },
  {
   "cell_type": "markdown",
   "metadata": {
    "colab_type": "text",
    "id": "3MqvgR3xdVrp"
   },
   "source": [
    "## Defining a set in Python\n",
    "\n",
    "---"
   ]
  },
  {
   "cell_type": "code",
   "execution_count": 19,
   "metadata": {
    "ExecuteTime": {
     "end_time": "2021-09-21T15:04:52.566817Z",
     "start_time": "2021-09-21T15:04:52.549772Z"
    },
    "colab": {},
    "colab_type": "code",
    "id": "hgbdSpyDdVrx"
   },
   "outputs": [
    {
     "ename": "SyntaxError",
     "evalue": "EOL while scanning string literal (Temp/ipykernel_13180/2572243796.py, line 1)",
     "output_type": "error",
     "traceback": [
      "\u001b[1;36m  File \u001b[1;32m\"C:\\Users\\mnr41\\AppData\\Local\\Temp/ipykernel_13180/2572243796.py\"\u001b[1;36m, line \u001b[1;32m1\u001b[0m\n\u001b[1;33m    my_set = {'A', 'B', 'C', 'D', 1, 'E', 2, 4,'!', \"\\\"} #\u001b[0m\n\u001b[1;37m                                                           ^\u001b[0m\n\u001b[1;31mSyntaxError\u001b[0m\u001b[1;31m:\u001b[0m EOL while scanning string literal\n"
     ]
    }
   ],
   "source": [
    "my_set = {'A', 'B', 'C', 'D', 1, 'E', 2, 4,'!', \"\\\"} # "
   ]
  },
  {
   "cell_type": "code",
   "execution_count": 20,
   "metadata": {
    "ExecuteTime": {
     "end_time": "2021-09-21T15:04:53.679318Z",
     "start_time": "2021-09-21T15:04:53.665322Z"
    }
   },
   "outputs": [],
   "source": [
    "my_set = {'A', 'B', 'C', 'D', 1, 'E', 2, 4,'!', '\\\\'} # \\ is a escape character"
   ]
  },
  {
   "cell_type": "code",
   "execution_count": 21,
   "metadata": {
    "ExecuteTime": {
     "end_time": "2021-09-21T15:05:05.746989Z",
     "start_time": "2021-09-21T15:05:05.734993Z"
    }
   },
   "outputs": [
    {
     "data": {
      "text/plain": [
       "{'!', 1, 2, 4, 'A', 'B', 'C', 'D', 'E', '\\\\'}"
      ]
     },
     "execution_count": 21,
     "metadata": {},
     "output_type": "execute_result"
    }
   ],
   "source": [
    "my_set"
   ]
  },
  {
   "cell_type": "code",
   "execution_count": 22,
   "metadata": {
    "ExecuteTime": {
     "end_time": "2021-09-21T15:05:09.150207Z",
     "start_time": "2021-09-21T15:05:09.134207Z"
    }
   },
   "outputs": [],
   "source": [
    "my_set = {'A', 'B', 'C', 'D', 1, 'E', 2, 4,'!',str('\\\\')} "
   ]
  },
  {
   "cell_type": "code",
   "execution_count": 23,
   "metadata": {
    "ExecuteTime": {
     "end_time": "2021-09-21T15:05:11.445060Z",
     "start_time": "2021-09-21T15:05:11.433061Z"
    }
   },
   "outputs": [
    {
     "name": "stdout",
     "output_type": "stream",
     "text": [
      "This will insert one \\ (backslash).\n"
     ]
    }
   ],
   "source": [
    "txt = \"This will insert one \\\\ (backslash).\"\n",
    "print(txt) \n"
   ]
  },
  {
   "cell_type": "code",
   "execution_count": 24,
   "metadata": {
    "ExecuteTime": {
     "end_time": "2021-09-21T15:05:12.250490Z",
     "start_time": "2021-09-21T15:05:12.239488Z"
    }
   },
   "outputs": [
    {
     "data": {
      "text/plain": [
       "{'!', 1, 2, 4, 'A', 'B', 'C', 'D', 'E', '\\\\'}"
      ]
     },
     "execution_count": 24,
     "metadata": {},
     "output_type": "execute_result"
    }
   ],
   "source": [
    "my_set"
   ]
  },
  {
   "cell_type": "markdown",
   "metadata": {},
   "source": [
    "### here we gave random order to the items of the my_set and finally sets are sorted it self automatically."
   ]
  },
  {
   "cell_type": "code",
   "execution_count": 25,
   "metadata": {
    "ExecuteTime": {
     "end_time": "2021-09-21T15:05:13.817684Z",
     "start_time": "2021-09-21T15:05:13.793682Z"
    },
    "colab": {},
    "colab_type": "code",
    "id": "j9U1ez2vdVsE",
    "outputId": "ce186df6-dc24-4573-d93f-695799e325d4"
   },
   "outputs": [
    {
     "data": {
      "text/plain": [
       "{'!', 1, 2, 4, 'A', 'B', 'C', 'D', 'E', '\\\\'}"
      ]
     },
     "execution_count": 25,
     "metadata": {},
     "output_type": "execute_result"
    }
   ],
   "source": [
    "my_set"
   ]
  },
  {
   "cell_type": "code",
   "execution_count": 26,
   "metadata": {
    "ExecuteTime": {
     "end_time": "2021-09-21T15:05:14.772906Z",
     "start_time": "2021-09-21T15:05:14.755897Z"
    }
   },
   "outputs": [
    {
     "name": "stdout",
     "output_type": "stream",
     "text": [
      "{1, 2, 4, 'A', '\\\\', 'D', 'E', 'B', 'C', '!'}\n"
     ]
    }
   ],
   "source": [
    "print(my_set)"
   ]
  },
  {
   "cell_type": "code",
   "execution_count": 27,
   "metadata": {
    "ExecuteTime": {
     "end_time": "2021-09-21T15:05:16.034138Z",
     "start_time": "2021-09-21T15:05:16.022160Z"
    },
    "colab": {},
    "colab_type": "code",
    "id": "QChHg6oBdVsS"
   },
   "outputs": [],
   "source": [
    "my_set = {'A', 'B', 'C', 'D', 1, 'E', 2, 4, 2 , 2} # unordered collection"
   ]
  },
  {
   "cell_type": "code",
   "execution_count": 28,
   "metadata": {
    "ExecuteTime": {
     "end_time": "2021-09-21T15:05:16.850528Z",
     "start_time": "2021-09-21T15:05:16.836492Z"
    },
    "colab": {},
    "colab_type": "code",
    "id": "w22G75_WdVse",
    "outputId": "2c4b9f50-6a61-4dd7-d4aa-9792cee0324e"
   },
   "outputs": [
    {
     "data": {
      "text/plain": [
       "{1, 2, 4, 'A', 'B', 'C', 'D', 'E'}"
      ]
     },
     "execution_count": 28,
     "metadata": {},
     "output_type": "execute_result"
    }
   ],
   "source": [
    "my_set # unique set of elements and random order"
   ]
  },
  {
   "cell_type": "markdown",
   "metadata": {
    "colab_type": "text",
    "id": "cAKelVCEdVsp"
   },
   "source": [
    "#### Defining a set from a List  and Tuple\n",
    "\n",
    "---"
   ]
  },
  {
   "cell_type": "code",
   "execution_count": 34,
   "metadata": {
    "ExecuteTime": {
     "end_time": "2021-09-21T15:06:11.145280Z",
     "start_time": "2021-09-21T15:06:11.129648Z"
    },
    "colab": {},
    "colab_type": "code",
    "id": "_6BizPVmdVss"
   },
   "outputs": [],
   "source": [
    "my_list = ['A', 'B', 1, 2, 'B', 'A']\n",
    "my_set_from_list = set(my_list)"
   ]
  },
  {
   "cell_type": "code",
   "execution_count": 35,
   "metadata": {
    "ExecuteTime": {
     "end_time": "2021-09-21T15:06:12.483928Z",
     "start_time": "2021-09-21T15:06:12.475926Z"
    },
    "colab": {},
    "colab_type": "code",
    "id": "m-Qgd_vjdVs2",
    "outputId": "f1e1878e-643f-4d0d-a047-4daf4ed77ed5"
   },
   "outputs": [
    {
     "data": {
      "text/plain": [
       "{1, 2, 'A', 'B'}"
      ]
     },
     "execution_count": 35,
     "metadata": {},
     "output_type": "execute_result"
    }
   ],
   "source": [
    "my_set_from_list"
   ]
  },
  {
   "cell_type": "code",
   "execution_count": 36,
   "metadata": {
    "ExecuteTime": {
     "end_time": "2021-09-21T15:06:14.740420Z",
     "start_time": "2021-09-21T15:06:14.729421Z"
    },
    "colab": {},
    "colab_type": "code",
    "id": "CUnpOARjdVtA"
   },
   "outputs": [],
   "source": [
    "my_tuple = ('A', 'B', 1, 2, 'B', 'A')\n",
    "my_set_from_tuple = set(my_tuple)"
   ]
  },
  {
   "cell_type": "code",
   "execution_count": 37,
   "metadata": {
    "ExecuteTime": {
     "end_time": "2021-09-21T15:06:17.364601Z",
     "start_time": "2021-09-21T15:06:17.344598Z"
    },
    "colab": {},
    "colab_type": "code",
    "id": "vR1MqK5hdVtG",
    "outputId": "23118953-5460-4983-a250-d846ef33fb44"
   },
   "outputs": [
    {
     "data": {
      "text/plain": [
       "{1, 2, 'A', 'B'}"
      ]
     },
     "execution_count": 37,
     "metadata": {},
     "output_type": "execute_result"
    }
   ],
   "source": [
    "my_set_from_tuple"
   ]
  },
  {
   "cell_type": "markdown",
   "metadata": {
    "colab_type": "text",
    "id": "dHLllxcrdVtL"
   },
   "source": [
    "### Add an element to the set\n",
    "\n",
    "---"
   ]
  },
  {
   "cell_type": "code",
   "execution_count": 47,
   "metadata": {
    "ExecuteTime": {
     "end_time": "2021-09-21T15:09:02.958498Z",
     "start_time": "2021-09-21T15:09:02.940488Z"
    }
   },
   "outputs": [],
   "source": [
    "my_set = {1, 2, 4, 'A', 'B', 'C', 'D', 'E',}\n"
   ]
  },
  {
   "cell_type": "code",
   "execution_count": 48,
   "metadata": {
    "ExecuteTime": {
     "end_time": "2021-09-21T15:09:03.147758Z",
     "start_time": "2021-09-21T15:09:03.132488Z"
    }
   },
   "outputs": [
    {
     "data": {
      "text/plain": [
       "{1, 2, 4, 'A', 'B', 'C', 'D', 'E', 'O'}"
      ]
     },
     "execution_count": 48,
     "metadata": {},
     "output_type": "execute_result"
    }
   ],
   "source": [
    "my_set.add('O') \n",
    "my_set"
   ]
  },
  {
   "cell_type": "code",
   "execution_count": 49,
   "metadata": {
    "ExecuteTime": {
     "end_time": "2021-09-21T15:09:03.927273Z",
     "start_time": "2021-09-21T15:09:03.911639Z"
    },
    "colab": {},
    "colab_type": "code",
    "id": "KfFCL3phdVtN"
   },
   "outputs": [
    {
     "data": {
      "text/plain": [
       "{1, 2, 4, 'A', 'B', 'C', 'D', 'E', 'O'}"
      ]
     },
     "execution_count": 49,
     "metadata": {},
     "output_type": "execute_result"
    }
   ],
   "source": [
    "my_set.add('O') # two o's but set shows only one value\n",
    "my_set"
   ]
  },
  {
   "cell_type": "code",
   "execution_count": 50,
   "metadata": {
    "ExecuteTime": {
     "end_time": "2021-09-21T15:09:04.094070Z",
     "start_time": "2021-09-21T15:09:04.088096Z"
    }
   },
   "outputs": [
    {
     "data": {
      "text/plain": [
       "{1, 2, 4, 'A', 'B', 'C', 'D', 'E', 'F', 'O'}"
      ]
     },
     "execution_count": 50,
     "metadata": {},
     "output_type": "execute_result"
    }
   ],
   "source": [
    "my_set.add('F') # f is sorted before the 'O'\n",
    "my_set"
   ]
  },
  {
   "cell_type": "code",
   "execution_count": 51,
   "metadata": {
    "ExecuteTime": {
     "end_time": "2021-09-21T15:09:04.464352Z",
     "start_time": "2021-09-21T15:09:04.459354Z"
    },
    "colab": {},
    "colab_type": "code",
    "id": "95LU3t5rdVtT",
    "outputId": "182697b9-32ae-403e-9aed-54aacda99708"
   },
   "outputs": [
    {
     "data": {
      "text/plain": [
       "{1, 2, 4, 'A', 'B', 'C', 'D', 'E', 'F', 'O'}"
      ]
     },
     "execution_count": 51,
     "metadata": {},
     "output_type": "execute_result"
    }
   ],
   "source": [
    "my_set"
   ]
  },
  {
   "cell_type": "markdown",
   "metadata": {
    "colab_type": "text",
    "id": "ivDskOwldVta"
   },
   "source": [
    "### Delete an element from the list\n",
    "\n",
    "* <b><span class=\"mark\">Discard - It will not throw an error, if the element you want to remove is not present in the set.</span></b>\n",
    "* <b><span>remove - It will throw an error, if the element you want to remove is not present in the set.</span></b>\n",
    "\n",
    "---\n",
    "\n"
   ]
  },
  {
   "cell_type": "code",
   "execution_count": 52,
   "metadata": {
    "ExecuteTime": {
     "end_time": "2021-09-21T15:14:24.690120Z",
     "start_time": "2021-09-21T15:14:24.681119Z"
    },
    "colab": {},
    "colab_type": "code",
    "id": "RSiU9_hJdVtb"
   },
   "outputs": [],
   "source": [
    "my_set = {1, 2, 4, 'A', 'B', 'C', 'D', 'E', 'O'}"
   ]
  },
  {
   "cell_type": "code",
   "execution_count": 53,
   "metadata": {
    "ExecuteTime": {
     "end_time": "2021-09-21T15:14:25.904859Z",
     "start_time": "2021-09-21T15:14:25.894859Z"
    },
    "colab": {},
    "colab_type": "code",
    "id": "V-EpIkwHdVtg"
   },
   "outputs": [],
   "source": [
    "my_set.discard('A')"
   ]
  },
  {
   "cell_type": "code",
   "execution_count": 54,
   "metadata": {
    "ExecuteTime": {
     "end_time": "2021-09-21T15:14:28.003713Z",
     "start_time": "2021-09-21T15:14:27.989711Z"
    },
    "colab": {},
    "colab_type": "code",
    "id": "Y5kfukGfdVtr",
    "outputId": "8248b05f-e346-4413-ce49-12df5019dc0d"
   },
   "outputs": [
    {
     "data": {
      "text/plain": [
       "{1, 2, 4, 'B', 'C', 'D', 'E', 'O'}"
      ]
     },
     "execution_count": 54,
     "metadata": {},
     "output_type": "execute_result"
    }
   ],
   "source": [
    "my_set"
   ]
  },
  {
   "cell_type": "markdown",
   "metadata": {},
   "source": [
    "#### What if element not present in set?"
   ]
  },
  {
   "cell_type": "code",
   "execution_count": 58,
   "metadata": {
    "ExecuteTime": {
     "end_time": "2021-09-21T15:16:00.374695Z",
     "start_time": "2021-09-21T15:16:00.357697Z"
    },
    "colab": {},
    "colab_type": "code",
    "id": "w8NZGe59dVt2"
   },
   "outputs": [],
   "source": [
    "my_set.discard('X') # x is not in Set but discard() not  shown a error.Return None\n"
   ]
  },
  {
   "cell_type": "code",
   "execution_count": 59,
   "metadata": {
    "ExecuteTime": {
     "end_time": "2021-09-21T15:16:01.802849Z",
     "start_time": "2021-09-21T15:16:01.791854Z"
    }
   },
   "outputs": [
    {
     "name": "stdout",
     "output_type": "stream",
     "text": [
      "None\n"
     ]
    }
   ],
   "source": [
    "print(my_set.discard('X'))"
   ]
  },
  {
   "cell_type": "code",
   "execution_count": 60,
   "metadata": {
    "ExecuteTime": {
     "end_time": "2021-09-21T15:16:29.288856Z",
     "start_time": "2021-09-21T15:16:29.077240Z"
    },
    "colab": {},
    "colab_type": "code",
    "id": "Qb8SKy-bdVuA",
    "outputId": "8a84e675-90c4-4eb2-c896-9b768ffa5332",
    "scrolled": true
   },
   "outputs": [
    {
     "ename": "KeyError",
     "evalue": "'X'",
     "output_type": "error",
     "traceback": [
      "\u001b[1;31m---------------------------------------------------------------------------\u001b[0m",
      "\u001b[1;31mKeyError\u001b[0m                                  Traceback (most recent call last)",
      "\u001b[1;32m~\\AppData\\Local\\Temp/ipykernel_13180/36449666.py\u001b[0m in \u001b[0;36m<module>\u001b[1;34m\u001b[0m\n\u001b[1;32m----> 1\u001b[1;33m \u001b[0mmy_set\u001b[0m\u001b[1;33m.\u001b[0m\u001b[0mremove\u001b[0m\u001b[1;33m(\u001b[0m\u001b[1;34m'X'\u001b[0m\u001b[1;33m)\u001b[0m \u001b[1;31m# x is not in Set so set shown a error\u001b[0m\u001b[1;33m\u001b[0m\u001b[1;33m\u001b[0m\u001b[0m\n\u001b[0m\u001b[0;32m      2\u001b[0m \u001b[0mmy_set\u001b[0m\u001b[1;33m\u001b[0m\u001b[1;33m\u001b[0m\u001b[0m\n",
      "\u001b[1;31mKeyError\u001b[0m: 'X'"
     ]
    }
   ],
   "source": [
    "my_set.remove('X') # x is not in Set so set shown a error\n",
    "my_set"
   ]
  },
  {
   "cell_type": "markdown",
   "metadata": {
    "colab_type": "text",
    "id": "Rw7jUza9dVuI"
   },
   "source": [
    "### Difference between two Sets\n",
    "\n",
    "```A-B: Means Element from only A not B.```\n"
   ]
  },
  {
   "cell_type": "code",
   "execution_count": 61,
   "metadata": {
    "ExecuteTime": {
     "end_time": "2021-09-21T15:17:58.625246Z",
     "start_time": "2021-09-21T15:17:58.606243Z"
    },
    "colab": {},
    "colab_type": "code",
    "id": "MkMNOxuydVuK",
    "outputId": "f0af8ec8-7848-4a7d-f592-5e9cec07e03e"
   },
   "outputs": [
    {
     "data": {
      "text/plain": [
       "{1, 2, 4, 'B', 'C', 'D', 'E', 'O'}"
      ]
     },
     "execution_count": 61,
     "metadata": {},
     "output_type": "execute_result"
    }
   ],
   "source": [
    "# Set 1\n",
    "my_set"
   ]
  },
  {
   "cell_type": "code",
   "execution_count": 62,
   "metadata": {
    "ExecuteTime": {
     "end_time": "2021-09-21T15:18:03.487129Z",
     "start_time": "2021-09-21T15:18:03.468651Z"
    },
    "colab": {},
    "colab_type": "code",
    "id": "W8xAoHDpdVuO",
    "outputId": "d6e3df39-9a74-4838-bb6d-d73e47991b20"
   },
   "outputs": [
    {
     "data": {
      "text/plain": [
       "{1, 2, 'A', 'B'}"
      ]
     },
     "execution_count": 62,
     "metadata": {},
     "output_type": "execute_result"
    }
   ],
   "source": [
    "# Set 2\n",
    "my_set_from_list"
   ]
  },
  {
   "cell_type": "code",
   "execution_count": 63,
   "metadata": {
    "ExecuteTime": {
     "end_time": "2021-09-21T15:18:19.119388Z",
     "start_time": "2021-09-21T15:18:19.106387Z"
    },
    "colab": {},
    "colab_type": "code",
    "id": "pZS_ckfQdVuW",
    "outputId": "b142cb7e-1e0d-475c-b0a9-55c5336d3f7d"
   },
   "outputs": [
    {
     "data": {
      "text/plain": [
       "{4, 'C', 'D', 'E', 'O'}"
      ]
     },
     "execution_count": 63,
     "metadata": {},
     "output_type": "execute_result"
    }
   ],
   "source": [
    "# difference of 2 sets\n",
    "my_set.difference(my_set_from_list)"
   ]
  },
  {
   "cell_type": "code",
   "execution_count": 64,
   "metadata": {
    "ExecuteTime": {
     "end_time": "2021-09-21T15:18:24.457297Z",
     "start_time": "2021-09-21T15:18:24.450300Z"
    },
    "colab": {},
    "colab_type": "code",
    "id": "utaan_92dVug",
    "outputId": "bf3e2eba-5de0-4a37-c13e-4abc6207b5f5"
   },
   "outputs": [
    {
     "data": {
      "text/plain": [
       "{1, 2, 4, 'B', 'C', 'D', 'E', 'O'}"
      ]
     },
     "execution_count": 64,
     "metadata": {},
     "output_type": "execute_result"
    }
   ],
   "source": [
    "# it will not update the results, if not stored in a variable\n",
    "my_set"
   ]
  },
  {
   "cell_type": "code",
   "execution_count": 65,
   "metadata": {
    "ExecuteTime": {
     "end_time": "2021-09-21T15:18:51.089822Z",
     "start_time": "2021-09-21T15:18:51.077808Z"
    },
    "colab": {},
    "colab_type": "code",
    "id": "cqwq2_vvdVup"
   },
   "outputs": [],
   "source": [
    "# use the difference_update to store the results directly\n",
    "my_set.difference_update(my_set_from_list)"
   ]
  },
  {
   "cell_type": "code",
   "execution_count": 66,
   "metadata": {
    "ExecuteTime": {
     "end_time": "2021-09-21T15:18:52.176903Z",
     "start_time": "2021-09-21T15:18:52.170811Z"
    },
    "colab": {},
    "colab_type": "code",
    "id": "9G-1gWAhdVuu",
    "outputId": "2321cc5f-c8ae-4ab0-b5b9-b49886420b97"
   },
   "outputs": [
    {
     "data": {
      "text/plain": [
       "{4, 'C', 'D', 'E', 'O'}"
      ]
     },
     "execution_count": 66,
     "metadata": {},
     "output_type": "execute_result"
    }
   ],
   "source": [
    "# updated set\n",
    "my_set"
   ]
  },
  {
   "cell_type": "markdown",
   "metadata": {
    "colab_type": "text",
    "id": "VmvoAeArdVuy"
   },
   "source": [
    "### Intersection of two sets\n",
    "\n",
    "\n",
    "```A∩B : Common Element from Both Sets```\n",
    "\n",
    "---"
   ]
  },
  {
   "cell_type": "code",
   "execution_count": 67,
   "metadata": {
    "ExecuteTime": {
     "end_time": "2021-09-21T15:20:14.363539Z",
     "start_time": "2021-09-21T15:20:14.348058Z"
    },
    "colab": {},
    "colab_type": "code",
    "id": "z-7NNBaxdVu0"
   },
   "outputs": [],
   "source": [
    "# Set 1\n",
    "my_set = {1, 2, 4, 'A', 'B', 'C', 'D', 'E', 'O'}"
   ]
  },
  {
   "cell_type": "code",
   "execution_count": 68,
   "metadata": {
    "ExecuteTime": {
     "end_time": "2021-09-21T15:20:15.200863Z",
     "start_time": "2021-09-21T15:20:15.187876Z"
    },
    "colab": {},
    "colab_type": "code",
    "id": "6FpQbpsHdVu8",
    "outputId": "842985fc-6452-40ce-ee43-f646229dbe6a"
   },
   "outputs": [
    {
     "data": {
      "text/plain": [
       "{1, 2, 'A', 'B'}"
      ]
     },
     "execution_count": 68,
     "metadata": {},
     "output_type": "execute_result"
    }
   ],
   "source": [
    "# Set 2 \n",
    "my_set_from_list"
   ]
  },
  {
   "cell_type": "code",
   "execution_count": 69,
   "metadata": {
    "ExecuteTime": {
     "end_time": "2021-09-21T15:20:17.800908Z",
     "start_time": "2021-09-21T15:20:17.782910Z"
    },
    "colab": {},
    "colab_type": "code",
    "id": "QIvF4YyOdVvG",
    "outputId": "9c1b6fbd-6c6e-4d5e-8804-5446a207c82f"
   },
   "outputs": [
    {
     "data": {
      "text/plain": [
       "{1, 2, 'A', 'B'}"
      ]
     },
     "execution_count": 69,
     "metadata": {},
     "output_type": "execute_result"
    }
   ],
   "source": [
    "# intersection of 2 sets\n",
    "my_set.intersection(my_set_from_list)"
   ]
  },
  {
   "cell_type": "code",
   "execution_count": 70,
   "metadata": {
    "ExecuteTime": {
     "end_time": "2021-09-21T15:20:20.106692Z",
     "start_time": "2021-09-21T15:20:20.101707Z"
    },
    "colab": {},
    "colab_type": "code",
    "id": "0qXvUeKgdVvR",
    "outputId": "f91e80fc-5ec8-4e06-e644-a9a87b535876"
   },
   "outputs": [
    {
     "data": {
      "text/plain": [
       "{1, 2, 4, 'A', 'B', 'C', 'D', 'E', 'O'}"
      ]
     },
     "execution_count": 70,
     "metadata": {},
     "output_type": "execute_result"
    }
   ],
   "source": [
    "# it will not update the results, if not stored in a variable\n",
    "my_set"
   ]
  },
  {
   "cell_type": "code",
   "execution_count": 71,
   "metadata": {
    "ExecuteTime": {
     "end_time": "2021-09-21T15:21:06.502295Z",
     "start_time": "2021-09-21T15:21:06.493294Z"
    },
    "colab": {},
    "colab_type": "code",
    "id": "K05y2YVtdVvV"
   },
   "outputs": [],
   "source": [
    "# to update directly, use intersection_update\n",
    "my_set.intersection_update(my_set_from_list)"
   ]
  },
  {
   "cell_type": "code",
   "execution_count": 72,
   "metadata": {
    "ExecuteTime": {
     "end_time": "2021-09-21T15:21:07.117366Z",
     "start_time": "2021-09-21T15:21:07.110366Z"
    },
    "colab": {},
    "colab_type": "code",
    "id": "rJ7CWNKNdVvb",
    "outputId": "9b59732b-5df2-45a4-b1e4-721e1c6cccc1"
   },
   "outputs": [
    {
     "data": {
      "text/plain": [
       "{1, 2, 'A', 'B'}"
      ]
     },
     "execution_count": 72,
     "metadata": {},
     "output_type": "execute_result"
    }
   ],
   "source": [
    "# updated set\n",
    "my_set"
   ]
  },
  {
   "cell_type": "markdown",
   "metadata": {
    "colab_type": "text",
    "id": "R7ugFNO1dVvg"
   },
   "source": [
    "### Other operations on set\n",
    "\n",
    "* is_disjoint\n",
    "* is_subset\n",
    "* is_superset\n",
    "* union\n",
    "\n",
    "---"
   ]
  },
  {
   "cell_type": "code",
   "execution_count": 74,
   "metadata": {
    "ExecuteTime": {
     "end_time": "2021-09-21T15:21:26.458325Z",
     "start_time": "2021-09-21T15:21:26.439257Z"
    },
    "colab": {},
    "colab_type": "code",
    "id": "a0-b10pedVvj"
   },
   "outputs": [],
   "source": [
    "# define 3 random sets\n",
    "sample_set_1 = {'A', 'B', 'C', 'D', 'E', 'F'}\n",
    "sample_set_2 = {'A', 'D', 'E'}\n",
    "sample_set_3 = {'S', 'T', 'U'}"
   ]
  },
  {
   "cell_type": "code",
   "execution_count": 75,
   "metadata": {
    "ExecuteTime": {
     "end_time": "2021-09-21T15:21:27.501144Z",
     "start_time": "2021-09-21T15:21:27.494145Z"
    },
    "colab": {},
    "colab_type": "code",
    "id": "CdukRgokdVvo",
    "outputId": "5ef02533-0c65-48ab-d74e-ba702e51e4de"
   },
   "outputs": [
    {
     "data": {
      "text/plain": [
       "False"
      ]
     },
     "execution_count": 75,
     "metadata": {},
     "output_type": "execute_result"
    }
   ],
   "source": [
    "# check if 2 sets are disjoint sets\n",
    "sample_set_1.isdisjoint(sample_set_2)"
   ]
  },
  {
   "cell_type": "code",
   "execution_count": 76,
   "metadata": {
    "ExecuteTime": {
     "end_time": "2021-09-21T15:21:29.217718Z",
     "start_time": "2021-09-21T15:21:29.206374Z"
    },
    "colab": {},
    "colab_type": "code",
    "id": "1ElEgF29dVvv",
    "outputId": "f4aa5489-eabe-4695-a67e-72c3ea8e10f2"
   },
   "outputs": [
    {
     "data": {
      "text/plain": [
       "True"
      ]
     },
     "execution_count": 76,
     "metadata": {},
     "output_type": "execute_result"
    }
   ],
   "source": [
    "sample_set_1.isdisjoint(sample_set_3)"
   ]
  },
  {
   "cell_type": "code",
   "execution_count": 77,
   "metadata": {
    "ExecuteTime": {
     "end_time": "2021-09-21T15:21:31.930775Z",
     "start_time": "2021-09-21T15:21:31.915140Z"
    },
    "colab": {},
    "colab_type": "code",
    "id": "51e1DYEcdVv2",
    "outputId": "dcb4b634-b73f-4876-e753-7105323118ec"
   },
   "outputs": [
    {
     "data": {
      "text/plain": [
       "True"
      ]
     },
     "execution_count": 77,
     "metadata": {},
     "output_type": "execute_result"
    }
   ],
   "source": [
    "# check if one set is subset of another set\n",
    "sample_set_2.issubset(sample_set_1)"
   ]
  },
  {
   "cell_type": "code",
   "execution_count": 78,
   "metadata": {
    "ExecuteTime": {
     "end_time": "2021-09-21T15:21:32.496987Z",
     "start_time": "2021-09-21T15:21:32.480996Z"
    },
    "colab": {},
    "colab_type": "code",
    "id": "H-A7aAV_dVv_",
    "outputId": "3ae10d58-ae0a-431b-eba9-df189d89d70c"
   },
   "outputs": [
    {
     "data": {
      "text/plain": [
       "True"
      ]
     },
     "execution_count": 78,
     "metadata": {},
     "output_type": "execute_result"
    }
   ],
   "source": [
    "# check if one set is superset of another\n",
    "sample_set_1.issuperset(sample_set_2)"
   ]
  },
  {
   "cell_type": "code",
   "execution_count": 79,
   "metadata": {
    "ExecuteTime": {
     "end_time": "2021-09-21T15:21:33.549284Z",
     "start_time": "2021-09-21T15:21:33.538278Z"
    },
    "colab": {},
    "colab_type": "code",
    "id": "BFjri6cvdVwG",
    "outputId": "2b6a4f08-4777-4c9b-aee5-3aef60e67f69"
   },
   "outputs": [
    {
     "data": {
      "text/plain": [
       "{'A', 'B', 'C', 'D', 'E', 'F', 'S', 'T', 'U'}"
      ]
     },
     "execution_count": 79,
     "metadata": {},
     "output_type": "execute_result"
    }
   ],
   "source": [
    "# union of 2 sets\n",
    "sample_set_1.union(sample_set_3)"
   ]
  },
  {
   "cell_type": "markdown",
   "metadata": {
    "colab_type": "text",
    "id": "hwWfDltBdVwQ"
   },
   "source": [
    "### Update Set\n",
    "\n",
    "---"
   ]
  },
  {
   "cell_type": "code",
   "execution_count": 80,
   "metadata": {
    "ExecuteTime": {
     "end_time": "2021-09-21T15:21:40.536852Z",
     "start_time": "2021-09-21T15:21:40.514116Z"
    },
    "colab": {},
    "colab_type": "code",
    "id": "eury5_2DdVwV"
   },
   "outputs": [],
   "source": [
    "# update a set with new values, it will add the values which are not present in the original set.\n",
    "sample_set_1.update({'C', 'D', 'E', 'R', 'Z'})"
   ]
  },
  {
   "cell_type": "code",
   "execution_count": 81,
   "metadata": {
    "ExecuteTime": {
     "end_time": "2021-09-21T15:21:42.221108Z",
     "start_time": "2021-09-21T15:21:42.205167Z"
    },
    "colab": {},
    "colab_type": "code",
    "id": "oQ_-c0dvdVwa",
    "outputId": "ef8051ff-3e05-4c83-ef98-30933b9e509f"
   },
   "outputs": [
    {
     "data": {
      "text/plain": [
       "{'A', 'B', 'C', 'D', 'E', 'F', 'R', 'Z'}"
      ]
     },
     "execution_count": 81,
     "metadata": {},
     "output_type": "execute_result"
    }
   ],
   "source": [
    "sample_set_1"
   ]
  },
  {
   "cell_type": "markdown",
   "metadata": {
    "colab_type": "text",
    "id": "gPh8sLA1dVwf"
   },
   "source": [
    "### Iterate the set\n",
    "\n",
    "---"
   ]
  },
  {
   "cell_type": "code",
   "execution_count": 82,
   "metadata": {
    "ExecuteTime": {
     "end_time": "2021-09-21T15:22:30.702025Z",
     "start_time": "2021-09-21T15:22:30.690044Z"
    },
    "colab": {},
    "colab_type": "code",
    "id": "HgzUYemBdVwg",
    "outputId": "110cfa42-f17e-42b7-ae19-306539f87857"
   },
   "outputs": [
    {
     "name": "stdout",
     "output_type": "stream",
     "text": [
      "F\n",
      "R\n",
      "A\n",
      "D\n",
      "Z\n",
      "E\n",
      "B\n",
      "C\n"
     ]
    }
   ],
   "source": [
    "# Iterate the set\n",
    "for element in sample_set_1:\n",
    "    print(element)"
   ]
  },
  {
   "cell_type": "code",
   "execution_count": 0,
   "metadata": {
    "colab": {},
    "colab_type": "code",
    "id": "WqDL35BldVwk"
   },
   "outputs": [],
   "source": []
  }
 ],
 "metadata": {
  "colab": {
   "name": "Data Structure - Sets.ipynb",
   "provenance": []
  },
  "kernelspec": {
   "display_name": "Python 3 (ipykernel)",
   "language": "python",
   "name": "python3"
  },
  "language_info": {
   "codemirror_mode": {
    "name": "ipython",
    "version": 3
   },
   "file_extension": ".py",
   "mimetype": "text/x-python",
   "name": "python",
   "nbconvert_exporter": "python",
   "pygments_lexer": "ipython3",
   "version": "3.8.11"
  },
  "toc": {
   "base_numbering": 1,
   "nav_menu": {},
   "number_sections": true,
   "sideBar": true,
   "skip_h1_title": false,
   "title_cell": "Table of Contents",
   "title_sidebar": "Contents",
   "toc_cell": false,
   "toc_position": {},
   "toc_section_display": true,
   "toc_window_display": false
  }
 },
 "nbformat": 4,
 "nbformat_minor": 1
}
