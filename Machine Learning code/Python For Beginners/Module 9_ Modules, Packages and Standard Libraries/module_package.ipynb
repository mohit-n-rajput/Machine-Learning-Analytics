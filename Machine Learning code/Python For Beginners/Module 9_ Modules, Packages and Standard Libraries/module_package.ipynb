{
 "cells": [
  {
   "cell_type": "markdown",
   "id": "fc9f6071",
   "metadata": {},
   "source": [
    "Modules are responsible for specific task."
   ]
  },
  {
   "cell_type": "markdown",
   "id": "bda8a670",
   "metadata": {},
   "source": [
    "###### **Functions can’t be used outside the file!**\n"
   ]
  },
  {
   "cell_type": "code",
   "execution_count": 1,
   "id": "186bc566",
   "metadata": {
    "ExecuteTime": {
     "end_time": "2021-09-29T19:39:14.484358Z",
     "start_time": "2021-09-29T19:39:14.315360Z"
    }
   },
   "outputs": [
    {
     "ename": "NameError",
     "evalue": "name 'hello' is not defined",
     "output_type": "error",
     "traceback": [
      "\u001b[1;31m---------------------------------------------------------------------------\u001b[0m",
      "\u001b[1;31mNameError\u001b[0m                                 Traceback (most recent call last)",
      "\u001b[1;32m~\\AppData\\Local\\Temp/ipykernel_15716/2674044599.py\u001b[0m in \u001b[0;36m<module>\u001b[1;34m\u001b[0m\n\u001b[1;32m----> 1\u001b[1;33m \u001b[0mhello\u001b[0m\u001b[1;33m(\u001b[0m\u001b[1;33m)\u001b[0m\u001b[1;33m\u001b[0m\u001b[1;33m\u001b[0m\u001b[0m\n\u001b[0m",
      "\u001b[1;31mNameError\u001b[0m: name 'hello' is not defined"
     ]
    }
   ],
   "source": [
    "hello()"
   ]
  },
  {
   "cell_type": "markdown",
   "id": "ee29175e",
   "metadata": {},
   "source": [
    "###### But we can use it via module which is .py file."
   ]
  },
  {
   "cell_type": "code",
   "execution_count": 2,
   "id": "1bdf0c0b",
   "metadata": {
    "ExecuteTime": {
     "end_time": "2021-09-29T19:39:15.192752Z",
     "start_time": "2021-09-29T19:39:15.178753Z"
    }
   },
   "outputs": [
    {
     "ename": "NameError",
     "evalue": "name 'circle' is not defined",
     "output_type": "error",
     "traceback": [
      "\u001b[1;31m---------------------------------------------------------------------------\u001b[0m",
      "\u001b[1;31mNameError\u001b[0m                                 Traceback (most recent call last)",
      "\u001b[1;32m~\\AppData\\Local\\Temp/ipykernel_15716/80844961.py\u001b[0m in \u001b[0;36m<module>\u001b[1;34m\u001b[0m\n\u001b[1;32m----> 1\u001b[1;33m \u001b[0mcircle\u001b[0m\u001b[1;33m(\u001b[0m\u001b[1;36m5\u001b[0m\u001b[1;33m)\u001b[0m\u001b[1;33m\u001b[0m\u001b[1;33m\u001b[0m\u001b[0m\n\u001b[0m",
      "\u001b[1;31mNameError\u001b[0m: name 'circle' is not defined"
     ]
    }
   ],
   "source": [
    "circle(5)"
   ]
  },
  {
   "cell_type": "code",
   "execution_count": 3,
   "id": "10add50a",
   "metadata": {
    "ExecuteTime": {
     "end_time": "2021-09-29T19:39:15.509751Z",
     "start_time": "2021-09-29T19:39:15.502751Z"
    }
   },
   "outputs": [
    {
     "ename": "NameError",
     "evalue": "name 'Circle' is not defined",
     "output_type": "error",
     "traceback": [
      "\u001b[1;31m---------------------------------------------------------------------------\u001b[0m",
      "\u001b[1;31mNameError\u001b[0m                                 Traceback (most recent call last)",
      "\u001b[1;32m~\\AppData\\Local\\Temp/ipykernel_15716/2960904197.py\u001b[0m in \u001b[0;36m<module>\u001b[1;34m\u001b[0m\n\u001b[1;32m----> 1\u001b[1;33m \u001b[0mCircle\u001b[0m\u001b[1;33m(\u001b[0m\u001b[1;36m5\u001b[0m\u001b[1;33m)\u001b[0m\u001b[1;33m\u001b[0m\u001b[1;33m\u001b[0m\u001b[0m\n\u001b[0m",
      "\u001b[1;31mNameError\u001b[0m: name 'Circle' is not defined"
     ]
    }
   ],
   "source": [
    "Circle(5)"
   ]
  },
  {
   "cell_type": "code",
   "execution_count": 4,
   "id": "392594b8",
   "metadata": {
    "ExecuteTime": {
     "end_time": "2021-09-29T19:39:15.809750Z",
     "start_time": "2021-09-29T19:39:15.802751Z"
    }
   },
   "outputs": [],
   "source": [
    "# import Circle.py which is in out directory\n",
    "import Circle  "
   ]
  },
  {
   "cell_type": "code",
   "execution_count": 5,
   "id": "9f57efb1",
   "metadata": {
    "ExecuteTime": {
     "end_time": "2021-09-29T19:39:16.095763Z",
     "start_time": "2021-09-29T19:39:16.077764Z"
    }
   },
   "outputs": [
    {
     "ename": "TypeError",
     "evalue": "'module' object is not callable",
     "output_type": "error",
     "traceback": [
      "\u001b[1;31m---------------------------------------------------------------------------\u001b[0m",
      "\u001b[1;31mTypeError\u001b[0m                                 Traceback (most recent call last)",
      "\u001b[1;32m~\\AppData\\Local\\Temp/ipykernel_15716/2960904197.py\u001b[0m in \u001b[0;36m<module>\u001b[1;34m\u001b[0m\n\u001b[1;32m----> 1\u001b[1;33m \u001b[0mCircle\u001b[0m\u001b[1;33m(\u001b[0m\u001b[1;36m5\u001b[0m\u001b[1;33m)\u001b[0m\u001b[1;33m\u001b[0m\u001b[1;33m\u001b[0m\u001b[0m\n\u001b[0m",
      "\u001b[1;31mTypeError\u001b[0m: 'module' object is not callable"
     ]
    }
   ],
   "source": [
    "Circle(5)"
   ]
  },
  {
   "cell_type": "code",
   "execution_count": 6,
   "id": "4669f907",
   "metadata": {
    "ExecuteTime": {
     "end_time": "2021-09-29T19:39:16.301765Z",
     "start_time": "2021-09-29T19:39:16.291764Z"
    }
   },
   "outputs": [
    {
     "data": {
      "text/plain": [
       "78.5"
      ]
     },
     "execution_count": 6,
     "metadata": {},
     "output_type": "execute_result"
    }
   ],
   "source": [
    "Circle.Circle(5)"
   ]
  },
  {
   "cell_type": "code",
   "execution_count": 7,
   "id": "96fc87dc",
   "metadata": {
    "ExecuteTime": {
     "end_time": "2021-09-29T19:39:16.523764Z",
     "start_time": "2021-09-29T19:39:16.502763Z"
    }
   },
   "outputs": [
    {
     "ename": "NameError",
     "evalue": "name 'square' is not defined",
     "output_type": "error",
     "traceback": [
      "\u001b[1;31m---------------------------------------------------------------------------\u001b[0m",
      "\u001b[1;31mNameError\u001b[0m                                 Traceback (most recent call last)",
      "\u001b[1;32m~\\AppData\\Local\\Temp/ipykernel_15716/1291548297.py\u001b[0m in \u001b[0;36m<module>\u001b[1;34m\u001b[0m\n\u001b[1;32m----> 1\u001b[1;33m \u001b[0msquare\u001b[0m\u001b[1;33m(\u001b[0m\u001b[1;33m)\u001b[0m\u001b[1;33m\u001b[0m\u001b[1;33m\u001b[0m\u001b[0m\n\u001b[0m",
      "\u001b[1;31mNameError\u001b[0m: name 'square' is not defined"
     ]
    }
   ],
   "source": [
    "square()"
   ]
  },
  {
   "cell_type": "code",
   "execution_count": 8,
   "id": "b5810013",
   "metadata": {
    "ExecuteTime": {
     "end_time": "2021-09-29T19:39:16.975529Z",
     "start_time": "2021-09-29T19:39:16.953531Z"
    }
   },
   "outputs": [
    {
     "data": {
      "text/plain": [
       "25"
      ]
     },
     "execution_count": 8,
     "metadata": {},
     "output_type": "execute_result"
    }
   ],
   "source": [
    "import Square\n",
    "Square.Square(5)"
   ]
  },
  {
   "cell_type": "markdown",
   "id": "51ff6716",
   "metadata": {},
   "source": [
    "###### Module with lowercase letter."
   ]
  },
  {
   "cell_type": "code",
   "execution_count": 9,
   "id": "7721f113",
   "metadata": {
    "ExecuteTime": {
     "end_time": "2021-09-29T19:39:18.704505Z",
     "start_time": "2021-09-29T19:39:18.691502Z"
    }
   },
   "outputs": [
    {
     "ename": "NameError",
     "evalue": "name 'circle' is not defined",
     "output_type": "error",
     "traceback": [
      "\u001b[1;31m---------------------------------------------------------------------------\u001b[0m",
      "\u001b[1;31mNameError\u001b[0m                                 Traceback (most recent call last)",
      "\u001b[1;32m~\\AppData\\Local\\Temp/ipykernel_15716/80844961.py\u001b[0m in \u001b[0;36m<module>\u001b[1;34m\u001b[0m\n\u001b[1;32m----> 1\u001b[1;33m \u001b[0mcircle\u001b[0m\u001b[1;33m(\u001b[0m\u001b[1;36m5\u001b[0m\u001b[1;33m)\u001b[0m\u001b[1;33m\u001b[0m\u001b[1;33m\u001b[0m\u001b[0m\n\u001b[0m",
      "\u001b[1;31mNameError\u001b[0m: name 'circle' is not defined"
     ]
    }
   ],
   "source": [
    "circle(5)"
   ]
  },
  {
   "cell_type": "code",
   "execution_count": 10,
   "id": "0b23d10d",
   "metadata": {
    "ExecuteTime": {
     "end_time": "2021-09-29T19:39:19.268967Z",
     "start_time": "2021-09-29T19:39:19.253337Z"
    }
   },
   "outputs": [],
   "source": [
    "import circle_Area"
   ]
  },
  {
   "cell_type": "code",
   "execution_count": 11,
   "id": "38ebc175",
   "metadata": {
    "ExecuteTime": {
     "end_time": "2021-09-29T19:39:19.819771Z",
     "start_time": "2021-09-29T19:39:19.804548Z"
    }
   },
   "outputs": [
    {
     "data": {
      "text/plain": [
       "<module 'circle_Area' from 'D:\\\\OneDrive\\\\data science\\\\ai-ml-analytics-vidhya\\\\Analytics-Vidhya\\\\Machine Learning code\\\\Python For Beginners\\\\Module 9_ Modules, Packages and Standard Libraries\\\\circle_Area.py'>"
      ]
     },
     "execution_count": 11,
     "metadata": {},
     "output_type": "execute_result"
    }
   ],
   "source": [
    "circle_Area"
   ]
  },
  {
   "cell_type": "code",
   "execution_count": 12,
   "id": "9ddbdda8",
   "metadata": {
    "ExecuteTime": {
     "end_time": "2021-09-29T19:39:20.978846Z",
     "start_time": "2021-09-29T19:39:20.956846Z"
    }
   },
   "outputs": [
    {
     "ename": "TypeError",
     "evalue": "'module' object is not callable",
     "output_type": "error",
     "traceback": [
      "\u001b[1;31m---------------------------------------------------------------------------\u001b[0m",
      "\u001b[1;31mTypeError\u001b[0m                                 Traceback (most recent call last)",
      "\u001b[1;32m~\\AppData\\Local\\Temp/ipykernel_15716/701277827.py\u001b[0m in \u001b[0;36m<module>\u001b[1;34m\u001b[0m\n\u001b[1;32m----> 1\u001b[1;33m \u001b[0mcircle_Area\u001b[0m\u001b[1;33m(\u001b[0m\u001b[1;33m)\u001b[0m\u001b[1;33m\u001b[0m\u001b[1;33m\u001b[0m\u001b[0m\n\u001b[0m",
      "\u001b[1;31mTypeError\u001b[0m: 'module' object is not callable"
     ]
    }
   ],
   "source": [
    "circle_Area()"
   ]
  },
  {
   "cell_type": "code",
   "execution_count": 13,
   "id": "f74433c9",
   "metadata": {
    "ExecuteTime": {
     "end_time": "2021-09-29T19:39:21.458497Z",
     "start_time": "2021-09-29T19:39:21.453506Z"
    }
   },
   "outputs": [
    {
     "data": {
      "text/plain": [
       "78.5"
      ]
     },
     "execution_count": 13,
     "metadata": {},
     "output_type": "execute_result"
    }
   ],
   "source": [
    "circle_Area.circle(5)"
   ]
  },
  {
   "cell_type": "code",
   "execution_count": 14,
   "id": "eeab2097",
   "metadata": {
    "ExecuteTime": {
     "end_time": "2021-09-29T19:39:24.888033Z",
     "start_time": "2021-09-29T19:39:24.879035Z"
    }
   },
   "outputs": [
    {
     "data": {
      "text/plain": [
       "ModuleSpec(name='Circle', loader=<_frozen_importlib_external.SourceFileLoader object at 0x000002061664F700>, origin='D:\\\\OneDrive\\\\data science\\\\ai-ml-analytics-vidhya\\\\Analytics-Vidhya\\\\Machine Learning code\\\\Python For Beginners\\\\Module 9_ Modules, Packages and Standard Libraries\\\\Circle.py')"
      ]
     },
     "execution_count": 14,
     "metadata": {},
     "output_type": "execute_result"
    }
   ],
   "source": [
    "Circle.__spec__"
   ]
  },
  {
   "cell_type": "code",
   "execution_count": 15,
   "id": "d3a116d1",
   "metadata": {
    "ExecuteTime": {
     "end_time": "2021-09-29T19:39:37.729735Z",
     "start_time": "2021-09-29T19:39:37.716439Z"
    }
   },
   "outputs": [
    {
     "data": {
      "text/plain": [
       "<function Square.Square(l)>"
      ]
     },
     "execution_count": 15,
     "metadata": {},
     "output_type": "execute_result"
    }
   ],
   "source": [
    "Square.Square"
   ]
  },
  {
   "cell_type": "code",
   "execution_count": 17,
   "id": "a5ed2344",
   "metadata": {
    "ExecuteTime": {
     "end_time": "2021-09-29T19:39:51.470140Z",
     "start_time": "2021-09-29T19:39:51.455139Z"
    }
   },
   "outputs": [
    {
     "data": {
      "text/plain": [
       "''"
      ]
     },
     "execution_count": 17,
     "metadata": {},
     "output_type": "execute_result"
    }
   ],
   "source": [
    "Square.__package__"
   ]
  },
  {
   "cell_type": "markdown",
   "id": "9b26a9e6",
   "metadata": {},
   "source": [
    "<span class=\"mark\">Module is collection of functions that are related to solve some specific task.</span>"
   ]
  },
  {
   "cell_type": "markdown",
   "id": "9e223849",
   "metadata": {},
   "source": [
    "<span class=\"mark\">Package is collection of module of same domain of class.</span>"
   ]
  },
  {
   "cell_type": "markdown",
   "id": "14cb10c1",
   "metadata": {
    "ExecuteTime": {
     "end_time": "2021-09-29T19:42:00.367433Z",
     "start_time": "2021-09-29T19:42:00.356435Z"
    }
   },
   "source": [
    "package: Operator\n",
    "    \n",
    "Modules:\n",
    "\n",
    "1. Arithmetic.py\n",
    "2. Logical.py\n",
    "3. Comparison.py"
   ]
  },
  {
   "cell_type": "markdown",
   "id": "62e7a4fe",
   "metadata": {},
   "source": [
    "## Types of packages in Python:\n",
    "1. Python Standard Library:\n",
    "   1. **providees:**\n",
    "        - Built-in Functions\n",
    "        - Built-in Constants\n",
    "        - Data Types\n",
    "        - File Formats\n",
    "        - Useful Modules\n",
    "2. Packages"
   ]
  },
  {
   "cell_type": "code",
   "execution_count": null,
   "id": "413ac1c1",
   "metadata": {},
   "outputs": [],
   "source": []
  }
 ],
 "metadata": {
  "kernelspec": {
   "display_name": "Python 3 (ipykernel)",
   "language": "python",
   "name": "python3"
  },
  "language_info": {
   "codemirror_mode": {
    "name": "ipython",
    "version": 3
   },
   "file_extension": ".py",
   "mimetype": "text/x-python",
   "name": "python",
   "nbconvert_exporter": "python",
   "pygments_lexer": "ipython3",
   "version": "3.8.11"
  },
  "toc": {
   "base_numbering": 1,
   "nav_menu": {},
   "number_sections": true,
   "sideBar": true,
   "skip_h1_title": false,
   "title_cell": "Table of Contents",
   "title_sidebar": "Contents",
   "toc_cell": false,
   "toc_position": {},
   "toc_section_display": true,
   "toc_window_display": false
  }
 },
 "nbformat": 4,
 "nbformat_minor": 5
}
