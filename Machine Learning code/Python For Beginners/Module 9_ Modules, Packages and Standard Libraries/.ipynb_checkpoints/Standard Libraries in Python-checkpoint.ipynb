{
 "cells": [
  {
   "cell_type": "markdown",
   "metadata": {},
   "source": [
    "---\n",
    "---\n",
    "\n",
    "<center><h1> 📍 📍 Standard Libraries in Python 📍 📍</h1></center>\n",
    "\n",
    "---"
   ]
  },
  {
   "cell_type": "markdown",
   "metadata": {},
   "source": [
    "\n",
    "\n",
    "**`MATH`**\n",
    "\n",
    "---"
   ]
  },
  {
   "cell_type": "code",
   "execution_count": 1,
   "metadata": {
    "ExecuteTime": {
     "end_time": "2021-09-29T20:28:21.886257Z",
     "start_time": "2021-09-29T20:28:21.870258Z"
    }
   },
   "outputs": [],
   "source": [
    "import math"
   ]
  },
  {
   "cell_type": "code",
   "execution_count": 2,
   "metadata": {
    "ExecuteTime": {
     "end_time": "2021-09-29T20:28:22.259951Z",
     "start_time": "2021-09-29T20:28:22.241657Z"
    }
   },
   "outputs": [
    {
     "data": {
      "text/plain": [
       "21"
      ]
     },
     "execution_count": 2,
     "metadata": {},
     "output_type": "execute_result"
    }
   ],
   "source": [
    "# the smallest integer greater than or equal to x.\n",
    "math.ceil(20.222)"
   ]
  },
  {
   "cell_type": "code",
   "execution_count": 3,
   "metadata": {
    "ExecuteTime": {
     "end_time": "2021-09-29T20:28:24.269830Z",
     "start_time": "2021-09-29T20:28:24.254829Z"
    }
   },
   "outputs": [
    {
     "data": {
      "text/plain": [
       "20"
      ]
     },
     "execution_count": 3,
     "metadata": {},
     "output_type": "execute_result"
    }
   ],
   "source": [
    "# the largest integer less than or equal to x\n",
    "math.floor(20.222)"
   ]
  },
  {
   "cell_type": "code",
   "execution_count": 5,
   "metadata": {
    "ExecuteTime": {
     "end_time": "2021-09-29T20:28:31.002948Z",
     "start_time": "2021-09-29T20:28:30.991949Z"
    }
   },
   "outputs": [
    {
     "data": {
      "text/plain": [
       "3628800"
      ]
     },
     "execution_count": 5,
     "metadata": {},
     "output_type": "execute_result"
    }
   ],
   "source": [
    "# factorial of a number\n",
    "math.factorial(10)"
   ]
  },
  {
   "cell_type": "code",
   "execution_count": 6,
   "metadata": {
    "ExecuteTime": {
     "end_time": "2021-09-29T20:28:33.062489Z",
     "start_time": "2021-09-29T20:28:33.054489Z"
    }
   },
   "outputs": [
    {
     "data": {
      "text/plain": [
       "5"
      ]
     },
     "execution_count": 6,
     "metadata": {},
     "output_type": "execute_result"
    }
   ],
   "source": [
    "# greatest common divisor of the integers a and b.\n",
    "math.gcd(20,25)"
   ]
  },
  {
   "cell_type": "markdown",
   "metadata": {},
   "source": [
    "***Learn more about the functions in math library here: https://docs.python.org/3/library/math.html***\n",
    "\n",
    "---\n",
    "\n",
    "**`RANDOM`**\n",
    "\n",
    "---"
   ]
  },
  {
   "cell_type": "code",
   "execution_count": 7,
   "metadata": {
    "ExecuteTime": {
     "end_time": "2021-09-29T20:28:38.557617Z",
     "start_time": "2021-09-29T20:28:38.554615Z"
    }
   },
   "outputs": [],
   "source": [
    "import random"
   ]
  },
  {
   "cell_type": "code",
   "execution_count": 8,
   "metadata": {
    "ExecuteTime": {
     "end_time": "2021-09-29T20:29:08.614242Z",
     "start_time": "2021-09-29T20:29:08.605082Z"
    }
   },
   "outputs": [
    {
     "name": "stdout",
     "output_type": "stream",
     "text": [
      "apple\n",
      "apple\n",
      "apple\n",
      "apple\n",
      "pear\n",
      "pear\n",
      "banana\n",
      "pear\n",
      "pear\n",
      "pear\n"
     ]
    }
   ],
   "source": [
    "for i in range(10):\n",
    "    print(random.choice(['apple', 'pear', 'banana']))"
   ]
  },
  {
   "cell_type": "code",
   "execution_count": 9,
   "metadata": {
    "ExecuteTime": {
     "end_time": "2021-09-29T20:29:16.001474Z",
     "start_time": "2021-09-29T20:29:15.992475Z"
    }
   },
   "outputs": [
    {
     "data": {
      "text/plain": [
       "'banana'"
      ]
     },
     "execution_count": 9,
     "metadata": {},
     "output_type": "execute_result"
    }
   ],
   "source": [
    "# select a random element from a list\n",
    "random.choice(['apple', 'pear', 'banana'])"
   ]
  },
  {
   "cell_type": "markdown",
   "metadata": {},
   "source": [
    "random.sample(range of elements, no of elements)"
   ]
  },
  {
   "cell_type": "code",
   "execution_count": 24,
   "metadata": {
    "ExecuteTime": {
     "end_time": "2021-09-29T20:32:31.288245Z",
     "start_time": "2021-09-29T20:32:31.269246Z"
    }
   },
   "outputs": [
    {
     "data": {
      "text/plain": [
       "[311, 427, 419, 401, 279, 271, 307, 332, 79, 461]"
      ]
     },
     "execution_count": 24,
     "metadata": {},
     "output_type": "execute_result"
    }
   ],
   "source": [
    "# select 10 different numbers within a range of numbers\n",
    "\n",
    "random.sample(range(10,500), 10)"
   ]
  },
  {
   "cell_type": "code",
   "execution_count": 25,
   "metadata": {
    "ExecuteTime": {
     "end_time": "2021-09-29T20:32:33.909151Z",
     "start_time": "2021-09-29T20:32:33.894152Z"
    }
   },
   "outputs": [
    {
     "data": {
      "text/plain": [
       "0.5279231526027216"
      ]
     },
     "execution_count": 25,
     "metadata": {},
     "output_type": "execute_result"
    }
   ],
   "source": [
    "# select a random float number\n",
    "random.random()  "
   ]
  },
  {
   "cell_type": "code",
   "execution_count": 26,
   "metadata": {
    "ExecuteTime": {
     "end_time": "2021-09-29T20:32:34.509584Z",
     "start_time": "2021-09-29T20:32:34.495583Z"
    }
   },
   "outputs": [
    {
     "data": {
      "text/plain": [
       "0.9733687940942897"
      ]
     },
     "execution_count": 26,
     "metadata": {},
     "output_type": "execute_result"
    }
   ],
   "source": [
    "# select a random float number within a range.\n",
    "random.uniform(0,2)"
   ]
  },
  {
   "cell_type": "code",
   "execution_count": 34,
   "metadata": {
    "ExecuteTime": {
     "end_time": "2021-09-29T20:41:31.397613Z",
     "start_time": "2021-09-29T20:41:31.379601Z"
    }
   },
   "outputs": [
    {
     "data": {
      "text/plain": [
       "0.841073868476129"
      ]
     },
     "execution_count": 34,
     "metadata": {},
     "output_type": "execute_result"
    }
   ],
   "source": [
    "random.uniform(2,-10)"
   ]
  },
  {
   "cell_type": "code",
   "execution_count": 35,
   "metadata": {
    "ExecuteTime": {
     "end_time": "2021-09-29T20:41:36.157365Z",
     "start_time": "2021-09-29T20:41:36.142343Z"
    }
   },
   "outputs": [
    {
     "ename": "ValueError",
     "evalue": "empty range for randrange() (3, -6, -9)",
     "output_type": "error",
     "traceback": [
      "\u001b[1;31m---------------------------------------------------------------------------\u001b[0m",
      "\u001b[1;31mValueError\u001b[0m                                Traceback (most recent call last)",
      "\u001b[1;32m~\\AppData\\Local\\Temp/ipykernel_21652/1284691954.py\u001b[0m in \u001b[0;36m<module>\u001b[1;34m\u001b[0m\n\u001b[0;32m      1\u001b[0m \u001b[1;31m# random integer chosen from range(6)\u001b[0m\u001b[1;33m\u001b[0m\u001b[1;33m\u001b[0m\u001b[1;33m\u001b[0m\u001b[0m\n\u001b[1;32m----> 2\u001b[1;33m \u001b[0mrandom\u001b[0m\u001b[1;33m.\u001b[0m\u001b[0mrandrange\u001b[0m\u001b[1;33m(\u001b[0m\u001b[1;36m3\u001b[0m\u001b[1;33m,\u001b[0m\u001b[1;33m-\u001b[0m\u001b[1;36m6\u001b[0m\u001b[1;33m)\u001b[0m\u001b[1;33m\u001b[0m\u001b[1;33m\u001b[0m\u001b[0m\n\u001b[0m",
      "\u001b[1;32m~\\anaconda3\\lib\\random.py\u001b[0m in \u001b[0;36mrandrange\u001b[1;34m(self, start, stop, step, _int)\u001b[0m\n\u001b[0;32m    224\u001b[0m             \u001b[1;32mreturn\u001b[0m \u001b[0mistart\u001b[0m \u001b[1;33m+\u001b[0m \u001b[0mself\u001b[0m\u001b[1;33m.\u001b[0m\u001b[0m_randbelow\u001b[0m\u001b[1;33m(\u001b[0m\u001b[0mwidth\u001b[0m\u001b[1;33m)\u001b[0m\u001b[1;33m\u001b[0m\u001b[1;33m\u001b[0m\u001b[0m\n\u001b[0;32m    225\u001b[0m         \u001b[1;32mif\u001b[0m \u001b[0mstep\u001b[0m \u001b[1;33m==\u001b[0m \u001b[1;36m1\u001b[0m\u001b[1;33m:\u001b[0m\u001b[1;33m\u001b[0m\u001b[1;33m\u001b[0m\u001b[0m\n\u001b[1;32m--> 226\u001b[1;33m             \u001b[1;32mraise\u001b[0m \u001b[0mValueError\u001b[0m\u001b[1;33m(\u001b[0m\u001b[1;34m\"empty range for randrange() (%d, %d, %d)\"\u001b[0m \u001b[1;33m%\u001b[0m \u001b[1;33m(\u001b[0m\u001b[0mistart\u001b[0m\u001b[1;33m,\u001b[0m \u001b[0mistop\u001b[0m\u001b[1;33m,\u001b[0m \u001b[0mwidth\u001b[0m\u001b[1;33m)\u001b[0m\u001b[1;33m)\u001b[0m\u001b[1;33m\u001b[0m\u001b[1;33m\u001b[0m\u001b[0m\n\u001b[0m\u001b[0;32m    227\u001b[0m \u001b[1;33m\u001b[0m\u001b[0m\n\u001b[0;32m    228\u001b[0m         \u001b[1;31m# Non-unit step argument supplied.\u001b[0m\u001b[1;33m\u001b[0m\u001b[1;33m\u001b[0m\u001b[1;33m\u001b[0m\u001b[0m\n",
      "\u001b[1;31mValueError\u001b[0m: empty range for randrange() (3, -6, -9)"
     ]
    }
   ],
   "source": [
    "# random integer chosen from range(6)\n",
    "random.randrange(3,-6)"
   ]
  },
  {
   "cell_type": "code",
   "execution_count": 36,
   "metadata": {
    "ExecuteTime": {
     "end_time": "2021-09-29T20:41:36.381378Z",
     "start_time": "2021-09-29T20:41:36.366366Z"
    }
   },
   "outputs": [
    {
     "data": {
      "text/plain": [
       "3"
      ]
     },
     "execution_count": 36,
     "metadata": {},
     "output_type": "execute_result"
    }
   ],
   "source": [
    "# random integer chosen from range(6)\n",
    "random.randrange(3,6)"
   ]
  },
  {
   "cell_type": "code",
   "execution_count": 37,
   "metadata": {
    "ExecuteTime": {
     "end_time": "2021-09-29T20:41:36.877880Z",
     "start_time": "2021-09-29T20:41:36.866881Z"
    }
   },
   "outputs": [
    {
     "data": {
      "text/plain": [
       "9"
      ]
     },
     "execution_count": 37,
     "metadata": {},
     "output_type": "execute_result"
    }
   ],
   "source": [
    "random.randint(1,10)"
   ]
  },
  {
   "cell_type": "markdown",
   "metadata": {},
   "source": [
    " `DATE TIME`"
   ]
  },
  {
   "cell_type": "markdown",
   "metadata": {},
   "source": [
    "\n",
    "\n",
    "---\n",
    "\n",
    "\n",
    "<center>\n",
    "    \n",
    "| **Directive** | **Meaning**                                            |\n",
    "| ---           | ---                                                    |\n",
    "|  **%a**       | Weekday as locale’s abbreviated name.                  |\n",
    "|  **%A**       | Weekday as locale’s full name.                         |  \n",
    "|  **%d**       | Day of the month as a zero-padded decimal number.      |\n",
    "|  **%b**       | Month as locale’s abbreviated name.\t                 |\n",
    "|  **%B**       | Month as locale’s full name.\t                         |\n",
    "|  **%m**       | Month as a zero-padded decimal number.                 |\n",
    "|  **%y**       | Year without century as a zero-padded decimal number.  |\n",
    "|  **%Y**       | Year with century as a decimal number.                 |\n",
    "|  **%H**       | Hour (24-hour clock) as a zero-padded decimal number.  |\n",
    "\n",
    "</center>\n",
    "\n",
    "---\n",
    "\n",
    "***You can read more about the other directives and datetime library here: https://docs.python.org/3/library/datetime.html***"
   ]
  },
  {
   "cell_type": "code",
   "execution_count": 38,
   "metadata": {
    "ExecuteTime": {
     "end_time": "2021-09-29T20:46:48.745422Z",
     "start_time": "2021-09-29T20:46:48.735413Z"
    }
   },
   "outputs": [],
   "source": [
    "# dates are easily constructed and formatted\n",
    "from datetime import date"
   ]
  },
  {
   "cell_type": "code",
   "execution_count": 39,
   "metadata": {
    "ExecuteTime": {
     "end_time": "2021-09-29T20:46:58.005203Z",
     "start_time": "2021-09-29T20:46:57.985205Z"
    }
   },
   "outputs": [
    {
     "data": {
      "text/plain": [
       "datetime.date(2021, 9, 30)"
      ]
     },
     "execution_count": 39,
     "metadata": {},
     "output_type": "execute_result"
    }
   ],
   "source": [
    "date.today()"
   ]
  },
  {
   "cell_type": "code",
   "execution_count": 46,
   "metadata": {
    "ExecuteTime": {
     "end_time": "2021-09-29T20:47:42.902297Z",
     "start_time": "2021-09-29T20:47:42.897287Z"
    }
   },
   "outputs": [
    {
     "name": "stdout",
     "output_type": "stream",
     "text": [
      "Date:  2021-09-30\n"
     ]
    }
   ],
   "source": [
    "# get the current date\n",
    "TODAY = date.today()\n",
    "print(\"Date: \", TODAY)"
   ]
  },
  {
   "cell_type": "code",
   "execution_count": 47,
   "metadata": {
    "ExecuteTime": {
     "end_time": "2021-09-29T20:47:45.444588Z",
     "start_time": "2021-09-29T20:47:45.434590Z"
    }
   },
   "outputs": [
    {
     "name": "stdout",
     "output_type": "stream",
     "text": [
      "Formatted date: 09-30-21.\n"
     ]
    }
   ],
   "source": [
    "# format date\n",
    "print(\"Formatted date:\", TODAY.strftime(\"%m-%d-%y.\"))"
   ]
  },
  {
   "cell_type": "code",
   "execution_count": 48,
   "metadata": {
    "ExecuteTime": {
     "end_time": "2021-09-29T20:47:52.169536Z",
     "start_time": "2021-09-29T20:47:52.159538Z"
    }
   },
   "outputs": [
    {
     "name": "stdout",
     "output_type": "stream",
     "text": [
      "Formatted date: 30 Sep 2021 \n"
     ]
    }
   ],
   "source": [
    "# format date\n",
    "print(\"Formatted date:\", TODAY.strftime(\"%d %b %Y \"))"
   ]
  },
  {
   "cell_type": "code",
   "execution_count": 49,
   "metadata": {
    "ExecuteTime": {
     "end_time": "2021-09-29T20:47:53.456417Z",
     "start_time": "2021-09-29T20:47:53.448026Z"
    }
   },
   "outputs": [
    {
     "name": "stdout",
     "output_type": "stream",
     "text": [
      "Formatted date: Thursday on the 30 day of September.\n"
     ]
    }
   ],
   "source": [
    "# format date\n",
    "print(\"Formatted date:\", TODAY.strftime(\"%A on the %d day of %B.\"))"
   ]
  },
  {
   "cell_type": "code",
   "execution_count": 50,
   "metadata": {
    "ExecuteTime": {
     "end_time": "2021-09-29T20:48:11.375403Z",
     "start_time": "2021-09-29T20:48:11.360407Z"
    }
   },
   "outputs": [
    {
     "name": "stdout",
     "output_type": "stream",
     "text": [
      "Age in days: 20880\n"
     ]
    }
   ],
   "source": [
    "# dates support calendar arithmetic\n",
    "birthday = date(1964, 7, 31)\n",
    "age = TODAY - birthday\n",
    "\n",
    "print(\"Age in days:\", age.days)"
   ]
  },
  {
   "cell_type": "code",
   "execution_count": 64,
   "metadata": {
    "ExecuteTime": {
     "end_time": "2021-09-29T20:50:48.717527Z",
     "start_time": "2021-09-29T20:50:48.710525Z"
    }
   },
   "outputs": [],
   "source": [
    "from datetime import datetime,time"
   ]
  },
  {
   "cell_type": "code",
   "execution_count": 65,
   "metadata": {
    "ExecuteTime": {
     "end_time": "2021-09-29T20:51:04.415416Z",
     "start_time": "2021-09-29T20:51:04.411408Z"
    }
   },
   "outputs": [
    {
     "name": "stdout",
     "output_type": "stream",
     "text": [
      "current time:  2021-09-30 02:21:04.412408\n"
     ]
    }
   ],
   "source": [
    "print(\"current time: \", datetime.now())"
   ]
  },
  {
   "cell_type": "code",
   "execution_count": 69,
   "metadata": {
    "ExecuteTime": {
     "end_time": "2021-09-29T20:53:16.558459Z",
     "start_time": "2021-09-29T20:53:16.550463Z"
    }
   },
   "outputs": [],
   "source": [
    "from datetime import time "
   ]
  },
  {
   "cell_type": "code",
   "execution_count": 70,
   "metadata": {
    "ExecuteTime": {
     "end_time": "2021-09-29T20:53:19.495253Z",
     "start_time": "2021-09-29T20:53:19.475256Z"
    }
   },
   "outputs": [
    {
     "ename": "AttributeError",
     "evalue": "type object 'datetime.time' has no attribute 'localtime'",
     "output_type": "error",
     "traceback": [
      "\u001b[1;31m---------------------------------------------------------------------------\u001b[0m",
      "\u001b[1;31mAttributeError\u001b[0m                            Traceback (most recent call last)",
      "\u001b[1;32m~\\AppData\\Local\\Temp/ipykernel_21652/3964834856.py\u001b[0m in \u001b[0;36m<module>\u001b[1;34m\u001b[0m\n\u001b[0;32m      1\u001b[0m \u001b[1;31m#import time\u001b[0m\u001b[1;33m\u001b[0m\u001b[1;33m\u001b[0m\u001b[1;33m\u001b[0m\u001b[0m\n\u001b[1;32m----> 2\u001b[1;33m \u001b[0mtime\u001b[0m\u001b[1;33m.\u001b[0m\u001b[0mlocaltime\u001b[0m\u001b[1;33m(\u001b[0m\u001b[1;33m)\u001b[0m\u001b[1;33m\u001b[0m\u001b[1;33m\u001b[0m\u001b[0m\n\u001b[0m",
      "\u001b[1;31mAttributeError\u001b[0m: type object 'datetime.time' has no attribute 'localtime'"
     ]
    }
   ],
   "source": [
    "#import time\n",
    "time.localtime()"
   ]
  },
  {
   "cell_type": "code",
   "execution_count": 72,
   "metadata": {
    "ExecuteTime": {
     "end_time": "2021-09-29T20:53:38.914998Z",
     "start_time": "2021-09-29T20:53:38.901089Z"
    }
   },
   "outputs": [
    {
     "data": {
      "text/plain": [
       "time.struct_time(tm_year=2021, tm_mon=9, tm_mday=30, tm_hour=2, tm_min=23, tm_sec=38, tm_wday=3, tm_yday=273, tm_isdst=0)"
      ]
     },
     "execution_count": 72,
     "metadata": {},
     "output_type": "execute_result"
    }
   ],
   "source": [
    "import time\n",
    "time.localtime()"
   ]
  },
  {
   "cell_type": "markdown",
   "metadata": {},
   "source": [
    "\n",
    "\n",
    "---"
   ]
  },
  {
   "cell_type": "markdown",
   "metadata": {
    "ExecuteTime": {
     "end_time": "2021-09-29T20:53:49.543980Z",
     "start_time": "2021-09-29T20:53:49.536983Z"
    }
   },
   "source": [
    "`OS`  - OPERATING SYSTEM"
   ]
  },
  {
   "cell_type": "markdown",
   "metadata": {},
   "source": [
    "---\n",
    "\n",
    "\n",
    "- The os module provides dozens of functions for interacting with the operating system"
   ]
  },
  {
   "cell_type": "code",
   "execution_count": 74,
   "metadata": {
    "ExecuteTime": {
     "end_time": "2021-09-29T20:53:58.190838Z",
     "start_time": "2021-09-29T20:53:58.186839Z"
    }
   },
   "outputs": [
    {
     "name": "stdout",
     "output_type": "stream",
     "text": [
      "Get current working directory: D:\\OneDrive\\data science\\ai-ml-analytics-vidhya\\Analytics-Vidhya\\Machine Learning code\\Python For Beginners\\Module 9_ Modules, Packages and Standard Libraries\n"
     ]
    }
   ],
   "source": [
    "import os\n",
    "\n",
    "# Return the current working directory\n",
    "print(\"Get current working directory:\", os.getcwd())   \n"
   ]
  },
  {
   "cell_type": "code",
   "execution_count": 76,
   "metadata": {
    "ExecuteTime": {
     "end_time": "2021-09-29T20:55:14.265569Z",
     "start_time": "2021-09-29T20:55:14.251569Z"
    }
   },
   "outputs": [
    {
     "data": {
      "text/plain": [
       "['.ipynb_checkpoints',\n",
       " '1. Module, Package and Standard Library.pptx.pdf',\n",
       " 'Circle.py',\n",
       " 'circle_Area.py',\n",
       " 'module_package.ipynb',\n",
       " 'Square.py',\n",
       " 'Standard Libraries in Python.ipynb',\n",
       " '__pycache__']"
      ]
     },
     "execution_count": 76,
     "metadata": {},
     "output_type": "execute_result"
    }
   ],
   "source": [
    "# list  content of directory\n",
    "os.listdir()"
   ]
  },
  {
   "cell_type": "code",
   "execution_count": 77,
   "metadata": {
    "ExecuteTime": {
     "end_time": "2021-09-29T20:56:21.082072Z",
     "start_time": "2021-09-29T20:56:21.053084Z"
    }
   },
   "outputs": [
    {
     "name": "stdout",
     "output_type": "stream",
     "text": [
      "Make new directory\n"
     ]
    },
    {
     "data": {
      "text/plain": [
       "0"
      ]
     },
     "execution_count": 77,
     "metadata": {},
     "output_type": "execute_result"
    }
   ],
   "source": [
    "# Run the command mkdir in the system shell\n",
    "print(\"Make new directory\")\n",
    "os.system('mkdir today')"
   ]
  },
  {
   "cell_type": "code",
   "execution_count": 78,
   "metadata": {
    "ExecuteTime": {
     "end_time": "2021-09-29T20:56:27.564036Z",
     "start_time": "2021-09-29T20:56:27.553039Z"
    }
   },
   "outputs": [
    {
     "data": {
      "text/plain": [
       "['.ipynb_checkpoints',\n",
       " '1. Module, Package and Standard Library.pptx.pdf',\n",
       " 'Circle.py',\n",
       " 'circle_Area.py',\n",
       " 'module_package.ipynb',\n",
       " 'Square.py',\n",
       " 'Standard Libraries in Python.ipynb',\n",
       " 'today',\n",
       " '__pycache__']"
      ]
     },
     "execution_count": 78,
     "metadata": {},
     "output_type": "execute_result"
    }
   ],
   "source": [
    "os.listdir()"
   ]
  },
  {
   "cell_type": "code",
   "execution_count": 79,
   "metadata": {
    "ExecuteTime": {
     "end_time": "2021-09-29T20:57:53.838472Z",
     "start_time": "2021-09-29T20:57:53.817472Z"
    },
    "scrolled": true
   },
   "outputs": [
    {
     "name": "stdout",
     "output_type": "stream",
     "text": [
      "Change current directory to sample_data\n"
     ]
    }
   ],
   "source": [
    "# Change current working directory\n",
    "print(\"Change current directory to sample_data\")\n",
    "os.system('mkdir sample_data')\n",
    "os.chdir('sample_data/') \n",
    "\n"
   ]
  },
  {
   "cell_type": "code",
   "execution_count": 80,
   "metadata": {
    "ExecuteTime": {
     "end_time": "2021-09-29T20:58:06.032511Z",
     "start_time": "2021-09-29T20:58:06.017525Z"
    }
   },
   "outputs": [
    {
     "data": {
      "text/plain": [
       "[]"
      ]
     },
     "execution_count": 80,
     "metadata": {},
     "output_type": "execute_result"
    }
   ],
   "source": [
    "os.listdir()"
   ]
  },
  {
   "cell_type": "code",
   "execution_count": 81,
   "metadata": {
    "ExecuteTime": {
     "end_time": "2021-09-29T20:58:10.717210Z",
     "start_time": "2021-09-29T20:58:10.679210Z"
    }
   },
   "outputs": [
    {
     "name": "stdout",
     "output_type": "stream",
     "text": [
      "Listing existing directories:\n"
     ]
    },
    {
     "data": {
      "text/plain": [
       "1"
      ]
     },
     "execution_count": 81,
     "metadata": {},
     "output_type": "execute_result"
    }
   ],
   "source": [
    "# Check if new directory got created\n",
    "print(\"Listing existing directories:\")\n",
    "os.system('ls')"
   ]
  },
  {
   "cell_type": "code",
   "execution_count": 84,
   "metadata": {
    "ExecuteTime": {
     "end_time": "2021-09-29T20:58:55.140531Z",
     "start_time": "2021-09-29T20:58:55.117529Z"
    }
   },
   "outputs": [
    {
     "data": {
      "text/plain": [
       "0"
      ]
     },
     "execution_count": 84,
     "metadata": {},
     "output_type": "execute_result"
    }
   ],
   "source": [
    "os.system(\"cd ../\")\n"
   ]
  },
  {
   "cell_type": "code",
   "execution_count": 86,
   "metadata": {
    "ExecuteTime": {
     "end_time": "2021-09-29T20:59:14.576375Z",
     "start_time": "2021-09-29T20:59:14.567372Z"
    }
   },
   "outputs": [
    {
     "data": {
      "text/plain": [
       "'D:\\\\OneDrive\\\\data science\\\\ai-ml-analytics-vidhya\\\\Analytics-Vidhya\\\\Machine Learning code\\\\Python For Beginners\\\\Module 9_ Modules, Packages and Standard Libraries\\\\sample_data'"
      ]
     },
     "execution_count": 86,
     "metadata": {},
     "output_type": "execute_result"
    }
   ],
   "source": [
    "os.getcwd()"
   ]
  },
  {
   "cell_type": "code",
   "execution_count": 88,
   "metadata": {
    "ExecuteTime": {
     "end_time": "2021-09-29T20:59:48.186632Z",
     "start_time": "2021-09-29T20:59:48.167642Z"
    }
   },
   "outputs": [
    {
     "data": {
      "text/plain": [
       "'D:\\\\OneDrive\\\\data science\\\\ai-ml-analytics-vidhya\\\\Analytics-Vidhya\\\\Machine Learning code\\\\Python For Beginners\\\\Module 9_ Modules, Packages and Standard Libraries'"
      ]
     },
     "execution_count": 88,
     "metadata": {},
     "output_type": "execute_result"
    }
   ],
   "source": [
    "os.chdir(\"..\")\n",
    "os.getcwd()"
   ]
  },
  {
   "cell_type": "code",
   "execution_count": 89,
   "metadata": {
    "ExecuteTime": {
     "end_time": "2021-09-29T20:59:59.788607Z",
     "start_time": "2021-09-29T20:59:59.767607Z"
    }
   },
   "outputs": [
    {
     "data": {
      "text/plain": [
       "['.ipynb_checkpoints',\n",
       " '1. Module, Package and Standard Library.pptx.pdf',\n",
       " 'Circle.py',\n",
       " 'circle_Area.py',\n",
       " 'module_package.ipynb',\n",
       " 'sample_data',\n",
       " 'Square.py',\n",
       " 'Standard Libraries in Python.ipynb',\n",
       " 'today',\n",
       " '__pycache__']"
      ]
     },
     "execution_count": 89,
     "metadata": {},
     "output_type": "execute_result"
    }
   ],
   "source": [
    "os.listdir()"
   ]
  },
  {
   "cell_type": "code",
   "execution_count": null,
   "metadata": {},
   "outputs": [],
   "source": []
  }
 ],
 "metadata": {
  "kernelspec": {
   "display_name": "Python 3 (ipykernel)",
   "language": "python",
   "name": "python3"
  },
  "language_info": {
   "codemirror_mode": {
    "name": "ipython",
    "version": 3
   },
   "file_extension": ".py",
   "mimetype": "text/x-python",
   "name": "python",
   "nbconvert_exporter": "python",
   "pygments_lexer": "ipython3",
   "version": "3.8.11"
  },
  "toc": {
   "base_numbering": 1,
   "nav_menu": {},
   "number_sections": true,
   "sideBar": true,
   "skip_h1_title": false,
   "title_cell": "Table of Contents",
   "title_sidebar": "Contents",
   "toc_cell": false,
   "toc_position": {},
   "toc_section_display": true,
   "toc_window_display": false
  }
 },
 "nbformat": 4,
 "nbformat_minor": 2
}
