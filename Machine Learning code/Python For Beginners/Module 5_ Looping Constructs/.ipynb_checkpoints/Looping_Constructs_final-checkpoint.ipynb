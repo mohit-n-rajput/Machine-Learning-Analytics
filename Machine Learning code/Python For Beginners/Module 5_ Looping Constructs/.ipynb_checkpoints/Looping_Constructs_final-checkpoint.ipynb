{
 "cells": [
  {
   "cell_type": "markdown",
   "metadata": {
    "colab_type": "text",
    "id": "PPB-RGM4cx-b"
   },
   "source": [
    "---\n",
    "---\n",
    "\n",
    "<center><h1> 📍📍 Looping Constructs: 📍📍</h1></center>\n",
    "\n",
    "---"
   ]
  },
  {
   "cell_type": "markdown",
   "metadata": {
    "colab_type": "text",
    "id": "mXwSALCUcx-f"
   },
   "source": [
    "---\n",
    "\n",
    "### 📍📍 FOR LOOP AND RANGE FUNCTION\n",
    "\n",
    "- We use for loop when we want to run a block of code certain number of times.\n",
    " \n",
    "---\n",
    "\n",
    "- When we pass only one argument (considered as **`END_POINT`**) in the range function. The loop starts with **`0`** and runs till **`END_POINT - 1.`**\n"
   ]
  },
  {
   "cell_type": "code",
   "execution_count": 20,
   "metadata": {
    "ExecuteTime": {
     "end_time": "2021-09-12T21:23:31.188531Z",
     "start_time": "2021-09-12T21:23:31.175533Z"
    },
    "colab": {},
    "colab_type": "code",
    "id": "ZPCew3lJcx-i",
    "outputId": "abec7632-8d96-4c4d-ede8-b54a0c12317a"
   },
   "outputs": [
    {
     "name": "stdout",
     "output_type": "stream",
     "text": [
      "0\n",
      "1\n",
      "2\n",
      "3\n"
     ]
    }
   ],
   "source": [
    "for number in range(4):\n",
    "    print(number)"
   ]
  },
  {
   "cell_type": "markdown",
   "metadata": {
    "colab_type": "text",
    "id": "ly7TxfIRcx-o"
   },
   "source": [
    "---\n",
    "* When we pass two arguments (first one considered as **`START_POINT`** and second one as **`END_POINT`**). The loop start with **`START_POINT`** and runs till **`END_POINT -1`**."
   ]
  },
  {
   "cell_type": "code",
   "execution_count": 21,
   "metadata": {
    "ExecuteTime": {
     "end_time": "2021-09-12T21:23:31.520533Z",
     "start_time": "2021-09-12T21:23:31.503531Z"
    },
    "colab": {},
    "colab_type": "code",
    "id": "rBK12K0Wcx-p",
    "outputId": "e42022dd-f031-45aa-a115-c9b740394c62"
   },
   "outputs": [
    {
     "name": "stdout",
     "output_type": "stream",
     "text": [
      "1\n",
      "2\n",
      "3\n",
      "4\n"
     ]
    }
   ],
   "source": [
    "for number in range(1, 5):\n",
    "    print(number)"
   ]
  },
  {
   "cell_type": "markdown",
   "metadata": {
    "colab_type": "text",
    "id": "eofvSy29cx-v"
   },
   "source": [
    "---\n",
    "\n",
    "* When we pass three arguments (first one considered as **`START_POINT`**, second one as **`END_POINT`** and the last one is **`STEP`**). \n",
    "\n",
    "---"
   ]
  },
  {
   "cell_type": "code",
   "execution_count": 22,
   "metadata": {
    "ExecuteTime": {
     "end_time": "2021-09-12T21:23:31.868530Z",
     "start_time": "2021-09-12T21:23:31.862530Z"
    }
   },
   "outputs": [
    {
     "name": "stdout",
     "output_type": "stream",
     "text": [
      "1\n",
      "3\n",
      "5\n",
      "7\n",
      "9\n"
     ]
    }
   ],
   "source": [
    "for number in range(1, 10, 2):\n",
    "    print(number)"
   ]
  },
  {
   "cell_type": "code",
   "execution_count": 23,
   "metadata": {
    "ExecuteTime": {
     "end_time": "2021-09-12T21:23:32.042531Z",
     "start_time": "2021-09-12T21:23:32.037530Z"
    },
    "colab": {},
    "colab_type": "code",
    "id": "mk3V8nAzcx-w",
    "outputId": "c86fd2a9-0f32-4e5e-d6b8-5ba1ba244520"
   },
   "outputs": [
    {
     "name": "stdout",
     "output_type": "stream",
     "text": [
      "1 3 5 7 9 "
     ]
    }
   ],
   "source": [
    "for number in range(1, 10, 2):\n",
    "    print(number, end= ' ')"
   ]
  },
  {
   "cell_type": "markdown",
   "metadata": {
    "colab_type": "text",
    "id": "wQcfbZs2cx-2"
   },
   "source": [
    "---\n",
    "\n",
    "* Iterate a **`String`** using FOR LOOP\n",
    "\n",
    "---"
   ]
  },
  {
   "cell_type": "code",
   "execution_count": 24,
   "metadata": {
    "ExecuteTime": {
     "end_time": "2021-09-12T21:23:32.422533Z",
     "start_time": "2021-09-12T21:23:32.402534Z"
    },
    "colab": {},
    "colab_type": "code",
    "id": "DDZ7Y5bycx-3",
    "outputId": "26c5f87f-f28c-42a6-cd01-6f24eb085d0c"
   },
   "outputs": [
    {
     "name": "stdout",
     "output_type": "stream",
     "text": [
      "a\n",
      "n\n",
      "a\n",
      "l\n",
      "y\n",
      "t\n",
      "i\n",
      "c\n",
      "s\n",
      "_\n",
      "v\n",
      "i\n",
      "d\n",
      "h\n",
      "y\n",
      "a\n"
     ]
    }
   ],
   "source": [
    "for character in \"analytics_vidhya\":\n",
    "    print(character)"
   ]
  },
  {
   "cell_type": "code",
   "execution_count": 25,
   "metadata": {
    "ExecuteTime": {
     "end_time": "2021-09-12T21:23:32.596533Z",
     "start_time": "2021-09-12T21:23:32.587533Z"
    }
   },
   "outputs": [
    {
     "name": "stdout",
     "output_type": "stream",
     "text": [
      "a n a l y t i c s _ v i d h y a "
     ]
    }
   ],
   "source": [
    "for character in \"analytics_vidhya\":\n",
    "    print(character, end = ' ')"
   ]
  },
  {
   "cell_type": "markdown",
   "metadata": {
    "colab_type": "text",
    "id": "DJP3WpLGcx_E"
   },
   "source": [
    "---\n",
    "\n",
    "### 📍📍 **`NESTED FOR LOOPS`**\n",
    "\n",
    "- A nested loop is a loop within a loop.\n",
    "- For each step in the outer loop, the inner loop exectues completely. See the below example\n",
    "\n",
    "---"
   ]
  },
  {
   "cell_type": "code",
   "execution_count": 26,
   "metadata": {
    "ExecuteTime": {
     "end_time": "2021-09-12T21:23:32.930532Z",
     "start_time": "2021-09-12T21:23:32.912531Z"
    },
    "colab": {},
    "colab_type": "code",
    "id": "VWiztlvTcx_G",
    "outputId": "559e7332-7f55-419c-f57d-ca1b8ea70ce9"
   },
   "outputs": [
    {
     "name": "stdout",
     "output_type": "stream",
     "text": [
      "1 A\n",
      "1 B\n",
      "1 C\n",
      "2 A\n",
      "2 B\n",
      "2 C\n"
     ]
    }
   ],
   "source": [
    "# define the range of outer loop\n",
    "for outer_loop_number in range(1, 3):\n",
    "    \n",
    "    # define the inner loop\n",
    "    for inner_loop_character in \"ABC\":\n",
    "        \n",
    "        print(outer_loop_number, inner_loop_character)"
   ]
  },
  {
   "cell_type": "markdown",
   "metadata": {
    "colab_type": "text",
    "id": "AaFBHw2Gcx_N"
   },
   "source": [
    "---\n",
    "---\n",
    "\n",
    "## 📍📍 WHILE LOOP\n",
    "\n",
    "* Another way to execute a block of code over and over again is using a while statement. \n",
    "* The code in a while clause will be executed as long as the while statement’s condition is True.\n",
    "\n",
    "\n",
    "---\n",
    "\n",
    "***In the below example, we have initialize the variable `number = 0` and we will increment it's value in each iteration. The loop will only continue to run only if the value is less than 7.***\n",
    "\n",
    "---"
   ]
  },
  {
   "cell_type": "code",
   "execution_count": 27,
   "metadata": {
    "ExecuteTime": {
     "end_time": "2021-09-12T21:23:33.278544Z",
     "start_time": "2021-09-12T21:23:33.262535Z"
    },
    "colab": {},
    "colab_type": "code",
    "id": "TvUPcziBcx_O",
    "outputId": "d2ca4b70-1450-40dd-968e-a146b7f09139"
   },
   "outputs": [
    {
     "name": "stdout",
     "output_type": "stream",
     "text": [
      "0\n",
      "1\n",
      "2\n",
      "3\n",
      "4\n",
      "5\n",
      "6\n"
     ]
    }
   ],
   "source": [
    "number = 0\n",
    "\n",
    "while (number < 7):\n",
    "    print(number)\n",
    "    number = number + 1"
   ]
  },
  {
   "cell_type": "code",
   "execution_count": 28,
   "metadata": {
    "ExecuteTime": {
     "end_time": "2021-09-12T21:23:33.470530Z",
     "start_time": "2021-09-12T21:23:33.463531Z"
    },
    "colab": {},
    "colab_type": "code",
    "id": "_f5Xj9r8cx_a",
    "outputId": "476522ff-8bd3-488b-f36a-054972c30391"
   },
   "outputs": [
    {
     "name": "stdout",
     "output_type": "stream",
     "text": [
      "0\n",
      "2\n",
      "4\n",
      "6\n"
     ]
    }
   ],
   "source": [
    "number = 0\n",
    "\n",
    "while (number < 7):\n",
    "    print(number)\n",
    "    number = number + 2"
   ]
  },
  {
   "cell_type": "markdown",
   "metadata": {
    "colab_type": "text",
    "id": "Q2LyZKtCcx_g"
   },
   "source": [
    "---\n",
    "---\n",
    "\n",
    "# 📍📍 Jump Statements in Python (break, continue and pass)\n",
    "\n",
    "- Using for loops and while loops in Python allow you to automate and repeat tasks in an efficient manner.\n",
    "\n",
    "- But sometimes, an external factor may influence the way your program runs. When this occurs, you may want your program to exit a loop completely, skip part of a loop before continuing, or ignore that external factor. \n",
    "- You can do these actions with break and continue statements.\n",
    "\n",
    "\n"
   ]
  },
  {
   "cell_type": "markdown",
   "metadata": {},
   "source": [
    "\n",
    "## Break Statement\n",
    "<span class=\"mark\">In Python, the break statement provides you with the opportunity to exit out of a loop when an external condition is triggered.</span> \n",
    "\n",
    "- You’ll put the break statement within the block of code under your loop statement, usually after a conditional if statement.\n",
    "\n",
    "- The break statement causes a program to break out of a loop.\n",
    "\n",
    "\n",
    "Let’s look at an example that uses the break statement in a for loop:"
   ]
  },
  {
   "cell_type": "code",
   "execution_count": 29,
   "metadata": {
    "ExecuteTime": {
     "end_time": "2021-09-12T21:23:34.024533Z",
     "start_time": "2021-09-12T21:23:34.012531Z"
    },
    "colab": {
     "base_uri": "https://localhost:8080/",
     "height": 121
    },
    "colab_type": "code",
    "id": "buV0FHzXcx_j",
    "outputId": "75079f1f-b1e5-4070-e276-dbb875149563"
   },
   "outputs": [
    {
     "name": "stdout",
     "output_type": "stream",
     "text": [
      "Number is 0\n",
      "Number is 1\n",
      "Number is 2\n",
      "Number is 3\n",
      "Number is 4\n",
      "Out of loop\n"
     ]
    }
   ],
   "source": [
    "number = 0\n",
    "\n",
    "for number in range(10):\n",
    "    if number == 5:\n",
    "        break   # break here\n",
    "\n",
    "    print('Number is ' + str(number))\n",
    "\n",
    "print('Out of loop')"
   ]
  },
  {
   "cell_type": "markdown",
   "metadata": {
    "colab_type": "text",
    "id": "YkUc4NPscx_r"
   },
   "source": [
    "---\n",
    "\n",
    "***Problem Statement:***\n",
    "\n",
    "- In the following example, user will enter the password which is set to be `data`.\n",
    "- If the password matches, It will print ***`Welcome to the Python Course!!`*** else print ***`Wrong Password!!` *** and user will re-enter the password.\n",
    "- In the fourth trial, it will print ***`One Trial left!!!`***.\n"
   ]
  },
  {
   "cell_type": "code",
   "execution_count": 33,
   "metadata": {
    "ExecuteTime": {
     "end_time": "2021-09-12T21:23:56.414847Z",
     "start_time": "2021-09-12T21:23:49.312851Z"
    },
    "colab": {},
    "colab_type": "code",
    "id": "0XdZuAtRcx_t",
    "outputId": "4aa10a34-6f32-4a99-dcfe-829207b6eff8"
   },
   "outputs": [
    {
     "name": "stdout",
     "output_type": "stream",
     "text": [
      "Enter Password: 312\n",
      "Wrong Password!!\n",
      "Enter Password: 312\n",
      "Wrong Password!!\n",
      "Enter Password: 321\n",
      "Wrong Password!!\n",
      "One trial left!!!\n",
      "Enter Password: 122\n",
      "Wrong Password!!\n"
     ]
    }
   ],
   "source": [
    "password = \"data\"\n",
    "\n",
    "for trial in range(1,5):\n",
    "    \n",
    "    if trial == 4:\n",
    "        print('One trial left!!!')\n",
    "        \n",
    "    \n",
    "    enter_password = input(\"Enter Password: \")\n",
    "        \n",
    "    if enter_password == password:\n",
    "        print(\"Welcome to Python Course!!\")\n",
    "        break\n",
    "        \n",
    "    else:\n",
    "        print(\"Wrong Password!!\")"
   ]
  },
  {
   "cell_type": "markdown",
   "metadata": {
    "colab_type": "text",
    "id": "Jlp4QwHQcx_y"
   },
   "source": [
    "---\n",
    "\n",
    "## Continue Statement\n",
    "\n",
    "<span class=\"mark\">The continue statement gives you the option to skip over the part of a loop where an external condition is triggered, but to go on to complete the rest of the loop.</span> \n",
    "\n",
    "- That is, the current iteration of the loop will be disrupted, but the program will return to the top of the loop.\n",
    "\n",
    "- The continue statement will be within the block of code under the loop statement, usually after a conditional if statement.\n",
    "\n",
    "- The continue statement causes a program to skip certain factors that come up within a loop, but then continue through the rest of the loop.\n",
    "\n",
    "\n",
    "Using the same for loop program as in the Break Statement section above, we’ll use a continue statement rather than a break statement:\n"
   ]
  },
  {
   "cell_type": "code",
   "execution_count": 31,
   "metadata": {
    "ExecuteTime": {
     "end_time": "2021-09-12T21:23:36.525535Z",
     "start_time": "2021-09-12T21:23:36.512547Z"
    },
    "colab": {},
    "colab_type": "code",
    "id": "6MzPFwLJcx_z",
    "outputId": "6b9a862d-5111-457a-e2b2-10aa35a2a6e4"
   },
   "outputs": [
    {
     "name": "stdout",
     "output_type": "stream",
     "text": [
      "Number is 0\n",
      "Number is 1\n",
      "Number is 2\n",
      "Number is 3\n",
      "Number is 4\n",
      "Number is 6\n",
      "Number is 7\n",
      "Number is 8\n",
      "Number is 9\n",
      "Out of loop\n"
     ]
    }
   ],
   "source": [
    "number = 0\n",
    "\n",
    "for number in range(10):\n",
    "    if number == 5:\n",
    "        continue    # continue here\n",
    "\n",
    "    print('Number is ' + str(number))\n",
    "\n",
    "print('Out of loop')"
   ]
  },
  {
   "cell_type": "markdown",
   "metadata": {
    "colab_type": "text",
    "id": "sKZs9P3Lcx_4"
   },
   "source": [
    "---\n",
    "\n",
    "***Problem Statement:***\n",
    "\n",
    "- In the following example, user will enter the password which is OTP which is set to be `1232`.\n",
    "- If the OTP matches, It will ask user to provide details like ***`Enter Your Name: `*** and ***`Enter Your City\": ` *** and user will re-enter the OTP.\n",
    "- In the fourth trial, it will print ***`One Trial left!!!`***.\n"
   ]
  },
  {
   "cell_type": "code",
   "execution_count": 32,
   "metadata": {
    "ExecuteTime": {
     "end_time": "2021-09-12T21:23:44.466659Z",
     "start_time": "2021-09-12T21:23:37.800535Z"
    },
    "colab": {},
    "colab_type": "code",
    "id": "K-IKTkFfcx_5",
    "outputId": "d13c30f7-618e-4698-a9dd-5ec21fcade5e"
   },
   "outputs": [
    {
     "name": "stdout",
     "output_type": "stream",
     "text": [
      "Enter OTP: 3121\n",
      "Try Again !!\n",
      "Enter OTP: 312\n",
      "Try Again !!\n",
      "Enter OTP: 132\n",
      "Try Again !!\n",
      "One trial left!!!\n",
      "Enter OTP: 312\n",
      "Try Again !!\n"
     ]
    }
   ],
   "source": [
    "OTP = \"1232\"\n",
    "\n",
    "for trial in range(1, 5):\n",
    "    \n",
    "    if trial == 4:\n",
    "        print('One trial left!!!')\n",
    "    \n",
    "    enter_otp = input(\"Enter OTP: \")\n",
    "        \n",
    "    if enter_otp != OTP:\n",
    "        print(\"Try Again !!\")\n",
    "        continue\n",
    "        \n",
    "    else:\n",
    "        name = input(\"Enter Your Name: \")\n",
    "        city_name = input(\"Enter Your City: \")\n",
    "        break"
   ]
  },
  {
   "cell_type": "markdown",
   "metadata": {},
   "source": [
    "- The difference in using the continue statement rather than a break statement is that our code will continue despite the disruption when the variable number is evaluated as equivalent to 5. "
   ]
  },
  {
   "cell_type": "markdown",
   "metadata": {},
   "source": [
    "---"
   ]
  },
  {
   "cell_type": "markdown",
   "metadata": {
    "colab_type": "text",
    "id": "kHt4iB8pcyAN"
   },
   "source": [
    "\n",
    "## Pass Statement\n",
    "\n",
    "<span class=\"mark\">Pass is a null operation — when it is executed, nothing happens.\n",
    "<span class=\"mark\">It is useful as a placeholder when a statement is required syntactically, but no code needs to be executed.</span></span>\n",
    "\n",
    "- The pass statement tells the program to disregard that condition and continue to run the program as usual.\n",
    "\n",
    "\n",
    "Using the same code block as above, let’s replace the break or continue statement with a pass statement:\n"
   ]
  },
  {
   "cell_type": "code",
   "execution_count": 34,
   "metadata": {
    "ExecuteTime": {
     "end_time": "2021-09-12T21:24:04.670846Z",
     "start_time": "2021-09-12T21:24:04.649846Z"
    },
    "colab": {},
    "colab_type": "code",
    "id": "RiZ1csWMcyAU",
    "outputId": "a64cb69b-b498-4130-b0cf-d0d79f945402"
   },
   "outputs": [
    {
     "name": "stdout",
     "output_type": "stream",
     "text": [
      "Number is 0\n",
      "Number is 1\n",
      "Number is 2\n",
      "Number is 3\n",
      "Number is 4\n",
      "Number is 5\n",
      "Number is 6\n",
      "Number is 7\n",
      "Number is 8\n",
      "Number is 9\n",
      "Out of loop\n"
     ]
    }
   ],
   "source": [
    "number = 0\n",
    "\n",
    "for number in range(10):\n",
    "    if number == 5:\n",
    "        pass    # pass here\n",
    "\n",
    "    print('Number is ' + str(number))\n",
    "\n",
    "print('Out of loop')\n"
   ]
  },
  {
   "cell_type": "code",
   "execution_count": 35,
   "metadata": {
    "ExecuteTime": {
     "end_time": "2021-09-12T21:24:08.473847Z",
     "start_time": "2021-09-12T21:24:08.449850Z"
    }
   },
   "outputs": [
    {
     "ename": "SyntaxError",
     "evalue": "unexpected EOF while parsing (Temp/ipykernel_14576/2213876541.py, line 1)",
     "output_type": "error",
     "traceback": [
      "\u001b[1;36m  File \u001b[1;32m\"C:\\Users\\mnr41\\AppData\\Local\\Temp/ipykernel_14576/2213876541.py\"\u001b[1;36m, line \u001b[1;32m1\u001b[0m\n\u001b[1;33m    for i in range(10):\u001b[0m\n\u001b[1;37m                       ^\u001b[0m\n\u001b[1;31mSyntaxError\u001b[0m\u001b[1;31m:\u001b[0m unexpected EOF while parsing\n"
     ]
    }
   ],
   "source": [
    "for i in range(10):"
   ]
  },
  {
   "cell_type": "code",
   "execution_count": 36,
   "metadata": {
    "ExecuteTime": {
     "end_time": "2021-09-12T21:24:08.789850Z",
     "start_time": "2021-09-12T21:24:08.774847Z"
    }
   },
   "outputs": [],
   "source": [
    "for i in  range(10):\n",
    "    pass"
   ]
  },
  {
   "cell_type": "markdown",
   "metadata": {
    "colab_type": "text",
    "id": "qiFfNkAwcyAc"
   },
   "source": [
    "- The pass statement can create minimal classes, or act as a placeholder when working on new code and thinking on an algorithmic level before hammering out details.\n",
    "\n",
    "---\n",
    "\n",
    "<span class=\"mark\">The break, continue, and pass statements in Python will allow you to use for loops and while loops more effectively in your code.</span>\n",
    "\n",
    "---"
   ]
  },
  {
   "cell_type": "code",
   "execution_count": null,
   "metadata": {},
   "outputs": [],
   "source": []
  }
 ],
 "metadata": {
  "colab": {
   "name": "Looping Constructs_final.ipynb",
   "provenance": []
  },
  "kernelspec": {
   "display_name": "Python 3 (ipykernel)",
   "language": "python",
   "name": "python3"
  },
  "language_info": {
   "codemirror_mode": {
    "name": "ipython",
    "version": 3
   },
   "file_extension": ".py",
   "mimetype": "text/x-python",
   "name": "python",
   "nbconvert_exporter": "python",
   "pygments_lexer": "ipython3",
   "version": "3.8.11"
  },
  "toc": {
   "base_numbering": 1,
   "nav_menu": {},
   "number_sections": true,
   "sideBar": true,
   "skip_h1_title": false,
   "title_cell": "Table of Contents",
   "title_sidebar": "Contents",
   "toc_cell": false,
   "toc_position": {},
   "toc_section_display": true,
   "toc_window_display": false
  }
 },
 "nbformat": 4,
 "nbformat_minor": 1
}
