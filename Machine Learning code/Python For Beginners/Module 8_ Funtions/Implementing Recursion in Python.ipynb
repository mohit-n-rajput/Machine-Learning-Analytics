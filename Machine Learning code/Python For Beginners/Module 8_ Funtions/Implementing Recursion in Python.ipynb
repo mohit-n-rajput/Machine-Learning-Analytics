{
 "cells": [
  {
   "cell_type": "markdown",
   "metadata": {},
   "source": [
    "---\n",
    "---\n",
    "\n",
    "<h1><center> 📍📍RECURSION 📍📍 </h1></center>\n",
    "\n",
    "---"
   ]
  },
  {
   "cell_type": "markdown",
   "metadata": {},
   "source": [
    "***We will solve the problem of counting handshakes here.***\n",
    "\n",
    "- First we, will code the iterative approach then, we will code the recursive approach.\n",
    "\n",
    "---\n",
    "\n",
    "### `ITERATIVE APPROCH`\n",
    "\n",
    "---"
   ]
  },
  {
   "cell_type": "code",
   "execution_count": 13,
   "metadata": {
    "ExecuteTime": {
     "end_time": "2021-09-29T16:04:42.770229Z",
     "start_time": "2021-09-29T16:04:42.752227Z"
    }
   },
   "outputs": [],
   "source": [
    "def count_hand_shakes_iterative(total_persons_in_room):\n",
    "    count = 0\n",
    "    \n",
    "    for i in range(1, total_persons_in_room):\n",
    "        \n",
    "        for j in range(i+1, total_persons_in_room+1):\n",
    "            print('Hand Shake of ', i, 'and',j)\n",
    "            count = count+1\n",
    "    \n",
    "    # total handshakes\n",
    "    print('Total number of handshakes: ', count)"
   ]
  },
  {
   "cell_type": "code",
   "execution_count": 14,
   "metadata": {
    "ExecuteTime": {
     "end_time": "2021-09-29T16:04:42.958981Z",
     "start_time": "2021-09-29T16:04:42.951963Z"
    }
   },
   "outputs": [],
   "source": [
    "def handshake_algo(people):\n",
    "    \"\"\"\n",
    "        This Algo counts the handshakes happen between peoples.\n",
    "    \"\"\"\n",
    "    \n",
    "    handshake = 0\n",
    "    \n",
    "    for individial_person in range(1, people):\n",
    "        \n",
    "        for other_crowd_people in range(individial_person+1, people+1):\n",
    "            \n",
    "            print(\"handshake of person \", individial_person , \" with \", other_crowd_people, \".\")\n",
    "            handshake = handshake + 1\n",
    "    \n",
    "    \n",
    "    # total handshake\n",
    "    print(\"Total handshake happened are\", handshake)"
   ]
  },
  {
   "cell_type": "code",
   "execution_count": 15,
   "metadata": {
    "ExecuteTime": {
     "end_time": "2021-09-29T16:04:43.460095Z",
     "start_time": "2021-09-29T16:04:43.416092Z"
    }
   },
   "outputs": [
    {
     "name": "stdout",
     "output_type": "stream",
     "text": [
      "handshake of person  1  with  2 .\n",
      "handshake of person  1  with  3 .\n",
      "handshake of person  1  with  4 .\n",
      "handshake of person  1  with  5 .\n",
      "handshake of person  1  with  6 .\n",
      "handshake of person  1  with  7 .\n",
      "handshake of person  1  with  8 .\n",
      "handshake of person  1  with  9 .\n",
      "handshake of person  1  with  10 .\n",
      "handshake of person  2  with  3 .\n",
      "handshake of person  2  with  4 .\n",
      "handshake of person  2  with  5 .\n",
      "handshake of person  2  with  6 .\n",
      "handshake of person  2  with  7 .\n",
      "handshake of person  2  with  8 .\n",
      "handshake of person  2  with  9 .\n",
      "handshake of person  2  with  10 .\n",
      "handshake of person  3  with  4 .\n",
      "handshake of person  3  with  5 .\n",
      "handshake of person  3  with  6 .\n",
      "handshake of person  3  with  7 .\n",
      "handshake of person  3  with  8 .\n",
      "handshake of person  3  with  9 .\n",
      "handshake of person  3  with  10 .\n",
      "handshake of person  4  with  5 .\n",
      "handshake of person  4  with  6 .\n",
      "handshake of person  4  with  7 .\n",
      "handshake of person  4  with  8 .\n",
      "handshake of person  4  with  9 .\n",
      "handshake of person  4  with  10 .\n",
      "handshake of person  5  with  6 .\n",
      "handshake of person  5  with  7 .\n",
      "handshake of person  5  with  8 .\n",
      "handshake of person  5  with  9 .\n",
      "handshake of person  5  with  10 .\n",
      "handshake of person  6  with  7 .\n",
      "handshake of person  6  with  8 .\n",
      "handshake of person  6  with  9 .\n",
      "handshake of person  6  with  10 .\n",
      "handshake of person  7  with  8 .\n",
      "handshake of person  7  with  9 .\n",
      "handshake of person  7  with  10 .\n",
      "handshake of person  8  with  9 .\n",
      "handshake of person  8  with  10 .\n",
      "handshake of person  9  with  10 .\n",
      "Total handshake happened are 45\n"
     ]
    }
   ],
   "source": [
    "handshake_algo(10)"
   ]
  },
  {
   "cell_type": "code",
   "execution_count": 16,
   "metadata": {
    "ExecuteTime": {
     "end_time": "2021-09-29T16:04:43.866646Z",
     "start_time": "2021-09-29T16:04:43.853627Z"
    }
   },
   "outputs": [
    {
     "name": "stdout",
     "output_type": "stream",
     "text": [
      "handshake of person  1  with  2 .\n",
      "handshake of person  1  with  3 .\n",
      "handshake of person  1  with  4 .\n",
      "handshake of person  1  with  5 .\n",
      "handshake of person  2  with  3 .\n",
      "handshake of person  2  with  4 .\n",
      "handshake of person  2  with  5 .\n",
      "handshake of person  3  with  4 .\n",
      "handshake of person  3  with  5 .\n",
      "handshake of person  4  with  5 .\n",
      "Total handshake happened are 10\n"
     ]
    }
   ],
   "source": [
    "handshake_algo(5)"
   ]
  },
  {
   "cell_type": "code",
   "execution_count": 17,
   "metadata": {
    "ExecuteTime": {
     "end_time": "2021-09-29T16:04:44.658909Z",
     "start_time": "2021-09-29T16:04:44.639931Z"
    }
   },
   "outputs": [
    {
     "name": "stdout",
     "output_type": "stream",
     "text": [
      "Hand Shake of  1 and 2\n",
      "Hand Shake of  1 and 3\n",
      "Hand Shake of  1 and 4\n",
      "Hand Shake of  1 and 5\n",
      "Hand Shake of  2 and 3\n",
      "Hand Shake of  2 and 4\n",
      "Hand Shake of  2 and 5\n",
      "Hand Shake of  3 and 4\n",
      "Hand Shake of  3 and 5\n",
      "Hand Shake of  4 and 5\n",
      "Total number of handshakes:  10\n"
     ]
    }
   ],
   "source": [
    "count_hand_shakes_iterative(total_persons_in_room=5)"
   ]
  },
  {
   "cell_type": "markdown",
   "metadata": {},
   "source": [
    "## `RECURSIVE APPROACH`\n",
    "\n",
    "---"
   ]
  },
  {
   "cell_type": "code",
   "execution_count": 3,
   "metadata": {},
   "outputs": [],
   "source": [
    "# define recursive function to count handshakes\n",
    "\n",
    "def count_hand_shakes(total_persons_in_room):\n",
    "    \n",
    "    # Base Condition: When number of persons is 2 (One Handshake)\n",
    "    if total_persons_in_room == 2:\n",
    "            return 1\n",
    "    \n",
    "    else:\n",
    "            # F(N) = F(N-1) + (N-1)\n",
    "            return count_hand_shakes(total_persons_in_room - 1) + (total_persons_in_room - 1)\n"
   ]
  },
  {
   "cell_type": "code",
   "execution_count": 4,
   "metadata": {},
   "outputs": [
    {
     "data": {
      "text/plain": [
       "10"
      ]
     },
     "execution_count": 4,
     "metadata": {},
     "output_type": "execute_result"
    }
   ],
   "source": [
    "count_hand_shakes(5)"
   ]
  },
  {
   "cell_type": "code",
   "execution_count": 5,
   "metadata": {},
   "outputs": [
    {
     "data": {
      "text/plain": [
       "6"
      ]
     },
     "execution_count": 5,
     "metadata": {},
     "output_type": "execute_result"
    }
   ],
   "source": [
    "count_hand_shakes(4)"
   ]
  },
  {
   "cell_type": "markdown",
   "metadata": {},
   "source": [
    "```F(N) = F(N-1) + (N-1)``` ,where base condition is f(2) = 1."
   ]
  },
  {
   "cell_type": "markdown",
   "metadata": {},
   "source": [
    "Function calling itself with different  parameters until it's reach its base condition."
   ]
  },
  {
   "cell_type": "markdown",
   "metadata": {},
   "source": [
    "#### `How does it work under the hood?`\n",
    "\n",
    "---"
   ]
  },
  {
   "cell_type": "code",
   "execution_count": 18,
   "metadata": {
    "ExecuteTime": {
     "end_time": "2021-09-29T19:16:11.781335Z",
     "start_time": "2021-09-29T19:16:11.767263Z"
    }
   },
   "outputs": [],
   "source": [
    "# define recursive function to count handshakes\n",
    "\n",
    "def count_hand_shakes(total_persons_in_room):\n",
    "    \n",
    "    # Base Condition: When number of persons is 2 (One Handshake)\n",
    "    print(\"The function is called with value: \", total_persons_in_room)\n",
    "    if total_persons_in_room == 2:\n",
    "            return 1\n",
    "    \n",
    "    else:\n",
    "            # F(N) = F(N-1) + (N-1)\n",
    "            return count_hand_shakes(total_persons_in_room - 1) + (total_persons_in_room - 1)"
   ]
  },
  {
   "cell_type": "code",
   "execution_count": 19,
   "metadata": {
    "ExecuteTime": {
     "end_time": "2021-09-29T19:16:12.412275Z",
     "start_time": "2021-09-29T19:16:12.385103Z"
    }
   },
   "outputs": [
    {
     "name": "stdout",
     "output_type": "stream",
     "text": [
      "The function is called with value:  5\n",
      "The function is called with value:  4\n",
      "The function is called with value:  3\n",
      "The function is called with value:  2\n"
     ]
    },
    {
     "data": {
      "text/plain": [
       "10"
      ]
     },
     "execution_count": 19,
     "metadata": {},
     "output_type": "execute_result"
    }
   ],
   "source": [
    "count_hand_shakes(5)"
   ]
  },
  {
   "cell_type": "code",
   "execution_count": 20,
   "metadata": {
    "ExecuteTime": {
     "end_time": "2021-09-29T19:16:13.072297Z",
     "start_time": "2021-09-29T19:16:13.061297Z"
    }
   },
   "outputs": [],
   "source": [
    "#f(5) = f(4) + 4"
   ]
  },
  {
   "cell_type": "code",
   "execution_count": 21,
   "metadata": {
    "ExecuteTime": {
     "end_time": "2021-09-29T19:16:13.718644Z",
     "start_time": "2021-09-29T19:16:13.709643Z"
    }
   },
   "outputs": [
    {
     "name": "stdout",
     "output_type": "stream",
     "text": [
      "The function is called with value:  4\n",
      "The function is called with value:  3\n",
      "The function is called with value:  2\n"
     ]
    }
   ],
   "source": [
    "result = count_hand_shakes(4)"
   ]
  },
  {
   "cell_type": "code",
   "execution_count": 22,
   "metadata": {
    "ExecuteTime": {
     "end_time": "2021-09-29T19:16:14.190161Z",
     "start_time": "2021-09-29T19:16:14.185162Z"
    }
   },
   "outputs": [
    {
     "data": {
      "text/plain": [
       "10"
      ]
     },
     "execution_count": 22,
     "metadata": {},
     "output_type": "execute_result"
    }
   ],
   "source": [
    "result+4"
   ]
  },
  {
   "cell_type": "markdown",
   "metadata": {},
   "source": [
    "---\n",
    "\n",
    "### `Advantages of Recursion`\n",
    "\n",
    "- Reduces length of code\n",
    "- Iteration can be complex sometimes, when we have several possible random cases.\n",
    "\n",
    "---"
   ]
  },
  {
   "cell_type": "markdown",
   "metadata": {},
   "source": [
    "### `Disadvantages of Recursion`\n",
    "\n",
    "- It uses more memory.\n",
    "- Time complexity is increases, can be slow if not implemented correctly. \n",
    "\n",
    "---"
   ]
  },
  {
   "cell_type": "markdown",
   "metadata": {},
   "source": [
    "### `Looping Constructs (Iterative Solution) vs Recursive Solution?`\n",
    "\n",
    "- It depends upon the task.\n",
    "- For most common programming tasks go for Iterative solution.\n",
    "- For particular tasks a recursive solution is both intuitive/simple to understand and also faster in terms of execution.\n",
    "\n",
    "\n",
    "---"
   ]
  },
  {
   "cell_type": "code",
   "execution_count": null,
   "metadata": {},
   "outputs": [],
   "source": []
  }
 ],
 "metadata": {
  "kernelspec": {
   "display_name": "Python 3 (ipykernel)",
   "language": "python",
   "name": "python3"
  },
  "language_info": {
   "codemirror_mode": {
    "name": "ipython",
    "version": 3
   },
   "file_extension": ".py",
   "mimetype": "text/x-python",
   "name": "python",
   "nbconvert_exporter": "python",
   "pygments_lexer": "ipython3",
   "version": "3.8.11"
  },
  "toc": {
   "base_numbering": 1,
   "nav_menu": {},
   "number_sections": true,
   "sideBar": true,
   "skip_h1_title": false,
   "title_cell": "Table of Contents",
   "title_sidebar": "Contents",
   "toc_cell": false,
   "toc_position": {},
   "toc_section_display": true,
   "toc_window_display": false
  }
 },
 "nbformat": 4,
 "nbformat_minor": 2
}
