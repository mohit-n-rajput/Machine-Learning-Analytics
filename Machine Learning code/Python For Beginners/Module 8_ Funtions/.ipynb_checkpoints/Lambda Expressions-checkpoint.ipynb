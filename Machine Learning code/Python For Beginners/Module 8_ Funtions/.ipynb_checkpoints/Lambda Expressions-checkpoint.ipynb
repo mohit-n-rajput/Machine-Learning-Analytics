{
 "cells": [
  {
   "cell_type": "markdown",
   "metadata": {
    "colab_type": "text",
    "id": "09VUrnZcLk5b"
   },
   "source": [
    "---\n",
    "---\n",
    "\n",
    "<center><h1>📍 📍 Lambda Expressions 📍 📍</h1></center>"
   ]
  },
  {
   "cell_type": "markdown",
   "metadata": {
    "colab_type": "text",
    "id": "mrwFY9fiLZ32"
   },
   "source": [
    "\n",
    "\n",
    "\n",
    "---\n",
    "\n",
    "\n",
    "---\n",
    "\n",
    "***`Lambda Functions`***\n",
    "\n",
    "\n",
    "\n",
    "\n",
    "\n",
    "* <span class=\"mark\">This function can have any number of arguments but only one expression, which is evaluated and returned.</span>\n",
    "* You need to keep in your knowledge that lambda functions are syntactically restricted to a single expression.\n",
    "\n",
    "* <span class=\"girk\">It is more efficient than function when the function task is small.\n",
    "* <span class=\"burk\">Do not use Lambda functions when task is complex.</span></span>\n",
    "* It works best when you have to call a function millions of times but the execution task is simple.\n",
    "\n",
    "\n",
    "---\n",
    "\n",
    "***A Lambda function that adds 20 to the number that is passed as an argument.***\n",
    "\n",
    "\n",
    "---\n"
   ]
  },
  {
   "cell_type": "code",
   "execution_count": 1,
   "metadata": {
    "ExecuteTime": {
     "end_time": "2021-09-29T15:51:21.088109Z",
     "start_time": "2021-09-29T15:51:21.074796Z"
    },
    "colab": {},
    "colab_type": "code",
    "id": "bjSwjR6oLk5y"
   },
   "outputs": [],
   "source": [
    "def add_20(a):\n",
    "    return a+20"
   ]
  },
  {
   "cell_type": "code",
   "execution_count": 2,
   "metadata": {
    "ExecuteTime": {
     "end_time": "2021-09-29T15:51:29.720425Z",
     "start_time": "2021-09-29T15:51:29.709421Z"
    },
    "colab": {},
    "colab_type": "code",
    "id": "vn7GT_cnLk6L",
    "outputId": "e7431a7e-3df5-4b31-df22-f56e99e07e4b"
   },
   "outputs": [
    {
     "data": {
      "text/plain": [
       "25"
      ]
     },
     "execution_count": 2,
     "metadata": {},
     "output_type": "execute_result"
    }
   ],
   "source": [
    "add_20(5)"
   ]
  },
  {
   "cell_type": "code",
   "execution_count": 3,
   "metadata": {
    "ExecuteTime": {
     "end_time": "2021-09-29T15:51:32.936644Z",
     "start_time": "2021-09-29T15:51:32.921630Z"
    },
    "colab": {
     "base_uri": "https://localhost:8080/",
     "height": 52
    },
    "colab_type": "code",
    "executionInfo": {
     "elapsed": 1237,
     "status": "ok",
     "timestamp": 1557486485560,
     "user": {
      "displayName": "Avinash Mishra",
      "photoUrl": "",
      "userId": "18186262049203769382"
     },
     "user_tz": -330
    },
    "id": "RAdDvvtkLSv3",
    "outputId": "654daffb-74d0-43df-b387-48d5c3f6e1c7"
   },
   "outputs": [
    {
     "name": "stdout",
     "output_type": "stream",
     "text": [
      "With argument value 5 :  25\n",
      "With argument value 10 :  30\n"
     ]
    }
   ],
   "source": [
    "var = lambda a: a+20   # a is arg and a+20 task which python return at end.\n",
    "\n",
    "\n",
    "print('With argument value 5 : ',var(5))\n",
    "print('With argument value 10 : ',var(10))"
   ]
  },
  {
   "cell_type": "markdown",
   "metadata": {},
   "source": [
    "## Using if else in Lambda function\n",
    "\n",
    "Using if else in lambda function is little tricky, the syntax is as follows,\n"
   ]
  },
  {
   "cell_type": "raw",
   "metadata": {},
   "source": [
    "lambda <arguments> : {<Return Value if condition is True> if <condition>} {else <Return Value if condition is False>}"
   ]
  },
  {
   "cell_type": "markdown",
   "metadata": {},
   "source": [
    "###### Using if, elif & else in a lambda function"
   ]
  },
  {
   "cell_type": "markdown",
   "metadata": {},
   "source": [
    "```lambda <args> : {<return Value> if <condition >} else  ({<return value > if <condition> else <return value>})```\n"
   ]
  },
  {
   "cell_type": "markdown",
   "metadata": {
    "colab_type": "text",
    "id": "u6wipIxKjZtz"
   },
   "source": [
    "\n",
    "\n",
    "---\n",
    "\n",
    "\n",
    "***A Lambda function with two arguments.***\n",
    "\n",
    "\n",
    "---\n",
    "\n"
   ]
  },
  {
   "cell_type": "code",
   "execution_count": 4,
   "metadata": {
    "ExecuteTime": {
     "end_time": "2021-09-29T15:52:02.879868Z",
     "start_time": "2021-09-29T15:52:02.871869Z"
    },
    "colab": {
     "base_uri": "https://localhost:8080/",
     "height": 50
    },
    "colab_type": "code",
    "id": "AVwBF75miR8G",
    "outputId": "48c373a9-5207-4602-fbae-47e218ca84a6"
   },
   "outputs": [
    {
     "name": "stdout",
     "output_type": "stream",
     "text": [
      "The value of 5+3 =  8\n",
      "The value of 7+2 =  9\n"
     ]
    }
   ],
   "source": [
    "lambda_add = lambda a, b : a+b\n",
    "\n",
    "print('The value of 5+3 = ',lambda_add(5,3))\n",
    "print('The value of 7+2 = ',lambda_add(7,2))"
   ]
  },
  {
   "cell_type": "markdown",
   "metadata": {
    "colab_type": "text",
    "id": "N-ZM_44Cn6YV"
   },
   "source": [
    "\n",
    "\n",
    "---\n",
    "\n",
    "## ***FILTER FUNCTION***\n",
    "\n",
    "***The filter() function in Python takes in a function and a list as arguments. To filter out all the elements of a sequence, for which the function returns True.***\n",
    "\n",
    "---\n",
    "\n"
   ]
  },
  {
   "cell_type": "raw",
   "metadata": {},
   "source": [
    "filter()\n",
    "\n",
    "Init signature: filter(self, /, *args, **kwargs)\n",
    "\n",
    "Docstring:     \n",
    "filter(function or None, iterable) --> filter object\n",
    "\n",
    "Return an iterator yielding those items of iterable for which function(item) is true. If function is None, return the items that are true.\n",
    "\n",
    "Type:           type\n",
    "Subclasses:    "
   ]
  },
  {
   "cell_type": "markdown",
   "metadata": {},
   "source": [
    "###### using  normal function"
   ]
  },
  {
   "cell_type": "code",
   "execution_count": 5,
   "metadata": {
    "ExecuteTime": {
     "end_time": "2021-09-29T15:52:18.731415Z",
     "start_time": "2021-09-29T15:52:18.722431Z"
    },
    "colab": {},
    "colab_type": "code",
    "id": "tbBWFJN9MZ4K"
   },
   "outputs": [],
   "source": [
    "def normal_even(x):\n",
    "\n",
    "    if x % 2 != 0:\n",
    "        return True\n",
    "    else:\n",
    "        return False"
   ]
  },
  {
   "cell_type": "raw",
   "metadata": {},
   "source": [
    "filter():\n",
    "    \n",
    "Init signature: filter(self, /, *args, **kwargs)\n",
    "Docstring:     \n",
    "filter(function or None, iterable) --> filter object\n",
    "\n",
    "Return an iterator yielding those items of iterable for which function(item)\n",
    "is true. If function is None, return the items that are true.\n",
    "\n",
    "Type:           type Subclasses:     "
   ]
  },
  {
   "cell_type": "code",
   "execution_count": 14,
   "metadata": {
    "ExecuteTime": {
     "end_time": "2021-09-29T15:54:47.972381Z",
     "start_time": "2021-09-29T15:54:47.961382Z"
    },
    "colab": {
     "base_uri": "https://localhost:8080/",
     "height": 34
    },
    "colab_type": "code",
    "id": "D2d2IVlPn1kj",
    "outputId": "ebfda1c6-e157-4ca7-85dc-86c036c8d48b"
   },
   "outputs": [
    {
     "name": "stdout",
     "output_type": "stream",
     "text": [
      "The odd numbers are :  [5, 17, 43, 237, 133, 21]\n"
     ]
    }
   ],
   "source": [
    "original_list = [5, 17, 32, 43, 12, 62, 237, 133, 78, 21] \n",
    "\n",
    "# filter the odd numbers from the list\n",
    "filtered_list = list(filter(lambda x: (x%2 != 0) , original_list)) \n",
    "\n",
    "print('The odd numbers are : ',filtered_list) "
   ]
  },
  {
   "cell_type": "markdown",
   "metadata": {},
   "source": [
    "###### Using Lambda Functions"
   ]
  },
  {
   "cell_type": "code",
   "execution_count": 15,
   "metadata": {
    "ExecuteTime": {
     "end_time": "2021-09-29T15:54:51.859914Z",
     "start_time": "2021-09-29T15:54:51.848927Z"
    },
    "colab": {
     "base_uri": "https://localhost:8080/",
     "height": 34
    },
    "colab_type": "code",
    "id": "WfcZ3-j2rfCb",
    "outputId": "c3238143-a7bb-4468-c3ec-cf4236e10531"
   },
   "outputs": [
    {
     "name": "stdout",
     "output_type": "stream",
     "text": [
      "The multiples of 5 are :  [5, 15, 20, 65, 235, 75]\n"
     ]
    }
   ],
   "source": [
    "original_list = [5, 11, 15, 43, 20, 65, 235, 133, 75, 21] \n",
    "\n",
    "# filter the multiples of 5\n",
    "filtered_list = list(filter(lambda x: (x%5 == 0) , original_list)) \n",
    "\n",
    "print('The multiples of 5 are : ',filtered_list) "
   ]
  },
  {
   "cell_type": "code",
   "execution_count": 16,
   "metadata": {
    "ExecuteTime": {
     "end_time": "2021-09-29T15:54:54.150113Z",
     "start_time": "2021-09-29T15:54:54.136111Z"
    },
    "colab": {
     "base_uri": "https://localhost:8080/",
     "height": 34
    },
    "colab_type": "code",
    "id": "FNTY3IxZr3pD",
    "outputId": "67e1287d-4aa8-445d-f885-41f3cf6fb69e"
   },
   "outputs": [
    {
     "name": "stdout",
     "output_type": "stream",
     "text": [
      "The words starting with \"S\" are :  ['Standard', 'Super', 'Science']\n"
     ]
    }
   ],
   "source": [
    "original_list = ['Analytics','Standard','Super','Data','Science','Vidhya'] \n",
    "\n",
    "# filter the words starting with 'S'\n",
    "\n",
    "filtered_list = list(filter(lambda x: (x[0] == 'S') , original_list)) \n",
    "\n",
    "print('The words starting with \"S\" are : ',filtered_list) "
   ]
  },
  {
   "cell_type": "code",
   "execution_count": 17,
   "metadata": {
    "ExecuteTime": {
     "end_time": "2021-09-29T15:54:57.945688Z",
     "start_time": "2021-09-29T15:54:57.935686Z"
    }
   },
   "outputs": [
    {
     "name": "stdout",
     "output_type": "stream",
     "text": [
      "[0, 1, 2, 3, 4, 5, 6, 7, 8, 9, 10, 11, 12, 13, 14, 15, 16, 17, 18, 19, 20, 21, 22, 23, 24, 25, 26, 27, 28, 29, 30, 31, 32, 33, 34, 35, 36, 37, 38, 39, 40, 41, 42, 43, 44, 45, 46, 47, 48, 49, 50]\n",
      "[0, 2, 4, 6, 8, 10, 12, 14, 16, 18, 20, 22, 24, 26, 28, 30, 32, 34, 36, 38, 40, 42, 44, 46, 48, 50]\n"
     ]
    }
   ],
   "source": [
    "# print even b/w 1 to 50\n",
    "n = [i for i in range(51)]\n",
    "\n",
    "print(n)\n",
    "\n",
    "# filtered list\n",
    "fil = list(filter(lambda x: (x%2 == 0) ,n))\n",
    "print(fil)"
   ]
  },
  {
   "cell_type": "markdown",
   "metadata": {
    "colab_type": "text",
    "id": "QBMKrxx4tJYU"
   },
   "source": [
    "\n",
    "\n",
    "---\n",
    "\n",
    "## ***MAP FUNCTION***\n",
    "\n",
    "***The map() function in Python takes in a function and a list as argument. The function is called with a lambda function and a list and a new list is returned which contains all the lambda modified items returned by that function for each item.***\n",
    "\n",
    "---\n",
    "\n"
   ]
  },
  {
   "cell_type": "raw",
   "metadata": {},
   "source": [
    "map()\n",
    "\n",
    "Init signature: map(self, /, *args, **kwargs)\n",
    "\n",
    "Docstring:     \n",
    "map(func, *iterables) --> map object\n",
    "\n",
    "Make an iterator that computes the function using arguments from each of the iterables.  Stops when the shortest iterable is exhausted.\n",
    "\n",
    "Type:           type\n",
    "Subclasses:   "
   ]
  },
  {
   "cell_type": "markdown",
   "metadata": {},
   "source": [
    "###### map() function apply function operation on each iterable."
   ]
  },
  {
   "cell_type": "code",
   "execution_count": 18,
   "metadata": {
    "ExecuteTime": {
     "end_time": "2021-09-29T15:56:40.742926Z",
     "start_time": "2021-09-29T15:56:40.714254Z"
    },
    "colab": {
     "base_uri": "https://localhost:8080/",
     "height": 34
    },
    "colab_type": "code",
    "id": "Q6op5hjZs7Wx",
    "outputId": "22bb8984-393c-40c4-b11c-a94184e359cb"
   },
   "outputs": [
    {
     "name": "stdout",
     "output_type": "stream",
     "text": [
      "New List :  [2, 4, 6, 8, 10, 12, 14, 16, 18, 20]\n"
     ]
    }
   ],
   "source": [
    "original_list = [1, 2, 3, 4, 5, 6, 7, 8, 9, 10]\n",
    "\n",
    "# double each number in the original list\n",
    "\n",
    "mapped_list = list(map(lambda x: x*2 , original_list)) \n",
    "print('New List : ',mapped_list)"
   ]
  },
  {
   "cell_type": "code",
   "execution_count": 19,
   "metadata": {
    "ExecuteTime": {
     "end_time": "2021-09-29T15:56:42.075942Z",
     "start_time": "2021-09-29T15:56:42.061945Z"
    }
   },
   "outputs": [
    {
     "ename": "AttributeError",
     "evalue": "'str' object has no attribute 'capitilize'",
     "output_type": "error",
     "traceback": [
      "\u001b[1;31m---------------------------------------------------------------------------\u001b[0m",
      "\u001b[1;31mAttributeError\u001b[0m                            Traceback (most recent call last)",
      "\u001b[1;32m~\\AppData\\Local\\Temp/ipykernel_13560/2790482813.py\u001b[0m in \u001b[0;36m<module>\u001b[1;34m\u001b[0m\n\u001b[0;32m      3\u001b[0m \u001b[1;31m# captilize first letter of each word present in list\u001b[0m\u001b[1;33m\u001b[0m\u001b[1;33m\u001b[0m\u001b[1;33m\u001b[0m\u001b[0m\n\u001b[0;32m      4\u001b[0m \u001b[1;33m\u001b[0m\u001b[0m\n\u001b[1;32m----> 5\u001b[1;33m \u001b[0mmapped_list\u001b[0m \u001b[1;33m=\u001b[0m \u001b[0mlist\u001b[0m\u001b[1;33m(\u001b[0m\u001b[0mmap\u001b[0m\u001b[1;33m(\u001b[0m\u001b[1;32mlambda\u001b[0m \u001b[0mx\u001b[0m\u001b[1;33m:\u001b[0m \u001b[1;33m(\u001b[0m\u001b[0mx\u001b[0m\u001b[1;33m[\u001b[0m\u001b[1;36m0\u001b[0m\u001b[1;33m]\u001b[0m\u001b[1;33m.\u001b[0m\u001b[0mcapitilize\u001b[0m\u001b[1;33m(\u001b[0m\u001b[1;33m)\u001b[0m\u001b[1;33m)\u001b[0m \u001b[1;33m,\u001b[0m \u001b[0moriginal_list\u001b[0m\u001b[1;33m)\u001b[0m\u001b[1;33m)\u001b[0m\u001b[1;33m\u001b[0m\u001b[1;33m\u001b[0m\u001b[0m\n\u001b[0m\u001b[0;32m      6\u001b[0m \u001b[1;33m\u001b[0m\u001b[0m\n\u001b[0;32m      7\u001b[0m \u001b[0mprint\u001b[0m\u001b[1;33m(\u001b[0m\u001b[0mmapped_list\u001b[0m\u001b[1;33m)\u001b[0m\u001b[1;33m\u001b[0m\u001b[1;33m\u001b[0m\u001b[0m\n",
      "\u001b[1;32m~\\AppData\\Local\\Temp/ipykernel_13560/2790482813.py\u001b[0m in \u001b[0;36m<lambda>\u001b[1;34m(x)\u001b[0m\n\u001b[0;32m      3\u001b[0m \u001b[1;31m# captilize first letter of each word present in list\u001b[0m\u001b[1;33m\u001b[0m\u001b[1;33m\u001b[0m\u001b[1;33m\u001b[0m\u001b[0m\n\u001b[0;32m      4\u001b[0m \u001b[1;33m\u001b[0m\u001b[0m\n\u001b[1;32m----> 5\u001b[1;33m \u001b[0mmapped_list\u001b[0m \u001b[1;33m=\u001b[0m \u001b[0mlist\u001b[0m\u001b[1;33m(\u001b[0m\u001b[0mmap\u001b[0m\u001b[1;33m(\u001b[0m\u001b[1;32mlambda\u001b[0m \u001b[0mx\u001b[0m\u001b[1;33m:\u001b[0m \u001b[1;33m(\u001b[0m\u001b[0mx\u001b[0m\u001b[1;33m[\u001b[0m\u001b[1;36m0\u001b[0m\u001b[1;33m]\u001b[0m\u001b[1;33m.\u001b[0m\u001b[0mcapitilize\u001b[0m\u001b[1;33m(\u001b[0m\u001b[1;33m)\u001b[0m\u001b[1;33m)\u001b[0m \u001b[1;33m,\u001b[0m \u001b[0moriginal_list\u001b[0m\u001b[1;33m)\u001b[0m\u001b[1;33m)\u001b[0m\u001b[1;33m\u001b[0m\u001b[1;33m\u001b[0m\u001b[0m\n\u001b[0m\u001b[0;32m      6\u001b[0m \u001b[1;33m\u001b[0m\u001b[0m\n\u001b[0;32m      7\u001b[0m \u001b[0mprint\u001b[0m\u001b[1;33m(\u001b[0m\u001b[0mmapped_list\u001b[0m\u001b[1;33m)\u001b[0m\u001b[1;33m\u001b[0m\u001b[1;33m\u001b[0m\u001b[0m\n",
      "\u001b[1;31mAttributeError\u001b[0m: 'str' object has no attribute 'capitilize'"
     ]
    }
   ],
   "source": [
    "original_list = ['analytics','vidhya','king','south','east']\n",
    "\n",
    "# captilize first letter of each word present in list\n",
    "\n",
    "mapped_list = list(map(lambda x: (x[0].capitilize()) , original_list))\n",
    "\n",
    "print(mapped_list)"
   ]
  },
  {
   "cell_type": "code",
   "execution_count": 20,
   "metadata": {
    "ExecuteTime": {
     "end_time": "2021-09-29T15:56:46.525451Z",
     "start_time": "2021-09-29T15:56:46.513453Z"
    }
   },
   "outputs": [
    {
     "name": "stdout",
     "output_type": "stream",
     "text": [
      "['Analytics', 'Vidhya', 'King', 'South', 'East']\n"
     ]
    }
   ],
   "source": [
    "original_list = ['analytics','vidhya','king','south','east']\n",
    "\n",
    "# captilize first letter of each word present in list\n",
    "\n",
    "mapped_list = list(map(lambda x: (x.capitalize())[:] , original_list))\n",
    "\n",
    "print(mapped_list)"
   ]
  },
  {
   "cell_type": "code",
   "execution_count": 21,
   "metadata": {
    "ExecuteTime": {
     "end_time": "2021-09-29T15:56:47.281200Z",
     "start_time": "2021-09-29T15:56:47.263185Z"
    },
    "colab": {
     "base_uri": "https://localhost:8080/",
     "height": 34
    },
    "colab_type": "code",
    "id": "FNC6y6gzuAoV",
    "outputId": "49af944b-f92d-46f1-e2cd-680f3d392d19"
   },
   "outputs": [
    {
     "name": "stdout",
     "output_type": "stream",
     "text": [
      "New List :  ['Analytics', 'Vidhya', 'King', 'South', 'East']\n"
     ]
    }
   ],
   "source": [
    "original_list = ['analytics','vidhya','king','south','east']\n",
    "# capatilize first letter of each  word in the original list\n",
    "mapped_list = list(map(lambda x: x[0].upper()+x[1:] , original_list)) \n",
    "print('New List : ',mapped_list)"
   ]
  },
  {
   "cell_type": "markdown",
   "metadata": {
    "colab_type": "text",
    "id": "Is7xbTc9wO_G"
   },
   "source": [
    "\n",
    "\n",
    "---\n",
    "\n",
    "***REDUCE FUNCTION***\n",
    "\n",
    "* ***The reduce() function in Python takes in a function and a list as argument. The function is called with a lambda function and a list and a new reduced result is returned. This performs a repetitive operation over the pairs of the list.***\n",
    "* ***The reduce function will always take two parameters***\n",
    "\n",
    "---\n",
    "\n"
   ]
  },
  {
   "cell_type": "markdown",
   "metadata": {},
   "source": [
    "###### apply function operation on cummulative pair of input."
   ]
  },
  {
   "cell_type": "code",
   "execution_count": 22,
   "metadata": {
    "ExecuteTime": {
     "end_time": "2021-09-29T15:56:50.073210Z",
     "start_time": "2021-09-29T15:56:50.063212Z"
    }
   },
   "outputs": [],
   "source": [
    "from functools import reduce\n"
   ]
  },
  {
   "cell_type": "raw",
   "metadata": {},
   "source": [
    "reduce()\n",
    "\n",
    "Docstring:\n",
    "reduce(function, sequence[, initial]) -> value\n",
    "\n",
    "Apply a function of two arguments cumulatively to the items of a sequence,\n",
    "from left to right, so as to reduce the sequence to a single value.\n",
    "\n",
    "For example, \n",
    "\n",
    "reduce(lambda x, y: x+y, [1, 2, 3, 4, 5]) \n",
    "\n",
    "calculates ((((1+2)+3)+4)+5).  \n",
    "\n",
    "If initial is present, it is placed before the items\n",
    "of the sequence in the calculation, and serves as a default when the sequence is empty.\n",
    "\n",
    "Type:      builtin_function_or_method"
   ]
  },
  {
   "cell_type": "code",
   "execution_count": 23,
   "metadata": {
    "ExecuteTime": {
     "end_time": "2021-09-29T15:56:54.441698Z",
     "start_time": "2021-09-29T15:56:54.425716Z"
    },
    "colab": {
     "base_uri": "https://localhost:8080/",
     "height": 34
    },
    "colab_type": "code",
    "id": "UhG6E-KIuyFf",
    "outputId": "e286ce1f-6c5c-4e30-a841-b7893099dc57"
   },
   "outputs": [
    {
     "name": "stdout",
     "output_type": "stream",
     "text": [
      "Sum of Numbers in the original list is :  45\n"
     ]
    }
   ],
   "source": [
    "from functools import reduce\n",
    "\n",
    "\n",
    "original_list = [1, 2, 3, 4, 5, 6, 7, 8, 9]\n",
    "\n",
    "# use reduce function to find the sum of numbers in the original list\n",
    "sum_of_list = reduce((lambda x, y : x + y), original_list) \n",
    "\n",
    "print ('Sum of Numbers in the original list is : ',sum_of_list) "
   ]
  },
  {
   "cell_type": "raw",
   "metadata": {},
   "source": [
    "lambda <arguments> : {<Return Value if condition is True> if <condition>} {else <Return Value if condition is False>}"
   ]
  },
  {
   "cell_type": "code",
   "execution_count": 24,
   "metadata": {
    "ExecuteTime": {
     "end_time": "2021-09-29T15:56:56.095146Z",
     "start_time": "2021-09-29T15:56:56.088147Z"
    }
   },
   "outputs": [
    {
     "name": "stdout",
     "output_type": "stream",
     "text": [
      "424\n"
     ]
    }
   ],
   "source": [
    "original_list = [110, 53, 3, 424, 255, 16, 42, 256]\n",
    "\n",
    "# largest in a list\n",
    "\n",
    "large_n = reduce(lambda x,y: x if (x>y) else y, original_list)\n",
    "\n",
    "print(large_n)"
   ]
  },
  {
   "cell_type": "code",
   "execution_count": 25,
   "metadata": {
    "ExecuteTime": {
     "end_time": "2021-09-29T15:56:57.551161Z",
     "start_time": "2021-09-29T15:56:57.538161Z"
    },
    "colab": {
     "base_uri": "https://localhost:8080/",
     "height": 34
    },
    "colab_type": "code",
    "id": "NXt4vLd4xCCi",
    "outputId": "20fddfb3-9279-4939-a301-213a77318758"
   },
   "outputs": [
    {
     "name": "stdout",
     "output_type": "stream",
     "text": [
      "Largest Number in the original list is :  424\n"
     ]
    }
   ],
   "source": [
    "original_list = [110, 53, 3, 424, 255, 16, 42, 256]\n",
    "\n",
    "# use reduce function to find the largest number in the original list\n",
    "largest_number = reduce((lambda x, y: x if (x > y) else y ), original_list) \n",
    "print ('Largest Number in the original list is : ',largest_number) "
   ]
  },
  {
   "cell_type": "code",
   "execution_count": 0,
   "metadata": {
    "colab": {},
    "colab_type": "code",
    "id": "eD4EWw2sLk8_"
   },
   "outputs": [],
   "source": []
  }
 ],
 "metadata": {
  "colab": {
   "name": "Lambda Expressions.ipynb",
   "provenance": []
  },
  "kernelspec": {
   "display_name": "Python 3 (ipykernel)",
   "language": "python",
   "name": "python3"
  },
  "language_info": {
   "codemirror_mode": {
    "name": "ipython",
    "version": 3
   },
   "file_extension": ".py",
   "mimetype": "text/x-python",
   "name": "python",
   "nbconvert_exporter": "python",
   "pygments_lexer": "ipython3",
   "version": "3.8.11"
  },
  "toc": {
   "base_numbering": 1,
   "nav_menu": {},
   "number_sections": true,
   "sideBar": true,
   "skip_h1_title": false,
   "title_cell": "Table of Contents",
   "title_sidebar": "Contents",
   "toc_cell": false,
   "toc_position": {},
   "toc_section_display": true,
   "toc_window_display": false
  }
 },
 "nbformat": 4,
 "nbformat_minor": 1
}
