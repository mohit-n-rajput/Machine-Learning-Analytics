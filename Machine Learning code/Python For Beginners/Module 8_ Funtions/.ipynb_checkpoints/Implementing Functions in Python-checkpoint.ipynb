{
 "cells": [
  {
   "cell_type": "markdown",
   "metadata": {},
   "source": [
    "---\n",
    "\n",
    "## 📍📍 Defining Functions 📍📍\n",
    "---\n",
    "\n",
    "* ***Purpose of functions is to group a particular lines of code that needs to be executed multiple times.***\n",
    "* ***The keyword `def` introduces a function definition and it must be followed by the function name.***\n",
    "\n",
    "---"
   ]
  },
  {
   "cell_type": "code",
   "execution_count": 1,
   "metadata": {
    "ExecuteTime": {
     "end_time": "2021-09-27T13:38:14.342506Z",
     "start_time": "2021-09-27T13:38:14.335518Z"
    }
   },
   "outputs": [],
   "source": [
    "def welcome():\n",
    "    print(\"Welcome to the Python Course!!\")"
   ]
  },
  {
   "cell_type": "code",
   "execution_count": 2,
   "metadata": {
    "ExecuteTime": {
     "end_time": "2021-09-27T13:38:14.797503Z",
     "start_time": "2021-09-27T13:38:14.785501Z"
    }
   },
   "outputs": [
    {
     "name": "stdout",
     "output_type": "stream",
     "text": [
      "Welcome to the Python Course!!\n"
     ]
    }
   ],
   "source": [
    "# calling a function in python and print something to console\n",
    "welcome()"
   ]
  },
  {
   "cell_type": "code",
   "execution_count": 3,
   "metadata": {
    "ExecuteTime": {
     "end_time": "2021-09-27T13:38:15.129337Z",
     "start_time": "2021-09-27T13:38:15.122336Z"
    }
   },
   "outputs": [
    {
     "name": "stdout",
     "output_type": "stream",
     "text": [
      "Welcome to the Python Course!!\n"
     ]
    }
   ],
   "source": [
    "welcome() # calling function"
   ]
  },
  {
   "cell_type": "markdown",
   "metadata": {},
   "source": [
    "---\n",
    "\n",
    "***`return statement:`***\n",
    "\n",
    "- A `return` statement is used to end the execution of the function call and gives the result. \n",
    "- <span class=\"mark\">The statements after the `return statements` are not executed.</span>\n",
    "\n",
    "---"
   ]
  },
  {
   "cell_type": "code",
   "execution_count": 4,
   "metadata": {
    "ExecuteTime": {
     "end_time": "2021-09-27T13:38:16.199201Z",
     "start_time": "2021-09-27T13:38:16.183566Z"
    }
   },
   "outputs": [],
   "source": [
    "def add_two_numbers():\n",
    "    # add two numbers 3 and 4\n",
    "    total = 3 + 4\n",
    "    \n",
    "    # print the total\n",
    "    print(\"Sum of 3 and 4 is:\", total)"
   ]
  },
  {
   "cell_type": "code",
   "execution_count": 5,
   "metadata": {
    "ExecuteTime": {
     "end_time": "2021-09-27T13:38:16.511242Z",
     "start_time": "2021-09-27T13:38:16.494242Z"
    }
   },
   "outputs": [
    {
     "name": "stdout",
     "output_type": "stream",
     "text": [
      "Sum of 3 and 4 is: 7\n"
     ]
    }
   ],
   "source": [
    "add_two_numbers()"
   ]
  },
  {
   "cell_type": "code",
   "execution_count": 6,
   "metadata": {
    "ExecuteTime": {
     "end_time": "2021-09-27T13:38:16.809419Z",
     "start_time": "2021-09-27T13:38:16.798901Z"
    }
   },
   "outputs": [
    {
     "name": "stdout",
     "output_type": "stream",
     "text": [
      "Sum of 3 and 4 is: 7\n",
      "None\n"
     ]
    }
   ],
   "source": [
    "print(add_two_numbers())    # return None"
   ]
  },
  {
   "cell_type": "code",
   "execution_count": 7,
   "metadata": {
    "ExecuteTime": {
     "end_time": "2021-09-27T13:38:17.505557Z",
     "start_time": "2021-09-27T13:38:17.501562Z"
    }
   },
   "outputs": [],
   "source": [
    "def add_two_numbers_with_return():\n",
    "    # add two numbers 3 and 4\n",
    "    total = 3 + 4\n",
    "    \n",
    "    # print the total\n",
    "    print(\"Sum of 3 and 4 is:\", total)\n",
    "    \n",
    "    # return the value of total\n",
    "    return total"
   ]
  },
  {
   "cell_type": "code",
   "execution_count": 8,
   "metadata": {
    "ExecuteTime": {
     "end_time": "2021-09-27T13:38:17.854015Z",
     "start_time": "2021-09-27T13:38:17.845015Z"
    }
   },
   "outputs": [
    {
     "name": "stdout",
     "output_type": "stream",
     "text": [
      "Sum of 3 and 4 is: 7\n"
     ]
    }
   ],
   "source": [
    "add_two_numbers()"
   ]
  },
  {
   "cell_type": "code",
   "execution_count": 9,
   "metadata": {
    "ExecuteTime": {
     "end_time": "2021-09-27T13:38:18.143887Z",
     "start_time": "2021-09-27T13:38:18.130888Z"
    }
   },
   "outputs": [
    {
     "name": "stdout",
     "output_type": "stream",
     "text": [
      "<function add_two_numbers at 0x000001E7008B78B0>\n"
     ]
    }
   ],
   "source": [
    "print(add_two_numbers)"
   ]
  },
  {
   "cell_type": "code",
   "execution_count": 10,
   "metadata": {
    "ExecuteTime": {
     "end_time": "2021-09-27T13:38:18.457215Z",
     "start_time": "2021-09-27T13:38:18.442212Z"
    }
   },
   "outputs": [
    {
     "name": "stdout",
     "output_type": "stream",
     "text": [
      "Sum of 3 and 4 is: 7\n",
      "None\n"
     ]
    }
   ],
   "source": [
    "print(add_two_numbers())"
   ]
  },
  {
   "cell_type": "code",
   "execution_count": 11,
   "metadata": {
    "ExecuteTime": {
     "end_time": "2021-09-27T13:38:18.896218Z",
     "start_time": "2021-09-27T13:38:18.885220Z"
    }
   },
   "outputs": [
    {
     "name": "stdout",
     "output_type": "stream",
     "text": [
      "Sum of 3 and 4 is: 7\n"
     ]
    }
   ],
   "source": [
    "output_1 = add_two_numbers()"
   ]
  },
  {
   "cell_type": "code",
   "execution_count": 12,
   "metadata": {
    "ExecuteTime": {
     "end_time": "2021-09-27T13:38:19.277122Z",
     "start_time": "2021-09-27T13:38:19.259150Z"
    }
   },
   "outputs": [
    {
     "name": "stdout",
     "output_type": "stream",
     "text": [
      "None\n"
     ]
    }
   ],
   "source": [
    "output_1 # values not saved\n",
    "print(output_1)"
   ]
  },
  {
   "cell_type": "markdown",
   "metadata": {},
   "source": [
    "###### Because if you don't return anything in function and function assign to variable it returns None."
   ]
  },
  {
   "cell_type": "code",
   "execution_count": 13,
   "metadata": {
    "ExecuteTime": {
     "end_time": "2021-09-27T13:38:20.693689Z",
     "start_time": "2021-09-27T13:38:20.686689Z"
    },
    "scrolled": true
   },
   "outputs": [
    {
     "name": "stdout",
     "output_type": "stream",
     "text": [
      "Sum of 3 and 4 is: 7\n"
     ]
    }
   ],
   "source": [
    "output_2 = add_two_numbers_with_return()"
   ]
  },
  {
   "cell_type": "code",
   "execution_count": 14,
   "metadata": {
    "ExecuteTime": {
     "end_time": "2021-09-27T13:38:20.927914Z",
     "start_time": "2021-09-27T13:38:20.906914Z"
    }
   },
   "outputs": [
    {
     "data": {
      "text/plain": [
       "7"
      ]
     },
     "execution_count": 14,
     "metadata": {},
     "output_type": "execute_result"
    }
   ],
   "source": [
    "output_2   # return 7"
   ]
  },
  {
   "cell_type": "markdown",
   "metadata": {},
   "source": [
    "###### The statements after the return statements are not executed."
   ]
  },
  {
   "cell_type": "code",
   "execution_count": 15,
   "metadata": {
    "ExecuteTime": {
     "end_time": "2021-09-27T13:38:21.662008Z",
     "start_time": "2021-09-27T13:38:21.645007Z"
    }
   },
   "outputs": [],
   "source": [
    "def func():\n",
    "    return \"Hello i am a Function.\"\n",
    "    # after return execution close.\n",
    "    \n",
    "    print(\"Function Close\")"
   ]
  },
  {
   "cell_type": "markdown",
   "metadata": {},
   "source": [
    "######  Be careful puting statement inside function, everthing after the return statements are not executed."
   ]
  },
  {
   "cell_type": "code",
   "execution_count": 16,
   "metadata": {
    "ExecuteTime": {
     "end_time": "2021-09-27T13:38:22.376173Z",
     "start_time": "2021-09-27T13:38:22.359166Z"
    }
   },
   "outputs": [
    {
     "data": {
      "text/plain": [
       "'Hello i am a Function.'"
      ]
     },
     "execution_count": 16,
     "metadata": {},
     "output_type": "execute_result"
    }
   ],
   "source": [
    "func()  "
   ]
  },
  {
   "cell_type": "code",
   "execution_count": 17,
   "metadata": {
    "ExecuteTime": {
     "end_time": "2021-09-27T13:38:22.911128Z",
     "start_time": "2021-09-27T13:38:22.902125Z"
    }
   },
   "outputs": [
    {
     "data": {
      "text/plain": [
       "\"str(object='') -> str\\nstr(bytes_or_buffer[, encoding[, errors]]) -> str\\n\\nCreate a new string object from the given object. If encoding or\\nerrors is specified, then the object must expose a data buffer\\nthat will be decoded using the given encoding and error handler.\\nOtherwise, returns the result of object.__str__() (if defined)\\nor repr(object).\\nencoding defaults to sys.getdefaultencoding().\\nerrors defaults to 'strict'.\""
      ]
     },
     "execution_count": 17,
     "metadata": {},
     "output_type": "execute_result"
    }
   ],
   "source": [
    "func().__doc__"
   ]
  },
  {
   "cell_type": "markdown",
   "metadata": {},
   "source": [
    "---\n",
    "\n",
    "###  Passing Parameters\n",
    "\n",
    "---"
   ]
  },
  {
   "cell_type": "code",
   "execution_count": 18,
   "metadata": {
    "ExecuteTime": {
     "end_time": "2021-09-27T13:38:24.678844Z",
     "start_time": "2021-09-27T13:38:24.662844Z"
    }
   },
   "outputs": [],
   "source": [
    "def welcome(name):  # name is parameters\n",
    "    return \"Welcome to Python Course, \" + name"
   ]
  },
  {
   "cell_type": "code",
   "execution_count": 19,
   "metadata": {
    "ExecuteTime": {
     "end_time": "2021-09-27T13:38:24.990343Z",
     "start_time": "2021-09-27T13:38:24.976343Z"
    }
   },
   "outputs": [
    {
     "data": {
      "text/plain": [
       "'Welcome to Python Course, Lakshay'"
      ]
     },
     "execution_count": 19,
     "metadata": {},
     "output_type": "execute_result"
    }
   ],
   "source": [
    "welcome('Lakshay')"
   ]
  },
  {
   "cell_type": "code",
   "execution_count": 20,
   "metadata": {
    "ExecuteTime": {
     "end_time": "2021-09-27T13:38:25.217830Z",
     "start_time": "2021-09-27T13:38:25.198811Z"
    }
   },
   "outputs": [
    {
     "data": {
      "text/plain": [
       "'Welcome to Python Course, Sanad'"
      ]
     },
     "execution_count": 20,
     "metadata": {},
     "output_type": "execute_result"
    }
   ],
   "source": [
    "welcome('Sanad')"
   ]
  },
  {
   "cell_type": "markdown",
   "metadata": {},
   "source": [
    "---\n",
    "\n",
    "***Default value of Parameters***\n",
    "\n",
    "\n",
    "---"
   ]
  },
  {
   "cell_type": "code",
   "execution_count": 21,
   "metadata": {
    "ExecuteTime": {
     "end_time": "2021-09-27T13:38:25.740583Z",
     "start_time": "2021-09-27T13:38:25.732588Z"
    }
   },
   "outputs": [],
   "source": [
    "def welcome(name):\n",
    "    return \"Welcome to Python Course, \" + name"
   ]
  },
  {
   "cell_type": "code",
   "execution_count": 22,
   "metadata": {
    "ExecuteTime": {
     "end_time": "2021-09-27T13:38:25.989126Z",
     "start_time": "2021-09-27T13:38:25.982142Z"
    }
   },
   "outputs": [
    {
     "data": {
      "text/plain": [
       "'Welcome to Python Course, Rohan'"
      ]
     },
     "execution_count": 22,
     "metadata": {},
     "output_type": "execute_result"
    }
   ],
   "source": [
    "welcome(\"Rohan\")"
   ]
  },
  {
   "cell_type": "code",
   "execution_count": 23,
   "metadata": {
    "ExecuteTime": {
     "end_time": "2021-09-27T13:38:26.369703Z",
     "start_time": "2021-09-27T13:38:26.159150Z"
    }
   },
   "outputs": [
    {
     "ename": "TypeError",
     "evalue": "welcome() missing 1 required positional argument: 'name'",
     "output_type": "error",
     "traceback": [
      "\u001b[1;31m---------------------------------------------------------------------------\u001b[0m",
      "\u001b[1;31mTypeError\u001b[0m                                 Traceback (most recent call last)",
      "\u001b[1;32m~\\AppData\\Local\\Temp/ipykernel_1992/241228648.py\u001b[0m in \u001b[0;36m<module>\u001b[1;34m\u001b[0m\n\u001b[1;32m----> 1\u001b[1;33m \u001b[0mwelcome\u001b[0m\u001b[1;33m(\u001b[0m\u001b[1;33m)\u001b[0m\u001b[1;33m\u001b[0m\u001b[1;33m\u001b[0m\u001b[0m\n\u001b[0m",
      "\u001b[1;31mTypeError\u001b[0m: welcome() missing 1 required positional argument: 'name'"
     ]
    }
   ],
   "source": [
    "welcome()"
   ]
  },
  {
   "cell_type": "code",
   "execution_count": 24,
   "metadata": {
    "ExecuteTime": {
     "end_time": "2021-09-27T13:38:26.821439Z",
     "start_time": "2021-09-27T13:38:26.810440Z"
    }
   },
   "outputs": [],
   "source": [
    "def welcome(name = \"Arvind\" ):  \n",
    "    \"\"\"\n",
    "        Arvind is a default name when user not provide any argument.\n",
    "    \"\"\"\n",
    "    return \"Welcome to Python Course, \" + name"
   ]
  },
  {
   "cell_type": "code",
   "execution_count": 25,
   "metadata": {
    "ExecuteTime": {
     "end_time": "2021-09-27T13:38:27.168270Z",
     "start_time": "2021-09-27T13:38:27.153269Z"
    }
   },
   "outputs": [
    {
     "data": {
      "text/plain": [
       "'Welcome to Python Course, Rohan'"
      ]
     },
     "execution_count": 25,
     "metadata": {},
     "output_type": "execute_result"
    }
   ],
   "source": [
    "welcome(\"Rohan\")"
   ]
  },
  {
   "cell_type": "code",
   "execution_count": 26,
   "metadata": {
    "ExecuteTime": {
     "end_time": "2021-09-27T13:38:27.578875Z",
     "start_time": "2021-09-27T13:38:27.563244Z"
    }
   },
   "outputs": [
    {
     "data": {
      "text/plain": [
       "'Welcome to Python Course, Arvind'"
      ]
     },
     "execution_count": 26,
     "metadata": {},
     "output_type": "execute_result"
    }
   ],
   "source": [
    "welcome()"
   ]
  },
  {
   "cell_type": "code",
   "execution_count": 27,
   "metadata": {
    "ExecuteTime": {
     "end_time": "2021-09-27T13:38:28.010451Z",
     "start_time": "2021-09-27T13:38:27.993450Z"
    }
   },
   "outputs": [
    {
     "data": {
      "text/plain": [
       "'Welcome to Python Course, Lakshay'"
      ]
     },
     "execution_count": 27,
     "metadata": {},
     "output_type": "execute_result"
    }
   ],
   "source": [
    "name = \"Lakshay\"\n",
    "welcome(name)"
   ]
  },
  {
   "cell_type": "markdown",
   "metadata": {},
   "source": [
    "---\n",
    "\n",
    "***`POSITIONAL ARGUMENTS`***\n",
    "\n",
    "***Most arguments are identified by their position in the function call. `print(a,b)` will give different results from `print(b,a)`***\n",
    "\n",
    "---"
   ]
  },
  {
   "cell_type": "code",
   "execution_count": 28,
   "metadata": {
    "ExecuteTime": {
     "end_time": "2021-09-27T13:38:29.578310Z",
     "start_time": "2021-09-27T13:38:29.574317Z"
    }
   },
   "outputs": [],
   "source": [
    "\"\"\"\n",
    "    In Python, Postion or order of Arguments area matters.\n",
    "\"\"\"\n",
    "\n",
    "def math_functions(small_number, large_number):\n",
    "    \n",
    "    difference = large_number - small_number\n",
    "    return difference"
   ]
  },
  {
   "cell_type": "markdown",
   "metadata": {},
   "source": [
    "***If we define only the values of the arguments, the values will be assigned in position.***\n",
    "\n",
    "---"
   ]
  },
  {
   "cell_type": "code",
   "execution_count": 29,
   "metadata": {
    "ExecuteTime": {
     "end_time": "2021-09-27T13:38:30.699398Z",
     "start_time": "2021-09-27T13:38:30.689374Z"
    }
   },
   "outputs": [
    {
     "data": {
      "text/plain": [
       "12"
      ]
     },
     "execution_count": 29,
     "metadata": {},
     "output_type": "execute_result"
    }
   ],
   "source": [
    "math_functions(4,16)"
   ]
  },
  {
   "cell_type": "code",
   "execution_count": 30,
   "metadata": {
    "ExecuteTime": {
     "end_time": "2021-09-27T13:38:31.134964Z",
     "start_time": "2021-09-27T13:38:31.115965Z"
    }
   },
   "outputs": [
    {
     "data": {
      "text/plain": [
       "-12"
      ]
     },
     "execution_count": 30,
     "metadata": {},
     "output_type": "execute_result"
    }
   ],
   "source": [
    "math_functions(16,4)"
   ]
  },
  {
   "cell_type": "markdown",
   "metadata": {},
   "source": [
    "---\n",
    "\n",
    "***`KEYWORD ARGUMENTS`***\n",
    "\n",
    "---\n",
    "\n"
   ]
  },
  {
   "cell_type": "markdown",
   "metadata": {},
   "source": [
    "***If we are defining the keywords, then we can define them in any order.***\n",
    "\n",
    "---"
   ]
  },
  {
   "cell_type": "code",
   "execution_count": 31,
   "metadata": {
    "ExecuteTime": {
     "end_time": "2021-09-27T13:38:32.246217Z",
     "start_time": "2021-09-27T13:38:32.240220Z"
    }
   },
   "outputs": [
    {
     "data": {
      "text/plain": [
       "12"
      ]
     },
     "execution_count": 31,
     "metadata": {},
     "output_type": "execute_result"
    }
   ],
   "source": [
    "math_functions(large_number = 16, small_number= 4)"
   ]
  },
  {
   "cell_type": "markdown",
   "metadata": {},
   "source": [
    "######  Here, we explicitly said that the small number argument belongs to small number parameter which value 4."
   ]
  },
  {
   "cell_type": "code",
   "execution_count": 32,
   "metadata": {
    "ExecuteTime": {
     "end_time": "2021-09-27T13:38:33.182401Z",
     "start_time": "2021-09-27T13:38:33.172401Z"
    }
   },
   "outputs": [
    {
     "data": {
      "text/plain": [
       "12"
      ]
     },
     "execution_count": 32,
     "metadata": {},
     "output_type": "execute_result"
    }
   ],
   "source": [
    "math_functions(small_number = 4, large_number= 16)"
   ]
  },
  {
   "cell_type": "code",
   "execution_count": 33,
   "metadata": {
    "ExecuteTime": {
     "end_time": "2021-09-27T13:38:34.000354Z",
     "start_time": "2021-09-27T13:38:33.980365Z"
    }
   },
   "outputs": [
    {
     "ename": "TypeError",
     "evalue": "math_functions() got an unexpected keyword argument 'a'",
     "output_type": "error",
     "traceback": [
      "\u001b[1;31m---------------------------------------------------------------------------\u001b[0m",
      "\u001b[1;31mTypeError\u001b[0m                                 Traceback (most recent call last)",
      "\u001b[1;32m~\\AppData\\Local\\Temp/ipykernel_1992/938335941.py\u001b[0m in \u001b[0;36m<module>\u001b[1;34m\u001b[0m\n\u001b[1;32m----> 1\u001b[1;33m \u001b[0mmath_functions\u001b[0m\u001b[1;33m(\u001b[0m\u001b[0ma\u001b[0m\u001b[1;33m=\u001b[0m\u001b[1;36m5\u001b[0m\u001b[1;33m,\u001b[0m\u001b[0mb\u001b[0m\u001b[1;33m=\u001b[0m\u001b[1;36m7\u001b[0m\u001b[1;33m)\u001b[0m\u001b[1;33m\u001b[0m\u001b[1;33m\u001b[0m\u001b[0m\n\u001b[0m",
      "\u001b[1;31mTypeError\u001b[0m: math_functions() got an unexpected keyword argument 'a'"
     ]
    }
   ],
   "source": [
    "math_functions(a=5,b=7)"
   ]
  },
  {
   "cell_type": "markdown",
   "metadata": {},
   "source": [
    "***In Python, we cannot first define keyword argument and then positional arguments***\n",
    "\n",
    "---"
   ]
  },
  {
   "cell_type": "markdown",
   "metadata": {},
   "source": [
    "###### Give postional arguments order firsta and postional argument last."
   ]
  },
  {
   "cell_type": "code",
   "execution_count": 34,
   "metadata": {
    "ExecuteTime": {
     "end_time": "2021-09-27T13:38:35.107908Z",
     "start_time": "2021-09-27T13:38:35.097905Z"
    }
   },
   "outputs": [
    {
     "ename": "SyntaxError",
     "evalue": "positional argument follows keyword argument (Temp/ipykernel_1992/876686185.py, line 1)",
     "output_type": "error",
     "traceback": [
      "\u001b[1;36m  File \u001b[1;32m\"C:\\Users\\mnr41\\AppData\\Local\\Temp/ipykernel_1992/876686185.py\"\u001b[1;36m, line \u001b[1;32m1\u001b[0m\n\u001b[1;33m    math_functions(small_number= 4, 16)\u001b[0m\n\u001b[1;37m                                    ^\u001b[0m\n\u001b[1;31mSyntaxError\u001b[0m\u001b[1;31m:\u001b[0m positional argument follows keyword argument\n"
     ]
    }
   ],
   "source": [
    "math_functions(small_number= 4, 16)"
   ]
  },
  {
   "cell_type": "code",
   "execution_count": 35,
   "metadata": {
    "ExecuteTime": {
     "end_time": "2021-09-27T13:38:35.479664Z",
     "start_time": "2021-09-27T13:38:35.466665Z"
    }
   },
   "outputs": [
    {
     "data": {
      "text/plain": [
       "12"
      ]
     },
     "execution_count": 35,
     "metadata": {},
     "output_type": "execute_result"
    }
   ],
   "source": [
    "math_functions(4,large_number= 16)"
   ]
  },
  {
   "cell_type": "code",
   "execution_count": 36,
   "metadata": {
    "ExecuteTime": {
     "end_time": "2021-09-27T13:38:36.092248Z",
     "start_time": "2021-09-27T13:38:36.074247Z"
    }
   },
   "outputs": [
    {
     "ename": "TypeError",
     "evalue": "math_functions() got multiple values for argument 'small_number'",
     "output_type": "error",
     "traceback": [
      "\u001b[1;31m---------------------------------------------------------------------------\u001b[0m",
      "\u001b[1;31mTypeError\u001b[0m                                 Traceback (most recent call last)",
      "\u001b[1;32m~\\AppData\\Local\\Temp/ipykernel_1992/2984591662.py\u001b[0m in \u001b[0;36m<module>\u001b[1;34m\u001b[0m\n\u001b[1;32m----> 1\u001b[1;33m \u001b[0mmath_functions\u001b[0m\u001b[1;33m(\u001b[0m\u001b[1;36m4\u001b[0m\u001b[1;33m,\u001b[0m \u001b[0msmall_number\u001b[0m \u001b[1;33m=\u001b[0m \u001b[1;36m1\u001b[0m\u001b[1;33m)\u001b[0m\u001b[1;33m\u001b[0m\u001b[1;33m\u001b[0m\u001b[0m\n\u001b[0m",
      "\u001b[1;31mTypeError\u001b[0m: math_functions() got multiple values for argument 'small_number'"
     ]
    }
   ],
   "source": [
    "math_functions(4, small_number = 1)"
   ]
  },
  {
   "cell_type": "markdown",
   "metadata": {},
   "source": [
    "## ***VARIABLE LENGTH ARGUMENTS***"
   ]
  },
  {
   "cell_type": "markdown",
   "metadata": {},
   "source": [
    "---\n",
    "\n",
    "\n",
    "\n",
    "- Sometimes, we need more flexibility while defining functions like we don't know in advance the fixed number of arguments. \n",
    "- Python allows us to make function calls with variable length arguments.\n",
    "\n",
    "---\n",
    "\n",
    "- "
   ]
  },
  {
   "cell_type": "markdown",
   "metadata": {},
   "source": [
    "### <span class=\"mark\">In the argument use an **(*)** astrick sign before the argument. Let's see how to use in below example.</span> "
   ]
  },
  {
   "cell_type": "code",
   "execution_count": 37,
   "metadata": {
    "ExecuteTime": {
     "end_time": "2021-09-27T13:38:37.213713Z",
     "start_time": "2021-09-27T13:38:37.207712Z"
    }
   },
   "outputs": [],
   "source": [
    "# define a function\n",
    "def my_function(*args):\n",
    "    \n",
    "    for i in args:\n",
    "        print(i)"
   ]
  },
  {
   "cell_type": "markdown",
   "metadata": {},
   "source": [
    "    for i in args:\n",
    "        print(i)"
   ]
  },
  {
   "cell_type": "code",
   "execution_count": 38,
   "metadata": {
    "ExecuteTime": {
     "end_time": "2021-09-27T13:38:37.595042Z",
     "start_time": "2021-09-27T13:38:37.587996Z"
    }
   },
   "outputs": [
    {
     "name": "stdout",
     "output_type": "stream",
     "text": [
      "1\n",
      "2\n",
      "3\n",
      "4\n"
     ]
    }
   ],
   "source": [
    "my_function(1, 2, 3, 4)"
   ]
  },
  {
   "cell_type": "code",
   "execution_count": 39,
   "metadata": {
    "ExecuteTime": {
     "end_time": "2021-09-27T13:38:37.866456Z",
     "start_time": "2021-09-27T13:38:37.862457Z"
    }
   },
   "outputs": [
    {
     "name": "stdout",
     "output_type": "stream",
     "text": [
      "1\n",
      "2\n"
     ]
    }
   ],
   "source": [
    "my_function(1,2)"
   ]
  },
  {
   "cell_type": "markdown",
   "metadata": {},
   "source": [
    "###### Here all arguments are convert to the tuple, when ypu define parameter with * python understands that it needs a multiple values and stores it in tuple."
   ]
  },
  {
   "cell_type": "code",
   "execution_count": 40,
   "metadata": {
    "ExecuteTime": {
     "end_time": "2021-09-27T13:38:38.506213Z",
     "start_time": "2021-09-27T13:38:38.495213Z"
    }
   },
   "outputs": [],
   "source": [
    "# define a function\n",
    "def my_function(*args):\n",
    "    \n",
    "    print(args[1])\n",
    "    print(args[-1])"
   ]
  },
  {
   "cell_type": "code",
   "execution_count": 41,
   "metadata": {
    "ExecuteTime": {
     "end_time": "2021-09-27T13:38:38.728471Z",
     "start_time": "2021-09-27T13:38:38.722471Z"
    }
   },
   "outputs": [
    {
     "name": "stdout",
     "output_type": "stream",
     "text": [
      "2\n",
      "4\n",
      "2\n",
      "{1: 1, 2: 2}\n"
     ]
    }
   ],
   "source": [
    "my_function(1, 2, 3, 4)\n",
    "my_function('1', '2', 'cijeoi', 'foejof', 'ojfiejfpiwe',(1,2),{1:1,2:2})"
   ]
  },
  {
   "cell_type": "code",
   "execution_count": 42,
   "metadata": {
    "ExecuteTime": {
     "end_time": "2021-09-27T13:38:38.981827Z",
     "start_time": "2021-09-27T13:38:38.974823Z"
    }
   },
   "outputs": [],
   "source": [
    "# define a function\n",
    "def my_function(*args):\n",
    "    \n",
    "    for i in args:\n",
    "        print(i)\n",
    "        \n",
    "    print(type(args))"
   ]
  },
  {
   "cell_type": "code",
   "execution_count": 43,
   "metadata": {
    "ExecuteTime": {
     "end_time": "2021-09-27T13:38:39.203805Z",
     "start_time": "2021-09-27T13:38:39.187833Z"
    }
   },
   "outputs": [
    {
     "name": "stdout",
     "output_type": "stream",
     "text": [
      "1\n",
      "2\n",
      "3\n",
      "4\n",
      "<class 'tuple'>\n"
     ]
    }
   ],
   "source": [
    "my_function(1, 2, 3, 4)"
   ]
  },
  {
   "cell_type": "code",
   "execution_count": 44,
   "metadata": {
    "ExecuteTime": {
     "end_time": "2021-09-27T13:38:39.423010Z",
     "start_time": "2021-09-27T13:38:39.404009Z"
    }
   },
   "outputs": [
    {
     "name": "stdout",
     "output_type": "stream",
     "text": [
      "1\n",
      "2\n",
      "cijeoi\n",
      "foejof\n",
      "ojfiejfpiwe\n",
      "(1, 2)\n",
      "{1: 1, 2: 2}\n",
      "<class 'tuple'>\n"
     ]
    }
   ],
   "source": [
    "my_function('1', '2', 'cijeoi', 'foejof', 'ojfiejfpiwe',(1,2),{1:1,2:2})"
   ]
  },
  {
   "cell_type": "markdown",
   "metadata": {},
   "source": [
    "### <span class=\"mark\">If you have unknown number of keyword arguments, then you can use double asterick (**)</span>\n",
    "\n",
    "---"
   ]
  },
  {
   "cell_type": "markdown",
   "metadata": {},
   "source": [
    "###### When ypu define parameter with * python understands that it needs a multiple keyword arguments and stores it in dictionary."
   ]
  },
  {
   "cell_type": "code",
   "execution_count": 45,
   "metadata": {
    "ExecuteTime": {
     "end_time": "2021-09-27T13:38:40.110836Z",
     "start_time": "2021-09-27T13:38:40.103805Z"
    }
   },
   "outputs": [],
   "source": [
    "def my_keyword_arguments(**kwargs):\n",
    "    for key, value in kwargs.items():\n",
    "        print(key, value)\n",
    "        \n",
    "    print(kwargs)\n",
    "    print(type(kwargs))"
   ]
  },
  {
   "cell_type": "code",
   "execution_count": 46,
   "metadata": {
    "ExecuteTime": {
     "end_time": "2021-09-27T13:38:40.362055Z",
     "start_time": "2021-09-27T13:38:40.345039Z"
    }
   },
   "outputs": [
    {
     "name": "stdout",
     "output_type": "stream",
     "text": [
      "a 1\n",
      "b 2\n",
      "c 3\n",
      "d 4\n",
      "{'a': 1, 'b': 2, 'c': 3, 'd': 4}\n",
      "<class 'dict'>\n"
     ]
    }
   ],
   "source": [
    "my_keyword_arguments(a= 1, b= 2, c= 3, d= 4)"
   ]
  },
  {
   "cell_type": "code",
   "execution_count": 47,
   "metadata": {
    "ExecuteTime": {
     "end_time": "2021-09-27T13:38:40.689409Z",
     "start_time": "2021-09-27T13:38:40.678407Z"
    }
   },
   "outputs": [
    {
     "name": "stdout",
     "output_type": "stream",
     "text": [
      "x s\n",
      "y e\n",
      "{'x': 's', 'y': 'e'}\n",
      "<class 'dict'>\n"
     ]
    }
   ],
   "source": [
    "my_keyword_arguments(x='s',y='e')"
   ]
  },
  {
   "cell_type": "markdown",
   "metadata": {},
   "source": [
    "## ***Scope of Variables: Local and Global Variables***"
   ]
  },
  {
   "cell_type": "markdown",
   "metadata": {},
   "source": [
    "---\n",
    "\n",
    "\n",
    "\n",
    "---\n",
    "\n",
    "- **`\"Scope of Variable\"`** means that part of program where we can access the particular variable.\n",
    "- **`\"Local Variable\"`** are those which are defined inside the function and can be only accessed inside that particular function.\n",
    "- **`\"Global Variable\"`** are defined outside the function and can be accessed throughout the program.\n",
    " \n",
    "---\n",
    "\n",
    "\n",
    "***Let's define a global variable, `\"name\"` outside the function. We will return its value using a function `\"my_function\"` and see that we would be able to access its value using that function also.***\n",
    "\n",
    "---"
   ]
  },
  {
   "cell_type": "code",
   "execution_count": 48,
   "metadata": {
    "ExecuteTime": {
     "end_time": "2021-09-27T13:45:53.327362Z",
     "start_time": "2021-09-27T13:45:53.312370Z"
    }
   },
   "outputs": [],
   "source": [
    "# define a global variable\n",
    "name = \"variable outside function\" \n",
    "\n",
    "# define a function\n",
    "def my_function():\n",
    "    # access the variable outside the function\n",
    "    return name"
   ]
  },
  {
   "cell_type": "code",
   "execution_count": 49,
   "metadata": {
    "ExecuteTime": {
     "end_time": "2021-09-27T13:45:54.784499Z",
     "start_time": "2021-09-27T13:45:54.768497Z"
    }
   },
   "outputs": [
    {
     "name": "stdout",
     "output_type": "stream",
     "text": [
      "variable outside function\n",
      "variable outside function\n"
     ]
    }
   ],
   "source": [
    "print(my_function())\n",
    "print(name)"
   ]
  },
  {
   "cell_type": "markdown",
   "metadata": {},
   "source": [
    "***So, we were able to access the value of a global variable from inside the function. Let's see what will happen if we try to change the value of global variable inside the function***\n",
    "\n",
    "---"
   ]
  },
  {
   "cell_type": "code",
   "execution_count": 53,
   "metadata": {
    "ExecuteTime": {
     "end_time": "2021-09-27T13:48:19.881463Z",
     "start_time": "2021-09-27T13:48:19.876462Z"
    }
   },
   "outputs": [],
   "source": [
    "# define a global variable\n",
    "name = \"variable outside function\"\n",
    "\n",
    "def my_function():\n",
    "    # try to change the value of global variable inside the function\n",
    "    # new name variable only accessed inside the function,\n",
    "    name = \"variable inside function\"  \n",
    "    return name"
   ]
  },
  {
   "cell_type": "code",
   "execution_count": 55,
   "metadata": {
    "ExecuteTime": {
     "end_time": "2021-09-27T13:49:19.734413Z",
     "start_time": "2021-09-27T13:49:19.716400Z"
    },
    "scrolled": false
   },
   "outputs": [
    {
     "name": "stdout",
     "output_type": "stream",
     "text": [
      "variable inside function\n",
      "variable outside function\n"
     ]
    }
   ],
   "source": [
    "print(my_function())\n",
    "\n",
    "# outside function only old name variable is visible\n",
    "print(name)"
   ]
  },
  {
   "cell_type": "markdown",
   "metadata": {},
   "source": [
    "* ***So, here when we tried to change the value of the variable `\"name\"` inside the function then instead of updating its value, python created another variable `(\"another local variable\")` whose scope was only limited to the function itself.***\n",
    "* ***When we called the function, it returned the value of the local variable whereas when we directly accessed the `\"name\"` variable, it returned the value of the global variable.***"
   ]
  },
  {
   "cell_type": "markdown",
   "metadata": {},
   "source": [
    "---\n",
    "\n",
    "\n",
    "\n",
    "---\n",
    "\n",
    "#### `LET'S SEE HOW CAN WE UPDATE THE VALUE OF THE GLOBAL VARIABLE INSIDE ANY USER-DEFINED FUNCTION.`\n",
    "\n",
    "\n",
    "---\n",
    "***`global` keyword***\n",
    "\n",
    "---"
   ]
  },
  {
   "cell_type": "code",
   "execution_count": 57,
   "metadata": {
    "ExecuteTime": {
     "end_time": "2021-09-27T13:50:57.029588Z",
     "start_time": "2021-09-27T13:50:57.012596Z"
    }
   },
   "outputs": [],
   "source": [
    "# define a global variable\n",
    "name = \"variable outside function\"\n",
    "\n",
    "def my_function():\n",
    "    # tell the function which variables are global\n",
    "    \"\"\"\n",
    "        After write global keyword before variable, it's pointing a global variable of \n",
    "        program scope with same name.\n",
    "    \"\"\"\n",
    "    \n",
    "    global name\n",
    "    name = \"variable inside function\"  \n",
    "    return name"
   ]
  },
  {
   "cell_type": "code",
   "execution_count": 60,
   "metadata": {
    "ExecuteTime": {
     "end_time": "2021-09-27T13:51:09.392674Z",
     "start_time": "2021-09-27T13:51:09.384680Z"
    }
   },
   "outputs": [
    {
     "data": {
      "text/plain": [
       "'variable inside function'"
      ]
     },
     "execution_count": 60,
     "metadata": {},
     "output_type": "execute_result"
    }
   ],
   "source": [
    "my_function()\n",
    "name"
   ]
  },
  {
   "cell_type": "code",
   "execution_count": 61,
   "metadata": {
    "ExecuteTime": {
     "end_time": "2021-09-27T13:51:20.379763Z",
     "start_time": "2021-09-27T13:51:20.372764Z"
    }
   },
   "outputs": [
    {
     "data": {
      "text/plain": [
       "\"\\n        After write global keyword before variable, it's pointing a global variable of \\n        program scope with same name.\\n    \""
      ]
     },
     "execution_count": 61,
     "metadata": {},
     "output_type": "execute_result"
    }
   ],
   "source": [
    "my_function.__doc__"
   ]
  },
  {
   "cell_type": "code",
   "execution_count": 64,
   "metadata": {
    "ExecuteTime": {
     "end_time": "2021-09-27T13:52:05.221830Z",
     "start_time": "2021-09-27T13:52:05.206831Z"
    }
   },
   "outputs": [
    {
     "data": {
      "text/plain": [
       "'my_function'"
      ]
     },
     "execution_count": 64,
     "metadata": {},
     "output_type": "execute_result"
    }
   ],
   "source": [
    "my_function.__name__"
   ]
  },
  {
   "cell_type": "code",
   "execution_count": 87,
   "metadata": {
    "ExecuteTime": {
     "end_time": "2021-09-27T13:58:17.649223Z",
     "start_time": "2021-09-27T13:58:17.635220Z"
    }
   },
   "outputs": [
    {
     "name": "stdout",
     "output_type": "stream",
     "text": [
      "<built-in method __dir__ of function object at 0x000001E700965B80>\n"
     ]
    }
   ],
   "source": [
    "print(my_function.__dir__)"
   ]
  },
  {
   "cell_type": "markdown",
   "metadata": {},
   "source": [
    "***While defining a function, we can tell the function that these `variables are global` using the `global` keyword.***\n",
    "\n",
    "\n",
    "---"
   ]
  },
  {
   "cell_type": "code",
   "execution_count": 88,
   "metadata": {
    "ExecuteTime": {
     "end_time": "2021-09-27T14:00:08.872306Z",
     "start_time": "2021-09-27T14:00:08.856668Z"
    }
   },
   "outputs": [],
   "source": [
    "import dis"
   ]
  },
  {
   "cell_type": "code",
   "execution_count": 91,
   "metadata": {
    "ExecuteTime": {
     "end_time": "2021-09-27T14:02:00.830359Z",
     "start_time": "2021-09-27T14:02:00.823360Z"
    }
   },
   "outputs": [
    {
     "name": "stdout",
     "output_type": "stream",
     "text": [
      " 12           0 LOAD_CONST               1 ('variable inside function')\n",
      "              2 STORE_GLOBAL             0 (name)\n",
      "\n",
      " 13           4 LOAD_GLOBAL              0 (name)\n",
      "              6 RETURN_VALUE\n"
     ]
    }
   ],
   "source": [
    "dis.disassemble(my_function.__code__)"
   ]
  },
  {
   "cell_type": "code",
   "execution_count": null,
   "metadata": {},
   "outputs": [],
   "source": []
  }
 ],
 "metadata": {
  "kernelspec": {
   "display_name": "Python 3 (ipykernel)",
   "language": "python",
   "name": "python3"
  },
  "language_info": {
   "codemirror_mode": {
    "name": "ipython",
    "version": 3
   },
   "file_extension": ".py",
   "mimetype": "text/x-python",
   "name": "python",
   "nbconvert_exporter": "python",
   "pygments_lexer": "ipython3",
   "version": "3.8.11"
  },
  "toc": {
   "base_numbering": 1,
   "nav_menu": {},
   "number_sections": true,
   "sideBar": true,
   "skip_h1_title": false,
   "title_cell": "Table of Contents",
   "title_sidebar": "Contents",
   "toc_cell": false,
   "toc_position": {},
   "toc_section_display": true,
   "toc_window_display": false
  }
 },
 "nbformat": 4,
 "nbformat_minor": 2
}
