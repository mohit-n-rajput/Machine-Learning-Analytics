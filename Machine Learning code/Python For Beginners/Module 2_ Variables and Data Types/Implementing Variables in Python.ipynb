{
 "cells": [
  {
   "cell_type": "markdown",
   "metadata": {
    "colab_type": "text",
    "id": "7AYfd0R_H25M"
   },
   "source": [
    "---\n",
    "\n",
    "<center> <h1> Variables and Data Types </h1> </center> \n",
    "\n",
    "---\n",
    "\n",
    "\n"
   ]
  },
  {
   "cell_type": "markdown",
   "metadata": {
    "colab_type": "text",
    "id": "UZAwvdkVTT80"
   },
   "source": [
    "- Variables are names that bound to objects,values,etc..\n",
    "\n",
    "---"
   ]
  },
  {
   "cell_type": "markdown",
   "metadata": {},
   "source": [
    "###  📍 Variable Assignment"
   ]
  },
  {
   "cell_type": "markdown",
   "metadata": {},
   "source": [
    "- When you create a variable you keep some space in memory. These memory locations are then used to store values. \n",
    "\n",
    "\n",
    "\n",
    "---"
   ]
  },
  {
   "cell_type": "code",
   "execution_count": 1,
   "metadata": {
    "ExecuteTime": {
     "end_time": "2021-08-25T12:31:32.038779Z",
     "start_time": "2021-08-25T12:31:32.030248Z"
    },
    "colab": {},
    "colab_type": "code",
    "id": "RwytTuVtTT86"
   },
   "outputs": [],
   "source": [
    "# define a variable name \"a\" and assign value 5 to it\n",
    "a = 5"
   ]
  },
  {
   "cell_type": "code",
   "execution_count": 2,
   "metadata": {
    "ExecuteTime": {
     "end_time": "2021-08-25T12:31:32.509474Z",
     "start_time": "2021-08-25T12:31:32.488475Z"
    },
    "colab": {},
    "colab_type": "code",
    "id": "xHRxi0kJTT9J",
    "outputId": "b01cd4bb-d712-4871-d812-f7f375fe3844"
   },
   "outputs": [
    {
     "data": {
      "text/plain": [
       "5"
      ]
     },
     "execution_count": 2,
     "metadata": {},
     "output_type": "execute_result"
    }
   ],
   "source": [
    "# print the value of variable\n",
    "a"
   ]
  },
  {
   "cell_type": "markdown",
   "metadata": {
    "colab_type": "text",
    "id": "EqSttqhXH26C"
   },
   "source": [
    "- To view some data on the output screen, python also has `print` function. Using `print` function we can control the view on the output screen.\n",
    "- Later in the course, we will discuss what are functions in detail and see more use of this function.\n",
    "\n",
    "---"
   ]
  },
  {
   "cell_type": "code",
   "execution_count": 3,
   "metadata": {
    "ExecuteTime": {
     "end_time": "2021-08-25T12:31:33.834658Z",
     "start_time": "2021-08-25T12:31:33.814661Z"
    },
    "colab": {},
    "colab_type": "code",
    "id": "UgjwJ-t4H26G",
    "outputId": "952b846d-9fdc-41c1-dc63-036d618e6d79"
   },
   "outputs": [
    {
     "name": "stdout",
     "output_type": "stream",
     "text": [
      "5\n"
     ]
    }
   ],
   "source": [
    "print(a)"
   ]
  },
  {
   "cell_type": "markdown",
   "metadata": {
    "colab_type": "text",
    "id": "WJMr6Ij1TT95"
   },
   "source": [
    "### 📍 Variable naming rules"
   ]
  },
  {
   "cell_type": "markdown",
   "metadata": {},
   "source": [
    "---\n",
    "***Identifiers in Python***\n",
    "\n",
    "* Like Variables, we have to define functions, classes, etc in python. Naming them helps to differentiate one entity from another.\n",
    "* All these names given to these entities are known as `Identifiers`. \n",
    "* Python have some rules to define the Identifiers.  \n",
    "\n",
    "\n",
    "***Rules of Writing Identifiers***\n",
    "\n",
    "* Python is case sensitive language.\n",
    "* Identifiers can be a combination of letters in lowercase (a to z) or uppercase (A to Z) or digits (0 to 9) or an underscore _. Names like myVariable, var_1 and print_this, all are valid example.\n",
    "* An identifier cannot start with a digit.\n",
    "* `1variable` is invalid, but `variable1` is perfectly fine.\n",
    "* We cannot use special symbols like !, @, #, $, % etc. in our identifier. `_` is allowed.\n",
    "\n",
    "* ***`Keywords` cannot be used as identifiers. `Keywords` are the reserved words in Python.***\n",
    "\n",
    "---\n",
    "\n",
    "***Keywords in Python***\n",
    "\n",
    "---\n",
    "\n",
    "* False\t\n",
    "* class\t\n",
    "* finally\t\n",
    "* is\t\n",
    "* return\n",
    "* None\t\n",
    "* continue\t\n",
    "* for\t\n",
    "* lambda\t\n",
    "* try\n",
    "* True, etc\n",
    "\n",
    "\n",
    "---"
   ]
  },
  {
   "cell_type": "code",
   "execution_count": 12,
   "metadata": {
    "ExecuteTime": {
     "end_time": "2021-08-25T12:47:21.062019Z",
     "start_time": "2021-08-25T12:47:21.055019Z"
    }
   },
   "outputs": [
    {
     "name": "stdout",
     "output_type": "stream",
     "text": [
      "['False', 'None', 'True', 'and', 'as', 'assert', 'async', 'await', 'break', 'class', 'continue', 'def', 'del', 'elif', 'else', 'except', 'finally', 'for', 'from', 'global', 'if', 'import', 'in', 'is', 'lambda', 'nonlocal', 'not', 'or', 'pass', 'raise', 'return', 'try', 'while', 'with', 'yield']\n",
      "35\n"
     ]
    }
   ],
   "source": [
    "import keyword\n",
    "\n",
    "# print the keywords\n",
    "print(keyword.kwlist)\n",
    "print(len(keyword.kwlist))\n"
   ]
  },
  {
   "cell_type": "markdown",
   "metadata": {
    "colab_type": "text",
    "id": "sLHTDA74H27Y"
   },
   "source": [
    "---\n",
    "\n",
    "***Python is case sensitive so `a` and `A` are different***\n",
    "\n",
    "---"
   ]
  },
  {
   "cell_type": "code",
   "execution_count": 13,
   "metadata": {
    "ExecuteTime": {
     "end_time": "2021-08-25T12:47:22.090117Z",
     "start_time": "2021-08-25T12:47:22.081237Z"
    },
    "colab": {},
    "colab_type": "code",
    "id": "VztaPO9_TT9T"
   },
   "outputs": [],
   "source": [
    "A = 4"
   ]
  },
  {
   "cell_type": "code",
   "execution_count": 14,
   "metadata": {
    "ExecuteTime": {
     "end_time": "2021-08-25T12:47:23.116578Z",
     "start_time": "2021-08-25T12:47:23.104566Z"
    },
    "colab": {},
    "colab_type": "code",
    "id": "2vPxm7ZFTT9b",
    "outputId": "3481c07a-33ed-423d-cdc7-254bfe2b09d0"
   },
   "outputs": [
    {
     "name": "stdout",
     "output_type": "stream",
     "text": [
      "5\n",
      "4\n"
     ]
    }
   ],
   "source": [
    "print(a)\n",
    "print(A)"
   ]
  },
  {
   "cell_type": "markdown",
   "metadata": {
    "colab_type": "text",
    "id": "3lKle9bNH27x"
   },
   "source": [
    "***Rules to define variable names***\n",
    "\n",
    "---"
   ]
  },
  {
   "cell_type": "code",
   "execution_count": 16,
   "metadata": {
    "ExecuteTime": {
     "end_time": "2021-08-25T12:48:23.768920Z",
     "start_time": "2021-08-25T12:48:23.755893Z"
    },
    "colab": {},
    "colab_type": "code",
    "id": "3pUTYZ6eTT98"
   },
   "outputs": [],
   "source": [
    "# allowed, normal naming conventions\n",
    "a = 5"
   ]
  },
  {
   "cell_type": "code",
   "execution_count": 17,
   "metadata": {
    "ExecuteTime": {
     "end_time": "2021-08-25T12:48:24.359811Z",
     "start_time": "2021-08-25T12:48:24.355672Z"
    },
    "colab": {},
    "colab_type": "code",
    "id": "iGqhYLZcTT-D"
   },
   "outputs": [],
   "source": [
    "# only \"_\" underscore is allowed in allowed in special characters in the variable name\n",
    "_a = 5"
   ]
  },
  {
   "cell_type": "code",
   "execution_count": 18,
   "metadata": {
    "ExecuteTime": {
     "end_time": "2021-08-25T12:48:25.855193Z",
     "start_time": "2021-08-25T12:48:25.843191Z"
    },
    "colab": {},
    "colab_type": "code",
    "id": "tzzvqrGzTT-K",
    "outputId": "d69ff379-1e30-41b7-86dc-32ec22987019"
   },
   "outputs": [
    {
     "ename": "SyntaxError",
     "evalue": "invalid syntax (<ipython-input-18-d71cdc5ed5c5>, line 2)",
     "output_type": "error",
     "traceback": [
      "\u001b[1;36m  File \u001b[1;32m\"<ipython-input-18-d71cdc5ed5c5>\"\u001b[1;36m, line \u001b[1;32m2\u001b[0m\n\u001b[1;33m    @a=5\u001b[0m\n\u001b[1;37m      ^\u001b[0m\n\u001b[1;31mSyntaxError\u001b[0m\u001b[1;31m:\u001b[0m invalid syntax\n"
     ]
    }
   ],
   "source": [
    "# other special characters are not allowed\n",
    "@a=5"
   ]
  },
  {
   "cell_type": "code",
   "execution_count": 19,
   "metadata": {
    "ExecuteTime": {
     "end_time": "2021-08-25T12:48:27.439314Z",
     "start_time": "2021-08-25T12:48:27.431317Z"
    },
    "colab": {},
    "colab_type": "code",
    "id": "Lq6vHXutTT-S",
    "outputId": "67fd9e5a-495c-4556-ce2b-10414f29325d"
   },
   "outputs": [
    {
     "ename": "SyntaxError",
     "evalue": "invalid syntax (<ipython-input-19-c86ca84d118d>, line 2)",
     "output_type": "error",
     "traceback": [
      "\u001b[1;36m  File \u001b[1;32m\"<ipython-input-19-c86ca84d118d>\"\u001b[1;36m, line \u001b[1;32m2\u001b[0m\n\u001b[1;33m    1a = 5\u001b[0m\n\u001b[1;37m     ^\u001b[0m\n\u001b[1;31mSyntaxError\u001b[0m\u001b[1;31m:\u001b[0m invalid syntax\n"
     ]
    }
   ],
   "source": [
    "# we can not start with variables name with a number\n",
    "1a = 5"
   ]
  },
  {
   "cell_type": "markdown",
   "metadata": {
    "colab_type": "text",
    "id": "gZZ71oaoTT-b"
   },
   "source": [
    "---"
   ]
  },
  {
   "cell_type": "markdown",
   "metadata": {},
   "source": [
    "###   Data types"
   ]
  },
  {
   "cell_type": "markdown",
   "metadata": {},
   "source": [
    "* int\n",
    "* string\n",
    "* float\n",
    "* bool\n",
    "\n",
    "---"
   ]
  },
  {
   "cell_type": "code",
   "execution_count": 20,
   "metadata": {
    "ExecuteTime": {
     "end_time": "2021-08-25T12:50:01.647551Z",
     "start_time": "2021-08-25T12:50:01.630550Z"
    },
    "colab": {},
    "colab_type": "code",
    "id": "TAp-6G0iTT-d"
   },
   "outputs": [],
   "source": [
    "# INTEGER TYPE\n",
    "a = 5"
   ]
  },
  {
   "cell_type": "code",
   "execution_count": 21,
   "metadata": {
    "ExecuteTime": {
     "end_time": "2021-08-25T12:50:02.099987Z",
     "start_time": "2021-08-25T12:50:02.079970Z"
    },
    "colab": {},
    "colab_type": "code",
    "id": "9BpIBVm7TT-i",
    "outputId": "62205899-29c5-4808-bff7-d025bde912aa"
   },
   "outputs": [
    {
     "data": {
      "text/plain": [
       "int"
      ]
     },
     "execution_count": 21,
     "metadata": {},
     "output_type": "execute_result"
    }
   ],
   "source": [
    "type(a)"
   ]
  },
  {
   "cell_type": "code",
   "execution_count": 22,
   "metadata": {
    "ExecuteTime": {
     "end_time": "2021-08-25T12:50:03.111323Z",
     "start_time": "2021-08-25T12:50:03.105322Z"
    },
    "colab": {},
    "colab_type": "code",
    "id": "_U_9IeNcTT-o"
   },
   "outputs": [],
   "source": [
    "# STRING TYPE\n",
    "b = \"mnr\""
   ]
  },
  {
   "cell_type": "code",
   "execution_count": 23,
   "metadata": {
    "ExecuteTime": {
     "end_time": "2021-08-25T12:50:04.855065Z",
     "start_time": "2021-08-25T12:50:04.843097Z"
    },
    "colab": {},
    "colab_type": "code",
    "id": "maIKGc1YTT-t",
    "outputId": "0ecde854-2abd-424b-dbd3-a65216cdf675"
   },
   "outputs": [
    {
     "data": {
      "text/plain": [
       "str"
      ]
     },
     "execution_count": 23,
     "metadata": {},
     "output_type": "execute_result"
    }
   ],
   "source": [
    "type(b)"
   ]
  },
  {
   "cell_type": "code",
   "execution_count": 24,
   "metadata": {
    "ExecuteTime": {
     "end_time": "2021-08-25T12:50:06.437801Z",
     "start_time": "2021-08-25T12:50:06.430821Z"
    },
    "colab": {},
    "colab_type": "code",
    "id": "U7EBWvhYTT-z"
   },
   "outputs": [],
   "source": [
    "# FLOAT TYPE\n",
    "c = 5.55"
   ]
  },
  {
   "cell_type": "code",
   "execution_count": 25,
   "metadata": {
    "ExecuteTime": {
     "end_time": "2021-08-25T12:50:06.843683Z",
     "start_time": "2021-08-25T12:50:06.830670Z"
    },
    "colab": {},
    "colab_type": "code",
    "id": "SuYm1q1bH29P",
    "outputId": "df8166e8-a43d-4711-dd21-978f9e4de99b"
   },
   "outputs": [
    {
     "data": {
      "text/plain": [
       "float"
      ]
     },
     "execution_count": 25,
     "metadata": {},
     "output_type": "execute_result"
    }
   ],
   "source": [
    "type(c)"
   ]
  },
  {
   "cell_type": "code",
   "execution_count": 26,
   "metadata": {
    "ExecuteTime": {
     "end_time": "2021-08-25T12:50:09.112106Z",
     "start_time": "2021-08-25T12:50:09.105094Z"
    },
    "colab": {},
    "colab_type": "code",
    "id": "aQIRv3w0H29Z"
   },
   "outputs": [],
   "source": [
    "# BOOLEAN TYPE\n",
    "d = True"
   ]
  },
  {
   "cell_type": "code",
   "execution_count": 27,
   "metadata": {
    "ExecuteTime": {
     "end_time": "2021-08-25T12:50:09.608428Z",
     "start_time": "2021-08-25T12:50:09.592431Z"
    },
    "colab": {},
    "colab_type": "code",
    "id": "ccbkAixHH29h",
    "outputId": "cab33de3-e709-4fb0-edb2-d40fb7a0892b",
    "scrolled": true
   },
   "outputs": [
    {
     "data": {
      "text/plain": [
       "bool"
      ]
     },
     "execution_count": 27,
     "metadata": {},
     "output_type": "execute_result"
    }
   ],
   "source": [
    "type(d)"
   ]
  },
  {
   "cell_type": "markdown",
   "metadata": {
    "colab_type": "text",
    "id": "-L7z6LHMTT9j"
   },
   "source": [
    "###  How variables work in Python"
   ]
  },
  {
   "cell_type": "markdown",
   "metadata": {},
   "source": [
    "---"
   ]
  },
  {
   "cell_type": "code",
   "execution_count": 28,
   "metadata": {
    "ExecuteTime": {
     "end_time": "2021-08-25T12:50:12.545841Z",
     "start_time": "2021-08-25T12:50:12.531841Z"
    },
    "colab": {},
    "colab_type": "code",
    "id": "YJNEW88WTT9l"
   },
   "outputs": [],
   "source": [
    "# Look at the following statements\n",
    "a = 7\n",
    "b = a\n",
    "a = 3"
   ]
  },
  {
   "cell_type": "code",
   "execution_count": 29,
   "metadata": {
    "ExecuteTime": {
     "end_time": "2021-08-25T12:50:12.951464Z",
     "start_time": "2021-08-25T12:50:12.943466Z"
    },
    "colab": {},
    "colab_type": "code",
    "id": "YwIfEojETT9x",
    "outputId": "084ce68f-babe-40ad-b6b1-4bdec9f1b6e6"
   },
   "outputs": [
    {
     "name": "stdout",
     "output_type": "stream",
     "text": [
      "7\n"
     ]
    }
   ],
   "source": [
    "print(b)"
   ]
  },
  {
   "cell_type": "markdown",
   "metadata": {
    "colab_type": "text",
    "id": "3gDZO4S2H261"
   },
   "source": [
    "\n",
    "\n",
    "***What will be the value of a?***\n",
    "\n",
    "\n",
    "---"
   ]
  },
  {
   "cell_type": "code",
   "execution_count": 30,
   "metadata": {
    "ExecuteTime": {
     "end_time": "2021-08-25T12:50:13.822846Z",
     "start_time": "2021-08-25T12:50:13.816846Z"
    },
    "colab": {},
    "colab_type": "code",
    "id": "ZCXj-19kTT9s",
    "outputId": "1890f99f-09ba-4ac1-f3ee-445491953ae1"
   },
   "outputs": [
    {
     "name": "stdout",
     "output_type": "stream",
     "text": [
      "3\n"
     ]
    }
   ],
   "source": [
    "print(a)"
   ]
  },
  {
   "cell_type": "markdown",
   "metadata": {
    "colab_type": "text",
    "id": "yHSCgf4TH29p"
   },
   "source": [
    "---"
   ]
  },
  {
   "cell_type": "markdown",
   "metadata": {},
   "source": [
    "###  Type Conversion"
   ]
  },
  {
   "cell_type": "markdown",
   "metadata": {},
   "source": [
    "***Python defines type conversion functions to directly convert one data type to another.***\n",
    "\n",
    "\n",
    "\n",
    "---"
   ]
  },
  {
   "cell_type": "markdown",
   "metadata": {
    "colab_type": "text",
    "id": "UzRTGkQjH29t"
   },
   "source": [
    "***convert float to integer***\n",
    "\n",
    "---"
   ]
  },
  {
   "cell_type": "code",
   "execution_count": 31,
   "metadata": {
    "ExecuteTime": {
     "end_time": "2021-08-25T12:51:39.714061Z",
     "start_time": "2021-08-25T12:51:39.704183Z"
    },
    "colab": {},
    "colab_type": "code",
    "id": "9ArOJo2EH29v",
    "outputId": "2c1fd721-68f4-4c96-8498-29798869a9b3"
   },
   "outputs": [
    {
     "data": {
      "text/plain": [
       "26"
      ]
     },
     "execution_count": 31,
     "metadata": {},
     "output_type": "execute_result"
    }
   ],
   "source": [
    "# age is generally in integer numbers\n",
    "my_age = 26.33333\n",
    "my_age = int(my_age)\n",
    "my_age"
   ]
  },
  {
   "cell_type": "markdown",
   "metadata": {
    "colab_type": "text",
    "id": "XmZXXMwUH293"
   },
   "source": [
    "***convert string to integer***\n",
    "\n",
    "---"
   ]
  },
  {
   "cell_type": "code",
   "execution_count": 32,
   "metadata": {
    "ExecuteTime": {
     "end_time": "2021-08-25T12:51:43.773613Z",
     "start_time": "2021-08-25T12:51:43.754610Z"
    },
    "colab": {},
    "colab_type": "code",
    "id": "yOSW9UHlH295",
    "outputId": "6dfc0295-923d-4feb-edb0-aa45994252f9"
   },
   "outputs": [
    {
     "ename": "TypeError",
     "evalue": "can only concatenate str (not \"int\") to str",
     "output_type": "error",
     "traceback": [
      "\u001b[1;31m---------------------------------------------------------------------------\u001b[0m",
      "\u001b[1;31mTypeError\u001b[0m                                 Traceback (most recent call last)",
      "\u001b[1;32m<ipython-input-32-a68038bc8264>\u001b[0m in \u001b[0;36m<module>\u001b[1;34m\u001b[0m\n\u001b[0;32m      1\u001b[0m \u001b[1;31m# if we try to add string and integer number, it will give an error\u001b[0m\u001b[1;33m\u001b[0m\u001b[1;33m\u001b[0m\u001b[1;33m\u001b[0m\u001b[0m\n\u001b[1;32m----> 2\u001b[1;33m \u001b[0mmy_int\u001b[0m \u001b[1;33m=\u001b[0m \u001b[1;34m'2'\u001b[0m \u001b[1;33m+\u001b[0m \u001b[1;36m6\u001b[0m\u001b[1;33m\u001b[0m\u001b[1;33m\u001b[0m\u001b[0m\n\u001b[0m",
      "\u001b[1;31mTypeError\u001b[0m: can only concatenate str (not \"int\") to str"
     ]
    }
   ],
   "source": [
    "# if we try to add string and integer number, it will give an error\n",
    "my_int = '2' + 6"
   ]
  },
  {
   "cell_type": "code",
   "execution_count": 33,
   "metadata": {
    "ExecuteTime": {
     "end_time": "2021-08-25T12:51:44.415823Z",
     "start_time": "2021-08-25T12:51:44.404054Z"
    },
    "colab": {},
    "colab_type": "code",
    "id": "nW_GnkkXH29_",
    "outputId": "06a82b14-b3a1-41bf-a9d3-aef68a6379de"
   },
   "outputs": [
    {
     "data": {
      "text/plain": [
       "8"
      ]
     },
     "execution_count": 33,
     "metadata": {},
     "output_type": "execute_result"
    }
   ],
   "source": [
    "# type conversion: string to int\n",
    "my_int = int('2') + 6\n",
    "my_int"
   ]
  },
  {
   "cell_type": "markdown",
   "metadata": {},
   "source": [
    "### String to int and float"
   ]
  },
  {
   "cell_type": "code",
   "execution_count": 40,
   "metadata": {
    "ExecuteTime": {
     "end_time": "2021-08-25T12:53:11.564212Z",
     "start_time": "2021-08-25T12:53:11.542212Z"
    },
    "colab": {},
    "colab_type": "code",
    "id": "BmS5xrIcH2-G"
   },
   "outputs": [
    {
     "ename": "ValueError",
     "evalue": "invalid literal for int() with base 10: '3.2'",
     "output_type": "error",
     "traceback": [
      "\u001b[1;31m---------------------------------------------------------------------------\u001b[0m",
      "\u001b[1;31mValueError\u001b[0m                                Traceback (most recent call last)",
      "\u001b[1;32m<ipython-input-40-24a9bf77383c>\u001b[0m in \u001b[0;36m<module>\u001b[1;34m\u001b[0m\n\u001b[1;32m----> 1\u001b[1;33m \u001b[0mint\u001b[0m\u001b[1;33m(\u001b[0m\u001b[1;34m'3.2'\u001b[0m\u001b[1;33m)\u001b[0m\u001b[1;33m\u001b[0m\u001b[1;33m\u001b[0m\u001b[0m\n\u001b[0m",
      "\u001b[1;31mValueError\u001b[0m: invalid literal for int() with base 10: '3.2'"
     ]
    }
   ],
   "source": [
    "int('3.2')"
   ]
  },
  {
   "cell_type": "code",
   "execution_count": 41,
   "metadata": {
    "ExecuteTime": {
     "end_time": "2021-08-25T12:53:11.749290Z",
     "start_time": "2021-08-25T12:53:11.742310Z"
    }
   },
   "outputs": [
    {
     "data": {
      "text/plain": [
       "0.2321"
      ]
     },
     "execution_count": 41,
     "metadata": {},
     "output_type": "execute_result"
    }
   ],
   "source": [
    "float('0.2321')"
   ]
  },
  {
   "cell_type": "code",
   "execution_count": 43,
   "metadata": {
    "ExecuteTime": {
     "end_time": "2021-08-25T12:55:01.621298Z",
     "start_time": "2021-08-25T12:55:01.616287Z"
    }
   },
   "outputs": [
    {
     "data": {
      "text/plain": [
       "1151226468812.22"
      ]
     },
     "execution_count": 43,
     "metadata": {},
     "output_type": "execute_result"
    }
   ],
   "source": [
    "float(\"1151226468812.22\")"
   ]
  },
  {
   "cell_type": "code",
   "execution_count": 44,
   "metadata": {
    "ExecuteTime": {
     "end_time": "2021-08-25T12:55:55.008335Z",
     "start_time": "2021-08-25T12:55:54.992335Z"
    }
   },
   "outputs": [
    {
     "name": "stdout",
     "output_type": "stream",
     "text": [
      "24.214\n"
     ]
    }
   ],
   "source": [
    "print(float(\"24.214\"))"
   ]
  },
  {
   "cell_type": "markdown",
   "metadata": {},
   "source": [
    "### Why Then?"
   ]
  },
  {
   "cell_type": "code",
   "execution_count": 45,
   "metadata": {
    "ExecuteTime": {
     "end_time": "2021-08-25T12:56:35.634680Z",
     "start_time": "2021-08-25T12:56:35.615681Z"
    }
   },
   "outputs": [
    {
     "ename": "ValueError",
     "evalue": "could not convert string to float: '132/123'",
     "output_type": "error",
     "traceback": [
      "\u001b[1;31m---------------------------------------------------------------------------\u001b[0m",
      "\u001b[1;31mValueError\u001b[0m                                Traceback (most recent call last)",
      "\u001b[1;32m<ipython-input-45-a93bb66d7280>\u001b[0m in \u001b[0;36m<module>\u001b[1;34m\u001b[0m\n\u001b[1;32m----> 1\u001b[1;33m \u001b[0mfloat\u001b[0m\u001b[1;33m(\u001b[0m\u001b[1;34m'132/123'\u001b[0m\u001b[1;33m)\u001b[0m\u001b[1;33m\u001b[0m\u001b[1;33m\u001b[0m\u001b[0m\n\u001b[0m",
      "\u001b[1;31mValueError\u001b[0m: could not convert string to float: '132/123'"
     ]
    }
   ],
   "source": [
    "float('132/123')"
   ]
  },
  {
   "cell_type": "markdown",
   "metadata": {},
   "source": [
    "**There are 2 major reasons that lead to ValueError: could not convert string to float while you try to use the float() method on a numeric string value. These are:**\n",
    "\n",
    "1. When a numeric string contains a comma or other delimiters/special- characters.\n",
    "\n",
    "2. When a numeric string contains non-special characters."
   ]
  },
  {
   "cell_type": "code",
   "execution_count": 46,
   "metadata": {
    "ExecuteTime": {
     "end_time": "2021-08-25T12:57:30.884086Z",
     "start_time": "2021-08-25T12:57:30.866086Z"
    }
   },
   "outputs": [
    {
     "ename": "ValueError",
     "evalue": "could not convert string to float: '123,312,'",
     "output_type": "error",
     "traceback": [
      "\u001b[1;31m---------------------------------------------------------------------------\u001b[0m",
      "\u001b[1;31mValueError\u001b[0m                                Traceback (most recent call last)",
      "\u001b[1;32m<ipython-input-46-6e89c6e97e97>\u001b[0m in \u001b[0;36m<module>\u001b[1;34m\u001b[0m\n\u001b[1;32m----> 1\u001b[1;33m \u001b[0mfloat\u001b[0m\u001b[1;33m(\u001b[0m\u001b[1;34m'123,312,'\u001b[0m\u001b[1;33m)\u001b[0m\u001b[1;33m\u001b[0m\u001b[1;33m\u001b[0m\u001b[0m\n\u001b[0m",
      "\u001b[1;31mValueError\u001b[0m: could not convert string to float: '123,312,'"
     ]
    }
   ],
   "source": [
    "float('123,312,')"
   ]
  },
  {
   "cell_type": "code",
   "execution_count": 47,
   "metadata": {
    "ExecuteTime": {
     "end_time": "2021-08-25T12:57:44.773557Z",
     "start_time": "2021-08-25T12:57:44.754554Z"
    }
   },
   "outputs": [
    {
     "ename": "ValueError",
     "evalue": "could not convert string to float: '222-222-222'",
     "output_type": "error",
     "traceback": [
      "\u001b[1;31m---------------------------------------------------------------------------\u001b[0m",
      "\u001b[1;31mValueError\u001b[0m                                Traceback (most recent call last)",
      "\u001b[1;32m<ipython-input-47-03d08ea2f356>\u001b[0m in \u001b[0;36m<module>\u001b[1;34m\u001b[0m\n\u001b[1;32m----> 1\u001b[1;33m \u001b[0mfloat\u001b[0m\u001b[1;33m(\u001b[0m\u001b[1;34m'222-222-222'\u001b[0m\u001b[1;33m)\u001b[0m\u001b[1;33m\u001b[0m\u001b[1;33m\u001b[0m\u001b[0m\n\u001b[0m",
      "\u001b[1;31mValueError\u001b[0m: could not convert string to float: '222-222-222'"
     ]
    }
   ],
   "source": [
    "float('222-222-222')"
   ]
  },
  {
   "cell_type": "code",
   "execution_count": 48,
   "metadata": {
    "ExecuteTime": {
     "end_time": "2021-08-25T12:58:00.372337Z",
     "start_time": "2021-08-25T12:58:00.354335Z"
    }
   },
   "outputs": [
    {
     "data": {
      "text/plain": [
       "222222.0"
      ]
     },
     "execution_count": 48,
     "metadata": {},
     "output_type": "execute_result"
    }
   ],
   "source": [
    "float(\"2_22_222\")"
   ]
  },
  {
   "cell_type": "code",
   "execution_count": 49,
   "metadata": {
    "ExecuteTime": {
     "end_time": "2021-08-25T12:58:13.659808Z",
     "start_time": "2021-08-25T12:58:13.641809Z"
    }
   },
   "outputs": [
    {
     "data": {
      "text/plain": [
       "100000"
      ]
     },
     "execution_count": 49,
     "metadata": {},
     "output_type": "execute_result"
    }
   ],
   "source": [
    "int(\"1_00_000\")"
   ]
  },
  {
   "cell_type": "code",
   "execution_count": 50,
   "metadata": {
    "ExecuteTime": {
     "end_time": "2021-08-25T12:58:22.611891Z",
     "start_time": "2021-08-25T12:58:22.591891Z"
    }
   },
   "outputs": [
    {
     "ename": "ValueError",
     "evalue": "invalid literal for int() with base 10: '555/231'",
     "output_type": "error",
     "traceback": [
      "\u001b[1;31m---------------------------------------------------------------------------\u001b[0m",
      "\u001b[1;31mValueError\u001b[0m                                Traceback (most recent call last)",
      "\u001b[1;32m<ipython-input-50-cf9b216d0ac8>\u001b[0m in \u001b[0;36m<module>\u001b[1;34m\u001b[0m\n\u001b[1;32m----> 1\u001b[1;33m \u001b[0mint\u001b[0m\u001b[1;33m(\u001b[0m\u001b[1;34m\"555/231\"\u001b[0m\u001b[1;33m)\u001b[0m\u001b[1;33m\u001b[0m\u001b[1;33m\u001b[0m\u001b[0m\n\u001b[0m",
      "\u001b[1;31mValueError\u001b[0m: invalid literal for int() with base 10: '555/231'"
     ]
    }
   ],
   "source": [
    "int(\"555/231\")"
   ]
  },
  {
   "cell_type": "code",
   "execution_count": 51,
   "metadata": {
    "ExecuteTime": {
     "end_time": "2021-08-25T13:01:01.205507Z",
     "start_time": "2021-08-25T13:01:01.192504Z"
    }
   },
   "outputs": [
    {
     "ename": "ValueError",
     "evalue": "could not convert string to float: '$100'",
     "output_type": "error",
     "traceback": [
      "\u001b[1;31m---------------------------------------------------------------------------\u001b[0m",
      "\u001b[1;31mValueError\u001b[0m                                Traceback (most recent call last)",
      "\u001b[1;32m<ipython-input-51-33f76e7da730>\u001b[0m in \u001b[0;36m<module>\u001b[1;34m\u001b[0m\n\u001b[1;32m----> 1\u001b[1;33m \u001b[0mfloat\u001b[0m\u001b[1;33m(\u001b[0m\u001b[1;34m\"$100\"\u001b[0m\u001b[1;33m)\u001b[0m\u001b[1;33m\u001b[0m\u001b[1;33m\u001b[0m\u001b[0m\n\u001b[0m",
      "\u001b[1;31mValueError\u001b[0m: could not convert string to float: '$100'"
     ]
    }
   ],
   "source": [
    "float(\"$100\")"
   ]
  },
  {
   "cell_type": "markdown",
   "metadata": {},
   "source": [
    "### Then how to print this methods"
   ]
  },
  {
   "cell_type": "markdown",
   "metadata": {},
   "source": [
    "#### Use replace() Method"
   ]
  },
  {
   "cell_type": "code",
   "execution_count": 52,
   "metadata": {
    "ExecuteTime": {
     "end_time": "2021-08-25T13:01:14.386115Z",
     "start_time": "2021-08-25T13:01:14.378115Z"
    }
   },
   "outputs": [
    {
     "name": "stdout",
     "output_type": "stream",
     "text": [
      "100.0\n"
     ]
    }
   ],
   "source": [
    "print(float(\"$100\".replace(\"$\", '') ))"
   ]
  },
  {
   "cell_type": "markdown",
   "metadata": {},
   "source": [
    "#### Using Regex"
   ]
  },
  {
   "cell_type": "code",
   "execution_count": 55,
   "metadata": {
    "ExecuteTime": {
     "end_time": "2021-08-25T13:01:54.060145Z",
     "start_time": "2021-08-25T13:01:54.041143Z"
    }
   },
   "outputs": [
    {
     "name": "stdout",
     "output_type": "stream",
     "text": [
      "100.0\n"
     ]
    }
   ],
   "source": [
    "import re\n",
    "a = '$100'\n",
    "\n",
    "res = re.sub('[^0-9]+', '', a)\n",
    "\n",
    "print(float(res))"
   ]
  },
  {
   "cell_type": "code",
   "execution_count": 56,
   "metadata": {
    "ExecuteTime": {
     "end_time": "2021-08-25T13:04:27.231432Z",
     "start_time": "2021-08-25T13:04:27.220433Z"
    }
   },
   "outputs": [
    {
     "name": "stdout",
     "output_type": "stream",
     "text": [
      "String:  192.168.10.0\n",
      "Octets: \n",
      "192.0\n",
      "168.0\n",
      "10.0\n",
      "0.0\n"
     ]
    }
   ],
   "source": [
    "ip = '192.168.10.0'\n",
    "print(\"String: \", ip)\n",
    "\n",
    "res = list(map(float,ip.split('.')))\n",
    "\n",
    "print(\"Octets: \")\n",
    "\n",
    "for i in res:\n",
    "    print(i)"
   ]
  },
  {
   "cell_type": "code",
   "execution_count": null,
   "metadata": {},
   "outputs": [],
   "source": []
  }
 ],
 "metadata": {
  "colab": {
   "name": "Variables and Data Types.ipynb",
   "provenance": []
  },
  "kernelspec": {
   "display_name": "Python 3",
   "language": "python",
   "name": "python3"
  },
  "language_info": {
   "codemirror_mode": {
    "name": "ipython",
    "version": 3
   },
   "file_extension": ".py",
   "mimetype": "text/x-python",
   "name": "python",
   "nbconvert_exporter": "python",
   "pygments_lexer": "ipython3",
   "version": "3.8.11"
  },
  "toc": {
   "base_numbering": 1,
   "nav_menu": {},
   "number_sections": true,
   "sideBar": true,
   "skip_h1_title": false,
   "title_cell": "Table of Contents",
   "title_sidebar": "Contents",
   "toc_cell": false,
   "toc_position": {},
   "toc_section_display": true,
   "toc_window_display": false
  }
 },
 "nbformat": 4,
 "nbformat_minor": 1
}
