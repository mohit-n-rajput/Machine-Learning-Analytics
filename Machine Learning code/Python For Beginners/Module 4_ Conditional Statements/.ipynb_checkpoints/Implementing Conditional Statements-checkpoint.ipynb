{
 "cells": [
  {
   "cell_type": "markdown",
   "metadata": {
    "toc": true
   },
   "source": [
    "<h1>Table of Contents<span class=\"tocSkip\"></span></h1>\n",
    "<div class=\"toc\"><ul class=\"toc-item\"><li><span><a href=\"#📌📌-Indentation-and-Comments-in-Python\" data-toc-modified-id=\"📌📌-Indentation-and-Comments-in-Python-1\"><span class=\"toc-item-num\">1&nbsp;&nbsp;</span>📌📌 Indentation and Comments in Python</a></span><ul class=\"toc-item\"><li><ul class=\"toc-item\"><li><span><a href=\"#INDENTATION\" data-toc-modified-id=\"INDENTATION-1.0.1\"><span class=\"toc-item-num\">1.0.1&nbsp;&nbsp;</span><code>INDENTATION</code></a></span></li></ul></li><li><span><a href=\"#--Indentation-means-(spaces-and-tabs)-that-are-used-at-the-beginning-of-any-statement.-The-statements-with-the-same-indentation-belong-to-the-same-group-also-called-as-suite.\" data-toc-modified-id=\"--Indentation-means-(spaces-and-tabs)-that-are-used-at-the-beginning-of-any-statement.-The-statements-with-the-same-indentation-belong-to-the-same-group-also-called-as-suite.-1.1\"><span class=\"toc-item-num\">1.1&nbsp;&nbsp;</span>- Indentation means <code>(spaces and tabs)</code> that are used at the beginning of any statement. The statements with the same indentation belong to the same group also called as <code>suite</code>.</a></span><ul class=\"toc-item\"><li><span><a href=\"#COMMENTS\" data-toc-modified-id=\"COMMENTS-1.1.1\"><span class=\"toc-item-num\">1.1.1&nbsp;&nbsp;</span><code>COMMENTS</code></a></span></li></ul></li></ul></li><li><span><a href=\"#-📍-📍-Conditional-Statements-📍-📍-\" data-toc-modified-id=\"-📍-📍-Conditional-Statements-📍-📍--2\"><span class=\"toc-item-num\">2&nbsp;&nbsp;</span> 📍 📍 Conditional Statements 📍 📍 </a></span><ul class=\"toc-item\"><li><ul class=\"toc-item\"><li><span><a href=\"#📍-📍-Problem-1-:-Take-an-input-from-a-user-in-variable-x-and-print-&quot;Even&quot;-if-the-number-is-divisible-by-2,-otherwise-print-&quot;Odd&quot;.\" data-toc-modified-id=\"📍-📍-Problem-1-:-Take-an-input-from-a-user-in-variable-x-and-print-&quot;Even&quot;-if-the-number-is-divisible-by-2,-otherwise-print-&quot;Odd&quot;.-2.0.1\"><span class=\"toc-item-num\">2.0.1&nbsp;&nbsp;</span>📍 📍 Problem 1 : Take an input from a user in variable x and print \"Even\" if the number is divisible by 2, otherwise print \"Odd\".</a></span></li><li><span><a href=\"#📍-📍Problem-2-:-Take-input-from-the-user-in-variable-y-and-print-&quot;Grade-A&quot;-if-y-is-greater-than-90,-&quot;Grade-B&quot;-if-y-is-greater-than-60-but-less-than-or-equal-to-90-and-&quot;Grade-F&quot;-Otherwise.\" data-toc-modified-id=\"📍-📍Problem-2-:-Take-input-from-the-user-in-variable-y-and-print-&quot;Grade-A&quot;-if-y-is-greater-than-90,-&quot;Grade-B&quot;-if-y-is-greater-than-60-but-less-than-or-equal-to-90-and-&quot;Grade-F&quot;-Otherwise.-2.0.2\"><span class=\"toc-item-num\">2.0.2&nbsp;&nbsp;</span>📍 📍Problem 2 : Take input from the user in variable y and print \"<code>Grade A</code>\" if y is greater than 90, \"<code>Grade B</code>\" if y is greater than 60 but less than or equal to 90 and \"<code>Grade F</code>\" Otherwise.</a></span></li></ul></li><li><span><a href=\"#Final-code:\" data-toc-modified-id=\"Final-code:-2.1\"><span class=\"toc-item-num\">2.1&nbsp;&nbsp;</span>Final code:</a></span></li></ul></li></ul></div>"
   ]
  },
  {
   "cell_type": "markdown",
   "metadata": {
    "colab_type": "text",
    "id": "y0SA9Evx0A7m"
   },
   "source": [
    "---"
   ]
  },
  {
   "cell_type": "markdown",
   "metadata": {},
   "source": [
    "## 📌📌 Indentation and Comments in Python"
   ]
  },
  {
   "cell_type": "markdown",
   "metadata": {},
   "source": [
    "***Before we start Conditional Statements, let's have a look at `indentation` and `comments` in Python.***"
   ]
  },
  {
   "cell_type": "markdown",
   "metadata": {},
   "source": [
    "#### `INDENTATION`"
   ]
  },
  {
   "cell_type": "markdown",
   "metadata": {},
   "source": [
    "### - Indentation means `(spaces and tabs)` that are used at the beginning of any statement. The statements with the same indentation belong to the same group also called as `suite`. \n",
    "\n",
    "---"
   ]
  },
  {
   "cell_type": "code",
   "execution_count": 12,
   "metadata": {
    "ExecuteTime": {
     "end_time": "2021-09-08T16:03:09.124897Z",
     "start_time": "2021-09-08T16:03:09.109892Z"
    },
    "colab": {},
    "colab_type": "code",
    "id": "XNZdtCFi0A7v",
    "outputId": "a9547e32-cdb1-49e4-c680-3d1170a23e83"
   },
   "outputs": [
    {
     "ename": "IndentationError",
     "evalue": "unexpected indent (Temp/ipykernel_12432/763307979.py, line 2)",
     "output_type": "error",
     "traceback": [
      "\u001b[1;36m  File \u001b[1;32m\"C:\\Users\\mnr41\\AppData\\Local\\Temp/ipykernel_12432/763307979.py\"\u001b[1;36m, line \u001b[1;32m2\u001b[0m\n\u001b[1;33m    b = 6 # unexpected extra space will give us an error\u001b[0m\n\u001b[1;37m    ^\u001b[0m\n\u001b[1;31mIndentationError\u001b[0m\u001b[1;31m:\u001b[0m unexpected indent\n"
     ]
    }
   ],
   "source": [
    "a = 5\n",
    "    b = 6 # unexpected extra space will give us an error"
   ]
  },
  {
   "cell_type": "code",
   "execution_count": 13,
   "metadata": {
    "ExecuteTime": {
     "end_time": "2021-09-08T16:03:09.359646Z",
     "start_time": "2021-09-08T16:03:09.350645Z"
    },
    "colab": {},
    "colab_type": "code",
    "id": "LlBHrpqe0A8K",
    "outputId": "75575af8-9e94-4e04-c7bf-89d3161f1292"
   },
   "outputs": [
    {
     "ename": "IndentationError",
     "evalue": "expected an indented block (Temp/ipykernel_12432/3433031710.py, line 2)",
     "output_type": "error",
     "traceback": [
      "\u001b[1;36m  File \u001b[1;32m\"C:\\Users\\mnr41\\AppData\\Local\\Temp/ipykernel_12432/3433031710.py\"\u001b[1;36m, line \u001b[1;32m2\u001b[0m\n\u001b[1;33m    print('True Statement')\u001b[0m\n\u001b[1;37m    ^\u001b[0m\n\u001b[1;31mIndentationError\u001b[0m\u001b[1;31m:\u001b[0m expected an indented block\n"
     ]
    }
   ],
   "source": [
    "if (2 == 2):\n",
    "print('True Statement')"
   ]
  },
  {
   "cell_type": "markdown",
   "metadata": {
    "colab_type": "text",
    "id": "Z1MpYst20A8c"
   },
   "source": [
    "***The above code snippet contains the `if` statement which expects to perform some lines of code if the condition is true. So, all of that code should belong to a group which python finds out by `indented` block of code.***\n",
    "\n",
    "---"
   ]
  },
  {
   "cell_type": "code",
   "execution_count": 14,
   "metadata": {
    "ExecuteTime": {
     "end_time": "2021-09-08T16:03:10.112782Z",
     "start_time": "2021-09-08T16:03:10.099784Z"
    },
    "colab": {},
    "colab_type": "code",
    "id": "dm2r9ozf0A8h",
    "outputId": "4d1ab61f-eade-4c3b-e698-51426b508ae5"
   },
   "outputs": [
    {
     "name": "stdout",
     "output_type": "stream",
     "text": [
      "True Statement\n"
     ]
    }
   ],
   "source": [
    "if (2 == 2):\n",
    "    print('True Statement')"
   ]
  },
  {
   "cell_type": "markdown",
   "metadata": {
    "colab_type": "text",
    "id": "nkDiSUxF0A8x"
   },
   "source": [
    "---"
   ]
  },
  {
   "cell_type": "markdown",
   "metadata": {},
   "source": [
    "#### `COMMENTS`"
   ]
  },
  {
   "cell_type": "markdown",
   "metadata": {},
   "source": [
    "To write a comment in Python, simply put the hash mark # before your desired comment:\n",
    "\n",
    "---"
   ]
  },
  {
   "cell_type": "code",
   "execution_count": 15,
   "metadata": {
    "ExecuteTime": {
     "end_time": "2021-09-08T16:03:11.642973Z",
     "start_time": "2021-09-08T16:03:11.626979Z"
    },
    "colab": {},
    "colab_type": "code",
    "id": "Gr0loO_h0A82",
    "outputId": "9a1c0769-eb04-4171-91ae-38455b6c909c"
   },
   "outputs": [
    {
     "name": "stdout",
     "output_type": "stream",
     "text": [
      "This line will be executed\n"
     ]
    }
   ],
   "source": [
    "print('This line will be executed')\n",
    "# print('This is a comment')\n",
    "# This line does nothing !!!"
   ]
  },
  {
   "cell_type": "markdown",
   "metadata": {
    "colab_type": "text",
    "id": "lL6Wgn9C0A9F"
   },
   "source": [
    "---\n",
    "\n",
    "<center><h2> 📍 📍 Conditional Statements 📍 📍 </h2></center>\n",
    "\n",
    "\n",
    "---\n",
    "***CONDITIONAL OPERATORS***\n",
    "\n",
    "* ***Double Equals:*** a == b\n",
    "* ***Not Equals:*** a != b\n",
    "* ***Less than:*** a < b\n",
    "* ***Less than or equal to:*** a <= b\n",
    "* ***Greater than:*** a > b\n",
    "* ***Greater than or equal to:*** a >= b\n",
    "\n",
    "\n",
    "---"
   ]
  },
  {
   "cell_type": "code",
   "execution_count": 16,
   "metadata": {
    "ExecuteTime": {
     "end_time": "2021-09-08T16:03:12.042544Z",
     "start_time": "2021-09-08T16:03:12.027549Z"
    },
    "colab": {},
    "colab_type": "code",
    "id": "0Zbslyf20A9K",
    "outputId": "226d99f2-c51c-4bdd-cd36-71a5b17a3272"
   },
   "outputs": [
    {
     "name": "stdout",
     "output_type": "stream",
     "text": [
      "The condition in the if statement is True.\n"
     ]
    }
   ],
   "source": [
    "# if statement\n",
    "\n",
    "x = 1\n",
    "\n",
    "if (x == 1):\n",
    "    print('The condition in the if statement is True.')"
   ]
  },
  {
   "cell_type": "code",
   "execution_count": 17,
   "metadata": {
    "ExecuteTime": {
     "end_time": "2021-09-08T16:03:12.263287Z",
     "start_time": "2021-09-08T16:03:12.250283Z"
    },
    "colab": {},
    "colab_type": "code",
    "id": "ZjzLtBYQ0A9W"
   },
   "outputs": [],
   "source": [
    "# if \"The condition in the if statement is False\"\n",
    "\n",
    "if (x == 3):\n",
    "    print('The condition in the if statement is True')\n",
    "    \n",
    "# Here we will not get any output."
   ]
  },
  {
   "cell_type": "code",
   "execution_count": 18,
   "metadata": {
    "ExecuteTime": {
     "end_time": "2021-09-08T16:03:12.435999Z",
     "start_time": "2021-09-08T16:03:12.426998Z"
    },
    "colab": {},
    "colab_type": "code",
    "id": "1dP6DdZW0A9i",
    "outputId": "9d6f00b3-360e-42d0-9e8f-61d65cb2bdb4"
   },
   "outputs": [
    {
     "name": "stdout",
     "output_type": "stream",
     "text": [
      "a is smaller than b.\n"
     ]
    }
   ],
   "source": [
    "# with one condition\n",
    "a = 5\n",
    "b = 10\n",
    "\n",
    "if (a > b):\n",
    "    print('a is greater than b.')\n",
    "else :\n",
    "    print('a is smaller than b.')"
   ]
  },
  {
   "cell_type": "code",
   "execution_count": 19,
   "metadata": {
    "ExecuteTime": {
     "end_time": "2021-09-08T16:03:12.654086Z",
     "start_time": "2021-09-08T16:03:12.642096Z"
    }
   },
   "outputs": [
    {
     "name": "stdout",
     "output_type": "stream",
     "text": [
      "a is greater than b.\n"
     ]
    }
   ],
   "source": [
    "a = 15\n",
    "b = 10\n",
    "\n",
    "if (a > b):\n",
    "    print('a is greater than b.')\n",
    "else :\n",
    "    print('a is smaller than b.')"
   ]
  },
  {
   "cell_type": "code",
   "execution_count": 20,
   "metadata": {
    "ExecuteTime": {
     "end_time": "2021-09-08T16:03:13.059097Z",
     "start_time": "2021-09-08T16:03:13.039073Z"
    },
    "colab": {},
    "colab_type": "code",
    "id": "po4ObPfb0A9y",
    "outputId": "13725a01-6ba8-4c08-c5bb-ede2c25af486"
   },
   "outputs": [
    {
     "name": "stdout",
     "output_type": "stream",
     "text": [
      "Both the numbers are greater than 5\n"
     ]
    }
   ],
   "source": [
    "# multiple conditions\n",
    "a = 8\n",
    "b = 10\n",
    "\n",
    "if ( (a > 10) and (b > 10) ):\n",
    "    print('Both the numbers are greater than 10.')\n",
    "    \n",
    "elif ( (a > 5) and (b > 5) ):\n",
    "    print('Both the numbers are greater than 5')\n",
    "    \n",
    "else:\n",
    "    print('Conditions are not Satisfied.')"
   ]
  },
  {
   "cell_type": "code",
   "execution_count": 21,
   "metadata": {
    "ExecuteTime": {
     "end_time": "2021-09-08T16:03:13.450273Z",
     "start_time": "2021-09-08T16:03:13.437275Z"
    }
   },
   "outputs": [
    {
     "name": "stdout",
     "output_type": "stream",
     "text": [
      "Conditions are not Satisfied.\n"
     ]
    }
   ],
   "source": [
    "# multiple conditions\n",
    "a = -8\n",
    "b = -10\n",
    "\n",
    "if ( (a > 10) and (b > 10) ):\n",
    "    print('Both the numbers are greater than 10.')\n",
    "    \n",
    "elif ( (a > 5) and (b > 5) ):\n",
    "    print('Both the numbers are greater than 5')\n",
    "    \n",
    "else:\n",
    "    print('Conditions are not Satisfied.')"
   ]
  },
  {
   "cell_type": "markdown",
   "metadata": {
    "colab_type": "text",
    "id": "5MKz8yyX0A98"
   },
   "source": [
    "#### 📍 📍 Problem 1 : Take an input from a user in variable x and print \"Even\" if the number is divisible by 2, otherwise print \"Odd\"."
   ]
  },
  {
   "cell_type": "markdown",
   "metadata": {},
   "source": [
    "---"
   ]
  },
  {
   "cell_type": "code",
   "execution_count": 22,
   "metadata": {
    "ExecuteTime": {
     "end_time": "2021-09-08T16:03:50.261686Z",
     "start_time": "2021-09-08T16:03:47.288969Z"
    },
    "colab": {},
    "colab_type": "code",
    "id": "3NrAps7b0A-C",
    "outputId": "851a8a5e-78e2-437a-de95-b3440674fa94"
   },
   "outputs": [
    {
     "name": "stdout",
     "output_type": "stream",
     "text": [
      "21\n",
      "Odd\n"
     ]
    }
   ],
   "source": [
    "# take the input from the user by using the input function\n",
    "x = input()\n",
    "\n",
    "# by default the type is string, so we need to convert the type first\n",
    "x = int(x)\n",
    "\n",
    "if(x%2 == 0):\n",
    "    print(\"Even\")\n",
    "else:\n",
    "    print(\"Odd\")"
   ]
  },
  {
   "cell_type": "markdown",
   "metadata": {
    "colab_type": "text",
    "id": "bh6THx4G0A-P"
   },
   "source": [
    "#### 📍 📍Problem 2 : Take input from the user in variable y and print \"`Grade A`\" if y is greater than 90, \"`Grade B`\" if y is greater than 60 but less than or equal to 90 and \"`Grade F`\" Otherwise."
   ]
  },
  {
   "cell_type": "markdown",
   "metadata": {},
   "source": [
    "---"
   ]
  },
  {
   "cell_type": "code",
   "execution_count": 26,
   "metadata": {
    "ExecuteTime": {
     "end_time": "2021-09-08T16:06:58.757483Z",
     "start_time": "2021-09-08T16:06:57.391421Z"
    },
    "colab": {
     "base_uri": "https://localhost:8080/",
     "height": 52
    },
    "colab_type": "code",
    "executionInfo": {
     "elapsed": 18769,
     "status": "ok",
     "timestamp": 1584361278610,
     "user": {
      "displayName": "Abhiraj Suresh",
      "photoUrl": "",
      "userId": "02561716271917562052"
     },
     "user_tz": -330
    },
    "id": "_5NJRM1Q0A-S",
    "outputId": "b12424d7-69b5-4d57-89e9-8c8cd8bc561a"
   },
   "outputs": [
    {
     "name": "stdout",
     "output_type": "stream",
     "text": [
      "91\n",
      "Grade A\n"
     ]
    }
   ],
   "source": [
    "# take the input from the user by using the input function\n",
    "y = input()\n",
    "\n",
    "# by default the type is string, so we need to convert the type first\n",
    "y = int(y)\n",
    "\n",
    "if  (y > 90):\n",
    "    print(\"Grade A\")\n",
    "\n",
    "elif(y > 60):\n",
    "    print(\"Grade B\")\n",
    "\n",
    "else:\n",
    "    print(\"Grade F\")"
   ]
  },
  {
   "cell_type": "code",
   "execution_count": 27,
   "metadata": {
    "ExecuteTime": {
     "end_time": "2021-09-08T16:07:44.280686Z",
     "start_time": "2021-09-08T16:07:41.766960Z"
    },
    "colab": {},
    "colab_type": "code",
    "id": "lIPUVB_T0A-d"
   },
   "outputs": [
    {
     "name": "stdout",
     "output_type": "stream",
     "text": [
      "89\n",
      "Grade F\n"
     ]
    }
   ],
   "source": [
    "# if not string converted\n",
    "y = input()\n",
    "\n",
    "# by default the type is string, so we need to convert the type first\n",
    "y = int()\n",
    "\n",
    "if  (y > 90):\n",
    "    print(\"Grade A\")\n",
    "\n",
    "elif(y > 60):\n",
    "    print(\"Grade B\")\n",
    "\n",
    "else:\n",
    "    print(\"Grade F\")"
   ]
  },
  {
   "cell_type": "code",
   "execution_count": 35,
   "metadata": {
    "ExecuteTime": {
     "end_time": "2021-09-08T16:10:33.451343Z",
     "start_time": "2021-09-08T16:10:31.392126Z"
    }
   },
   "outputs": [
    {
     "name": "stdout",
     "output_type": "stream",
     "text": [
      "123\n",
      "0\n",
      "0.0\n",
      "Grade F\n"
     ]
    }
   ],
   "source": [
    "# if not string converted\n",
    "y = input()\n",
    "\n",
    "# by default the type is string, so we need to convert the type first\n",
    "y = int() # int() give by default value 0\n",
    "print(y)\n",
    "\n",
    "y = float()\n",
    "print(y)\n",
    "\n",
    "if  (y > 90):\n",
    "    print(\"Grade A\")\n",
    "\n",
    "elif(y > 60):\n",
    "    print(\"Grade B\")\n",
    "\n",
    "elif(y<60):\n",
    "    print(\"Grade F\")\n",
    "    \n",
    "else:\n",
    "    print(\"Invalid Input\")"
   ]
  },
  {
   "cell_type": "code",
   "execution_count": 37,
   "metadata": {
    "ExecuteTime": {
     "end_time": "2021-09-08T16:11:37.125503Z",
     "start_time": "2021-09-08T16:11:35.168663Z"
    }
   },
   "outputs": [
    {
     "name": "stdout",
     "output_type": "stream",
     "text": [
      "123\n",
      "0\n",
      "0.0\n",
      "\n"
     ]
    },
    {
     "ename": "TypeError",
     "evalue": "'>' not supported between instances of 'str' and 'int'",
     "output_type": "error",
     "traceback": [
      "\u001b[1;31m---------------------------------------------------------------------------\u001b[0m",
      "\u001b[1;31mTypeError\u001b[0m                                 Traceback (most recent call last)",
      "\u001b[1;32m~\\AppData\\Local\\Temp/ipykernel_12432/3405079333.py\u001b[0m in \u001b[0;36m<module>\u001b[1;34m\u001b[0m\n\u001b[0;32m     12\u001b[0m \u001b[0mprint\u001b[0m\u001b[1;33m(\u001b[0m\u001b[0my\u001b[0m\u001b[1;33m)\u001b[0m\u001b[1;33m\u001b[0m\u001b[1;33m\u001b[0m\u001b[0m\n\u001b[0;32m     13\u001b[0m \u001b[1;33m\u001b[0m\u001b[0m\n\u001b[1;32m---> 14\u001b[1;33m \u001b[1;32mif\u001b[0m  \u001b[1;33m(\u001b[0m\u001b[0my\u001b[0m \u001b[1;33m>\u001b[0m \u001b[1;36m90\u001b[0m\u001b[1;33m)\u001b[0m\u001b[1;33m:\u001b[0m\u001b[1;33m\u001b[0m\u001b[1;33m\u001b[0m\u001b[0m\n\u001b[0m\u001b[0;32m     15\u001b[0m     \u001b[0mprint\u001b[0m\u001b[1;33m(\u001b[0m\u001b[1;34m\"Grade A\"\u001b[0m\u001b[1;33m)\u001b[0m\u001b[1;33m\u001b[0m\u001b[1;33m\u001b[0m\u001b[0m\n\u001b[0;32m     16\u001b[0m \u001b[1;33m\u001b[0m\u001b[0m\n",
      "\u001b[1;31mTypeError\u001b[0m: '>' not supported between instances of 'str' and 'int'"
     ]
    }
   ],
   "source": [
    "# if not string converted\n",
    "y = input()\n",
    "\n",
    "# by default the type is string, so we need to convert the type first\n",
    "y = int() # int() give by default value 0\n",
    "print(y)\n",
    "\n",
    "y = float()\n",
    "print(y)\n",
    "\n",
    "y = str()\n",
    "print(y)\n",
    "\n",
    "if  (y > 90):\n",
    "    print(\"Grade A\")\n",
    "\n",
    "elif(y > 60):\n",
    "    print(\"Grade B\")\n",
    "\n",
    "else:\n",
    "    print(\"Grade F\")\n",
    "    \n"
   ]
  },
  {
   "cell_type": "markdown",
   "metadata": {},
   "source": [
    "### Final code:"
   ]
  },
  {
   "cell_type": "code",
   "execution_count": 38,
   "metadata": {
    "ExecuteTime": {
     "end_time": "2021-09-08T16:12:04.569516Z",
     "start_time": "2021-09-08T16:12:00.718941Z"
    }
   },
   "outputs": [
    {
     "name": "stdout",
     "output_type": "stream",
     "text": [
      "99\n",
      "Grade A\n"
     ]
    }
   ],
   "source": [
    "# if not string converted\n",
    "y = input()\n",
    "\n",
    "# by default the type is string, so we need to convert the type first\n",
    "y = int(y) # int() give by default value 0\n",
    "\n",
    "if  (y > 90):\n",
    "    print(\"Grade A\")\n",
    "\n",
    "elif(y > 60):\n",
    "    print(\"Grade B\")\n",
    "\n",
    "else:\n",
    "    print(\"Grade F\")\n",
    "    \n"
   ]
  },
  {
   "cell_type": "code",
   "execution_count": 47,
   "metadata": {
    "ExecuteTime": {
     "end_time": "2021-09-08T16:28:50.971954Z",
     "start_time": "2021-09-08T16:28:50.958938Z"
    }
   },
   "outputs": [],
   "source": [
    "def divide(num1, num2):\n",
    "    return num1 / num2 "
   ]
  },
  {
   "cell_type": "code",
   "execution_count": 48,
   "metadata": {
    "ExecuteTime": {
     "end_time": "2021-09-08T16:28:51.919075Z",
     "start_time": "2021-09-08T16:28:51.908073Z"
    }
   },
   "outputs": [
    {
     "data": {
      "text/plain": [
       "6.0"
      ]
     },
     "execution_count": 48,
     "metadata": {},
     "output_type": "execute_result"
    }
   ],
   "source": [
    "divide(12, 2)    #output->6\n"
   ]
  },
  {
   "cell_type": "code",
   "execution_count": 49,
   "metadata": {
    "ExecuteTime": {
     "end_time": "2021-09-08T16:28:54.367041Z",
     "start_time": "2021-09-08T16:28:54.346052Z"
    }
   },
   "outputs": [
    {
     "ename": "ZeroDivisionError",
     "evalue": "division by zero",
     "output_type": "error",
     "traceback": [
      "\u001b[1;31m---------------------------------------------------------------------------\u001b[0m",
      "\u001b[1;31mZeroDivisionError\u001b[0m                         Traceback (most recent call last)",
      "\u001b[1;32m~\\AppData\\Local\\Temp/ipykernel_12432/551799694.py\u001b[0m in \u001b[0;36m<module>\u001b[1;34m\u001b[0m\n\u001b[1;32m----> 1\u001b[1;33m \u001b[0mdivide\u001b[0m\u001b[1;33m(\u001b[0m\u001b[1;36m12\u001b[0m\u001b[1;33m,\u001b[0m \u001b[1;36m0\u001b[0m\u001b[1;33m)\u001b[0m    \u001b[1;31m#ZeroDivisionError\u001b[0m\u001b[1;33m\u001b[0m\u001b[1;33m\u001b[0m\u001b[0m\n\u001b[0m",
      "\u001b[1;32m~\\AppData\\Local\\Temp/ipykernel_12432/519409545.py\u001b[0m in \u001b[0;36mdivide\u001b[1;34m(num1, num2)\u001b[0m\n\u001b[0;32m      1\u001b[0m \u001b[1;32mdef\u001b[0m \u001b[0mdivide\u001b[0m\u001b[1;33m(\u001b[0m\u001b[0mnum1\u001b[0m\u001b[1;33m,\u001b[0m \u001b[0mnum2\u001b[0m\u001b[1;33m)\u001b[0m\u001b[1;33m:\u001b[0m\u001b[1;33m\u001b[0m\u001b[1;33m\u001b[0m\u001b[0m\n\u001b[1;32m----> 2\u001b[1;33m     \u001b[1;32mreturn\u001b[0m \u001b[0mnum1\u001b[0m \u001b[1;33m/\u001b[0m \u001b[0mnum2\u001b[0m\u001b[1;33m\u001b[0m\u001b[1;33m\u001b[0m\u001b[0m\n\u001b[0m",
      "\u001b[1;31mZeroDivisionError\u001b[0m: division by zero"
     ]
    }
   ],
   "source": [
    "divide(12, 0)    #ZeroDivisionError"
   ]
  },
  {
   "cell_type": "markdown",
   "metadata": {},
   "source": [
    "Avoid Zero Devision Error"
   ]
  },
  {
   "cell_type": "code",
   "execution_count": 57,
   "metadata": {
    "ExecuteTime": {
     "end_time": "2021-09-08T16:35:25.930905Z",
     "start_time": "2021-09-08T16:35:25.912916Z"
    }
   },
   "outputs": [],
   "source": [
    "def error_avoider(issue):\n",
    "    def resolver(a,b):\n",
    "        if(b==0):\n",
    "            print(\"b cant be zero\")\n",
    "            return\n",
    "        return issue(a,b)\n",
    "    return resolver"
   ]
  },
  {
   "cell_type": "code",
   "execution_count": 58,
   "metadata": {
    "ExecuteTime": {
     "end_time": "2021-09-08T16:35:26.924133Z",
     "start_time": "2021-09-08T16:35:26.912123Z"
    }
   },
   "outputs": [
    {
     "ename": "ZeroDivisionError",
     "evalue": "division by zero",
     "output_type": "error",
     "traceback": [
      "\u001b[1;31m---------------------------------------------------------------------------\u001b[0m",
      "\u001b[1;31mZeroDivisionError\u001b[0m                         Traceback (most recent call last)",
      "\u001b[1;32m~\\AppData\\Local\\Temp/ipykernel_12432/165623642.py\u001b[0m in \u001b[0;36m<module>\u001b[1;34m\u001b[0m\n\u001b[0;32m      2\u001b[0m     \u001b[1;32mreturn\u001b[0m \u001b[0ma\u001b[0m\u001b[1;33m/\u001b[0m\u001b[0mb\u001b[0m\u001b[1;33m\u001b[0m\u001b[1;33m\u001b[0m\u001b[0m\n\u001b[0;32m      3\u001b[0m \u001b[1;33m\u001b[0m\u001b[0m\n\u001b[1;32m----> 4\u001b[1;33m \u001b[0mdivide\u001b[0m\u001b[1;33m(\u001b[0m\u001b[1;36m5\u001b[0m\u001b[1;33m,\u001b[0m\u001b[1;36m0\u001b[0m\u001b[1;33m)\u001b[0m\u001b[1;33m\u001b[0m\u001b[1;33m\u001b[0m\u001b[0m\n\u001b[0m",
      "\u001b[1;32m~\\AppData\\Local\\Temp/ipykernel_12432/165623642.py\u001b[0m in \u001b[0;36mdivide\u001b[1;34m(a, b)\u001b[0m\n\u001b[0;32m      1\u001b[0m \u001b[1;32mdef\u001b[0m \u001b[0mdivide\u001b[0m\u001b[1;33m(\u001b[0m\u001b[0ma\u001b[0m\u001b[1;33m,\u001b[0m\u001b[0mb\u001b[0m\u001b[1;33m)\u001b[0m\u001b[1;33m:\u001b[0m\u001b[1;33m\u001b[0m\u001b[1;33m\u001b[0m\u001b[0m\n\u001b[1;32m----> 2\u001b[1;33m     \u001b[1;32mreturn\u001b[0m \u001b[0ma\u001b[0m\u001b[1;33m/\u001b[0m\u001b[0mb\u001b[0m\u001b[1;33m\u001b[0m\u001b[1;33m\u001b[0m\u001b[0m\n\u001b[0m\u001b[0;32m      3\u001b[0m \u001b[1;33m\u001b[0m\u001b[0m\n\u001b[0;32m      4\u001b[0m \u001b[0mdivide\u001b[0m\u001b[1;33m(\u001b[0m\u001b[1;36m5\u001b[0m\u001b[1;33m,\u001b[0m\u001b[1;36m0\u001b[0m\u001b[1;33m)\u001b[0m\u001b[1;33m\u001b[0m\u001b[1;33m\u001b[0m\u001b[0m\n",
      "\u001b[1;31mZeroDivisionError\u001b[0m: division by zero"
     ]
    }
   ],
   "source": [
    "def divide(a,b):\n",
    "    return a/b\n",
    "\n",
    "divide(5,0)"
   ]
  },
  {
   "cell_type": "code",
   "execution_count": 59,
   "metadata": {
    "ExecuteTime": {
     "end_time": "2021-09-08T16:35:28.802491Z",
     "start_time": "2021-09-08T16:35:28.786857Z"
    }
   },
   "outputs": [
    {
     "name": "stdout",
     "output_type": "stream",
     "text": [
      "b cant be zero\n"
     ]
    }
   ],
   "source": [
    "@error_avoider\n",
    "def divide(a,b):\n",
    "    return a/b\n",
    "\n",
    "divide(5,0)"
   ]
  },
  {
   "cell_type": "code",
   "execution_count": 63,
   "metadata": {
    "ExecuteTime": {
     "end_time": "2021-09-08T16:39:01.377831Z",
     "start_time": "2021-09-08T16:39:01.362832Z"
    }
   },
   "outputs": [],
   "source": [
    "def greeter(name_taker):\n",
    "    def greet(*param):\n",
    "        print(\"HEllo, there \")\n",
    "        name_taker(*param)\n",
    "        print(\"welcome\")\n",
    "        \n",
    "    return greet"
   ]
  },
  {
   "cell_type": "code",
   "execution_count": 64,
   "metadata": {
    "ExecuteTime": {
     "end_time": "2021-09-08T16:39:04.370577Z",
     "start_time": "2021-09-08T16:39:04.362575Z"
    }
   },
   "outputs": [
    {
     "name": "stdout",
     "output_type": "stream",
     "text": [
      "abc\n"
     ]
    }
   ],
   "source": [
    "def name_taker(name):\n",
    "    print(name)\n",
    "    \n",
    "name_taker('abc')"
   ]
  },
  {
   "cell_type": "code",
   "execution_count": 65,
   "metadata": {
    "ExecuteTime": {
     "end_time": "2021-09-08T16:39:05.028156Z",
     "start_time": "2021-09-08T16:39:05.013156Z"
    }
   },
   "outputs": [
    {
     "name": "stdout",
     "output_type": "stream",
     "text": [
      "HEllo, there \n",
      "abc\n",
      "welcome\n"
     ]
    }
   ],
   "source": [
    "@greeter\n",
    "\n",
    "def name_taker(name):\n",
    "    print(name)\n",
    "    \n",
    "name_taker('abc')"
   ]
  },
  {
   "cell_type": "code",
   "execution_count": null,
   "metadata": {},
   "outputs": [],
   "source": []
  }
 ],
 "metadata": {
  "colab": {
   "name": "2. Conditional Statements.ipynb",
   "provenance": []
  },
  "kernelspec": {
   "display_name": "Python 3 (ipykernel)",
   "language": "python",
   "name": "python3"
  },
  "language_info": {
   "codemirror_mode": {
    "name": "ipython",
    "version": 3
   },
   "file_extension": ".py",
   "mimetype": "text/x-python",
   "name": "python",
   "nbconvert_exporter": "python",
   "pygments_lexer": "ipython3",
   "version": "3.8.11"
  },
  "toc": {
   "base_numbering": 1,
   "nav_menu": {},
   "number_sections": true,
   "sideBar": true,
   "skip_h1_title": false,
   "title_cell": "Table of Contents",
   "title_sidebar": "Contents",
   "toc_cell": true,
   "toc_position": {},
   "toc_section_display": true,
   "toc_window_display": false
  }
 },
 "nbformat": 4,
 "nbformat_minor": 1
}
